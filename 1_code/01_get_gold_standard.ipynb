{
 "cells": [
  {
   "cell_type": "code",
   "execution_count": 1,
   "metadata": {
    "collapsed": true
   },
   "outputs": [],
   "source": [
    "import os\n",
    "import requests\n",
    "import pandas as pd"
   ]
  },
  {
   "cell_type": "code",
   "execution_count": 2,
   "metadata": {},
   "outputs": [],
   "source": [
    "rel = pd.read_csv('../0_data/manual/drugcentral_rel_06212018.csv')\n",
    "syn = pd.read_csv('../0_data/manual/drugcentral_syn_06212018.csv')\n",
    "ids = pd.read_csv('../0_data/manual/drugcentral_ids_06212018.csv')"
   ]
  },
  {
   "cell_type": "code",
   "execution_count": 3,
   "metadata": {},
   "outputs": [
    {
     "data": {
      "text/html": [
       "<div>\n",
       "<style>\n",
       "    .dataframe thead tr:only-child th {\n",
       "        text-align: right;\n",
       "    }\n",
       "\n",
       "    .dataframe thead th {\n",
       "        text-align: left;\n",
       "    }\n",
       "\n",
       "    .dataframe tbody tr th {\n",
       "        vertical-align: top;\n",
       "    }\n",
       "</style>\n",
       "<table border=\"1\" class=\"dataframe\">\n",
       "  <thead>\n",
       "    <tr style=\"text-align: right;\">\n",
       "      <th></th>\n",
       "      <th>id</th>\n",
       "      <th>struct_id</th>\n",
       "      <th>concept_id</th>\n",
       "      <th>relationship_name</th>\n",
       "      <th>concept_name</th>\n",
       "      <th>umls_cui</th>\n",
       "      <th>snomed_full_name</th>\n",
       "      <th>cui_semantic_type</th>\n",
       "      <th>snomed_conceptid</th>\n",
       "    </tr>\n",
       "  </thead>\n",
       "  <tbody>\n",
       "    <tr>\n",
       "      <th>0</th>\n",
       "      <td>173432</td>\n",
       "      <td>965</td>\n",
       "      <td>40249340</td>\n",
       "      <td>indication</td>\n",
       "      <td>Malignant tumor of breast</td>\n",
       "      <td>C0006142</td>\n",
       "      <td>Malignant tumor of breast</td>\n",
       "      <td>T191</td>\n",
       "      <td>254837009.0</td>\n",
       "    </tr>\n",
       "    <tr>\n",
       "      <th>1</th>\n",
       "      <td>173433</td>\n",
       "      <td>318</td>\n",
       "      <td>21000716</td>\n",
       "      <td>indication</td>\n",
       "      <td>Gout</td>\n",
       "      <td>C0018099</td>\n",
       "      <td>Gout</td>\n",
       "      <td>T047</td>\n",
       "      <td>90560007.0</td>\n",
       "    </tr>\n",
       "    <tr>\n",
       "      <th>2</th>\n",
       "      <td>173434</td>\n",
       "      <td>318</td>\n",
       "      <td>21003276</td>\n",
       "      <td>indication</td>\n",
       "      <td>Hyperuricemia</td>\n",
       "      <td>C0740394</td>\n",
       "      <td>Hyperuricemia</td>\n",
       "      <td>T047</td>\n",
       "      <td>35885006.0</td>\n",
       "    </tr>\n",
       "    <tr>\n",
       "      <th>3</th>\n",
       "      <td>173435</td>\n",
       "      <td>1031</td>\n",
       "      <td>21001432</td>\n",
       "      <td>indication</td>\n",
       "      <td>Hypertensive disorder</td>\n",
       "      <td>C0020538</td>\n",
       "      <td>Hypertensive disorder</td>\n",
       "      <td>T047</td>\n",
       "      <td>38341003.0</td>\n",
       "    </tr>\n",
       "    <tr>\n",
       "      <th>4</th>\n",
       "      <td>173397</td>\n",
       "      <td>5226</td>\n",
       "      <td>21001068</td>\n",
       "      <td>indication</td>\n",
       "      <td>Tardive dyskinesia</td>\n",
       "      <td>C0686347</td>\n",
       "      <td>Tardive dyskinesia</td>\n",
       "      <td>T047</td>\n",
       "      <td>102449007.0</td>\n",
       "    </tr>\n",
       "  </tbody>\n",
       "</table>\n",
       "</div>"
      ],
      "text/plain": [
       "       id  struct_id  concept_id relationship_name               concept_name  \\\n",
       "0  173432        965    40249340        indication  Malignant tumor of breast   \n",
       "1  173433        318    21000716        indication                       Gout   \n",
       "2  173434        318    21003276        indication              Hyperuricemia   \n",
       "3  173435       1031    21001432        indication      Hypertensive disorder   \n",
       "4  173397       5226    21001068        indication         Tardive dyskinesia   \n",
       "\n",
       "   umls_cui           snomed_full_name cui_semantic_type  snomed_conceptid  \n",
       "0  C0006142  Malignant tumor of breast              T191       254837009.0  \n",
       "1  C0018099                       Gout              T047        90560007.0  \n",
       "2  C0740394              Hyperuricemia              T047        35885006.0  \n",
       "3  C0020538      Hypertensive disorder              T047        38341003.0  \n",
       "4  C0686347         Tardive dyskinesia              T047       102449007.0  "
      ]
     },
     "execution_count": 3,
     "metadata": {},
     "output_type": "execute_result"
    }
   ],
   "source": [
    "rel.head()"
   ]
  },
  {
   "cell_type": "code",
   "execution_count": 4,
   "metadata": {},
   "outputs": [
    {
     "data": {
      "text/html": [
       "<div>\n",
       "<style>\n",
       "    .dataframe thead tr:only-child th {\n",
       "        text-align: right;\n",
       "    }\n",
       "\n",
       "    .dataframe thead th {\n",
       "        text-align: left;\n",
       "    }\n",
       "\n",
       "    .dataframe tbody tr th {\n",
       "        vertical-align: top;\n",
       "    }\n",
       "</style>\n",
       "<table border=\"1\" class=\"dataframe\">\n",
       "  <thead>\n",
       "    <tr style=\"text-align: right;\">\n",
       "      <th></th>\n",
       "      <th>syn_id</th>\n",
       "      <th>id</th>\n",
       "      <th>name</th>\n",
       "      <th>preferred_name</th>\n",
       "      <th>parent_id</th>\n",
       "      <th>lname</th>\n",
       "    </tr>\n",
       "  </thead>\n",
       "  <tbody>\n",
       "    <tr>\n",
       "      <th>0</th>\n",
       "      <td>22490</td>\n",
       "      <td>5253.0</td>\n",
       "      <td>RPX-7009</td>\n",
       "      <td>NaN</td>\n",
       "      <td>NaN</td>\n",
       "      <td>rpx-7009</td>\n",
       "    </tr>\n",
       "    <tr>\n",
       "      <th>1</th>\n",
       "      <td>22493</td>\n",
       "      <td>5003.0</td>\n",
       "      <td>insulin (human)</td>\n",
       "      <td>NaN</td>\n",
       "      <td>NaN</td>\n",
       "      <td>insulin (human)</td>\n",
       "    </tr>\n",
       "    <tr>\n",
       "      <th>2</th>\n",
       "      <td>22494</td>\n",
       "      <td>5191.0</td>\n",
       "      <td>insulin (pork)</td>\n",
       "      <td>NaN</td>\n",
       "      <td>NaN</td>\n",
       "      <td>insulin (pork)</td>\n",
       "    </tr>\n",
       "    <tr>\n",
       "      <th>3</th>\n",
       "      <td>22495</td>\n",
       "      <td>5192.0</td>\n",
       "      <td>insulin (beef)</td>\n",
       "      <td>NaN</td>\n",
       "      <td>NaN</td>\n",
       "      <td>insulin (beef)</td>\n",
       "    </tr>\n",
       "    <tr>\n",
       "      <th>4</th>\n",
       "      <td>22496</td>\n",
       "      <td>1762.0</td>\n",
       "      <td>methyldopa (levorotatory)</td>\n",
       "      <td>NaN</td>\n",
       "      <td>NaN</td>\n",
       "      <td>methyldopa (levorotatory)</td>\n",
       "    </tr>\n",
       "  </tbody>\n",
       "</table>\n",
       "</div>"
      ],
      "text/plain": [
       "   syn_id      id                       name  preferred_name  parent_id  \\\n",
       "0   22490  5253.0                   RPX-7009             NaN        NaN   \n",
       "1   22493  5003.0            insulin (human)             NaN        NaN   \n",
       "2   22494  5191.0             insulin (pork)             NaN        NaN   \n",
       "3   22495  5192.0             insulin (beef)             NaN        NaN   \n",
       "4   22496  1762.0  methyldopa (levorotatory)             NaN        NaN   \n",
       "\n",
       "                       lname  \n",
       "0                   rpx-7009  \n",
       "1            insulin (human)  \n",
       "2             insulin (pork)  \n",
       "3             insulin (beef)  \n",
       "4  methyldopa (levorotatory)  "
      ]
     },
     "execution_count": 4,
     "metadata": {},
     "output_type": "execute_result"
    }
   ],
   "source": [
    "syn.head()"
   ]
  },
  {
   "cell_type": "code",
   "execution_count": 5,
   "metadata": {},
   "outputs": [
    {
     "data": {
      "text/html": [
       "<div>\n",
       "<style>\n",
       "    .dataframe thead tr:only-child th {\n",
       "        text-align: right;\n",
       "    }\n",
       "\n",
       "    .dataframe thead th {\n",
       "        text-align: left;\n",
       "    }\n",
       "\n",
       "    .dataframe tbody tr th {\n",
       "        vertical-align: top;\n",
       "    }\n",
       "</style>\n",
       "<table border=\"1\" class=\"dataframe\">\n",
       "  <thead>\n",
       "    <tr style=\"text-align: right;\">\n",
       "      <th></th>\n",
       "      <th>id</th>\n",
       "      <th>identifier</th>\n",
       "      <th>id_type</th>\n",
       "      <th>struct_id</th>\n",
       "      <th>parent_match</th>\n",
       "    </tr>\n",
       "  </thead>\n",
       "  <tbody>\n",
       "    <tr>\n",
       "      <th>0</th>\n",
       "      <td>1214712</td>\n",
       "      <td>D11040</td>\n",
       "      <td>KEGG_DRUG</td>\n",
       "      <td>5278</td>\n",
       "      <td>NaN</td>\n",
       "    </tr>\n",
       "    <tr>\n",
       "      <th>1</th>\n",
       "      <td>1214713</td>\n",
       "      <td>9745</td>\n",
       "      <td>IUPHAR_LIGAND_ID</td>\n",
       "      <td>5271</td>\n",
       "      <td>NaN</td>\n",
       "    </tr>\n",
       "    <tr>\n",
       "      <th>2</th>\n",
       "      <td>1214714</td>\n",
       "      <td>9088</td>\n",
       "      <td>IUPHAR_LIGAND_ID</td>\n",
       "      <td>3911</td>\n",
       "      <td>NaN</td>\n",
       "    </tr>\n",
       "    <tr>\n",
       "      <th>3</th>\n",
       "      <td>1214715</td>\n",
       "      <td>CHEBI:43362</td>\n",
       "      <td>CHEBI</td>\n",
       "      <td>5229</td>\n",
       "      <td>NaN</td>\n",
       "    </tr>\n",
       "    <tr>\n",
       "      <th>4</th>\n",
       "      <td>1214716</td>\n",
       "      <td>CHEBI:63452</td>\n",
       "      <td>CHEBI</td>\n",
       "      <td>5231</td>\n",
       "      <td>NaN</td>\n",
       "    </tr>\n",
       "  </tbody>\n",
       "</table>\n",
       "</div>"
      ],
      "text/plain": [
       "        id   identifier           id_type  struct_id parent_match\n",
       "0  1214712       D11040         KEGG_DRUG       5278          NaN\n",
       "1  1214713         9745  IUPHAR_LIGAND_ID       5271          NaN\n",
       "2  1214714         9088  IUPHAR_LIGAND_ID       3911          NaN\n",
       "3  1214715  CHEBI:43362             CHEBI       5229          NaN\n",
       "4  1214716  CHEBI:63452             CHEBI       5231          NaN"
      ]
     },
     "execution_count": 5,
     "metadata": {},
     "output_type": "execute_result"
    }
   ],
   "source": [
    "ids.head()"
   ]
  },
  {
   "cell_type": "code",
   "execution_count": 6,
   "metadata": {},
   "outputs": [
    {
     "data": {
      "text/plain": [
       "array(['KEGG_DRUG', 'IUPHAR_LIGAND_ID', 'CHEBI', 'DRUGBANK_ID', 'VUID',\n",
       "       'NUI', 'UMLSCUI', 'ChEMBL_ID', 'UNII', 'INN_ID', 'SECONDARY_CAS_RN',\n",
       "       'PUBCHEM_CID', 'RXNORM', 'NDDF', 'MMSL', 'VANDF', 'NDFRT',\n",
       "       'SNOMEDCT_US', 'MESH_SUPPLEMENTAL_RECORD_UI', 'MESH_DESCRIPTOR_UI',\n",
       "       'PDB_CHEM_ID'], dtype=object)"
      ]
     },
     "execution_count": 6,
     "metadata": {},
     "output_type": "execute_result"
    }
   ],
   "source": [
    "ids['id_type'].unique()"
   ]
  },
  {
   "cell_type": "code",
   "execution_count": 7,
   "metadata": {},
   "outputs": [
    {
     "data": {
      "text/plain": [
       "ChEMBL_ID                      6148\n",
       "SNOMEDCT_US                    4976\n",
       "UNII                           4391\n",
       "PUBCHEM_CID                    4308\n",
       "NDFRT                          4260\n",
       "CHEBI                          3830\n",
       "MMSL                           3782\n",
       "INN_ID                         3589\n",
       "KEGG_DRUG                      3577\n",
       "NDDF                           3383\n",
       "RXNORM                         2991\n",
       "DRUGBANK_ID                    2929\n",
       "UMLSCUI                        2835\n",
       "MESH_SUPPLEMENTAL_RECORD_UI    2589\n",
       "VANDF                          2181\n",
       "NUI                            2044\n",
       "VUID                           1790\n",
       "SECONDARY_CAS_RN               1669\n",
       "MESH_DESCRIPTOR_UI             1591\n",
       "IUPHAR_LIGAND_ID               1395\n",
       "PDB_CHEM_ID                     727\n",
       "Name: id_type, dtype: int64"
      ]
     },
     "execution_count": 7,
     "metadata": {},
     "output_type": "execute_result"
    }
   ],
   "source": [
    "ids['id_type'].value_counts()"
   ]
  },
  {
   "cell_type": "code",
   "execution_count": 8,
   "metadata": {},
   "outputs": [],
   "source": [
    "import functools\n",
    "from wikidataintegrator.wdi_core import WDItemEngine\n",
    "from tqdm import tqdm\n",
    "\n",
    "endpoint='http://avalanche.scripps.edu:9999/bigdata/sparql'\n",
    "\n",
    "def parse_result_uris(result):\n",
    "    for c in result:\n",
    "        if 'Label' not in c:\n",
    "            idx = result[c].str.startswith('http://www.wikidata.org/entity')\n",
    "            if sum(idx) != 0:\n",
    "                result[c][idx] = result[c][idx].str.split('/', expand=True).iloc[:,-1]\n",
    "    return result.drop_duplicates()\n",
    "\n",
    "query_func = functools.partial(WDItemEngine.execute_sparql_query, endpoint=endpoint, as_dataframe=True)\n",
    "\n",
    "def execute_sparql_query(query_text):\n",
    "    # Enforce the proper column order\n",
    "    col_order = query_text.split('\\n')[1].split(' ?')[1:]\n",
    "    return parse_result_uris(query_func(query_text))[col_order]"
   ]
  },
  {
   "cell_type": "code",
   "execution_count": 9,
   "metadata": {},
   "outputs": [
    {
     "data": {
      "text/html": [
       "<div>\n",
       "<style>\n",
       "    .dataframe thead tr:only-child th {\n",
       "        text-align: right;\n",
       "    }\n",
       "\n",
       "    .dataframe thead th {\n",
       "        text-align: left;\n",
       "    }\n",
       "\n",
       "    .dataframe tbody tr th {\n",
       "        vertical-align: top;\n",
       "    }\n",
       "</style>\n",
       "<table border=\"1\" class=\"dataframe\">\n",
       "  <thead>\n",
       "    <tr style=\"text-align: right;\">\n",
       "      <th></th>\n",
       "      <th>umlscui</th>\n",
       "      <th>disease</th>\n",
       "    </tr>\n",
       "  </thead>\n",
       "  <tbody>\n",
       "    <tr>\n",
       "      <th>0</th>\n",
       "      <td>C0029516</td>\n",
       "      <td>Q170082</td>\n",
       "    </tr>\n",
       "    <tr>\n",
       "      <th>1</th>\n",
       "      <td>C0282687</td>\n",
       "      <td>Q162272</td>\n",
       "    </tr>\n",
       "  </tbody>\n",
       "</table>\n",
       "</div>"
      ],
      "text/plain": [
       "    umlscui  disease\n",
       "0  C0029516  Q170082\n",
       "1  C0282687  Q162272"
      ]
     },
     "execution_count": 9,
     "metadata": {},
     "output_type": "execute_result"
    }
   ],
   "source": [
    "query = \"\"\"\n",
    "SELECT DISTINCT ?umlscui ?disease\n",
    "WHERE {\n",
    "  ?disease wdt:P2892 ?umlscui .\n",
    "  SERVICE wikibase:label { bd:serviceParam wikibase:language \"[AUTO_LANGAGE],en\" }\n",
    "}\n",
    "\"\"\"\n",
    "\n",
    "res = execute_sparql_query(query)\n",
    "res.head(2)"
   ]
  },
  {
   "cell_type": "code",
   "execution_count": 10,
   "metadata": {},
   "outputs": [
    {
     "data": {
      "text/plain": [
       "23400"
      ]
     },
     "execution_count": 10,
     "metadata": {},
     "output_type": "execute_result"
    }
   ],
   "source": [
    "len(res)"
   ]
  },
  {
   "cell_type": "code",
   "execution_count": 11,
   "metadata": {
    "collapsed": true
   },
   "outputs": [],
   "source": [
    "umls_to_wd = res.set_index('umlscui')['disease'].to_dict()"
   ]
  },
  {
   "cell_type": "code",
   "execution_count": 12,
   "metadata": {
    "collapsed": true
   },
   "outputs": [],
   "source": [
    "rel['disease_wd'] = rel['umls_cui'].map(umls_to_wd)"
   ]
  },
  {
   "cell_type": "code",
   "execution_count": 13,
   "metadata": {},
   "outputs": [
    {
     "data": {
      "text/plain": [
       "(8449, 5228)"
      ]
     },
     "execution_count": 13,
     "metadata": {},
     "output_type": "execute_result"
    }
   ],
   "source": [
    "rel.query('relationship_name == \"indication\"')['umls_cui'].count(), rel.query('relationship_name == \"indication\"')['disease_wd'].count()"
   ]
  },
  {
   "cell_type": "code",
   "execution_count": 14,
   "metadata": {
    "collapsed": true
   },
   "outputs": [],
   "source": [
    "struct_to_chembl = ids.query('id_type == \"ChEMBL_ID\"').set_index('struct_id')['identifier'].to_dict()"
   ]
  },
  {
   "cell_type": "code",
   "execution_count": 15,
   "metadata": {},
   "outputs": [],
   "source": [
    "rel['comp_chembl'] = rel['struct_id'].map(struct_to_chembl)"
   ]
  },
  {
   "cell_type": "code",
   "execution_count": 16,
   "metadata": {},
   "outputs": [
    {
     "data": {
      "text/plain": [
       "10857"
      ]
     },
     "execution_count": 16,
     "metadata": {},
     "output_type": "execute_result"
    }
   ],
   "source": [
    "rel.query('relationship_name == \"indication\"')['comp_chembl'].count()"
   ]
  },
  {
   "cell_type": "code",
   "execution_count": 17,
   "metadata": {},
   "outputs": [
    {
     "data": {
      "text/html": [
       "<div>\n",
       "<style>\n",
       "    .dataframe thead tr:only-child th {\n",
       "        text-align: right;\n",
       "    }\n",
       "\n",
       "    .dataframe thead th {\n",
       "        text-align: left;\n",
       "    }\n",
       "\n",
       "    .dataframe tbody tr th {\n",
       "        vertical-align: top;\n",
       "    }\n",
       "</style>\n",
       "<table border=\"1\" class=\"dataframe\">\n",
       "  <thead>\n",
       "    <tr style=\"text-align: right;\">\n",
       "      <th></th>\n",
       "      <th>chembl</th>\n",
       "      <th>compound</th>\n",
       "    </tr>\n",
       "  </thead>\n",
       "  <tbody>\n",
       "    <tr>\n",
       "      <th>0</th>\n",
       "      <td>CHEMBL1224</td>\n",
       "      <td>Q342745</td>\n",
       "    </tr>\n",
       "    <tr>\n",
       "      <th>1</th>\n",
       "      <td>CHEMBL1201589</td>\n",
       "      <td>Q415392</td>\n",
       "    </tr>\n",
       "  </tbody>\n",
       "</table>\n",
       "</div>"
      ],
      "text/plain": [
       "          chembl compound\n",
       "0     CHEMBL1224  Q342745\n",
       "1  CHEMBL1201589  Q415392"
      ]
     },
     "execution_count": 17,
     "metadata": {},
     "output_type": "execute_result"
    }
   ],
   "source": [
    "query = \"\"\"\n",
    "SELECT DISTINCT ?chembl ?compound\n",
    "WHERE {\n",
    "  ?compound wdt:P592 ?chembl .\n",
    "  SERVICE wikibase:label { bd:serviceParam wikibase:language \"[AUTO_LANGAGE],en\" }\n",
    "}\n",
    "\"\"\"\n",
    "\n",
    "res1 = execute_sparql_query(query)\n",
    "res1.head(2)"
   ]
  },
  {
   "cell_type": "code",
   "execution_count": 18,
   "metadata": {},
   "outputs": [
    {
     "data": {
      "text/plain": [
       "49621"
      ]
     },
     "execution_count": 18,
     "metadata": {},
     "output_type": "execute_result"
    }
   ],
   "source": [
    "len(res1)"
   ]
  },
  {
   "cell_type": "code",
   "execution_count": 19,
   "metadata": {
    "collapsed": true
   },
   "outputs": [],
   "source": [
    "chembl_to_wd = res1.set_index('chembl')['compound'].to_dict()"
   ]
  },
  {
   "cell_type": "code",
   "execution_count": 20,
   "metadata": {
    "collapsed": true
   },
   "outputs": [],
   "source": [
    "rel['comp_wd'] = rel['comp_chembl'].map(chembl_to_wd)"
   ]
  },
  {
   "cell_type": "code",
   "execution_count": 21,
   "metadata": {},
   "outputs": [
    {
     "data": {
      "text/plain": [
       "8834"
      ]
     },
     "execution_count": 21,
     "metadata": {},
     "output_type": "execute_result"
    }
   ],
   "source": [
    "rel.query('relationship_name == \"indication\"')['comp_wd'].count()"
   ]
  },
  {
   "cell_type": "code",
   "execution_count": 22,
   "metadata": {},
   "outputs": [
    {
     "data": {
      "text/plain": [
       "4189"
      ]
     },
     "execution_count": 22,
     "metadata": {},
     "output_type": "execute_result"
    }
   ],
   "source": [
    "gs = rel.query('relationship_name == \"indication\"').dropna(subset=['comp_wd', 'disease_wd'])\n",
    "len(gs)"
   ]
  },
  {
   "cell_type": "code",
   "execution_count": 23,
   "metadata": {
    "collapsed": true
   },
   "outputs": [],
   "source": [
    "out_dir = '../2_pipeline/01_get_gold_standard/out'\n",
    "if not os.path.exists(out_dir):\n",
    "    os.makedirs(out_dir)\n",
    "    \n",
    "gs.to_csv(os.path.join(out_dir, 'gold_standard.csv'), index=False)"
   ]
  }
 ],
 "metadata": {
  "kernelspec": {
   "display_name": "Python 3",
   "language": "python",
   "name": "python3"
  },
  "language_info": {
   "codemirror_mode": {
    "name": "ipython",
    "version": 3
   },
   "file_extension": ".py",
   "mimetype": "text/x-python",
   "name": "python",
   "nbconvert_exporter": "python",
   "pygments_lexer": "ipython3",
   "version": "3.6.2"
  }
 },
 "nbformat": 4,
 "nbformat_minor": 2
}

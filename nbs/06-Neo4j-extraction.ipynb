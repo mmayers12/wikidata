{
 "cells": [
  {
   "cell_type": "markdown",
   "metadata": {},
   "source": [
    "# Edge Extraction\n",
    "\n",
    "objectives:\n",
    "\n",
    "- Extract basenodes and edges between them for import to Neo4j"
   ]
  },
  {
   "cell_type": "code",
   "execution_count": 1,
   "metadata": {
    "collapsed": true
   },
   "outputs": [],
   "source": [
    "import sys\n",
    "sys.path.append('../py')\n",
    "import sparql_tools as qt\n",
    "\n",
    "import pandas as pd\n",
    "from tqdm import tqdm"
   ]
  },
  {
   "cell_type": "code",
   "execution_count": 2,
   "metadata": {
    "collapsed": true
   },
   "outputs": [],
   "source": [
    "comp = pd.read_hdf('data/compound_edges.h5')\n",
    "gene = pd.read_hdf('data/h_genes_edges.h5')\n",
    "prot = pd.read_hdf('data/h_protein_edges.h5')\n",
    "dis = pd.read_hdf('data/disease_edges.h5')"
   ]
  },
  {
   "cell_type": "code",
   "execution_count": 3,
   "metadata": {
    "collapsed": true
   },
   "outputs": [],
   "source": [
    "comp['type'] = 'Compound'\n",
    "gene['type'] = 'Gene'\n",
    "prot['type'] = 'Protein'\n",
    "dis['type'] = 'Disease'"
   ]
  },
  {
   "cell_type": "code",
   "execution_count": 4,
   "metadata": {
    "collapsed": true
   },
   "outputs": [],
   "source": [
    "base = pd.concat([comp, gene, prot, dis])"
   ]
  },
  {
   "cell_type": "markdown",
   "metadata": {},
   "source": [
    "## Strategy\n",
    "\n",
    "We will classify eveything as either compound, gene, disease or protein, and then extract relationships between only those 4 node types.  "
   ]
  },
  {
   "cell_type": "markdown",
   "metadata": {},
   "source": [
    "# Basenodes into CSV Format\n",
    "\n",
    "Converting the basenodes into csv format for Neo4j impoort. Just use the base classes: Compound, Gene, Disease, and Protein.  We will also need the edges, but only where an object is also a basenode."
   ]
  },
  {
   "cell_type": "code",
   "execution_count": 5,
   "metadata": {},
   "outputs": [
    {
     "name": "stdout",
     "output_type": "stream",
     "text": [
      "CPU times: user 380 ms, sys: 24 ms, total: 404 ms\n",
      "Wall time: 400 ms\n"
     ]
    }
   ],
   "source": [
    "type_dict = base.set_index('s')['type'].to_dict()"
   ]
  },
  {
   "cell_type": "code",
   "execution_count": 20,
   "metadata": {},
   "outputs": [
    {
     "data": {
      "text/html": [
       "<div>\n",
       "<table border=\"1\" class=\"dataframe\">\n",
       "  <thead>\n",
       "    <tr style=\"text-align: right;\">\n",
       "      <th></th>\n",
       "      <th>sLabel</th>\n",
       "      <th>pLabel</th>\n",
       "      <th>oLabel</th>\n",
       "      <th>s</th>\n",
       "      <th>p</th>\n",
       "      <th>o</th>\n",
       "      <th>type</th>\n",
       "    </tr>\n",
       "  </thead>\n",
       "  <tbody>\n",
       "    <tr>\n",
       "      <th>122589</th>\n",
       "      <td>DYNC1I1</td>\n",
       "      <td>subclass of</td>\n",
       "      <td>gene</td>\n",
       "      <td>http://www.wikidata.org/entity/Q248215</td>\n",
       "      <td>http://www.wikidata.org/prop/direct/P279</td>\n",
       "      <td>http://www.wikidata.org/entity/Q7187</td>\n",
       "      <td>Protein</td>\n",
       "    </tr>\n",
       "    <tr>\n",
       "      <th>122590</th>\n",
       "      <td>DYNC1I1</td>\n",
       "      <td>genetic association</td>\n",
       "      <td>Obesity</td>\n",
       "      <td>http://www.wikidata.org/entity/Q248215</td>\n",
       "      <td>http://www.wikidata.org/prop/direct/P2293</td>\n",
       "      <td>http://www.wikidata.org/entity/Q12174</td>\n",
       "      <td>Protein</td>\n",
       "    </tr>\n",
       "    <tr>\n",
       "      <th>122591</th>\n",
       "      <td>DYNC1I1</td>\n",
       "      <td>genetic association</td>\n",
       "      <td>smallpox</td>\n",
       "      <td>http://www.wikidata.org/entity/Q248215</td>\n",
       "      <td>http://www.wikidata.org/prop/direct/P2293</td>\n",
       "      <td>http://www.wikidata.org/entity/Q12214</td>\n",
       "      <td>Protein</td>\n",
       "    </tr>\n",
       "    <tr>\n",
       "      <th>122592</th>\n",
       "      <td>DYNC1I1</td>\n",
       "      <td>encoded by</td>\n",
       "      <td>DYNC1I1</td>\n",
       "      <td>http://www.wikidata.org/entity/Q248215</td>\n",
       "      <td>http://www.wikidata.org/prop/direct/P702</td>\n",
       "      <td>http://www.wikidata.org/entity/Q248215</td>\n",
       "      <td>Protein</td>\n",
       "    </tr>\n",
       "    <tr>\n",
       "      <th>122593</th>\n",
       "      <td>DYNC1I1</td>\n",
       "      <td>chromosome</td>\n",
       "      <td>Homo sapiens chromosome 7</td>\n",
       "      <td>http://www.wikidata.org/entity/Q248215</td>\n",
       "      <td>http://www.wikidata.org/prop/direct/P1057</td>\n",
       "      <td>http://www.wikidata.org/entity/Q657319</td>\n",
       "      <td>Protein</td>\n",
       "    </tr>\n",
       "    <tr>\n",
       "      <th>122594</th>\n",
       "      <td>DYNC1I1</td>\n",
       "      <td>found in taxon</td>\n",
       "      <td>Homo sapiens</td>\n",
       "      <td>http://www.wikidata.org/entity/Q248215</td>\n",
       "      <td>http://www.wikidata.org/prop/direct/P703</td>\n",
       "      <td>http://www.wikidata.org/entity/Q15978631</td>\n",
       "      <td>Protein</td>\n",
       "    </tr>\n",
       "    <tr>\n",
       "      <th>122595</th>\n",
       "      <td>DYNC1I1</td>\n",
       "      <td>ortholog</td>\n",
       "      <td>Dync1i1</td>\n",
       "      <td>http://www.wikidata.org/entity/Q248215</td>\n",
       "      <td>http://www.wikidata.org/prop/direct/P684</td>\n",
       "      <td>http://www.wikidata.org/entity/Q18250190</td>\n",
       "      <td>Protein</td>\n",
       "    </tr>\n",
       "    <tr>\n",
       "      <th>122596</th>\n",
       "      <td>DYNC1I1</td>\n",
       "      <td>subclass of</td>\n",
       "      <td>protein-coding gene</td>\n",
       "      <td>http://www.wikidata.org/entity/Q248215</td>\n",
       "      <td>http://www.wikidata.org/prop/direct/P279</td>\n",
       "      <td>http://www.wikidata.org/entity/Q20747295</td>\n",
       "      <td>Protein</td>\n",
       "    </tr>\n",
       "    <tr>\n",
       "      <th>122597</th>\n",
       "      <td>DYNC1I1</td>\n",
       "      <td>encodes</td>\n",
       "      <td>Dynein cytoplasmic 1 intermediate chain 1</td>\n",
       "      <td>http://www.wikidata.org/entity/Q248215</td>\n",
       "      <td>http://www.wikidata.org/prop/direct/P688</td>\n",
       "      <td>http://www.wikidata.org/entity/Q21110010</td>\n",
       "      <td>Protein</td>\n",
       "    </tr>\n",
       "    <tr>\n",
       "      <th>122598</th>\n",
       "      <td>DYNC1I1</td>\n",
       "      <td>strand orientation</td>\n",
       "      <td>Forward Strand</td>\n",
       "      <td>http://www.wikidata.org/entity/Q248215</td>\n",
       "      <td>http://www.wikidata.org/prop/direct/P2548</td>\n",
       "      <td>http://www.wikidata.org/entity/Q22809680</td>\n",
       "      <td>Protein</td>\n",
       "    </tr>\n",
       "    <tr>\n",
       "      <th>122599</th>\n",
       "      <td>DYNC1I1</td>\n",
       "      <td>ortholog</td>\n",
       "      <td>Dync1i1</td>\n",
       "      <td>http://www.wikidata.org/entity/Q248215</td>\n",
       "      <td>http://www.wikidata.org/prop/direct/P684</td>\n",
       "      <td>http://www.wikidata.org/entity/Q24419850</td>\n",
       "      <td>Protein</td>\n",
       "    </tr>\n",
       "  </tbody>\n",
       "</table>\n",
       "</div>"
      ],
      "text/plain": [
       "         sLabel               pLabel  \\\n",
       "122589  DYNC1I1          subclass of   \n",
       "122590  DYNC1I1  genetic association   \n",
       "122591  DYNC1I1  genetic association   \n",
       "122592  DYNC1I1           encoded by   \n",
       "122593  DYNC1I1           chromosome   \n",
       "122594  DYNC1I1       found in taxon   \n",
       "122595  DYNC1I1             ortholog   \n",
       "122596  DYNC1I1          subclass of   \n",
       "122597  DYNC1I1              encodes   \n",
       "122598  DYNC1I1   strand orientation   \n",
       "122599  DYNC1I1             ortholog   \n",
       "\n",
       "                                           oLabel  \\\n",
       "122589                                       gene   \n",
       "122590                                    Obesity   \n",
       "122591                                   smallpox   \n",
       "122592                                    DYNC1I1   \n",
       "122593                  Homo sapiens chromosome 7   \n",
       "122594                               Homo sapiens   \n",
       "122595                                    Dync1i1   \n",
       "122596                        protein-coding gene   \n",
       "122597  Dynein cytoplasmic 1 intermediate chain 1   \n",
       "122598                             Forward Strand   \n",
       "122599                                    Dync1i1   \n",
       "\n",
       "                                             s  \\\n",
       "122589  http://www.wikidata.org/entity/Q248215   \n",
       "122590  http://www.wikidata.org/entity/Q248215   \n",
       "122591  http://www.wikidata.org/entity/Q248215   \n",
       "122592  http://www.wikidata.org/entity/Q248215   \n",
       "122593  http://www.wikidata.org/entity/Q248215   \n",
       "122594  http://www.wikidata.org/entity/Q248215   \n",
       "122595  http://www.wikidata.org/entity/Q248215   \n",
       "122596  http://www.wikidata.org/entity/Q248215   \n",
       "122597  http://www.wikidata.org/entity/Q248215   \n",
       "122598  http://www.wikidata.org/entity/Q248215   \n",
       "122599  http://www.wikidata.org/entity/Q248215   \n",
       "\n",
       "                                                p  \\\n",
       "122589   http://www.wikidata.org/prop/direct/P279   \n",
       "122590  http://www.wikidata.org/prop/direct/P2293   \n",
       "122591  http://www.wikidata.org/prop/direct/P2293   \n",
       "122592   http://www.wikidata.org/prop/direct/P702   \n",
       "122593  http://www.wikidata.org/prop/direct/P1057   \n",
       "122594   http://www.wikidata.org/prop/direct/P703   \n",
       "122595   http://www.wikidata.org/prop/direct/P684   \n",
       "122596   http://www.wikidata.org/prop/direct/P279   \n",
       "122597   http://www.wikidata.org/prop/direct/P688   \n",
       "122598  http://www.wikidata.org/prop/direct/P2548   \n",
       "122599   http://www.wikidata.org/prop/direct/P684   \n",
       "\n",
       "                                               o     type  \n",
       "122589      http://www.wikidata.org/entity/Q7187  Protein  \n",
       "122590     http://www.wikidata.org/entity/Q12174  Protein  \n",
       "122591     http://www.wikidata.org/entity/Q12214  Protein  \n",
       "122592    http://www.wikidata.org/entity/Q248215  Protein  \n",
       "122593    http://www.wikidata.org/entity/Q657319  Protein  \n",
       "122594  http://www.wikidata.org/entity/Q15978631  Protein  \n",
       "122595  http://www.wikidata.org/entity/Q18250190  Protein  \n",
       "122596  http://www.wikidata.org/entity/Q20747295  Protein  \n",
       "122597  http://www.wikidata.org/entity/Q21110010  Protein  \n",
       "122598  http://www.wikidata.org/entity/Q22809680  Protein  \n",
       "122599  http://www.wikidata.org/entity/Q24419850  Protein  "
      ]
     },
     "execution_count": 20,
     "metadata": {},
     "output_type": "execute_result"
    }
   ],
   "source": [
    "prot.query('s == \"http://www.wikidata.org/entity/Q248215\"')"
   ]
  },
  {
   "cell_type": "code",
   "execution_count": 9,
   "metadata": {},
   "outputs": [
    {
     "name": "stdout",
     "output_type": "stream",
     "text": [
      "1007063\n",
      "CPU times: user 14.7 s, sys: 80 ms, total: 14.8 s\n",
      "Wall time: 14.8 s\n"
     ]
    },
    {
     "data": {
      "text/plain": [
       "86490"
      ]
     },
     "execution_count": 9,
     "metadata": {},
     "output_type": "execute_result"
    }
   ],
   "source": [
    "print(len(base))\n",
    "base_uri = list(set(base['s']))\n",
    "# Filter for edges point to basenodes\n",
    "base_filt = base.query(\"o in {!r}\".format(base_uri))\n",
    "len(base_filt)"
   ]
  },
  {
   "cell_type": "code",
   "execution_count": 10,
   "metadata": {},
   "outputs": [
    {
     "name": "stdout",
     "output_type": "stream",
     "text": [
      "CPU times: user 272 ms, sys: 4 ms, total: 276 ms\n",
      "Wall time: 275 ms\n"
     ]
    },
    {
     "data": {
      "text/plain": [
       "Protein     26706\n",
       "Gene        21707\n",
       "Disease      8232\n",
       "Compound     4297\n",
       "Name: type, dtype: int64"
      ]
     },
     "execution_count": 10,
     "metadata": {},
     "output_type": "execute_result"
    }
   ],
   "source": [
    "base_filt.groupby('s').first()['type'].value_counts()"
   ]
  },
  {
   "cell_type": "code",
   "execution_count": 11,
   "metadata": {
    "collapsed": true
   },
   "outputs": [],
   "source": [
    "base_nodes = base_filt.groupby('s').first()"
   ]
  },
  {
   "cell_type": "code",
   "execution_count": 12,
   "metadata": {
    "collapsed": true
   },
   "outputs": [],
   "source": [
    "# Need the basenodes that are object (taget) nodes, not just the subject (source) nodes\n",
    "base_obj = base_filt.groupby('o').first()\n",
    "base_obj = base_obj.query('o not in {!r}'.format(list(set(base_filt['s']))))"
   ]
  },
  {
   "cell_type": "code",
   "execution_count": 10,
   "metadata": {},
   "outputs": [
    {
     "data": {
      "text/plain": [
       "262"
      ]
     },
     "execution_count": 10,
     "metadata": {},
     "output_type": "execute_result"
    }
   ],
   "source": [
    "base_obj = base_obj.reset_index()\n",
    "len(base_obj)"
   ]
  },
  {
   "cell_type": "code",
   "execution_count": 11,
   "metadata": {
    "collapsed": true
   },
   "outputs": [],
   "source": [
    "# Create a dataframe for csv export\n",
    "base_out = pd.DataFrame()\n",
    "\n",
    "base_out[':ID'] = base_filt['s'].apply(qt.id_from_uri)\n",
    "base_out['identifier:String'] = base_filt['s'].apply(qt.id_from_uri)\n",
    "base_out['name:String'] = base_filt['sLabel']\n",
    "base_out[':LABEL'] = base_filt['type']\n",
    "\n",
    "base_out = base_out.reset_index(drop=True)\n",
    "base_obj['type'] = base_obj['o'].apply(lambda k: type_dict[k])"
   ]
  },
  {
   "cell_type": "code",
   "execution_count": 12,
   "metadata": {
    "collapsed": true
   },
   "outputs": [],
   "source": [
    "# do the same with the object-only nodes\n",
    "base_out1 = pd.DataFrame()\n",
    "base_out1[':ID'] = base_obj['o'].apply(qt.id_from_uri)\n",
    "base_out1['identifier:String'] = base_obj['o'].apply(qt.id_from_uri)\n",
    "base_out1['name:String'] = base_obj['oLabel']\n",
    "base_out1[':LABEL'] = base_obj['type']"
   ]
  },
  {
   "cell_type": "code",
   "execution_count": 13,
   "metadata": {},
   "outputs": [
    {
     "name": "stdout",
     "output_type": "stream",
     "text": [
      "61205 Nodes\n"
     ]
    }
   ],
   "source": [
    "# Concatenate and export\n",
    "base_out_f = pd.concat([base_out, base_out1]).drop_duplicates()\n",
    "print(len(base_out_f), 'Nodes')\n",
    "\n",
    "#base_out_f.to_csv('data/hetnet_basenodes.csv', index=False)"
   ]
  },
  {
   "cell_type": "code",
   "execution_count": 18,
   "metadata": {},
   "outputs": [],
   "source": [
    "with open('prots.txt', 'w') as fout:\n",
    "    for val in base_out_f[base_out_f[':LABEL'] == 'Protein'][':ID']:\n",
    "        fout.write(val+'\\n')"
   ]
  },
  {
   "cell_type": "code",
   "execution_count": 14,
   "metadata": {},
   "outputs": [
    {
     "data": {
      "text/plain": [
       "Protein     26707\n",
       "Gene        21710\n",
       "Disease      8312\n",
       "Compound     4476\n",
       "Name: :LABEL, dtype: int64"
      ]
     },
     "execution_count": 14,
     "metadata": {},
     "output_type": "execute_result"
    }
   ],
   "source": [
    "base_out_f[':LABEL'].value_counts()"
   ]
  },
  {
   "cell_type": "markdown",
   "metadata": {},
   "source": [
    "# Basenode Edge export"
   ]
  },
  {
   "cell_type": "code",
   "execution_count": 14,
   "metadata": {
    "collapsed": true
   },
   "outputs": [],
   "source": [
    "def get_edge_type(row):\n",
    "    start_type = type_dict[row['s']]\n",
    "    end_type = type_dict[row['o']]\n",
    "    \n",
    "    return row['pLabel'].replace(' ', '-') + \"_\" + start_type[0] + row['pLabel'][0] + end_type[0]"
   ]
  },
  {
   "cell_type": "code",
   "execution_count": 15,
   "metadata": {
    "collapsed": true
   },
   "outputs": [],
   "source": [
    "# Create a datafrane for csv export of the edges\n",
    "edge_out = pd.DataFrame()\n",
    "\n",
    "edge_out[':START_ID'] = base_filt['s'].apply(qt.id_from_uri)\n",
    "edge_out[':END_ID'] = base_filt['o'].apply(qt.id_from_uri)\n",
    "edge_out[':TYPE'] = base_filt.apply(get_edge_type, axis = 1)\n",
    "\n",
    "# Drop duplicates and Export\n",
    "edge_out = edge_out.drop_duplicates()\n",
    "edge_out.to_csv('data/hetnet_baseedges.csv', index = False)"
   ]
  },
  {
   "cell_type": "code",
   "execution_count": 16,
   "metadata": {},
   "outputs": [
    {
     "data": {
      "text/plain": [
       "76"
      ]
     },
     "execution_count": 16,
     "metadata": {},
     "output_type": "execute_result"
    }
   ],
   "source": [
    "# How many edge types are there?\n",
    "edge_out[':TYPE'].nunique()"
   ]
  },
  {
   "cell_type": "code",
   "execution_count": 17,
   "metadata": {},
   "outputs": [
    {
     "data": {
      "text/plain": [
       "encodes_GeP                                            27164\n",
       "encoded-by_PeG                                         27004\n",
       "subclass-of_DsD                                        10218\n",
       "physically-interacts-with_PpC                           3657\n",
       "physically-interacts-with_CpP                           3596\n",
       "drug-used-for-treatment_DdC                             2912\n",
       "medical-condition-treated_CmD                           2822\n",
       "has-part_ChC                                            2378\n",
       "genetic-association_GgD                                 2201\n",
       "genetic-association_DgG                                 2181\n",
       "significant-drug-interaction_CsC                        1798\n",
       "instance-of_CiC                                           93\n",
       "symptoms_DsD                                              81\n",
       "has-cause_DhD                                             55\n",
       "subclass-of_CsC                                           40\n",
       "subclass-of_GsC                                           39\n",
       "different-from_CdC                                        31\n",
       "cause-of_DcD                                              23\n",
       "different-from_DdD                                        17\n",
       "said-to-be-the-same-as_DsD                                16\n",
       "opposite-of_DoD                                           16\n",
       "physically-interacts-with_PpP                             10\n",
       "cell-component_PcC                                        10\n",
       "instance-of_DiD                                           10\n",
       "part-of_CpC                                                9\n",
       "material-used_CmC                                          5\n",
       "has-cause_DhC                                              4\n",
       "decreased-expression-in_GdD                                4\n",
       "cause-of_CcD                                               4\n",
       "physically-interacts-with_CpG                              4\n",
       "                                                       ...  \n",
       "encoded-by_PeP                                             2\n",
       "different-from_PdG                                         2\n",
       "said-to-be-the-same-as_CsC                                 2\n",
       "drug-used-for-treatment_DdP                                2\n",
       "material-produced_PmC                                      2\n",
       "material-used_PmC                                          2\n",
       "different-from_GdP                                         2\n",
       "stereoisomer-of_CsC                                        2\n",
       "genetic-association_DgP                                    2\n",
       "medical-treatment_DmC                                      2\n",
       "medical-condition-treated_PmD                              1\n",
       "medical-examinations_DmP                                   1\n",
       "gene-duplication-association-with_GgD                      1\n",
       "vaccine-for_CvD                                            1\n",
       "cause-of_GcD                                               1\n",
       "subclass-of_PsC                                            1\n",
       "deletion-association-with_GdD                              1\n",
       "anatomical-location_DaD                                    1\n",
       "posttranslational-modification-association-with_GpD        1\n",
       "altered-regulation-leads-to_GaD                            1\n",
       "increased-expression-in_GiD                                1\n",
       "gene-inversion-association-with_GgD                        1\n",
       "named-after_CnC                                            1\n",
       "facet-of_DfD                                               1\n",
       "medical-condition_CmD                                      1\n",
       "contributing-factor-of_DcD                                 1\n",
       "gene-insertion-association-with_GgD                        1\n",
       "has-cause_DhG                                              1\n",
       "gene-substitution-association-with_GgD                     1\n",
       "side-effect_CsD                                            1\n",
       "Name: :TYPE, dtype: int64"
      ]
     },
     "execution_count": 17,
     "metadata": {},
     "output_type": "execute_result"
    }
   ],
   "source": [
    "# How many of each type of edges are there?\n",
    "edge_out[':TYPE'].value_counts()"
   ]
  }
 ],
 "metadata": {
  "kernelspec": {
   "display_name": "Python 3",
   "language": "python",
   "name": "python3"
  },
  "language_info": {
   "codemirror_mode": {
    "name": "ipython",
    "version": 3
   },
   "file_extension": ".py",
   "mimetype": "text/x-python",
   "name": "python",
   "nbconvert_exporter": "python",
   "pygments_lexer": "ipython3",
   "version": "3.5.2"
  }
 },
 "nbformat": 4,
 "nbformat_minor": 2
}

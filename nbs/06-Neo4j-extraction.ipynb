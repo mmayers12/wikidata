{
 "cells": [
  {
   "cell_type": "markdown",
   "metadata": {},
   "source": [
    "# Edge Extraction\n",
    "\n",
    "objectives:\n",
    "\n",
    "- Extract basenodes and edges between them for import to Neo4j"
   ]
  },
  {
   "cell_type": "code",
   "execution_count": 7,
   "metadata": {
    "collapsed": true
   },
   "outputs": [],
   "source": [
    "import sys\n",
    "sys.path.append('../py')\n",
    "import processing as pt\n",
    "\n",
    "import pandas as pd\n",
    "from tqdm import tqdm"
   ]
  },
  {
   "cell_type": "code",
   "execution_count": 8,
   "metadata": {
    "collapsed": true
   },
   "outputs": [],
   "source": [
    "comp = pd.read_hdf('data/compound_edges.h5')\n",
    "gene = pd.read_hdf('data/h_genes_edges.h5')\n",
    "prot = pd.read_hdf('data/h_protein_edges.h5')\n",
    "dis = pd.read_hdf('data/disease_edges.h5')"
   ]
  },
  {
   "cell_type": "code",
   "execution_count": 9,
   "metadata": {
    "collapsed": true
   },
   "outputs": [],
   "source": [
    "comp['type'] = 'Compound'\n",
    "gene['type'] = 'Gene'\n",
    "prot['type'] = 'Protein'\n",
    "dis['type'] = 'Disease'"
   ]
  },
  {
   "cell_type": "code",
   "execution_count": 10,
   "metadata": {
    "collapsed": true
   },
   "outputs": [],
   "source": [
    "base = pd.concat([comp, gene, prot, dis])"
   ]
  },
  {
   "cell_type": "markdown",
   "metadata": {},
   "source": [
    "## Strategy\n",
    "\n",
    "We will classify eveything as either compound, gene, disease or protein, and then extract relationships between only those 4 node types.  "
   ]
  },
  {
   "cell_type": "markdown",
   "metadata": {},
   "source": [
    "# Basenodes into CSV Format\n",
    "\n",
    "Converting the basenodes into csv format for Neo4j impoort. Just use the base classes: Compound, Gene, Disease, and Protein.  We will also need the edges, but only where an object is also a basenode."
   ]
  },
  {
   "cell_type": "code",
   "execution_count": 11,
   "metadata": {
    "collapsed": true
   },
   "outputs": [],
   "source": [
    "node_types = pt.get_node_type_dict(base, 'type')"
   ]
  },
  {
   "cell_type": "code",
   "execution_count": 12,
   "metadata": {
    "collapsed": true
   },
   "outputs": [],
   "source": [
    "base_filt = pt.filter_untyped_nodes(base)"
   ]
  },
  {
   "cell_type": "code",
   "execution_count": 13,
   "metadata": {},
   "outputs": [
    {
     "name": "stderr",
     "output_type": "stream",
     "text": [
      "/home/mmayers/projects/wikidata/venv/lib/python3.5/site-packages/ipykernel/__main__.py:1: SettingWithCopyWarning: \n",
      "A value is trying to be set on a copy of a slice from a DataFrame.\n",
      "Try using .loc[row_indexer,col_indexer] = value instead\n",
      "\n",
      "See the caveats in the documentation: http://pandas.pydata.org/pandas-docs/stable/indexing.html#indexing-view-versus-copy\n",
      "  if __name__ == '__main__':\n"
     ]
    }
   ],
   "source": [
    "base_filt['e_type'] = pt.get_edge_types(base_filt, node_types)"
   ]
  },
  {
   "cell_type": "code",
   "execution_count": 14,
   "metadata": {
    "collapsed": true
   },
   "outputs": [],
   "source": [
    "base_filt1 = pt.remove_low_count_edges(base_filt)"
   ]
  },
  {
   "cell_type": "code",
   "execution_count": 15,
   "metadata": {
    "collapsed": true
   },
   "outputs": [],
   "source": [
    "pair_list = pt.get_pair_lists(base_filt1)"
   ]
  },
  {
   "cell_type": "code",
   "execution_count": 16,
   "metadata": {
    "collapsed": true
   },
   "outputs": [],
   "source": [
    "reciprocal_types = pt.find_reciprocal_relations(pair_list)"
   ]
  },
  {
   "cell_type": "code",
   "execution_count": 17,
   "metadata": {
    "collapsed": true
   },
   "outputs": [],
   "source": [
    "base_filt2 = pt.remove_reciprocals(base_filt1, reciprocal_types)"
   ]
  },
  {
   "cell_type": "code",
   "execution_count": 18,
   "metadata": {},
   "outputs": [
    {
     "data": {
      "text/plain": [
       "(1007063, 86490, 86024, 49825)"
      ]
     },
     "execution_count": 18,
     "metadata": {},
     "output_type": "execute_result"
    }
   ],
   "source": [
    "len(base), len(base_filt), len(base_filt1), len(base_filt2)"
   ]
  },
  {
   "cell_type": "code",
   "execution_count": 19,
   "metadata": {},
   "outputs": [
    {
     "data": {
      "text/plain": [
       "encodes_GeP                           27164\n",
       "encoded-by_PebG                       27004\n",
       "subclass-of_DsoD                      10218\n",
       "physically-interacts-with_PpiwC        3657\n",
       "physically-interacts-with_CpiwP        3596\n",
       "drug-used-for-treatment_DduftC         2912\n",
       "medical-condition-treated_CmctD        2822\n",
       "has-part_ChpC                          2378\n",
       "genetic-association_GgaD               2201\n",
       "genetic-association_DgaG               2181\n",
       "significant-drug-interaction_CsdiC     1798\n",
       "instance-of_CioC                         93\n",
       "Name: e_type, dtype: int64"
      ]
     },
     "execution_count": 19,
     "metadata": {},
     "output_type": "execute_result"
    }
   ],
   "source": [
    "base_filt1['e_type'].value_counts()"
   ]
  },
  {
   "cell_type": "code",
   "execution_count": 20,
   "metadata": {},
   "outputs": [
    {
     "data": {
      "text/plain": [
       "encodes_GeP                           27178\n",
       "subclass-of_DsoD                      10218\n",
       "physically-interacts-with_PpiwC        3670\n",
       "drug-used-for-treatment_DduftC         2969\n",
       "has-part_ChpC                          2378\n",
       "genetic-association_GgaD               2223\n",
       "significant-drug-interaction_CsdiC     1096\n",
       "instance-of_CioC                         93\n",
       "Name: e_type, dtype: int64"
      ]
     },
     "execution_count": 20,
     "metadata": {},
     "output_type": "execute_result"
    }
   ],
   "source": [
    "base_filt2['e_type'].value_counts()"
   ]
  },
  {
   "cell_type": "code",
   "execution_count": 21,
   "metadata": {},
   "outputs": [
    {
     "data": {
      "text/plain": [
       "[['drug-used-for-treatment_DduftC', 'medical-condition-treated_CmctD'],\n",
       " ['encodes_GeP', 'encoded-by_PebG'],\n",
       " ['physically-interacts-with_PpiwC', 'physically-interacts-with_CpiwP'],\n",
       " ['genetic-association_GgaD', 'genetic-association_DgaG'],\n",
       " ['significant-drug-interaction_CsdiC', 'significant-drug-interaction_CsdiC']]"
      ]
     },
     "execution_count": 21,
     "metadata": {},
     "output_type": "execute_result"
    }
   ],
   "source": [
    "reciprocal_types"
   ]
  },
  {
   "cell_type": "code",
   "execution_count": 22,
   "metadata": {
    "collapsed": true
   },
   "outputs": [],
   "source": [
    "filtered_edges = pt.prep_for_export(base)"
   ]
  },
  {
   "cell_type": "code",
   "execution_count": 23,
   "metadata": {
    "collapsed": true
   },
   "outputs": [],
   "source": [
    "node_neo = pt.format_nodes_neo(filtered_edges, node_types)"
   ]
  },
  {
   "cell_type": "code",
   "execution_count": 24,
   "metadata": {
    "collapsed": true
   },
   "outputs": [],
   "source": [
    "edge_neo = pt.format_edges_neo(filtered_edges)"
   ]
  },
  {
   "cell_type": "code",
   "execution_count": 25,
   "metadata": {},
   "outputs": [
    {
     "data": {
      "text/plain": [
       "(61011, 49825)"
      ]
     },
     "execution_count": 25,
     "metadata": {},
     "output_type": "execute_result"
    }
   ],
   "source": [
    "len(node_neo), len(edge_neo)"
   ]
  },
  {
   "cell_type": "markdown",
   "metadata": {},
   "source": [
    "## Files needed for 'learn' pipline\n",
    "\n",
    "Files include:\n",
    "\n",
    " - metagraph.json <- from metagraph\n",
    "     - Made from:\n",
    "         - metaedge Tuples\n",
    "         - abbrevation dict\n",
    " - degrees.xlsx  <- from graph\n",
    " - metaedge_style.tsv <- from metagraph\n",
    " - "
   ]
  },
  {
   "cell_type": "code",
   "execution_count": 30,
   "metadata": {
    "scrolled": true
   },
   "outputs": [
    {
     "data": {
      "text/plain": [
       "[('Disease', 'Compound', 'drug-used-for-treatment', 'both'),\n",
       " ('Protein', 'Compound', 'physically-interacts-with', 'both'),\n",
       " ('Compound', 'Compound', 'has-part', 'forward'),\n",
       " ('Compound', 'Compound', 'instance-of', 'forward'),\n",
       " ('Gene', 'Protein', 'encodes', 'both'),\n",
       " ('Gene', 'Disease', 'genetic-association', 'both'),\n",
       " ('Disease', 'Disease', 'subclass-of', 'forward'),\n",
       " ('Compound', 'Compound', 'significant-drug-interaction', 'both')]"
      ]
     },
     "execution_count": 30,
     "metadata": {},
     "output_type": "execute_result"
    }
   ],
   "source": [
    "metaedge_tuples = pt.get_metaedge_tuples(filtered_edges, node_types, reciprocal_types)\n",
    "metaedge_tuples"
   ]
  },
  {
   "cell_type": "code",
   "execution_count": 50,
   "metadata": {
    "collapsed": true
   },
   "outputs": [],
   "source": [
    "dir_dict = {x[2]: x[3] for x in metaedge_tuples}"
   ]
  },
  {
   "cell_type": "code",
   "execution_count": 33,
   "metadata": {},
   "outputs": [
    {
     "data": {
      "text/plain": [
       "{'Compound': 'C',\n",
       " 'Disease': 'D',\n",
       " 'Gene': 'G',\n",
       " 'Protein': 'P',\n",
       " 'drug-used-for-treatment': 'duft',\n",
       " 'encoded-by': 'eb',\n",
       " 'encodes': 'e',\n",
       " 'genetic-association': 'ga',\n",
       " 'has-part': 'hp',\n",
       " 'instance-of': 'io',\n",
       " 'medical-condition-treated': 'mct',\n",
       " 'physically-interacts-with': 'piw',\n",
       " 'significant-drug-interaction': 'sdi',\n",
       " 'subclass-of': 'so'}"
      ]
     },
     "execution_count": 33,
     "metadata": {},
     "output_type": "execute_result"
    }
   ],
   "source": [
    "abbrev_dict = pt.get_abbrev_dict(filtered_edges)\n",
    "abbrev_dict"
   ]
  },
  {
   "cell_type": "code",
   "execution_count": 40,
   "metadata": {
    "collapsed": true
   },
   "outputs": [],
   "source": [
    "from hetio.hetnet import MetaGraph\n",
    "from hetio.readwrite import write_metagraph\n",
    "metagraph = MetaGraph.from_edge_tuples(metaedge_tuples, abbrev_dict)\n",
    "write_metagraph(metagraph, 'data/basenodes_metagraph.json')"
   ]
  },
  {
   "cell_type": "code",
   "execution_count": 43,
   "metadata": {
    "collapsed": true
   },
   "outputs": [],
   "source": [
    "from hetio.hetnet import Graph\n",
    "graph = Graph(metagraph)"
   ]
  },
  {
   "cell_type": "code",
   "execution_count": 45,
   "metadata": {
    "collapsed": true
   },
   "outputs": [],
   "source": [
    "def add_node_from_row(row):\n",
    "    graph.add_node(kind = row[':LABEL'], identifier=row[':ID'], name=row['name:String'])"
   ]
  },
  {
   "cell_type": "code",
   "execution_count": 70,
   "metadata": {
    "collapsed": true
   },
   "outputs": [],
   "source": [
    "import sparql_tools as qt\n",
    "\n",
    "node_types1 = {qt.id_from_uri(k):v for k,v in node_types.items()}"
   ]
  },
  {
   "cell_type": "code",
   "execution_count": 71,
   "metadata": {
    "collapsed": true
   },
   "outputs": [],
   "source": [
    "def add_edge_from_row(row):\n",
    "    start_id = (node_types1[row[':START_ID']],row[':START_ID'])\n",
    "    end_id = (node_types1[row[':END_ID']],row[':END_ID'])\n",
    "    kind = row[':TYPE'].split('_')[0]\n",
    "    graph.add_edge(start_id, end_id, kind, dir_dict[kind])\n"
   ]
  },
  {
   "cell_type": "code",
   "execution_count": 52,
   "metadata": {
    "collapsed": true
   },
   "outputs": [
    {
     "data": {
      "text/plain": [
       "0        None\n",
       "1        None\n",
       "2        None\n",
       "3        None\n",
       "4        None\n",
       "5        None\n",
       "6        None\n",
       "7        None\n",
       "8        None\n",
       "9        None\n",
       "12       None\n",
       "13       None\n",
       "14       None\n",
       "15       None\n",
       "16       None\n",
       "17       None\n",
       "19       None\n",
       "20       None\n",
       "21       None\n",
       "22       None\n",
       "23       None\n",
       "24       None\n",
       "25       None\n",
       "26       None\n",
       "27       None\n",
       "28       None\n",
       "29       None\n",
       "30       None\n",
       "31       None\n",
       "32       None\n",
       "         ... \n",
       "79135    None\n",
       "79164    None\n",
       "79502    None\n",
       "79766    None\n",
       "80135    None\n",
       "80625    None\n",
       "80885    None\n",
       "80980    None\n",
       "81243    None\n",
       "81301    None\n",
       "81303    None\n",
       "81306    None\n",
       "81458    None\n",
       "81490    None\n",
       "81982    None\n",
       "82214    None\n",
       "82515    None\n",
       "82758    None\n",
       "82759    None\n",
       "82765    None\n",
       "82951    None\n",
       "83274    None\n",
       "83288    None\n",
       "83960    None\n",
       "84094    None\n",
       "84226    None\n",
       "84254    None\n",
       "84263    None\n",
       "84304    None\n",
       "84373    None\n",
       "dtype: object"
      ]
     },
     "execution_count": 52,
     "metadata": {},
     "output_type": "execute_result"
    }
   ],
   "source": [
    "node_neo.apply(add_node_from_row, axis=1)"
   ]
  },
  {
   "cell_type": "code",
   "execution_count": 72,
   "metadata": {
    "collapsed": true
   },
   "outputs": [
    {
     "data": {
      "text/plain": [
       "0        None\n",
       "1        None\n",
       "2        None\n",
       "3        None\n",
       "4        None\n",
       "5        None\n",
       "6        None\n",
       "7        None\n",
       "8        None\n",
       "9        None\n",
       "10       None\n",
       "11       None\n",
       "12       None\n",
       "13       None\n",
       "14       None\n",
       "15       None\n",
       "16       None\n",
       "17       None\n",
       "18       None\n",
       "19       None\n",
       "20       None\n",
       "21       None\n",
       "22       None\n",
       "23       None\n",
       "24       None\n",
       "25       None\n",
       "26       None\n",
       "27       None\n",
       "28       None\n",
       "29       None\n",
       "         ... \n",
       "85292    None\n",
       "85293    None\n",
       "85294    None\n",
       "85295    None\n",
       "85296    None\n",
       "85297    None\n",
       "85298    None\n",
       "85299    None\n",
       "85300    None\n",
       "85301    None\n",
       "85302    None\n",
       "85303    None\n",
       "85304    None\n",
       "85305    None\n",
       "85306    None\n",
       "85307    None\n",
       "85308    None\n",
       "85309    None\n",
       "85310    None\n",
       "85311    None\n",
       "85312    None\n",
       "85313    None\n",
       "85314    None\n",
       "85315    None\n",
       "85316    None\n",
       "85317    None\n",
       "85318    None\n",
       "85319    None\n",
       "85320    None\n",
       "85321    None\n",
       "dtype: object"
      ]
     },
     "execution_count": 72,
     "metadata": {},
     "output_type": "execute_result"
    }
   ],
   "source": [
    "edge_neo.apply(add_edge_from_row, axis = 1)"
   ]
  },
  {
   "cell_type": "code",
   "execution_count": 61,
   "metadata": {},
   "outputs": [
    {
     "data": {
      "text/plain": [
       "61011"
      ]
     },
     "execution_count": 61,
     "metadata": {},
     "output_type": "execute_result"
    }
   ],
   "source": [
    "len(list(graph.get_nodes()))"
   ]
  },
  {
   "cell_type": "code",
   "execution_count": 73,
   "metadata": {},
   "outputs": [
    {
     "data": {
      "text/plain": [
       "49825"
      ]
     },
     "execution_count": 73,
     "metadata": {},
     "output_type": "execute_result"
    }
   ],
   "source": [
    "len(list(graph.get_edges()))"
   ]
  },
  {
   "cell_type": "code",
   "execution_count": 75,
   "metadata": {},
   "outputs": [
    {
     "data": {
      "text/plain": [
       "(61011, 49825)"
      ]
     },
     "execution_count": 75,
     "metadata": {},
     "output_type": "execute_result"
    }
   ],
   "source": [
    "len(node_neo), len(edge_neo)"
   ]
  },
  {
   "cell_type": "code",
   "execution_count": 80,
   "metadata": {
    "collapsed": true
   },
   "outputs": [],
   "source": [
    "from hetio.stats import degrees_to_excel\n",
    "degrees_to_excel(graph, 'data/degrees.xlsx')"
   ]
  },
  {
   "cell_type": "code",
   "execution_count": 81,
   "metadata": {
    "collapsed": true
   },
   "outputs": [],
   "source": [
    "from hetio.stats import get_metaedge_style_df\n",
    "metaedge_style_df = get_metaedge_style_df(metagraph)\n",
    "metaedge_style_df.to_csv('data/metaedge-styles.tsv', sep='\\t', index=False)"
   ]
  },
  {
   "cell_type": "code",
   "execution_count": null,
   "metadata": {
    "collapsed": true
   },
   "outputs": [],
   "source": []
  },
  {
   "cell_type": "markdown",
   "metadata": {},
   "source": [
    "## Save Neo4j Import Files"
   ]
  },
  {
   "cell_type": "code",
   "execution_count": 34,
   "metadata": {
    "collapsed": true
   },
   "outputs": [],
   "source": [
    "node_neo.to_csv('data/hetnet_basenodes.csv', index=False)"
   ]
  },
  {
   "cell_type": "code",
   "execution_count": 35,
   "metadata": {},
   "outputs": [
    {
     "data": {
      "text/plain": [
       "Protein     26705\n",
       "Gene        21668\n",
       "Disease      8264\n",
       "Compound     4374\n",
       "Name: :LABEL, dtype: int64"
      ]
     },
     "execution_count": 35,
     "metadata": {},
     "output_type": "execute_result"
    }
   ],
   "source": [
    "node_neo[':LABEL'].value_counts()"
   ]
  },
  {
   "cell_type": "code",
   "execution_count": 36,
   "metadata": {
    "collapsed": true
   },
   "outputs": [],
   "source": [
    "edge_neo.to_csv('data/hetnet_baseedges.csv', index = False)"
   ]
  },
  {
   "cell_type": "code",
   "execution_count": 37,
   "metadata": {},
   "outputs": [
    {
     "data": {
      "text/plain": [
       "8"
      ]
     },
     "execution_count": 37,
     "metadata": {},
     "output_type": "execute_result"
    }
   ],
   "source": [
    "# How many edge types are there?\n",
    "edge_neo[':TYPE'].nunique()"
   ]
  },
  {
   "cell_type": "code",
   "execution_count": 38,
   "metadata": {},
   "outputs": [
    {
     "data": {
      "text/plain": [
       "encodes_GeP                           27178\n",
       "subclass-of_DsoD                      10218\n",
       "physically-interacts-with_PpiwC        3670\n",
       "drug-used-for-treatment_DduftC         2969\n",
       "has-part_ChpC                          2378\n",
       "genetic-association_GgaD               2223\n",
       "significant-drug-interaction_CsdiC     1096\n",
       "instance-of_CioC                         93\n",
       "Name: :TYPE, dtype: int64"
      ]
     },
     "execution_count": 38,
     "metadata": {},
     "output_type": "execute_result"
    }
   ],
   "source": [
    "# How many of each type of edges are there?\n",
    "edge_neo[':TYPE'].value_counts()"
   ]
  },
  {
   "cell_type": "code",
   "execution_count": null,
   "metadata": {
    "collapsed": true
   },
   "outputs": [],
   "source": []
  }
 ],
 "metadata": {
  "kernelspec": {
   "display_name": "Python 3",
   "language": "python",
   "name": "python3"
  },
  "language_info": {
   "codemirror_mode": {
    "name": "ipython",
    "version": 3
   },
   "file_extension": ".py",
   "mimetype": "text/x-python",
   "name": "python",
   "nbconvert_exporter": "python",
   "pygments_lexer": "ipython3",
   "version": "3.5.2"
  }
 },
 "nbformat": 4,
 "nbformat_minor": 2
}

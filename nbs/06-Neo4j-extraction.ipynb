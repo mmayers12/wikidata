{
 "cells": [
  {
   "cell_type": "markdown",
   "metadata": {},
   "source": [
    "# Edge Extraction\n",
    "\n",
    "objectives:\n",
    "\n",
    "- Extract basenodes and edges between them for import to Neo4j"
   ]
  },
  {
   "cell_type": "code",
   "execution_count": 1,
   "metadata": {
    "collapsed": true
   },
   "outputs": [],
   "source": [
    "import sys\n",
    "sys.path.append('../py')\n",
    "import processing as pt\n",
    "\n",
    "import pandas as pd\n",
    "from tqdm import tqdm"
   ]
  },
  {
   "cell_type": "code",
   "execution_count": 2,
   "metadata": {
    "collapsed": true
   },
   "outputs": [],
   "source": [
    "comp = pd.read_hdf('data/compound_edges.h5')\n",
    "gene = pd.read_hdf('data/h_genes_edges.h5')\n",
    "prot = pd.read_hdf('data/h_protein_edges.h5')\n",
    "dis = pd.read_hdf('data/disease_edges.h5')"
   ]
  },
  {
   "cell_type": "code",
   "execution_count": 3,
   "metadata": {
    "collapsed": true
   },
   "outputs": [],
   "source": [
    "comp['type'] = 'Compound'\n",
    "gene['type'] = 'Gene'\n",
    "prot['type'] = 'Protein'\n",
    "dis['type'] = 'Disease'"
   ]
  },
  {
   "cell_type": "code",
   "execution_count": 4,
   "metadata": {
    "collapsed": true
   },
   "outputs": [],
   "source": [
    "base = pd.concat([comp, gene, prot, dis])"
   ]
  },
  {
   "cell_type": "markdown",
   "metadata": {},
   "source": [
    "## Strategy\n",
    "\n",
    "We will classify eveything as either compound, gene, disease or protein, and then extract relationships between only those 4 node types.  "
   ]
  },
  {
   "cell_type": "markdown",
   "metadata": {},
   "source": [
    "# Basenodes into CSV Format\n",
    "\n",
    "Converting the basenodes into csv format for Neo4j impoort. Just use the base classes: Compound, Gene, Disease, and Protein.  We will also need the edges, but only where an object is also a basenode."
   ]
  },
  {
   "cell_type": "code",
   "execution_count": 5,
   "metadata": {
    "collapsed": true
   },
   "outputs": [],
   "source": [
    "node_neo = pt.nodes_neo_export(base)"
   ]
  },
  {
   "cell_type": "code",
   "execution_count": 6,
   "metadata": {
    "collapsed": true
   },
   "outputs": [],
   "source": [
    "edge_neo = pt.edges_neo_export(base)"
   ]
  },
  {
   "cell_type": "code",
   "execution_count": 7,
   "metadata": {},
   "outputs": [
    {
     "data": {
      "text/plain": [
       "(61204, 86490)"
      ]
     },
     "execution_count": 7,
     "metadata": {},
     "output_type": "execute_result"
    }
   ],
   "source": [
    "len(node_neo), len(edge_neo)"
   ]
  },
  {
   "cell_type": "code",
   "execution_count": 8,
   "metadata": {},
   "outputs": [],
   "source": [
    "node_neo.to_csv('data/hetnet_basenodes.csv', index=False)"
   ]
  },
  {
   "cell_type": "code",
   "execution_count": 9,
   "metadata": {},
   "outputs": [
    {
     "data": {
      "text/plain": [
       "Protein     26706\n",
       "Gene        21710\n",
       "Disease      8312\n",
       "Compound     4476\n",
       "Name: :LABEL, dtype: int64"
      ]
     },
     "execution_count": 9,
     "metadata": {},
     "output_type": "execute_result"
    }
   ],
   "source": [
    "node_neo[':LABEL'].value_counts()"
   ]
  },
  {
   "cell_type": "code",
   "execution_count": 10,
   "metadata": {
    "collapsed": true
   },
   "outputs": [],
   "source": [
    "edge_neo.to_csv('data/hetnet_baseedges.csv', index = False)"
   ]
  },
  {
   "cell_type": "code",
   "execution_count": 11,
   "metadata": {},
   "outputs": [
    {
     "data": {
      "text/plain": [
       "76"
      ]
     },
     "execution_count": 11,
     "metadata": {},
     "output_type": "execute_result"
    }
   ],
   "source": [
    "# How many edge types are there?\n",
    "edge_neo[':TYPE'].nunique()"
   ]
  },
  {
   "cell_type": "code",
   "execution_count": 12,
   "metadata": {},
   "outputs": [
    {
     "data": {
      "text/plain": [
       "encodes_GeP                                            27164\n",
       "encoded-by_PeG                                         27004\n",
       "subclass-of_DsD                                        10218\n",
       "physically-interacts-with_PpC                           3657\n",
       "physically-interacts-with_CpP                           3596\n",
       "drug-used-for-treatment_DdC                             2912\n",
       "medical-condition-treated_CmD                           2822\n",
       "has-part_ChC                                            2378\n",
       "genetic-association_GgD                                 2201\n",
       "genetic-association_DgG                                 2181\n",
       "significant-drug-interaction_CsC                        1798\n",
       "instance-of_CiC                                           93\n",
       "symptoms_DsD                                              81\n",
       "has-cause_DhD                                             55\n",
       "subclass-of_CsC                                           40\n",
       "subclass-of_GsC                                           39\n",
       "different-from_CdC                                        31\n",
       "cause-of_DcD                                              23\n",
       "different-from_DdD                                        17\n",
       "said-to-be-the-same-as_DsD                                16\n",
       "opposite-of_DoD                                           16\n",
       "instance-of_DiD                                           10\n",
       "physically-interacts-with_PpP                             10\n",
       "cell-component_PcC                                        10\n",
       "part-of_CpC                                                9\n",
       "material-used_CmC                                          5\n",
       "physically-interacts-with_CpG                              4\n",
       "decreased-expression-in_GdD                                4\n",
       "has-cause_DhC                                              4\n",
       "genetic-association_PgD                                    4\n",
       "                                                       ...  \n",
       "material-used_PmC                                          2\n",
       "stereoisomer-of_CsC                                        2\n",
       "cause-of_PcD                                               2\n",
       "has-cause_DhP                                              2\n",
       "different-from_GdP                                         2\n",
       "said-to-be-the-same-as_CsC                                 2\n",
       "material-produced_PmC                                      2\n",
       "medical-treatment_DmC                                      2\n",
       "genetic-association_DgP                                    2\n",
       "different-from_PdG                                         2\n",
       "gene-inversion-association-with_GgD                        1\n",
       "named-after_CnC                                            1\n",
       "gene-insertion-association-with_GgD                        1\n",
       "medical-examinations_DmP                                   1\n",
       "contributing-factor-of_DcD                                 1\n",
       "deletion-association-with_GdD                              1\n",
       "cause-of_GcD                                               1\n",
       "vaccine-for_CvD                                            1\n",
       "has-cause_DhG                                              1\n",
       "facet-of_DfD                                               1\n",
       "gene-substitution-association-with_GgD                     1\n",
       "subclass-of_PsC                                            1\n",
       "medical-condition_CmD                                      1\n",
       "side-effect_CsD                                            1\n",
       "medical-condition-treated_PmD                              1\n",
       "anatomical-location_DaD                                    1\n",
       "increased-expression-in_GiD                                1\n",
       "gene-duplication-association-with_GgD                      1\n",
       "altered-regulation-leads-to_GaD                            1\n",
       "posttranslational-modification-association-with_GpD        1\n",
       "Name: :TYPE, dtype: int64"
      ]
     },
     "execution_count": 12,
     "metadata": {},
     "output_type": "execute_result"
    }
   ],
   "source": [
    "# How many of each type of edges are there?\n",
    "edge_neo[':TYPE'].value_counts()"
   ]
  }
 ],
 "metadata": {
  "kernelspec": {
   "display_name": "Python 3",
   "language": "python",
   "name": "python3"
  },
  "language_info": {
   "codemirror_mode": {
    "name": "ipython",
    "version": 3
   },
   "file_extension": ".py",
   "mimetype": "text/x-python",
   "name": "python",
   "nbconvert_exporter": "python",
   "pygments_lexer": "ipython3",
   "version": "3.5.2"
  }
 },
 "nbformat": 4,
 "nbformat_minor": 2
}

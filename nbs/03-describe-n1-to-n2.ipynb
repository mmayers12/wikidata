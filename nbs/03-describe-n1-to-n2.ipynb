{
 "cells": [
  {
   "cell_type": "code",
   "execution_count": 1,
   "metadata": {
    "collapsed": true
   },
   "outputs": [],
   "source": [
    "import sys\n",
    "sys.path.append('../py')\n",
    "import sparql_tools as qt\n",
    "import pandas as pd"
   ]
  },
  {
   "cell_type": "code",
   "execution_count": 2,
   "metadata": {
    "collapsed": true
   },
   "outputs": [],
   "source": [
    "n1_nodes = qt.open_datafile('n1_nodes.txt')"
   ]
  },
  {
   "cell_type": "code",
   "execution_count": 3,
   "metadata": {},
   "outputs": [
    {
     "name": "stdout",
     "output_type": "stream",
     "text": [
      "Running queries...\n"
     ]
    },
    {
     "name": "stderr",
     "output_type": "stream",
     "text": [
      "100%|██████████| 70893/70893 [12:40<00:00, 93.17it/s] \n"
     ]
    },
    {
     "name": "stdout",
     "output_type": "stream",
     "text": [
      "Getting labels for results...\n"
     ]
    },
    {
     "name": "stderr",
     "output_type": "stream",
     "text": [
      "100%|██████████| 70893/70893 [10:03<00:00, 117.38it/s]  \n"
     ]
    },
    {
     "name": "stdout",
     "output_type": "stream",
     "text": [
      "No new Properties to save\n",
      "No new Entities to save\n"
     ]
    }
   ],
   "source": [
    "n1_df = qt.query_from_list(n1_nodes)"
   ]
  },
  {
   "cell_type": "code",
   "execution_count": 4,
   "metadata": {},
   "outputs": [
    {
     "data": {
      "text/plain": [
       "673321"
      ]
     },
     "execution_count": 4,
     "metadata": {},
     "output_type": "execute_result"
    }
   ],
   "source": [
    "len(n1_df)"
   ]
  },
  {
   "cell_type": "code",
   "execution_count": 5,
   "metadata": {},
   "outputs": [
    {
     "data": {
      "text/html": [
       "<div>\n",
       "<table border=\"1\" class=\"dataframe\">\n",
       "  <thead>\n",
       "    <tr style=\"text-align: right;\">\n",
       "      <th></th>\n",
       "      <th>sLabel</th>\n",
       "      <th>pLabel</th>\n",
       "      <th>oLabel</th>\n",
       "      <th>s</th>\n",
       "      <th>p</th>\n",
       "      <th>o</th>\n",
       "    </tr>\n",
       "  </thead>\n",
       "  <tbody>\n",
       "    <tr>\n",
       "      <th>0</th>\n",
       "      <td>dolichol-linked oligosaccharide biosynthetic p...</td>\n",
       "      <td>subclass of</td>\n",
       "      <td>oligosaccharide-lipid intermediate biosyntheti...</td>\n",
       "      <td>http://www.wikidata.org/entity/Q21101570</td>\n",
       "      <td>http://www.wikidata.org/prop/direct/P279</td>\n",
       "      <td>http://www.wikidata.org/entity/Q21113856</td>\n",
       "    </tr>\n",
       "    <tr>\n",
       "      <th>1</th>\n",
       "      <td>dolichol-linked oligosaccharide biosynthetic p...</td>\n",
       "      <td>has part</td>\n",
       "      <td>dolichyl diphosphate biosynthetic process</td>\n",
       "      <td>http://www.wikidata.org/entity/Q21101570</td>\n",
       "      <td>http://www.wikidata.org/prop/direct/P527</td>\n",
       "      <td>http://www.wikidata.org/entity/Q21117495</td>\n",
       "    </tr>\n",
       "    <tr>\n",
       "      <th>2</th>\n",
       "      <td>Tmem70</td>\n",
       "      <td>subclass of</td>\n",
       "      <td>gene</td>\n",
       "      <td>http://www.wikidata.org/entity/Q18264255</td>\n",
       "      <td>http://www.wikidata.org/prop/direct/P279</td>\n",
       "      <td>http://www.wikidata.org/entity/Q7187</td>\n",
       "    </tr>\n",
       "    <tr>\n",
       "      <th>3</th>\n",
       "      <td>Tmem70</td>\n",
       "      <td>found in taxon</td>\n",
       "      <td>Mus musculus</td>\n",
       "      <td>http://www.wikidata.org/entity/Q18264255</td>\n",
       "      <td>http://www.wikidata.org/prop/direct/P703</td>\n",
       "      <td>http://www.wikidata.org/entity/Q83310</td>\n",
       "    </tr>\n",
       "    <tr>\n",
       "      <th>4</th>\n",
       "      <td>Tmem70</td>\n",
       "      <td>ortholog</td>\n",
       "      <td>TMEM70</td>\n",
       "      <td>http://www.wikidata.org/entity/Q18264255</td>\n",
       "      <td>http://www.wikidata.org/prop/direct/P684</td>\n",
       "      <td>http://www.wikidata.org/entity/Q18041432</td>\n",
       "    </tr>\n",
       "  </tbody>\n",
       "</table>\n",
       "</div>"
      ],
      "text/plain": [
       "                                              sLabel          pLabel  \\\n",
       "0  dolichol-linked oligosaccharide biosynthetic p...     subclass of   \n",
       "1  dolichol-linked oligosaccharide biosynthetic p...        has part   \n",
       "2                                             Tmem70     subclass of   \n",
       "3                                             Tmem70  found in taxon   \n",
       "4                                             Tmem70        ortholog   \n",
       "\n",
       "                                              oLabel  \\\n",
       "0  oligosaccharide-lipid intermediate biosyntheti...   \n",
       "1          dolichyl diphosphate biosynthetic process   \n",
       "2                                               gene   \n",
       "3                                       Mus musculus   \n",
       "4                                             TMEM70   \n",
       "\n",
       "                                          s  \\\n",
       "0  http://www.wikidata.org/entity/Q21101570   \n",
       "1  http://www.wikidata.org/entity/Q21101570   \n",
       "2  http://www.wikidata.org/entity/Q18264255   \n",
       "3  http://www.wikidata.org/entity/Q18264255   \n",
       "4  http://www.wikidata.org/entity/Q18264255   \n",
       "\n",
       "                                          p  \\\n",
       "0  http://www.wikidata.org/prop/direct/P279   \n",
       "1  http://www.wikidata.org/prop/direct/P527   \n",
       "2  http://www.wikidata.org/prop/direct/P279   \n",
       "3  http://www.wikidata.org/prop/direct/P703   \n",
       "4  http://www.wikidata.org/prop/direct/P684   \n",
       "\n",
       "                                          o  \n",
       "0  http://www.wikidata.org/entity/Q21113856  \n",
       "1  http://www.wikidata.org/entity/Q21117495  \n",
       "2      http://www.wikidata.org/entity/Q7187  \n",
       "3     http://www.wikidata.org/entity/Q83310  \n",
       "4  http://www.wikidata.org/entity/Q18041432  "
      ]
     },
     "execution_count": 5,
     "metadata": {},
     "output_type": "execute_result"
    }
   ],
   "source": [
    "n1_df.head()"
   ]
  },
  {
   "cell_type": "code",
   "execution_count": 6,
   "metadata": {
    "collapsed": true
   },
   "outputs": [],
   "source": [
    "n1_df.to_hdf('data/n1_edges.h5', 'n1_df')"
   ]
  },
  {
   "cell_type": "markdown",
   "metadata": {},
   "source": [
    "## Save N2 nodes"
   ]
  },
  {
   "cell_type": "code",
   "execution_count": 7,
   "metadata": {
    "collapsed": true
   },
   "outputs": [],
   "source": [
    "n2_nodes = set(n1_df['o'].apply(qt.id_from_uri))\n",
    "n1_nodes = set(n1_nodes)\n",
    "base_nodes = set(qt.open_datafile('basenodes.txt'))"
   ]
  },
  {
   "cell_type": "code",
   "execution_count": 8,
   "metadata": {},
   "outputs": [
    {
     "data": {
      "text/plain": [
       "(70893, 252344)"
      ]
     },
     "execution_count": 8,
     "metadata": {},
     "output_type": "execute_result"
    }
   ],
   "source": [
    "len(n1_nodes), len(base_nodes)"
   ]
  },
  {
   "cell_type": "code",
   "execution_count": 9,
   "metadata": {
    "collapsed": true
   },
   "outputs": [],
   "source": [
    "n2_filt = (n2_nodes - n1_nodes) - base_nodes"
   ]
  },
  {
   "cell_type": "code",
   "execution_count": 10,
   "metadata": {},
   "outputs": [
    {
     "data": {
      "text/plain": [
       "38019"
      ]
     },
     "execution_count": 10,
     "metadata": {},
     "output_type": "execute_result"
    }
   ],
   "source": [
    "len(n2_filt)"
   ]
  },
  {
   "cell_type": "code",
   "execution_count": 11,
   "metadata": {
    "collapsed": true
   },
   "outputs": [],
   "source": [
    "with open('data/n2_nodes.txt', 'w') as fout:\n",
    "    for node in n2_filt:\n",
    "        fout.write(node+'\\n')"
   ]
  },
  {
   "cell_type": "markdown",
   "metadata": {},
   "source": [
    "## Analysis on N1 node edges"
   ]
  },
  {
   "cell_type": "code",
   "execution_count": 12,
   "metadata": {},
   "outputs": [
    {
     "data": {
      "text/plain": [
       "regulates (molecular biology)    284500\n",
       "subclass of                      105711\n",
       "ortholog                          74521\n",
       "found in taxon                    37514\n",
       "chromosome                        36053\n",
       "strand orientation                35981\n",
       "encodes                           23466\n",
       "instance of                       16656\n",
       "part of                           16505\n",
       "has part                          12919\n",
       "symptoms                           6173\n",
       "afflicts                           3104\n",
       "first aid measures                 2522\n",
       "route of administration            2307\n",
       "biological process                 1706\n",
       "topic's main category               941\n",
       "drug used for treatment             784\n",
       "category's main topic               776\n",
       "cell component                      755\n",
       "has cause                           719\n",
       "Name: pLabel, dtype: int64"
      ]
     },
     "execution_count": 12,
     "metadata": {},
     "output_type": "execute_result"
    }
   ],
   "source": [
    "n1_df['pLabel'].value_counts()[:20]"
   ]
  },
  {
   "cell_type": "code",
   "execution_count": 13,
   "metadata": {},
   "outputs": [
    {
     "data": {
      "text/plain": [
       "gene                                     35046\n",
       "protein-coding gene                      34998\n",
       "protein family                            7224\n",
       "protein domain                            4258\n",
       "mature microRNA                           2285\n",
       "Wikimedia category                         767\n",
       "chemical hazard                            602\n",
       "Supersecondary structure                   463\n",
       "human                                      245\n",
       "protein complex                            224\n",
       "single-organism developmental process      203\n",
       "taxon                                      153\n",
       "protein                                    150\n",
       "Structural motif                           117\n",
       "chemical compound                          114\n",
       "anatomical structure development           106\n",
       "protein binding                             99\n",
       "active site                                 92\n",
       "cytoplasmic part                            77\n",
       "single-organism cellular process            74\n",
       "Name: oLabel, dtype: int64"
      ]
     },
     "execution_count": 13,
     "metadata": {},
     "output_type": "execute_result"
    }
   ],
   "source": [
    "n1_df.query(\"pLabel == 'instance of' | pLabel == 'subclass of'\")['oLabel'].value_counts()[:20]"
   ]
  },
  {
   "cell_type": "code",
   "execution_count": 14,
   "metadata": {},
   "outputs": [
    {
     "data": {
      "text/plain": [
       "Mus musculus                       17239\n",
       "brown rat                          16574\n",
       "Homo sapiens                        2355\n",
       "Saccharomyces cerevisiae S288c      1339\n",
       "human                                  4\n",
       "Solanaceae                             1\n",
       "Chlamydia trachomatis D/UW-3/CX        1\n",
       "Southern pig-tailed macaque            1\n",
       "Name: oLabel, dtype: int64"
      ]
     },
     "execution_count": 14,
     "metadata": {},
     "output_type": "execute_result"
    }
   ],
   "source": [
    "n1_df.query(\"pLabel == 'found in taxon'\")['oLabel'].value_counts()[:20]"
   ]
  },
  {
   "cell_type": "code",
   "execution_count": null,
   "metadata": {
    "collapsed": true
   },
   "outputs": [],
   "source": []
  }
 ],
 "metadata": {
  "kernelspec": {
   "display_name": "Python 3",
   "language": "python",
   "name": "python3"
  },
  "language_info": {
   "codemirror_mode": {
    "name": "ipython",
    "version": 3
   },
   "file_extension": ".py",
   "mimetype": "text/x-python",
   "name": "python",
   "nbconvert_exporter": "python",
   "pygments_lexer": "ipython3",
   "version": "3.5.2"
  }
 },
 "nbformat": 4,
 "nbformat_minor": 2
}

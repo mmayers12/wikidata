{
 "cells": [
  {
   "cell_type": "code",
   "execution_count": 1,
   "metadata": {
    "collapsed": true
   },
   "outputs": [],
   "source": [
    "import sys\n",
    "sys.path.append('../py')\n",
    "import sparql_tools as qt\n",
    "import pandas as pd"
   ]
  },
  {
   "cell_type": "code",
   "execution_count": 2,
   "metadata": {
    "collapsed": true
   },
   "outputs": [],
   "source": [
    "n1_nodes = qt.open_datafile('n1_nodes.txt')"
   ]
  },
  {
   "cell_type": "code",
   "execution_count": 4,
   "metadata": {},
   "outputs": [
    {
     "name": "stderr",
     "output_type": "stream",
     "text": [
      "100%|██████████| 71129/71129 [56:03<00:00, 21.14it/s]  \n"
     ]
    }
   ],
   "source": [
    "n1_df = qt.query_from_list(n1_nodes)"
   ]
  },
  {
   "cell_type": "code",
   "execution_count": 6,
   "metadata": {},
   "outputs": [
    {
     "data": {
      "text/plain": [
       "670235"
      ]
     },
     "execution_count": 6,
     "metadata": {},
     "output_type": "execute_result"
    }
   ],
   "source": [
    "len(n1_df)"
   ]
  },
  {
   "cell_type": "code",
   "execution_count": 5,
   "metadata": {},
   "outputs": [
    {
     "data": {
      "text/html": [
       "<div>\n",
       "<table border=\"1\" class=\"dataframe\">\n",
       "  <thead>\n",
       "    <tr style=\"text-align: right;\">\n",
       "      <th></th>\n",
       "      <th>sLabel</th>\n",
       "      <th>pLabel</th>\n",
       "      <th>oLabel</th>\n",
       "      <th>s</th>\n",
       "      <th>p</th>\n",
       "      <th>o</th>\n",
       "    </tr>\n",
       "  </thead>\n",
       "  <tbody>\n",
       "    <tr>\n",
       "      <th>0</th>\n",
       "      <td>Rbbp9</td>\n",
       "      <td>found in taxon</td>\n",
       "      <td>brown rat</td>\n",
       "      <td>http://www.wikidata.org/entity/Q24392744</td>\n",
       "      <td>http://www.wikidata.org/prop/direct/P703</td>\n",
       "      <td>http://www.wikidata.org/entity/Q184224</td>\n",
       "    </tr>\n",
       "    <tr>\n",
       "      <th>1</th>\n",
       "      <td>Rbbp9</td>\n",
       "      <td>ortholog</td>\n",
       "      <td>RBBP9</td>\n",
       "      <td>http://www.wikidata.org/entity/Q24392744</td>\n",
       "      <td>http://www.wikidata.org/prop/direct/P684</td>\n",
       "      <td>http://www.wikidata.org/entity/Q18035642</td>\n",
       "    </tr>\n",
       "    <tr>\n",
       "      <th>2</th>\n",
       "      <td>Rbbp9</td>\n",
       "      <td>ortholog</td>\n",
       "      <td>Rbbp9</td>\n",
       "      <td>http://www.wikidata.org/entity/Q24392744</td>\n",
       "      <td>http://www.wikidata.org/prop/direct/P684</td>\n",
       "      <td>http://www.wikidata.org/entity/Q18255784</td>\n",
       "    </tr>\n",
       "    <tr>\n",
       "      <th>3</th>\n",
       "      <td>Rbbp9</td>\n",
       "      <td>subclass of</td>\n",
       "      <td>protein-coding gene</td>\n",
       "      <td>http://www.wikidata.org/entity/Q24392744</td>\n",
       "      <td>http://www.wikidata.org/prop/direct/P279</td>\n",
       "      <td>http://www.wikidata.org/entity/Q20747295</td>\n",
       "    </tr>\n",
       "    <tr>\n",
       "      <th>4</th>\n",
       "      <td>Rbbp9</td>\n",
       "      <td>chromosome</td>\n",
       "      <td>rat chromosome 3</td>\n",
       "      <td>http://www.wikidata.org/entity/Q24392744</td>\n",
       "      <td>http://www.wikidata.org/prop/direct/P1057</td>\n",
       "      <td>http://www.wikidata.org/entity/Q21596692</td>\n",
       "    </tr>\n",
       "  </tbody>\n",
       "</table>\n",
       "</div>"
      ],
      "text/plain": [
       "  sLabel          pLabel               oLabel  \\\n",
       "0  Rbbp9  found in taxon            brown rat   \n",
       "1  Rbbp9        ortholog                RBBP9   \n",
       "2  Rbbp9        ortholog                Rbbp9   \n",
       "3  Rbbp9     subclass of  protein-coding gene   \n",
       "4  Rbbp9      chromosome     rat chromosome 3   \n",
       "\n",
       "                                          s  \\\n",
       "0  http://www.wikidata.org/entity/Q24392744   \n",
       "1  http://www.wikidata.org/entity/Q24392744   \n",
       "2  http://www.wikidata.org/entity/Q24392744   \n",
       "3  http://www.wikidata.org/entity/Q24392744   \n",
       "4  http://www.wikidata.org/entity/Q24392744   \n",
       "\n",
       "                                           p  \\\n",
       "0   http://www.wikidata.org/prop/direct/P703   \n",
       "1   http://www.wikidata.org/prop/direct/P684   \n",
       "2   http://www.wikidata.org/prop/direct/P684   \n",
       "3   http://www.wikidata.org/prop/direct/P279   \n",
       "4  http://www.wikidata.org/prop/direct/P1057   \n",
       "\n",
       "                                          o  \n",
       "0    http://www.wikidata.org/entity/Q184224  \n",
       "1  http://www.wikidata.org/entity/Q18035642  \n",
       "2  http://www.wikidata.org/entity/Q18255784  \n",
       "3  http://www.wikidata.org/entity/Q20747295  \n",
       "4  http://www.wikidata.org/entity/Q21596692  "
      ]
     },
     "execution_count": 5,
     "metadata": {},
     "output_type": "execute_result"
    }
   ],
   "source": [
    "n1_df.head()"
   ]
  },
  {
   "cell_type": "code",
   "execution_count": 7,
   "metadata": {
    "collapsed": true
   },
   "outputs": [],
   "source": [
    "n1_df.to_hdf('data/n1_edges.h5', 'n1_df')"
   ]
  },
  {
   "cell_type": "markdown",
   "metadata": {},
   "source": [
    "## Save N2 nodes"
   ]
  },
  {
   "cell_type": "code",
   "execution_count": 10,
   "metadata": {
    "collapsed": true
   },
   "outputs": [],
   "source": [
    "n2_nodes = set(n1_df['o'])\n",
    "n1_nodes = set(n1_df['s'])\n",
    "base_nodes = set(qt.open_datafile('basenodes.txt'))"
   ]
  },
  {
   "cell_type": "code",
   "execution_count": 11,
   "metadata": {},
   "outputs": [
    {
     "data": {
      "text/plain": [
       "(70770, 252344)"
      ]
     },
     "execution_count": 11,
     "metadata": {},
     "output_type": "execute_result"
    }
   ],
   "source": [
    "len(n1_nodes), len(base_nodes)"
   ]
  },
  {
   "cell_type": "code",
   "execution_count": 12,
   "metadata": {
    "collapsed": true
   },
   "outputs": [],
   "source": [
    "n2_filt = (n2_nodes - n1_nodes) - base_nodes"
   ]
  },
  {
   "cell_type": "code",
   "execution_count": 13,
   "metadata": {},
   "outputs": [
    {
     "data": {
      "text/plain": [
       "61101"
      ]
     },
     "execution_count": 13,
     "metadata": {},
     "output_type": "execute_result"
    }
   ],
   "source": [
    "len(n2_filt)"
   ]
  },
  {
   "cell_type": "code",
   "execution_count": 21,
   "metadata": {
    "collapsed": true
   },
   "outputs": [],
   "source": [
    "n2_ids = [qt.id_from_uri(x) for x in n2_filt]"
   ]
  },
  {
   "cell_type": "code",
   "execution_count": 22,
   "metadata": {
    "collapsed": true
   },
   "outputs": [],
   "source": [
    "with open('data/n2_nodes.txt', 'w') as fout:\n",
    "    for node in n2_ids:\n",
    "        fout.write(node+'\\n')"
   ]
  },
  {
   "cell_type": "markdown",
   "metadata": {},
   "source": [
    "## Analysis on N1 node edges"
   ]
  },
  {
   "cell_type": "code",
   "execution_count": 16,
   "metadata": {},
   "outputs": [
    {
     "data": {
      "text/plain": [
       "regulates (molecular biology)    284500\n",
       "subclass of                      105833\n",
       "ortholog                          74521\n",
       "chromosome                        36053\n",
       "strand orientation                35981\n",
       "found in taxon                    33819\n",
       "encodes                           23466\n",
       "instance of                       16640\n",
       "part of                           16502\n",
       "has part                          12915\n",
       "symptoms                           6173\n",
       "afflicts                           3104\n",
       "first aid measures                 2522\n",
       "route of administration            2317\n",
       "biological process                 1706\n",
       "topic's main category               935\n",
       "drug used for treatment             781\n",
       "category's main topic               774\n",
       "cell component                      755\n",
       "molecular function                  717\n",
       "Name: pLabel, dtype: int64"
      ]
     },
     "execution_count": 16,
     "metadata": {},
     "output_type": "execute_result"
    }
   ],
   "source": [
    "n1_df['pLabel'].value_counts()[:20]"
   ]
  },
  {
   "cell_type": "code",
   "execution_count": 20,
   "metadata": {},
   "outputs": [
    {
     "data": {
      "text/plain": [
       "gene                                     35046\n",
       "protein-coding gene                      34998\n",
       "protein family                            7224\n",
       "protein domain                            4258\n",
       "mature microRNA                           2285\n",
       "Wikimedia category                         767\n",
       "chemical hazard                            602\n",
       "Supersecondary structure                   463\n",
       "human                                      245\n",
       "protein complex                            224\n",
       "single-organism developmental process      203\n",
       "taxon                                      151\n",
       "protein                                    150\n",
       "Structural motif                           117\n",
       "chemical compound                          114\n",
       "anatomical structure development           106\n",
       "protein binding                             99\n",
       "active site                                 92\n",
       "cytoplasmic part                            77\n",
       "single-organism cellular process            74\n",
       "Name: oLabel, dtype: int64"
      ]
     },
     "execution_count": 20,
     "metadata": {},
     "output_type": "execute_result"
    }
   ],
   "source": [
    "n1_df.query(\"pLabel == 'instance of' | pLabel == 'subclass of'\")['oLabel'].value_counts()[:20]"
   ]
  },
  {
   "cell_type": "code",
   "execution_count": 2,
   "metadata": {
    "collapsed": true
   },
   "outputs": [],
   "source": [
    "n1_df = pd.read_hdf('data/n1_edges.h5')"
   ]
  },
  {
   "cell_type": "code",
   "execution_count": 3,
   "metadata": {},
   "outputs": [
    {
     "data": {
      "text/plain": [
       "Mus musculus                   17239\n",
       "brown rat                      16574\n",
       "human                              4\n",
       "Southern pig-tailed macaque        1\n",
       "Solanaceae                         1\n",
       "Name: oLabel, dtype: int64"
      ]
     },
     "execution_count": 3,
     "metadata": {},
     "output_type": "execute_result"
    }
   ],
   "source": [
    "n1_df.query(\"pLabel == 'found in taxon'\")['oLabel'].value_counts()[:20]"
   ]
  },
  {
   "cell_type": "code",
   "execution_count": null,
   "metadata": {
    "collapsed": true
   },
   "outputs": [],
   "source": []
  }
 ],
 "metadata": {
  "kernelspec": {
   "display_name": "Python 3",
   "language": "python",
   "name": "python3"
  },
  "language_info": {
   "codemirror_mode": {
    "name": "ipython",
    "version": 3
   },
   "file_extension": ".py",
   "mimetype": "text/x-python",
   "name": "python",
   "nbconvert_exporter": "python",
   "pygments_lexer": "ipython3",
   "version": "3.5.2"
  }
 },
 "nbformat": 4,
 "nbformat_minor": 2
}

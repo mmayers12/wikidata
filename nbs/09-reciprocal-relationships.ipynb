{
 "cells": [
  {
   "cell_type": "code",
   "execution_count": 2,
   "metadata": {
    "collapsed": true
   },
   "outputs": [],
   "source": [
    "import pandas as pd\n",
    "import os\n",
    "import sys\n",
    "sys.path.append('../py')\n",
    "import permute as pm"
   ]
  },
  {
   "cell_type": "code",
   "execution_count": 3,
   "metadata": {
    "collapsed": true
   },
   "outputs": [],
   "source": [
    "edges = pd.read_csv('data/hetnet_baseedges.csv')"
   ]
  },
  {
   "cell_type": "code",
   "execution_count": 4,
   "metadata": {},
   "outputs": [
    {
     "data": {
      "text/html": [
       "<div>\n",
       "<table border=\"1\" class=\"dataframe\">\n",
       "  <thead>\n",
       "    <tr style=\"text-align: right;\">\n",
       "      <th></th>\n",
       "      <th>:START_ID</th>\n",
       "      <th>:END_ID</th>\n",
       "      <th>:TYPE</th>\n",
       "    </tr>\n",
       "  </thead>\n",
       "  <tbody>\n",
       "    <tr>\n",
       "      <th>0</th>\n",
       "      <td>Q71969</td>\n",
       "      <td>Q221668</td>\n",
       "      <td>medical-condition-treated_CmD</td>\n",
       "    </tr>\n",
       "    <tr>\n",
       "      <th>1</th>\n",
       "      <td>Q71969</td>\n",
       "      <td>Q246084</td>\n",
       "      <td>medical-condition-treated_CmD</td>\n",
       "    </tr>\n",
       "  </tbody>\n",
       "</table>\n",
       "</div>"
      ],
      "text/plain": [
       "  :START_ID  :END_ID                          :TYPE\n",
       "0    Q71969  Q221668  medical-condition-treated_CmD\n",
       "1    Q71969  Q246084  medical-condition-treated_CmD"
      ]
     },
     "execution_count": 4,
     "metadata": {},
     "output_type": "execute_result"
    }
   ],
   "source": [
    "edges.head(2)"
   ]
  },
  {
   "cell_type": "code",
   "execution_count": 6,
   "metadata": {},
   "outputs": [],
   "source": [
    "pl = pm.get_pair_lists(edges)"
   ]
  },
  {
   "cell_type": "code",
   "execution_count": 15,
   "metadata": {
    "collapsed": true
   },
   "outputs": [],
   "source": [
    "def invert_pairs(pair_list):\n",
    "     return [(b, a) for (a,b) in pair_list]\n",
    "    "
   ]
  },
  {
   "cell_type": "code",
   "execution_count": 35,
   "metadata": {},
   "outputs": [],
   "source": [
    "def calc_overlap(pair_list, invert_list, cutoff=.9):\n",
    "    count_a, count_b = 0, 0\n",
    "    \n",
    "    # if there is a large difference in size, don't bother checking\n",
    "    if (len(pair_list)/len(invert_list) < cutoff or \n",
    "        len(invert_list)/len(pair_list) < cutoff):\n",
    "        return 0\n",
    "    \n",
    "    # Check both dierections\n",
    "    for pair in pair_list:\n",
    "        if pair in invert_list:\n",
    "            count_a += 1\n",
    "            \n",
    "    for pair in invert_list:\n",
    "        if pair in pair_list:\n",
    "            count_b += 1        \n",
    "    \n",
    "    # Return the minimum overlap\n",
    "    return min(count_a/len(pair_list), count_b/len(invert_list))"
   ]
  },
  {
   "cell_type": "code",
   "execution_count": 11,
   "metadata": {},
   "outputs": [
    {
     "data": {
      "text/plain": [
       "encodes_GeP                         27164\n",
       "encoded-by_PeG                      27004\n",
       "subclass-of_DsD                     10218\n",
       "physically-interacts-with_PpC        3657\n",
       "physically-interacts-with_CpP        3596\n",
       "drug-used-for-treatment_DdC          2912\n",
       "medical-condition-treated_CmD        2822\n",
       "has-part_ChC                         2378\n",
       "genetic-association_GgD              2201\n",
       "genetic-association_DgG              2181\n",
       "significant-drug-interaction_CsC     1798\n",
       "instance-of_CiC                        93\n",
       "symptoms_DsD                           81\n",
       "has-cause_DhD                          55\n",
       "subclass-of_CsC                        40\n",
       "subclass-of_GsC                        39\n",
       "different-from_CdC                     31\n",
       "cause-of_DcD                           23\n",
       "different-from_DdD                     17\n",
       "opposite-of_DoD                        16\n",
       "Name: :TYPE, dtype: int64"
      ]
     },
     "execution_count": 11,
     "metadata": {},
     "output_type": "execute_result"
    }
   ],
   "source": [
    "edges[':TYPE'].value_counts()[:20]"
   ]
  },
  {
   "cell_type": "code",
   "execution_count": 22,
   "metadata": {},
   "outputs": [
    {
     "data": {
      "text/plain": [
       "1.0"
      ]
     },
     "execution_count": 22,
     "metadata": {},
     "output_type": "execute_result"
    }
   ],
   "source": [
    "calc_overlap(pl['opposite-of_DoD'], invert_pairs(pl['opposite-of_DoD']))"
   ]
  },
  {
   "cell_type": "code",
   "execution_count": null,
   "metadata": {
    "collapsed": true
   },
   "outputs": [],
   "source": []
  },
  {
   "cell_type": "code",
   "execution_count": 16,
   "metadata": {},
   "outputs": [
    {
     "data": {
      "text/plain": [
       "[('Q202758', 'Q271993'),\n",
       " ('Q5420699', 'Q5376444'),\n",
       " ('Q18554630', 'Q18554171'),\n",
       " ('Q1193891', 'Q572111'),\n",
       " ('Q5376444', 'Q5420699'),\n",
       " ('Q1614115', 'Q1320276'),\n",
       " ('Q18967803', 'Q18554841'),\n",
       " ('Q1320276', 'Q1614115'),\n",
       " ('Q177254', 'Q168403'),\n",
       " ('Q18554841', 'Q18967803'),\n",
       " ('Q18554171', 'Q18554630'),\n",
       " ('Q16501', 'Q16499'),\n",
       " ('Q271993', 'Q202758'),\n",
       " ('Q168403', 'Q177254'),\n",
       " ('Q572111', 'Q1193891'),\n",
       " ('Q16499', 'Q16501')]"
      ]
     },
     "execution_count": 16,
     "metadata": {},
     "output_type": "execute_result"
    }
   ],
   "source": [
    "invert_pairs(pl['opposite-of_DoD'])"
   ]
  },
  {
   "cell_type": "code",
   "execution_count": 23,
   "metadata": {
    "collapsed": true
   },
   "outputs": [],
   "source": [
    "from tqdm import tqdm"
   ]
  },
  {
   "cell_type": "code",
   "execution_count": 24,
   "metadata": {
    "collapsed": true
   },
   "outputs": [],
   "source": [
    "pair_list = pl"
   ]
  },
  {
   "cell_type": "code",
   "execution_count": 38,
   "metadata": {
    "scrolled": false
   },
   "outputs": [
    {
     "name": "stderr",
     "output_type": "stream",
     "text": [
      "6it [00:00, 13.04it/s]"
     ]
    },
    {
     "name": "stdout",
     "output_type": "stream",
     "text": [
      "physically-interacts-with_PpC physically-interacts-with_CpP 0.9797648345638501\n"
     ]
    },
    {
     "name": "stderr",
     "output_type": "stream",
     "text": [
      "\r",
      "10it [00:37,  2.79s/it]"
     ]
    },
    {
     "name": "stdout",
     "output_type": "stream",
     "text": [
      "encodes_GeP encoded-by_PeG 0.9935944632601973\n",
      "genetic-association_DgG genetic-association_GgD 0.9809177646524307\n"
     ]
    },
    {
     "name": "stderr",
     "output_type": "stream",
     "text": [
      "\r",
      "12it [00:37,  2.06s/it]"
     ]
    },
    {
     "name": "stdout",
     "output_type": "stream",
     "text": [
      "genetic-association_DgP genetic-association_PgD 1.0\n"
     ]
    },
    {
     "name": "stderr",
     "output_type": "stream",
     "text": [
      "\r",
      "14it [00:37,  1.48s/it]"
     ]
    },
    {
     "name": "stdout",
     "output_type": "stream",
     "text": [
      "drug-used-for-treatment_DdC medical-condition-treated_CmD 0.9495192307692307\n"
     ]
    },
    {
     "name": "stderr",
     "output_type": "stream",
     "text": [
      "76it [00:38,  1.98it/s]"
     ]
    },
    {
     "name": "stdout",
     "output_type": "stream",
     "text": [
      "drug-used-for-treatment_DdG medical-condition-treated_GmD 1.0\n",
      "cause-of_GcD has-cause_DhG 1.0\n",
      "different-from_PdG different-from_GdP 1.0\n"
     ]
    },
    {
     "name": "stderr",
     "output_type": "stream",
     "text": [
      "\n"
     ]
    }
   ],
   "source": [
    "cutoff = 0.9\n",
    "\n",
    "invert_list = {key: invert_pairs(value) for key, value in pair_list.items()}\n",
    "kinds = list(pair_list.keys())\n",
    "\n",
    "\n",
    "for i, kind in tqdm(enumerate(kinds)):\n",
    "    for idx in range(i+1, len(kinds)):\n",
    "        overlap = calc_overlap(pair_list[kind], invert_list[kinds[idx]])\n",
    "        if overlap > cutoff:\n",
    "            print(kind, kinds[idx], overlap)"
   ]
  },
  {
   "cell_type": "code",
   "execution_count": null,
   "metadata": {
    "collapsed": true
   },
   "outputs": [],
   "source": []
  }
 ],
 "metadata": {
  "kernelspec": {
   "display_name": "Python 3",
   "language": "python",
   "name": "python3"
  },
  "language_info": {
   "codemirror_mode": {
    "name": "ipython",
    "version": 3
   },
   "file_extension": ".py",
   "mimetype": "text/x-python",
   "name": "python",
   "nbconvert_exporter": "python",
   "pygments_lexer": "ipython3",
   "version": "3.5.2"
  }
 },
 "nbformat": 4,
 "nbformat_minor": 2
}

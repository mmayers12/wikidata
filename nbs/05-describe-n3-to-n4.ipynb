{
 "cells": [
  {
   "cell_type": "code",
   "execution_count": 1,
   "metadata": {
    "collapsed": true
   },
   "outputs": [],
   "source": [
    "import sys\n",
    "sys.path.append('../py')\n",
    "import sparql_tools as qt\n",
    "import pandas as pd"
   ]
  },
  {
   "cell_type": "code",
   "execution_count": 2,
   "metadata": {
    "collapsed": true
   },
   "outputs": [],
   "source": [
    "n3_nodes = qt.open_datafile('n3_nodes.txt')"
   ]
  },
  {
   "cell_type": "code",
   "execution_count": 3,
   "metadata": {},
   "outputs": [
    {
     "name": "stderr",
     "output_type": "stream",
     "text": [
      "100%|██████████| 27709/27709 [29:25<00:00, 15.70it/s]  \n"
     ]
    }
   ],
   "source": [
    "n3_df = qt.query_from_list(n3_nodes)"
   ]
  },
  {
   "cell_type": "code",
   "execution_count": 4,
   "metadata": {},
   "outputs": [
    {
     "data": {
      "text/plain": [
       "247253"
      ]
     },
     "execution_count": 4,
     "metadata": {},
     "output_type": "execute_result"
    }
   ],
   "source": [
    "len(n3_df)"
   ]
  },
  {
   "cell_type": "code",
   "execution_count": 5,
   "metadata": {},
   "outputs": [
    {
     "data": {
      "text/html": [
       "<div>\n",
       "<table border=\"1\" class=\"dataframe\">\n",
       "  <thead>\n",
       "    <tr style=\"text-align: right;\">\n",
       "      <th></th>\n",
       "      <th>sLabel</th>\n",
       "      <th>pLabel</th>\n",
       "      <th>oLabel</th>\n",
       "      <th>s</th>\n",
       "      <th>p</th>\n",
       "      <th>o</th>\n",
       "    </tr>\n",
       "  </thead>\n",
       "  <tbody>\n",
       "    <tr>\n",
       "      <th>0</th>\n",
       "      <td>archaeological site</td>\n",
       "      <td>part of</td>\n",
       "      <td>archaeology</td>\n",
       "      <td>http://www.wikidata.org/entity/Q839954</td>\n",
       "      <td>http://www.wikidata.org/prop/direct/P361</td>\n",
       "      <td>http://www.wikidata.org/entity/Q23498</td>\n",
       "    </tr>\n",
       "    <tr>\n",
       "      <th>1</th>\n",
       "      <td>archaeological site</td>\n",
       "      <td>subclass of</td>\n",
       "      <td>find spot</td>\n",
       "      <td>http://www.wikidata.org/entity/Q839954</td>\n",
       "      <td>http://www.wikidata.org/prop/direct/P279</td>\n",
       "      <td>http://www.wikidata.org/entity/Q1291195</td>\n",
       "    </tr>\n",
       "    <tr>\n",
       "      <th>2</th>\n",
       "      <td>archaeological site</td>\n",
       "      <td>described by source</td>\n",
       "      <td>Armenian Soviet Encyclopedia</td>\n",
       "      <td>http://www.wikidata.org/entity/Q839954</td>\n",
       "      <td>http://www.wikidata.org/prop/direct/P1343</td>\n",
       "      <td>http://www.wikidata.org/entity/Q2657718</td>\n",
       "    </tr>\n",
       "    <tr>\n",
       "      <th>3</th>\n",
       "      <td>archaeological site</td>\n",
       "      <td>topic's main category</td>\n",
       "      <td>Category:Archaeological sites</td>\n",
       "      <td>http://www.wikidata.org/entity/Q839954</td>\n",
       "      <td>http://www.wikidata.org/prop/direct/P910</td>\n",
       "      <td>http://www.wikidata.org/entity/Q7215362</td>\n",
       "    </tr>\n",
       "    <tr>\n",
       "      <th>4</th>\n",
       "      <td>archaeological site</td>\n",
       "      <td>subclass of</td>\n",
       "      <td>human-geographic territorial entity</td>\n",
       "      <td>http://www.wikidata.org/entity/Q839954</td>\n",
       "      <td>http://www.wikidata.org/prop/direct/P279</td>\n",
       "      <td>http://www.wikidata.org/entity/Q15642541</td>\n",
       "    </tr>\n",
       "  </tbody>\n",
       "</table>\n",
       "</div>"
      ],
      "text/plain": [
       "                sLabel                 pLabel  \\\n",
       "0  archaeological site                part of   \n",
       "1  archaeological site            subclass of   \n",
       "2  archaeological site    described by source   \n",
       "3  archaeological site  topic's main category   \n",
       "4  archaeological site            subclass of   \n",
       "\n",
       "                                oLabel  \\\n",
       "0                          archaeology   \n",
       "1                            find spot   \n",
       "2         Armenian Soviet Encyclopedia   \n",
       "3        Category:Archaeological sites   \n",
       "4  human-geographic territorial entity   \n",
       "\n",
       "                                        s  \\\n",
       "0  http://www.wikidata.org/entity/Q839954   \n",
       "1  http://www.wikidata.org/entity/Q839954   \n",
       "2  http://www.wikidata.org/entity/Q839954   \n",
       "3  http://www.wikidata.org/entity/Q839954   \n",
       "4  http://www.wikidata.org/entity/Q839954   \n",
       "\n",
       "                                           p  \\\n",
       "0   http://www.wikidata.org/prop/direct/P361   \n",
       "1   http://www.wikidata.org/prop/direct/P279   \n",
       "2  http://www.wikidata.org/prop/direct/P1343   \n",
       "3   http://www.wikidata.org/prop/direct/P910   \n",
       "4   http://www.wikidata.org/prop/direct/P279   \n",
       "\n",
       "                                          o  \n",
       "0     http://www.wikidata.org/entity/Q23498  \n",
       "1   http://www.wikidata.org/entity/Q1291195  \n",
       "2   http://www.wikidata.org/entity/Q2657718  \n",
       "3   http://www.wikidata.org/entity/Q7215362  \n",
       "4  http://www.wikidata.org/entity/Q15642541  "
      ]
     },
     "execution_count": 5,
     "metadata": {},
     "output_type": "execute_result"
    }
   ],
   "source": [
    "n3_df.head()"
   ]
  },
  {
   "cell_type": "code",
   "execution_count": 6,
   "metadata": {
    "collapsed": true
   },
   "outputs": [],
   "source": [
    "n3_df.to_hdf('data/n3_edges.h5', 'n3_df')"
   ]
  },
  {
   "cell_type": "markdown",
   "metadata": {},
   "source": [
    "## Save N3 nodes"
   ]
  },
  {
   "cell_type": "code",
   "execution_count": 8,
   "metadata": {},
   "outputs": [],
   "source": [
    "n4_nodes = set(n3_df['o'].apply(qt.id_from_uri))\n",
    "n3_nodes = set(n3_nodes)\n",
    "n2_nodes = set(qt.open_datafile('n2_nodes.txt'))\n",
    "n1_nodes = set(qt.open_datafile('n1_nodes.txt'))\n",
    "base_nodes = set(qt.open_datafile('basenodes.txt'))"
   ]
  },
  {
   "cell_type": "code",
   "execution_count": 9,
   "metadata": {},
   "outputs": [
    {
     "name": "stdout",
     "output_type": "stream",
     "text": [
      "115920\n",
      "27709\n",
      "38941\n",
      "71129\n",
      "252344\n"
     ]
    }
   ],
   "source": [
    "print(len(n4_nodes))\n",
    "print(len(n3_nodes))\n",
    "print(len(n2_nodes))\n",
    "print(len(n1_nodes))\n",
    "print(len(base_nodes))"
   ]
  },
  {
   "cell_type": "code",
   "execution_count": 10,
   "metadata": {
    "collapsed": true
   },
   "outputs": [],
   "source": [
    "n4_filt = (((n4_nodes - n3_nodes) - n2_nodes ) - n1_nodes ) - base_nodes"
   ]
  },
  {
   "cell_type": "code",
   "execution_count": 11,
   "metadata": {},
   "outputs": [
    {
     "data": {
      "text/plain": [
       "99970"
      ]
     },
     "execution_count": 11,
     "metadata": {},
     "output_type": "execute_result"
    }
   ],
   "source": [
    "len(n4_filt)"
   ]
  },
  {
   "cell_type": "code",
   "execution_count": 12,
   "metadata": {
    "collapsed": true
   },
   "outputs": [],
   "source": [
    "with open('data/n4_nodes.txt', 'w') as fout:\n",
    "    for node in n4_filt:\n",
    "        fout.write(node+'\\n')"
   ]
  },
  {
   "cell_type": "markdown",
   "metadata": {},
   "source": [
    "## Analysis on edges from N3 nodes"
   ]
  },
  {
   "cell_type": "code",
   "execution_count": 13,
   "metadata": {},
   "outputs": [
    {
     "data": {
      "text/plain": [
       "contains administrative territorial entity    38029\n",
       "instance of                                   21959\n",
       "said to be the same as                        20562\n",
       "shares border with                            18191\n",
       "sister city                                   11761\n",
       "in the administrative territorial entity       9726\n",
       "population                                     9634\n",
       "topic's main category                          7401\n",
       "country                                        6748\n",
       "subclass of                                    6023\n",
       "award received                                 5011\n",
       "occupation                                     4560\n",
       "member of                                      4133\n",
       "has part                                       3811\n",
       "located in time zone                           3303\n",
       "part of                                        3103\n",
       "described by source                            3054\n",
       "category combines topics                       2911\n",
       "participant                                    2357\n",
       "category for people born here                  2219\n",
       "Name: pLabel, dtype: int64"
      ]
     },
     "execution_count": 13,
     "metadata": {},
     "output_type": "execute_result"
    }
   ],
   "source": [
    "n3_df['pLabel'].value_counts()[:20]"
   ]
  },
  {
   "cell_type": "code",
   "execution_count": 14,
   "metadata": {},
   "outputs": [
    {
     "data": {
      "text/plain": [
       "Wikimedia category                     3416\n",
       "human                                  2021\n",
       "male given name                         909\n",
       "city                                    824\n",
       "commune of France                       750\n",
       "comune of Italy                         506\n",
       "protein domain                          366\n",
       "river                                   256\n",
       "canton of France (until 2015)           222\n",
       "ortsteil                                214\n",
       "human settlement                        196\n",
       "municipality of Germany                 185\n",
       "taxon                                   185\n",
       "Wikimedia disambiguation page           185\n",
       "protein family                          182\n",
       "Wikimedia portal                        181\n",
       "Wikimedia list article                  162\n",
       "family name                             159\n",
       "female given name                       158\n",
       "Wikimedia permanent duplicated page     157\n",
       "Name: oLabel, dtype: int64"
      ]
     },
     "execution_count": 14,
     "metadata": {},
     "output_type": "execute_result"
    }
   ],
   "source": [
    "n3_df.query(\"pLabel == 'instance of' | pLabel == 'subclass of'\")['oLabel'].value_counts()[:20]"
   ]
  },
  {
   "cell_type": "code",
   "execution_count": 15,
   "metadata": {},
   "outputs": [
    {
     "data": {
      "text/plain": [
       "brown rat         64\n",
       "Mus musculus      39\n",
       "human              4\n",
       "plant              1\n",
       "Zika virus         1\n",
       "vascular plant     1\n",
       "Name: oLabel, dtype: int64"
      ]
     },
     "execution_count": 15,
     "metadata": {},
     "output_type": "execute_result"
    }
   ],
   "source": [
    "n3_df.query(\"pLabel == 'found in taxon'\")['oLabel'].value_counts()[:20]"
   ]
  },
  {
   "cell_type": "code",
   "execution_count": null,
   "metadata": {
    "collapsed": true
   },
   "outputs": [],
   "source": []
  }
 ],
 "metadata": {
  "kernelspec": {
   "display_name": "Python 3",
   "language": "python",
   "name": "python3"
  },
  "language_info": {
   "codemirror_mode": {
    "name": "ipython",
    "version": 3
   },
   "file_extension": ".py",
   "mimetype": "text/x-python",
   "name": "python",
   "nbconvert_exporter": "python",
   "pygments_lexer": "ipython3",
   "version": "3.5.2"
  }
 },
 "nbformat": 4,
 "nbformat_minor": 2
}

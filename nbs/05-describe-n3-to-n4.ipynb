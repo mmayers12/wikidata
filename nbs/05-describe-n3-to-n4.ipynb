{
 "cells": [
  {
   "cell_type": "code",
   "execution_count": 1,
   "metadata": {
    "collapsed": true
   },
   "outputs": [],
   "source": [
    "import sys\n",
    "sys.path.append('../py')\n",
    "import sparql_tools as qt\n",
    "import pandas as pd"
   ]
  },
  {
   "cell_type": "code",
   "execution_count": 2,
   "metadata": {
    "collapsed": true
   },
   "outputs": [],
   "source": [
    "n3_nodes = qt.open_datafile('n3_nodes.txt')"
   ]
  },
  {
   "cell_type": "code",
   "execution_count": 3,
   "metadata": {},
   "outputs": [
    {
     "name": "stdout",
     "output_type": "stream",
     "text": [
      "Running queries...\n"
     ]
    },
    {
     "name": "stderr",
     "output_type": "stream",
     "text": [
      "100%|██████████| 25622/25622 [06:06<00:00, 69.96it/s]\n"
     ]
    },
    {
     "name": "stdout",
     "output_type": "stream",
     "text": [
      "Getting labels for results...\n"
     ]
    },
    {
     "name": "stderr",
     "output_type": "stream",
     "text": [
      "100%|██████████| 25622/25622 [6:44:43<00:00,  1.06it/s]    \n"
     ]
    }
   ],
   "source": [
    "n3_df = qt.query_from_list(n3_nodes)"
   ]
  },
  {
   "cell_type": "code",
   "execution_count": 4,
   "metadata": {},
   "outputs": [
    {
     "data": {
      "text/plain": [
       "275747"
      ]
     },
     "execution_count": 4,
     "metadata": {},
     "output_type": "execute_result"
    }
   ],
   "source": [
    "len(n3_df)"
   ]
  },
  {
   "cell_type": "code",
   "execution_count": 5,
   "metadata": {},
   "outputs": [
    {
     "data": {
      "text/html": [
       "<div>\n",
       "<table border=\"1\" class=\"dataframe\">\n",
       "  <thead>\n",
       "    <tr style=\"text-align: right;\">\n",
       "      <th></th>\n",
       "      <th>sLabel</th>\n",
       "      <th>pLabel</th>\n",
       "      <th>oLabel</th>\n",
       "      <th>s</th>\n",
       "      <th>p</th>\n",
       "      <th>o</th>\n",
       "    </tr>\n",
       "  </thead>\n",
       "  <tbody>\n",
       "    <tr>\n",
       "      <th>0</th>\n",
       "      <td>fusome organization</td>\n",
       "      <td>subclass of</td>\n",
       "      <td>reproductive process</td>\n",
       "      <td>http://www.wikidata.org/entity/Q22294630</td>\n",
       "      <td>http://www.wikidata.org/prop/direct/P279</td>\n",
       "      <td>http://www.wikidata.org/entity/Q14885910</td>\n",
       "    </tr>\n",
       "    <tr>\n",
       "      <th>1</th>\n",
       "      <td>fusome organization</td>\n",
       "      <td>part of</td>\n",
       "      <td>multicellular organism reproduction</td>\n",
       "      <td>http://www.wikidata.org/entity/Q22294630</td>\n",
       "      <td>http://www.wikidata.org/prop/direct/P361</td>\n",
       "      <td>http://www.wikidata.org/entity/Q14911869</td>\n",
       "    </tr>\n",
       "    <tr>\n",
       "      <th>2</th>\n",
       "      <td>fusome organization</td>\n",
       "      <td>subclass of</td>\n",
       "      <td>organelle organization</td>\n",
       "      <td>http://www.wikidata.org/entity/Q22294630</td>\n",
       "      <td>http://www.wikidata.org/prop/direct/P279</td>\n",
       "      <td>http://www.wikidata.org/entity/Q15313788</td>\n",
       "    </tr>\n",
       "    <tr>\n",
       "      <th>3</th>\n",
       "      <td>fusome organization</td>\n",
       "      <td>has part</td>\n",
       "      <td>vesicle targeting to fusome</td>\n",
       "      <td>http://www.wikidata.org/entity/Q22294630</td>\n",
       "      <td>http://www.wikidata.org/prop/direct/P527</td>\n",
       "      <td>http://www.wikidata.org/entity/Q22294649</td>\n",
       "    </tr>\n",
       "    <tr>\n",
       "      <th>4</th>\n",
       "      <td>Q3473174</td>\n",
       "      <td>country</td>\n",
       "      <td>Q159</td>\n",
       "      <td>http://www.wikidata.org/entity/Q3473174</td>\n",
       "      <td>http://www.wikidata.org/prop/direct/P17</td>\n",
       "      <td>http://www.wikidata.org/entity/Q159</td>\n",
       "    </tr>\n",
       "  </tbody>\n",
       "</table>\n",
       "</div>"
      ],
      "text/plain": [
       "                sLabel       pLabel                               oLabel  \\\n",
       "0  fusome organization  subclass of                 reproductive process   \n",
       "1  fusome organization      part of  multicellular organism reproduction   \n",
       "2  fusome organization  subclass of               organelle organization   \n",
       "3  fusome organization     has part          vesicle targeting to fusome   \n",
       "4             Q3473174      country                                 Q159   \n",
       "\n",
       "                                          s  \\\n",
       "0  http://www.wikidata.org/entity/Q22294630   \n",
       "1  http://www.wikidata.org/entity/Q22294630   \n",
       "2  http://www.wikidata.org/entity/Q22294630   \n",
       "3  http://www.wikidata.org/entity/Q22294630   \n",
       "4   http://www.wikidata.org/entity/Q3473174   \n",
       "\n",
       "                                          p  \\\n",
       "0  http://www.wikidata.org/prop/direct/P279   \n",
       "1  http://www.wikidata.org/prop/direct/P361   \n",
       "2  http://www.wikidata.org/prop/direct/P279   \n",
       "3  http://www.wikidata.org/prop/direct/P527   \n",
       "4   http://www.wikidata.org/prop/direct/P17   \n",
       "\n",
       "                                          o  \n",
       "0  http://www.wikidata.org/entity/Q14885910  \n",
       "1  http://www.wikidata.org/entity/Q14911869  \n",
       "2  http://www.wikidata.org/entity/Q15313788  \n",
       "3  http://www.wikidata.org/entity/Q22294649  \n",
       "4       http://www.wikidata.org/entity/Q159  "
      ]
     },
     "execution_count": 5,
     "metadata": {},
     "output_type": "execute_result"
    }
   ],
   "source": [
    "n3_df.head()"
   ]
  },
  {
   "cell_type": "code",
   "execution_count": 6,
   "metadata": {
    "collapsed": true
   },
   "outputs": [],
   "source": [
    "n3_df.to_hdf('data/n3_edges.h5', 'n3_df')"
   ]
  },
  {
   "cell_type": "markdown",
   "metadata": {},
   "source": [
    "## Save N3 nodes"
   ]
  },
  {
   "cell_type": "code",
   "execution_count": 7,
   "metadata": {
    "collapsed": true
   },
   "outputs": [],
   "source": [
    "n4_nodes = set(n3_df['o'].apply(qt.id_from_uri))\n",
    "n3_nodes = set(n3_nodes)\n",
    "n2_nodes = set(qt.open_datafile('n2_nodes.txt'))\n",
    "n1_nodes = set(qt.open_datafile('n1_nodes.txt'))\n",
    "base_nodes = set(qt.open_datafile('basenodes.txt'))"
   ]
  },
  {
   "cell_type": "code",
   "execution_count": 8,
   "metadata": {},
   "outputs": [
    {
     "name": "stdout",
     "output_type": "stream",
     "text": [
      "120343\n",
      "25622\n",
      "38019\n",
      "70893\n",
      "252344\n"
     ]
    }
   ],
   "source": [
    "print(len(n4_nodes))\n",
    "print(len(n3_nodes))\n",
    "print(len(n2_nodes))\n",
    "print(len(n1_nodes))\n",
    "print(len(base_nodes))"
   ]
  },
  {
   "cell_type": "code",
   "execution_count": 9,
   "metadata": {
    "collapsed": true
   },
   "outputs": [],
   "source": [
    "n4_filt = (((n4_nodes - n3_nodes) - n2_nodes ) - n1_nodes ) - base_nodes"
   ]
  },
  {
   "cell_type": "code",
   "execution_count": 10,
   "metadata": {},
   "outputs": [
    {
     "data": {
      "text/plain": [
       "102597"
      ]
     },
     "execution_count": 10,
     "metadata": {},
     "output_type": "execute_result"
    }
   ],
   "source": [
    "len(n4_filt)"
   ]
  },
  {
   "cell_type": "code",
   "execution_count": 11,
   "metadata": {
    "collapsed": true
   },
   "outputs": [],
   "source": [
    "with open('data/n4_nodes.txt', 'w') as fout:\n",
    "    for node in n4_filt:\n",
    "        fout.write(node+'\\n')"
   ]
  },
  {
   "cell_type": "markdown",
   "metadata": {},
   "source": [
    "## Analysis on edges from N3 nodes"
   ]
  },
  {
   "cell_type": "code",
   "execution_count": 12,
   "metadata": {},
   "outputs": [
    {
     "data": {
      "text/plain": [
       "contains administrative territorial entity    48979\n",
       "instance of                                   25459\n",
       "shares border with                            22815\n",
       "said to be the same as                        20633\n",
       "sister city                                   12334\n",
       "in the administrative territorial entity      11169\n",
       "country                                       10974\n",
       "topic's main category                          9153\n",
       "subclass of                                    6327\n",
       "award received                                 5311\n",
       "occupation                                     4940\n",
       "member of                                      4913\n",
       "has part                                       4025\n",
       "located in time zone                           3768\n",
       "described by source                            3435\n",
       "category combines topics                       3425\n",
       "part of                                        3287\n",
       "category for people born here                  2696\n",
       "capital                                        2482\n",
       "participant                                    2401\n",
       "Name: pLabel, dtype: int64"
      ]
     },
     "execution_count": 12,
     "metadata": {},
     "output_type": "execute_result"
    }
   ],
   "source": [
    "n3_df['pLabel'].value_counts()[:20]"
   ]
  },
  {
   "cell_type": "code",
   "execution_count": 13,
   "metadata": {},
   "outputs": [
    {
     "data": {
      "text/plain": [
       "Wikimedia category                      3818\n",
       "human                                   2162\n",
       "male given name                          912\n",
       "city                                     895\n",
       "commune of France                        769\n",
       "comune of Italy                          514\n",
       "protein domain                           366\n",
       "river                                    333\n",
       "county of Poland                         316\n",
       "canton of France (until 2015)            241\n",
       "neighborhood                             234\n",
       "Wikimedia portal                         231\n",
       "ortsteil                                 214\n",
       "municipality of the Czech Republic       207\n",
       "human settlement                         206\n",
       "cadastral area in the Czech Republic     195\n",
       "taxon                                    194\n",
       "Wikimedia permanent duplicated page      192\n",
       "Wikimedia disambiguation page            191\n",
       "municipality of Germany                  189\n",
       "Name: oLabel, dtype: int64"
      ]
     },
     "execution_count": 13,
     "metadata": {},
     "output_type": "execute_result"
    }
   ],
   "source": [
    "n3_df.query(\"pLabel == 'instance of' | pLabel == 'subclass of'\")['oLabel'].value_counts()[:20]"
   ]
  },
  {
   "cell_type": "code",
   "execution_count": 14,
   "metadata": {},
   "outputs": [
    {
     "data": {
      "text/plain": [
       "brown rat                          64\n",
       "Mus musculus                       39\n",
       "Homo sapiens                       24\n",
       "human                               4\n",
       "Chlamydia trachomatis D/UW-3/CX     2\n",
       "Saccharomyces cerevisiae S288c      1\n",
       "Zika virus                          1\n",
       "vascular plant                      1\n",
       "plant                               1\n",
       "Name: oLabel, dtype: int64"
      ]
     },
     "execution_count": 14,
     "metadata": {},
     "output_type": "execute_result"
    }
   ],
   "source": [
    "n3_df.query(\"pLabel == 'found in taxon'\")['oLabel'].value_counts()[:20]"
   ]
  }
 ],
 "metadata": {
  "kernelspec": {
   "display_name": "Python 3",
   "language": "python",
   "name": "python3"
  },
  "language_info": {
   "codemirror_mode": {
    "name": "ipython",
    "version": 3
   },
   "file_extension": ".py",
   "mimetype": "text/x-python",
   "name": "python",
   "nbconvert_exporter": "python",
   "pygments_lexer": "ipython3",
   "version": "3.5.2"
  }
 },
 "nbformat": 4,
 "nbformat_minor": 2
}

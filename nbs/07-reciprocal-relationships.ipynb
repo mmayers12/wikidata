{
 "cells": [
  {
   "cell_type": "code",
   "execution_count": 1,
   "metadata": {
    "collapsed": true
   },
   "outputs": [],
   "source": [
    "import pandas as pd\n",
    "import os\n",
    "import sys\n",
    "sys.path.append('../py')\n",
    "import permute as pm"
   ]
  },
  {
   "cell_type": "code",
   "execution_count": 2,
   "metadata": {
    "collapsed": true
   },
   "outputs": [],
   "source": [
    "edges = pd.read_csv('data/hetnet_baseedges.csv')"
   ]
  },
  {
   "cell_type": "code",
   "execution_count": 3,
   "metadata": {},
   "outputs": [
    {
     "data": {
      "text/html": [
       "<div>\n",
       "<table border=\"1\" class=\"dataframe\">\n",
       "  <thead>\n",
       "    <tr style=\"text-align: right;\">\n",
       "      <th></th>\n",
       "      <th>:START_ID</th>\n",
       "      <th>:END_ID</th>\n",
       "      <th>:TYPE</th>\n",
       "    </tr>\n",
       "  </thead>\n",
       "  <tbody>\n",
       "    <tr>\n",
       "      <th>0</th>\n",
       "      <td>Q71969</td>\n",
       "      <td>Q221668</td>\n",
       "      <td>medical-condition-treated_CmD</td>\n",
       "    </tr>\n",
       "    <tr>\n",
       "      <th>1</th>\n",
       "      <td>Q71969</td>\n",
       "      <td>Q246084</td>\n",
       "      <td>medical-condition-treated_CmD</td>\n",
       "    </tr>\n",
       "  </tbody>\n",
       "</table>\n",
       "</div>"
      ],
      "text/plain": [
       "  :START_ID  :END_ID                          :TYPE\n",
       "0    Q71969  Q221668  medical-condition-treated_CmD\n",
       "1    Q71969  Q246084  medical-condition-treated_CmD"
      ]
     },
     "execution_count": 3,
     "metadata": {},
     "output_type": "execute_result"
    }
   ],
   "source": [
    "edges.head(2)"
   ]
  },
  {
   "cell_type": "code",
   "execution_count": 4,
   "metadata": {},
   "outputs": [],
   "source": [
    "pair_list = pm.get_pair_lists(edges)"
   ]
  },
  {
   "cell_type": "code",
   "execution_count": 5,
   "metadata": {
    "collapsed": true
   },
   "outputs": [],
   "source": [
    "def invert_pairs(pair_list):\n",
    "     return [(b, a) for (a,b) in pair_list]\n",
    "    "
   ]
  },
  {
   "cell_type": "code",
   "execution_count": 6,
   "metadata": {},
   "outputs": [],
   "source": [
    "def calc_overlap(pair_list, invert_list, cutoff=.9):\n",
    "    count_a, count_b = 0, 0\n",
    "    \n",
    "    # if there is a large difference in size, don't bother checking\n",
    "    if (len(pair_list)/len(invert_list) < cutoff or \n",
    "        len(invert_list)/len(pair_list) < cutoff):\n",
    "        return 0\n",
    "    \n",
    "    # Check both dierections\n",
    "    for pair in pair_list:\n",
    "        if pair in invert_list:\n",
    "            count_a += 1\n",
    "            \n",
    "    for pair in invert_list:\n",
    "        if pair in pair_list:\n",
    "            count_b += 1        \n",
    "    \n",
    "    # Return the minimum overlap\n",
    "    return min(count_a/len(pair_list), count_b/len(invert_list))"
   ]
  },
  {
   "cell_type": "code",
   "execution_count": 7,
   "metadata": {
    "scrolled": false
   },
   "outputs": [],
   "source": [
    "def find_reciprocal_relations(pair_list, cutoff=0.9):\n",
    "\n",
    "\n",
    "    invert_list = {key: invert_pairs(value) for key, value in pair_list.items()}\n",
    "    kinds = list(pair_list.keys())\n",
    "\n",
    "    reciprocal_types = []\n",
    "\n",
    "    # Only compare 2 different relationship types once\n",
    "    for i, kind in enumerate(kinds):\n",
    "        for idx in range(i+1, len(kinds)):\n",
    "            overlap = calc_overlap(pair_list[kind], invert_list[kinds[idx]])\n",
    "            if overlap > cutoff:\n",
    "                reciprocal_types.append([kind, kinds[idx]])\n",
    "                \n",
    "    return reciprocal_types"
   ]
  },
  {
   "cell_type": "code",
   "execution_count": 8,
   "metadata": {},
   "outputs": [
    {
     "name": "stdout",
     "output_type": "stream",
     "text": [
      "CPU times: user 26.4 s, sys: 4 ms, total: 26.4 s\n",
      "Wall time: 26.4 s\n"
     ]
    }
   ],
   "source": [
    "%%time\n",
    "reciprocal_types = find_reciprocal_relations(pair_list)"
   ]
  },
  {
   "cell_type": "code",
   "execution_count": 9,
   "metadata": {},
   "outputs": [],
   "source": [
    "def remove_reciprocals(edges, reciprocal_types):\n",
    "\n",
    "    edge_copy = edges.copy()\n",
    "\n",
    "    for types in reciprocal_types:\n",
    "        orig = edge_copy.loc[edges[':TYPE'] == types[1]].copy()\n",
    "        # Swap\n",
    "        tmp = orig[':START_ID'].copy()\n",
    "        orig[':START_ID'] = orig[':END_ID']\n",
    "        orig[':END_ID'] = tmp\n",
    "        # Change Type\n",
    "        orig[':TYPE'] = types[0]\n",
    "\n",
    "        edge_copy.loc[edges[':TYPE'] == types[1]] = orig \n",
    "\n",
    "    return edge_copy.drop_duplicates()\n",
    "        "
   ]
  },
  {
   "cell_type": "code",
   "execution_count": 10,
   "metadata": {},
   "outputs": [],
   "source": [
    "new_edges = remove_reciprocals(edges, reciprocal_types)"
   ]
  },
  {
   "cell_type": "code",
   "execution_count": 11,
   "metadata": {
    "collapsed": true
   },
   "outputs": [],
   "source": [
    "new_edges.to_csv('data/hetnet_baseedges_bidircetional.csv')"
   ]
  },
  {
   "cell_type": "code",
   "execution_count": 12,
   "metadata": {},
   "outputs": [
    {
     "data": {
      "text/plain": [
       "86486"
      ]
     },
     "execution_count": 12,
     "metadata": {},
     "output_type": "execute_result"
    }
   ],
   "source": [
    "len(edges)"
   ]
  },
  {
   "cell_type": "code",
   "execution_count": 13,
   "metadata": {},
   "outputs": [
    {
     "data": {
      "text/plain": [
       "50981"
      ]
     },
     "execution_count": 13,
     "metadata": {},
     "output_type": "execute_result"
    }
   ],
   "source": [
    "len(new_edges)"
   ]
  },
  {
   "cell_type": "code",
   "execution_count": null,
   "metadata": {
    "collapsed": true
   },
   "outputs": [],
   "source": []
  }
 ],
 "metadata": {
  "kernelspec": {
   "display_name": "Python 3",
   "language": "python",
   "name": "python3"
  },
  "language_info": {
   "codemirror_mode": {
    "name": "ipython",
    "version": 3
   },
   "file_extension": ".py",
   "mimetype": "text/x-python",
   "name": "python",
   "nbconvert_exporter": "python",
   "pygments_lexer": "ipython3",
   "version": "3.5.2"
  }
 },
 "nbformat": 4,
 "nbformat_minor": 2
}

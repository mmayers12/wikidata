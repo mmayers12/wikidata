{
 "cells": [
  {
   "cell_type": "markdown",
   "metadata": {},
   "source": [
    "# Testing pymantic counting the Biomedical Nodes in WikiData"
   ]
  },
  {
   "cell_type": "code",
   "execution_count": 1,
   "metadata": {
    "collapsed": true
   },
   "outputs": [],
   "source": [
    "from pymantic import sparql\n",
    "import pandas as pd"
   ]
  },
  {
   "cell_type": "code",
   "execution_count": 2,
   "metadata": {
    "collapsed": true
   },
   "outputs": [],
   "source": [
    "server = sparql.SPARQLServer('http://127.0.0.1:9999/bigdata/sparql')"
   ]
  },
  {
   "cell_type": "code",
   "execution_count": 3,
   "metadata": {
    "collapsed": true
   },
   "outputs": [],
   "source": [
    "def id_from_uri(uri):\n",
    "    \"\"\"\n",
    "    Splits the URI for a property to give the ID \n",
    "    \n",
    "    uri: String, the URI for the property\n",
    "    return: String, the entity or property's ID (e.g. Q20747295 or P31)\n",
    "    \"\"\"\n",
    "    return uri.split('/')[-1]"
   ]
  },
  {
   "cell_type": "code",
   "execution_count": 4,
   "metadata": {
    "collapsed": true
   },
   "outputs": [],
   "source": [
    "def query_to_df(result):\n",
    "    \"\"\"\n",
    "    Takes the json result from a sparql query and converts to a Pandas DataFrame\n",
    "    \n",
    "    result: json, result from sparql query\n",
    "    return: DataFrame, results in tabulated dataframe format\n",
    "    \"\"\"\n",
    "    dat = result['results']['bindings']\n",
    "    dat1 = []\n",
    "    for d in dat:\n",
    "        d = {k:v['value'] for k, v in d.items()}\n",
    "        dat1.append(d)\n",
    "    return pd.DataFrame(dat1)"
   ]
  },
  {
   "cell_type": "markdown",
   "metadata": {},
   "source": [
    "## Counting Nodes"
   ]
  },
  {
   "cell_type": "markdown",
   "metadata": {},
   "source": [
    "### Diseases"
   ]
  },
  {
   "cell_type": "code",
   "execution_count": 5,
   "metadata": {
    "collapsed": true
   },
   "outputs": [],
   "source": [
    "query = \"\"\"\n",
    "SELECT ?s ?sLabel ?p ?o\n",
    "WHERE\n",
    "{\n",
    "  # Instance of Diseae\n",
    "  ?s wdt:P31 wd:Q12136 .\n",
    "  \n",
    "  SERVICE wikibase:label { bd:serviceParam wikibase:language \"en\" }\n",
    "}\n",
    "\"\"\""
   ]
  },
  {
   "cell_type": "code",
   "execution_count": 6,
   "metadata": {},
   "outputs": [
    {
     "data": {
      "text/plain": [
       "8779"
      ]
     },
     "execution_count": 6,
     "metadata": {},
     "output_type": "execute_result"
    }
   ],
   "source": [
    "result = server.query(query)\n",
    "\n",
    "# Print the Number of diseases\n",
    "diseases = set(query_to_df(result)['s'].apply(id_from_uri))\n",
    "len(diseases)"
   ]
  },
  {
   "cell_type": "markdown",
   "metadata": {},
   "source": [
    "#### Save disesase to a file"
   ]
  },
  {
   "cell_type": "code",
   "execution_count": 7,
   "metadata": {
    "collapsed": true
   },
   "outputs": [],
   "source": [
    "with open('data/diseases.txt', 'w') as fout:\n",
    "    for disease in diseases:\n",
    "        fout.write(disease+'\\n')"
   ]
  },
  {
   "cell_type": "markdown",
   "metadata": {},
   "source": [
    "### How many Genes are there?\n",
    "\n",
    "There are multiple ways to count genes:\n",
    "\n",
    "- Protein coding or all\n",
    "- Just human vs all\n",
    "\n",
    "We will look at:\n",
    "- Human Protein Coding\n",
    "- Human All\n",
    "- All Taxons all Genes"
   ]
  },
  {
   "cell_type": "code",
   "execution_count": 8,
   "metadata": {
    "collapsed": true
   },
   "outputs": [],
   "source": [
    "# Human Protein Coding Genes\n",
    "query = \"\"\"\n",
    "SELECT ?s ?sLabel ?p ?o\n",
    "WHERE\n",
    "{\n",
    "  # Subclass of Protein-Coding Gene\n",
    "  ?s wdt:P279 wd:Q20747295 .\n",
    "  # Found in Taxon Homo Sapiens\n",
    "  ?s wdt:P703 wd:Q15978631 .\n",
    "  \n",
    "  SERVICE wikibase:label { bd:serviceParam wikibase:language \"en\" }\n",
    "}\n",
    "\"\"\"\n",
    "\n",
    "# Any Human Genes, Protein-coding or not\n",
    "query1 = \"\"\"\n",
    "SELECT ?s ?sLabel ?p ?o\n",
    "WHERE\n",
    "{\n",
    "  # Subclass of Gene\n",
    "  ?s wdt:P279 wd:Q7187 .\n",
    "  # Found in taxon homo sapiens\n",
    "  ?s wdt:P703 wd:Q15978631 .\n",
    "  \n",
    "  SERVICE wikibase:label { bd:serviceParam wikibase:language \"en\" }\n",
    "}\n",
    "\"\"\"\n",
    "\n",
    "# All Genes, all Taxons\n",
    "query2 = \"\"\"\n",
    "SELECT ?s ?sLabel ?p ?o\n",
    "WHERE\n",
    "{\n",
    "  # Subclass of Gene\n",
    "  ?s wdt:P279 wd:Q7187 .\n",
    "  \n",
    "  SERVICE wikibase:label { bd:serviceParam wikibase:language \"en\" }\n",
    "}\n",
    "\"\"\""
   ]
  },
  {
   "cell_type": "markdown",
   "metadata": {},
   "source": [
    "Human Protein Coding Genes"
   ]
  },
  {
   "cell_type": "code",
   "execution_count": 9,
   "metadata": {},
   "outputs": [
    {
     "data": {
      "text/plain": [
       "20706"
      ]
     },
     "execution_count": 9,
     "metadata": {},
     "output_type": "execute_result"
    }
   ],
   "source": [
    "result = server.query(query)\n",
    "\n",
    "# Count Results\n",
    "h_pc_genes = set(query_to_df(result)['s'].apply(id_from_uri))\n",
    "len(h_pc_genes)"
   ]
  },
  {
   "cell_type": "code",
   "execution_count": 10,
   "metadata": {
    "collapsed": true
   },
   "outputs": [],
   "source": [
    "# Save to a file\n",
    "with open('data/h_pc_genes.txt', 'w') as fout:\n",
    "    for gene in h_pc_genes:\n",
    "        fout.write(gene+'\\n')"
   ]
  },
  {
   "cell_type": "markdown",
   "metadata": {},
   "source": [
    "All Human Genes"
   ]
  },
  {
   "cell_type": "code",
   "execution_count": 11,
   "metadata": {},
   "outputs": [
    {
     "data": {
      "text/plain": [
       "60162"
      ]
     },
     "execution_count": 11,
     "metadata": {},
     "output_type": "execute_result"
    }
   ],
   "source": [
    "result = server.query(query1)\n",
    "\n",
    "# Count Results\n",
    "h_genes = set(query_to_df(result)['s'].apply(id_from_uri))\n",
    "len(h_genes)"
   ]
  },
  {
   "cell_type": "code",
   "execution_count": 12,
   "metadata": {
    "collapsed": true
   },
   "outputs": [],
   "source": [
    "# Save to a file\n",
    "with open('data/h_genes.txt', 'w') as fout:\n",
    "    for gene in h_genes:\n",
    "        fout.write(gene+'\\n')"
   ]
  },
  {
   "cell_type": "markdown",
   "metadata": {},
   "source": [
    "All Genes, All Taxons!"
   ]
  },
  {
   "cell_type": "code",
   "execution_count": 13,
   "metadata": {},
   "outputs": [
    {
     "data": {
      "text/plain": [
       "617694"
      ]
     },
     "execution_count": 13,
     "metadata": {},
     "output_type": "execute_result"
    }
   ],
   "source": [
    "result = server.query(query2)\n",
    "\n",
    "# Count Results\n",
    "all_genes = set(query_to_df(result)['s'].apply(id_from_uri))\n",
    "len(all_genes)"
   ]
  },
  {
   "cell_type": "code",
   "execution_count": 14,
   "metadata": {
    "collapsed": true
   },
   "outputs": [],
   "source": [
    "# Save to a file\n",
    "with open('data/all_genes.txt', 'w') as fout:\n",
    "    for gene in all_genes:\n",
    "        fout.write(gene+'\\n')"
   ]
  },
  {
   "cell_type": "markdown",
   "metadata": {},
   "source": [
    "### Proteins\n",
    "\n",
    "Wikidata treats genes and proteins differently. It may be good idea to get a feel for the "
   ]
  },
  {
   "cell_type": "code",
   "execution_count": 21,
   "metadata": {},
   "outputs": [],
   "source": [
    "query = \"\"\"\n",
    "SELECT distinct ?s ?sLabel ?p ?o ?oLabel\n",
    "WHERE\n",
    "{\n",
    "    ?s wdt:P702 ?o . \n",
    "  \t?o wdt:P279 wd:Q7187 .\n",
    "  \t?o wdt:P703 wd:Q15978631 .\n",
    "\n",
    "    SERVICE wikibase:label { bd:serviceParam wikibase:language \"en\" }\n",
    "}\n",
    "\"\"\""
   ]
  },
  {
   "cell_type": "code",
   "execution_count": 22,
   "metadata": {},
   "outputs": [
    {
     "data": {
      "text/plain": [
       "26708"
      ]
     },
     "execution_count": 22,
     "metadata": {},
     "output_type": "execute_result"
    }
   ],
   "source": [
    "result = server.query(query)\n",
    "\n",
    "# Count Results\n",
    "h_proteins = set(query_to_df(result)['s'].apply(id_from_uri))\n",
    "len(h_proteins)"
   ]
  },
  {
   "cell_type": "code",
   "execution_count": 23,
   "metadata": {
    "collapsed": true
   },
   "outputs": [],
   "source": [
    "# Save to a file\n",
    "with open('data/h_proteins.txt', 'w') as fout:\n",
    "    for prot in h_proteins:\n",
    "        fout.write(prot+'\\n')"
   ]
  },
  {
   "cell_type": "markdown",
   "metadata": {},
   "source": [
    "### What about chemical compounds?"
   ]
  },
  {
   "cell_type": "code",
   "execution_count": 15,
   "metadata": {
    "collapsed": true
   },
   "outputs": [],
   "source": [
    "query = \"\"\"\n",
    "SELECT ?s ?sLabel ?p ?o\n",
    "WHERE\n",
    "{\n",
    "  # insance of Chemical Compound\n",
    "  ?s wdt:P31 wd:Q11173 .\n",
    "  SERVICE wikibase:label { bd:serviceParam wikibase:language \"en\" }\n",
    "}\n",
    "\"\"\""
   ]
  },
  {
   "cell_type": "code",
   "execution_count": 16,
   "metadata": {
    "collapsed": true
   },
   "outputs": [],
   "source": [
    "result = server.query(query)"
   ]
  },
  {
   "cell_type": "code",
   "execution_count": 17,
   "metadata": {},
   "outputs": [
    {
     "data": {
      "text/plain": [
       "156683"
      ]
     },
     "execution_count": 17,
     "metadata": {},
     "output_type": "execute_result"
    }
   ],
   "source": [
    "# Count the results\n",
    "compounds = set(query_to_df(result)['s'].apply(id_from_uri))\n",
    "len(compounds)"
   ]
  },
  {
   "cell_type": "code",
   "execution_count": 18,
   "metadata": {
    "collapsed": true
   },
   "outputs": [],
   "source": [
    "# Save to a file\n",
    "with open('data/compounds.txt', 'w') as fout:\n",
    "    for comp in compounds:\n",
    "        fout.write(comp+'\\n')"
   ]
  }
 ],
 "metadata": {
  "kernelspec": {
   "display_name": "Python 3",
   "language": "python",
   "name": "python3"
  },
  "language_info": {
   "codemirror_mode": {
    "name": "ipython",
    "version": 3
   },
   "file_extension": ".py",
   "mimetype": "text/x-python",
   "name": "python",
   "nbconvert_exporter": "python",
   "pygments_lexer": "ipython3",
   "version": "3.5.2"
  }
 },
 "nbformat": 4,
 "nbformat_minor": 2
}

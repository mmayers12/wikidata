{
 "cells": [
  {
   "cell_type": "markdown",
   "metadata": {},
   "source": [
    "# Testing pymantic counting the Biomedical Nodes in WikiData"
   ]
  },
  {
   "cell_type": "code",
   "execution_count": 1,
   "metadata": {
    "collapsed": true
   },
   "outputs": [],
   "source": [
    "from pymantic import sparql\n",
    "import pandas as pd\n",
    "import sys\n",
    "sys.path.append('../py')\n",
    "import sparql_tools as qt"
   ]
  },
  {
   "cell_type": "code",
   "execution_count": 2,
   "metadata": {
    "collapsed": true
   },
   "outputs": [],
   "source": [
    "server = sparql.SPARQLServer('http://127.0.0.1:9999/bigdata/sparql')"
   ]
  },
  {
   "cell_type": "markdown",
   "metadata": {},
   "source": [
    "## Counting Nodes"
   ]
  },
  {
   "cell_type": "markdown",
   "metadata": {},
   "source": [
    "### Diseases"
   ]
  },
  {
   "cell_type": "code",
   "execution_count": 3,
   "metadata": {
    "collapsed": true
   },
   "outputs": [],
   "source": [
    "query = \"\"\"\n",
    "SELECT ?s ?sLabel ?p ?o\n",
    "WHERE\n",
    "{\n",
    "  # Instance of Diseae\n",
    "  ?s wdt:P31 wd:Q12136 .\n",
    "  \n",
    "  SERVICE wikibase:label { bd:serviceParam wikibase:language \"en\" }\n",
    "}\n",
    "\"\"\""
   ]
  },
  {
   "cell_type": "code",
   "execution_count": 4,
   "metadata": {},
   "outputs": [
    {
     "data": {
      "text/plain": [
       "8785"
      ]
     },
     "execution_count": 4,
     "metadata": {},
     "output_type": "execute_result"
    }
   ],
   "source": [
    "result = server.query(query)\n",
    "\n",
    "# Print the Number of diseases\n",
    "diseases = set(qt.query_to_df(result)['s'].apply(qt.id_from_uri))\n",
    "len(diseases)"
   ]
  },
  {
   "cell_type": "markdown",
   "metadata": {},
   "source": [
    "#### Save disesase to a file"
   ]
  },
  {
   "cell_type": "code",
   "execution_count": 5,
   "metadata": {
    "collapsed": true
   },
   "outputs": [],
   "source": [
    "with open('data/diseases.txt', 'w') as fout:\n",
    "    for disease in diseases:\n",
    "        fout.write(disease+'\\n')"
   ]
  },
  {
   "cell_type": "markdown",
   "metadata": {},
   "source": [
    "### How many Genes are there?\n",
    "\n",
    "There are multiple ways to count genes:\n",
    "\n",
    "- Protein coding or all\n",
    "- Just human vs all\n",
    "\n",
    "We will look at:\n",
    "- Human Protein Coding\n",
    "- Human All\n",
    "- All Taxons all Genes"
   ]
  },
  {
   "cell_type": "code",
   "execution_count": 6,
   "metadata": {
    "collapsed": true
   },
   "outputs": [],
   "source": [
    "# Human Protein Coding Genes\n",
    "query = \"\"\"\n",
    "SELECT ?s ?sLabel ?p ?o\n",
    "WHERE\n",
    "{\n",
    "  # Subclass of Protein-Coding Gene\n",
    "  ?s wdt:P279 wd:Q20747295 .\n",
    "  # Found in Taxon Homo Sapiens\n",
    "  ?s wdt:P703 wd:Q15978631 .\n",
    "  \n",
    "  SERVICE wikibase:label { bd:serviceParam wikibase:language \"en\" }\n",
    "}\n",
    "\"\"\"\n",
    "\n",
    "# Any Human Genes, Protein-coding or not\n",
    "query1 = \"\"\"\n",
    "SELECT ?s ?sLabel ?p ?o\n",
    "WHERE\n",
    "{\n",
    "  # Subclass of Gene\n",
    "  ?s wdt:P279 wd:Q7187 .\n",
    "  # Found in taxon homo sapiens\n",
    "  ?s wdt:P703 wd:Q15978631 .\n",
    "  \n",
    "  SERVICE wikibase:label { bd:serviceParam wikibase:language \"en\" }\n",
    "}\n",
    "\"\"\"\n",
    "\n",
    "# All Genes, all Taxons\n",
    "query2 = \"\"\"\n",
    "SELECT ?s ?sLabel ?p ?o\n",
    "WHERE\n",
    "{\n",
    "  # Subclass of Gene\n",
    "  ?s wdt:P279 wd:Q7187 .\n",
    "  \n",
    "  SERVICE wikibase:label { bd:serviceParam wikibase:language \"en\" }\n",
    "}\n",
    "\"\"\""
   ]
  },
  {
   "cell_type": "markdown",
   "metadata": {},
   "source": [
    "Human Protein Coding Genes"
   ]
  },
  {
   "cell_type": "code",
   "execution_count": 7,
   "metadata": {},
   "outputs": [
    {
     "data": {
      "text/plain": [
       "20705"
      ]
     },
     "execution_count": 7,
     "metadata": {},
     "output_type": "execute_result"
    }
   ],
   "source": [
    "result = server.query(query)\n",
    "\n",
    "# Count Results\n",
    "h_pc_genes = set(qt.query_to_df(result)['s'].apply(qt.id_from_uri))\n",
    "len(h_pc_genes)"
   ]
  },
  {
   "cell_type": "code",
   "execution_count": 8,
   "metadata": {
    "collapsed": true
   },
   "outputs": [],
   "source": [
    "# Save to a file\n",
    "with open('data/h_pc_genes.txt', 'w') as fout:\n",
    "    for gene in h_pc_genes:\n",
    "        fout.write(gene+'\\n')"
   ]
  },
  {
   "cell_type": "markdown",
   "metadata": {},
   "source": [
    "All Human Genes"
   ]
  },
  {
   "cell_type": "code",
   "execution_count": 9,
   "metadata": {},
   "outputs": [
    {
     "data": {
      "text/plain": [
       "60161"
      ]
     },
     "execution_count": 9,
     "metadata": {},
     "output_type": "execute_result"
    }
   ],
   "source": [
    "result = server.query(query1)\n",
    "\n",
    "# Count Results\n",
    "h_genes = set(qt.query_to_df(result)['s'].apply(qt.id_from_uri))\n",
    "len(h_genes)"
   ]
  },
  {
   "cell_type": "code",
   "execution_count": 10,
   "metadata": {
    "collapsed": true
   },
   "outputs": [],
   "source": [
    "# Save to a file\n",
    "with open('data/h_genes.txt', 'w') as fout:\n",
    "    for gene in h_genes:\n",
    "        fout.write(gene+'\\n')"
   ]
  },
  {
   "cell_type": "markdown",
   "metadata": {},
   "source": [
    "All Genes, All Taxons!"
   ]
  },
  {
   "cell_type": "code",
   "execution_count": 11,
   "metadata": {},
   "outputs": [
    {
     "data": {
      "text/plain": [
       "617693"
      ]
     },
     "execution_count": 11,
     "metadata": {},
     "output_type": "execute_result"
    }
   ],
   "source": [
    "result = server.query(query2)\n",
    "\n",
    "# Count Results\n",
    "all_genes = set(qt.query_to_df(result)['s'].apply(qt.id_from_uri))\n",
    "len(all_genes)"
   ]
  },
  {
   "cell_type": "code",
   "execution_count": 12,
   "metadata": {
    "collapsed": true
   },
   "outputs": [],
   "source": [
    "# Save to a file\n",
    "with open('data/all_genes.txt', 'w') as fout:\n",
    "    for gene in all_genes:\n",
    "        fout.write(gene+'\\n')"
   ]
  },
  {
   "cell_type": "markdown",
   "metadata": {},
   "source": [
    "### Proteins\n",
    "\n",
    "Wikidata treats genes and proteins differently. It might be beneficial to bring in protein data as a base-nodes."
   ]
  },
  {
   "cell_type": "code",
   "execution_count": 3,
   "metadata": {
    "collapsed": true
   },
   "outputs": [],
   "source": [
    "query = \"\"\"\n",
    "SELECT distinct ?s ?sLabel ?p ?o ?oLabel\n",
    "WHERE\n",
    "{\n",
    "    #subclass of protein\n",
    "    ?s wdt:P279 wd:Q8054 .\n",
    "    #found in taxon homo sapiens\n",
    "    ?s wdt:P703 wd:Q15978631 .\n",
    "\n",
    "    SERVICE wikibase:label { bd:serviceParam wikibase:language \"en\" }\n",
    "}\n",
    "\"\"\""
   ]
  },
  {
   "cell_type": "code",
   "execution_count": 4,
   "metadata": {},
   "outputs": [
    {
     "data": {
      "text/plain": [
       "27567"
      ]
     },
     "execution_count": 4,
     "metadata": {},
     "output_type": "execute_result"
    }
   ],
   "source": [
    "result = server.query(query)\n",
    "\n",
    "# Count Results\n",
    "h_proteins = set(qt.query_to_df(result)['s'].apply(qt.id_from_uri))\n",
    "len(h_proteins)"
   ]
  },
  {
   "cell_type": "code",
   "execution_count": 15,
   "metadata": {
    "collapsed": true
   },
   "outputs": [],
   "source": [
    "# Save to a file\n",
    "with open('data/h_proteins.txt', 'w') as fout:\n",
    "    for prot in h_proteins:\n",
    "        fout.write(prot+'\\n')"
   ]
  },
  {
   "cell_type": "markdown",
   "metadata": {},
   "source": [
    "### What about chemical compounds?"
   ]
  },
  {
   "cell_type": "code",
   "execution_count": 16,
   "metadata": {
    "collapsed": true
   },
   "outputs": [],
   "source": [
    "query = \"\"\"\n",
    "SELECT ?s ?sLabel ?p ?o\n",
    "WHERE\n",
    "{\n",
    "  # insance of Chemical Compound\n",
    "  ?s wdt:P31 wd:Q11173 .\n",
    "  SERVICE wikibase:label { bd:serviceParam wikibase:language \"en\" }\n",
    "}\n",
    "\"\"\""
   ]
  },
  {
   "cell_type": "code",
   "execution_count": 17,
   "metadata": {
    "collapsed": true
   },
   "outputs": [],
   "source": [
    "result = server.query(query)"
   ]
  },
  {
   "cell_type": "code",
   "execution_count": 18,
   "metadata": {},
   "outputs": [
    {
     "data": {
      "text/plain": [
       "156692"
      ]
     },
     "execution_count": 18,
     "metadata": {},
     "output_type": "execute_result"
    }
   ],
   "source": [
    "# Count the results\n",
    "compounds = set(qt.query_to_df(result)['s'].apply(qt.id_from_uri))\n",
    "len(compounds)"
   ]
  },
  {
   "cell_type": "code",
   "execution_count": 19,
   "metadata": {
    "collapsed": true
   },
   "outputs": [],
   "source": [
    "# Save to a file\n",
    "with open('data/compounds.txt', 'w') as fout:\n",
    "    for comp in compounds:\n",
    "        fout.write(comp+'\\n')"
   ]
  },
  {
   "cell_type": "markdown",
   "metadata": {},
   "source": [
    "## Save the base nodes for future queries\n",
    "\n",
    "We'll use human genes for the biomedical base nodes for now, along with proteins, compounds, and diseases"
   ]
  },
  {
   "cell_type": "code",
   "execution_count": 20,
   "metadata": {
    "collapsed": true
   },
   "outputs": [],
   "source": [
    "with open('data/basenodes.txt', 'w') as fout:\n",
    "    for gene in h_genes:\n",
    "        fout.write(gene+'\\n')\n",
    "    for prot in h_proteins:\n",
    "        fout.write(prot+'\\n')\n",
    "    for disease in diseases:\n",
    "        fout.write(disease+'\\n')\n",
    "    for comp in compounds:\n",
    "        fout.write(comp+'\\n')"
   ]
  }
 ],
 "metadata": {
  "kernelspec": {
   "display_name": "Python 3",
   "language": "python",
   "name": "python3"
  },
  "language_info": {
   "codemirror_mode": {
    "name": "ipython",
    "version": 3
   },
   "file_extension": ".py",
   "mimetype": "text/x-python",
   "name": "python",
   "nbconvert_exporter": "python",
   "pygments_lexer": "ipython3",
   "version": "3.5.2"
  }
 },
 "nbformat": 4,
 "nbformat_minor": 2
}

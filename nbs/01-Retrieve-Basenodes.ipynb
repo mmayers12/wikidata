{
 "cells": [
  {
   "cell_type": "markdown",
   "metadata": {},
   "source": [
    "# Testing pymantic counting the Biomedical Nodes in WikiData"
   ]
  },
  {
   "cell_type": "code",
   "execution_count": 1,
   "metadata": {
    "collapsed": true
   },
   "outputs": [],
   "source": [
    "from pymantic import sparql\n",
    "import pandas as pd\n",
    "import sys\n",
    "sys.path.append('../py')\n",
    "import sparql_tools as qt"
   ]
  },
  {
   "cell_type": "code",
   "execution_count": 2,
   "metadata": {
    "collapsed": true
   },
   "outputs": [],
   "source": [
    "server = sparql.SPARQLServer('http://127.0.0.1:9999/bigdata/sparql')"
   ]
  },
  {
   "cell_type": "markdown",
   "metadata": {},
   "source": [
    "## Counting Nodes"
   ]
  },
  {
   "cell_type": "markdown",
   "metadata": {},
   "source": [
    "### Diseases"
   ]
  },
  {
   "cell_type": "code",
   "execution_count": 3,
   "metadata": {
    "collapsed": true
   },
   "outputs": [],
   "source": [
    "query = \"\"\"\n",
    "SELECT ?s ?sLabel ?p ?o\n",
    "WHERE\n",
    "{\n",
    "  # Instance of Diseae\n",
    "  ?s wdt:P31 wd:Q12136 .\n",
    "  \n",
    "  SERVICE wikibase:label { bd:serviceParam wikibase:language \"en\" }\n",
    "}\n",
    "\"\"\""
   ]
  },
  {
   "cell_type": "code",
   "execution_count": 4,
   "metadata": {},
   "outputs": [
    {
     "data": {
      "text/plain": [
       "8666"
      ]
     },
     "execution_count": 4,
     "metadata": {},
     "output_type": "execute_result"
    }
   ],
   "source": [
    "result = server.query(query)\n",
    "\n",
    "# Print the Number of diseases\n",
    "diseases = set(qt.query_to_df(result)['s'].apply(qt.id_from_uri))\n",
    "len(diseases)"
   ]
  },
  {
   "cell_type": "markdown",
   "metadata": {},
   "source": [
    "#### Save disesase to a file"
   ]
  },
  {
   "cell_type": "code",
   "execution_count": 5,
   "metadata": {
    "collapsed": true
   },
   "outputs": [],
   "source": [
    "with open('data/diseases.txt', 'w') as fout:\n",
    "    for disease in diseases:\n",
    "        fout.write(disease+'\\n')"
   ]
  },
  {
   "cell_type": "markdown",
   "metadata": {},
   "source": [
    "### How many Genes are there?\n",
    "\n",
    "There are multiple subtypes of human genes:\n",
    "\n",
    "- 'Protein-coding Gene'\n",
    "- 'Non-coding RNA'\n",
    "- 'Pseudogene'\n",
    "- 'Gene' <- Catchall for those not in the other 3\n"
   ]
  },
  {
   "cell_type": "code",
   "execution_count": 6,
   "metadata": {
    "collapsed": true
   },
   "outputs": [],
   "source": [
    "# Human Protein Coding Genes\n",
    "query = \"\"\"\n",
    "SELECT ?s ?sLabel\n",
    "WHERE\n",
    "{\n",
    "  # Subclass of Protein-Coding Gene\n",
    "  ?s wdt:P279 wd:Q20747295 .\n",
    "  # Found in Taxon Homo Sapiens\n",
    "  ?s wdt:P703 wd:Q15978631 .\n",
    "  \n",
    "  SERVICE wikibase:label { bd:serviceParam wikibase:language \"en\" }\n",
    "}\n",
    "\"\"\"\n",
    "\n",
    "# Non-coding RNA\n",
    "query1 = \"\"\"\n",
    "SELECT ?s ?sLabel\n",
    "WHERE\n",
    "{\n",
    "  # Subclass of non-coding RNA\n",
    "  ?s wdt:P279 wd:Q427087 .\n",
    "  # Found in Taxon Homo Sapiens\n",
    "  ?s wdt:P703 wd:Q15978631 .\n",
    "  \n",
    "  SERVICE wikibase:label { bd:serviceParam wikibase:language \"en\" }\n",
    "}\n",
    "\"\"\"\n",
    "\n",
    "# Pseudogene\n",
    "query2 = \"\"\"\n",
    "SELECT ?s ?sLabel\n",
    "WHERE\n",
    "{\n",
    "  # Subclass of Pseudogene\n",
    "  ?s wdt:P279 wd:Q277338 .\n",
    "  # Found in Taxon Homo Sapiens\n",
    "  ?s wdt:P703 wd:Q15978631 .\n",
    "  \n",
    "  SERVICE wikibase:label { bd:serviceParam wikibase:language \"en\" }\n",
    "}\n",
    "\"\"\"\n",
    "\n",
    "# Remaining Genes (not many)\n",
    "query3 = \"\"\"\n",
    "SELECT ?s ?sLabel\n",
    "WHERE\n",
    "{\n",
    "  # Subclass of Gene\n",
    "  ?s wdt:P279 wd:Q7187 .\n",
    "  # Found in Taxon Homo Sapiens\n",
    "  ?s wdt:P703 wd:Q15978631 .\n",
    "  \n",
    "  # Subtract out the other gene types\n",
    "  MINUS {?s wdt:P279 wd:Q20747295}\n",
    "  MINUS {?s wdt:P279 wd:Q277338}\n",
    "  MINUS {?s wdt:P279 wd:Q427087}\n",
    "  \n",
    "  SERVICE wikibase:label { bd:serviceParam wikibase:language \"en\" }\n",
    "}\n",
    "\"\"\"\n"
   ]
  },
  {
   "cell_type": "markdown",
   "metadata": {},
   "source": [
    "#### Human Protein Coding Genes"
   ]
  },
  {
   "cell_type": "code",
   "execution_count": 7,
   "metadata": {},
   "outputs": [
    {
     "data": {
      "text/plain": [
       "20706"
      ]
     },
     "execution_count": 7,
     "metadata": {},
     "output_type": "execute_result"
    }
   ],
   "source": [
    "result = server.query(query)\n",
    "\n",
    "# Count Results\n",
    "h_pc_genes = set(qt.query_to_df(result)['s'].apply(qt.id_from_uri))\n",
    "len(h_pc_genes)"
   ]
  },
  {
   "cell_type": "code",
   "execution_count": 8,
   "metadata": {
    "collapsed": true
   },
   "outputs": [],
   "source": [
    "# Save to a file\n",
    "with open('data/pc_genes.txt', 'w') as fout:\n",
    "    for gene in h_pc_genes:\n",
    "        fout.write(gene+'\\n')"
   ]
  },
  {
   "cell_type": "markdown",
   "metadata": {},
   "source": [
    "#### Non-coding RNA"
   ]
  },
  {
   "cell_type": "code",
   "execution_count": 11,
   "metadata": {},
   "outputs": [
    {
     "data": {
      "text/plain": [
       "18066"
      ]
     },
     "execution_count": 11,
     "metadata": {},
     "output_type": "execute_result"
    }
   ],
   "source": [
    "result = server.query(query1)\n",
    "\n",
    "# Count Results\n",
    "ncr_genes = set(qt.query_to_df(result)['s'].apply(qt.id_from_uri))\n",
    "len(ncr_genes)"
   ]
  },
  {
   "cell_type": "code",
   "execution_count": 12,
   "metadata": {},
   "outputs": [],
   "source": [
    "# Save to a file\n",
    "with open('data/ncr_genes.txt', 'w') as fout:\n",
    "    for gene in ncr_genes:\n",
    "        fout.write(gene+'\\n')"
   ]
  },
  {
   "cell_type": "markdown",
   "metadata": {},
   "source": [
    "#### Pseudogenes"
   ]
  },
  {
   "cell_type": "code",
   "execution_count": 13,
   "metadata": {},
   "outputs": [
    {
     "data": {
      "text/plain": [
       "16862"
      ]
     },
     "execution_count": 13,
     "metadata": {},
     "output_type": "execute_result"
    }
   ],
   "source": [
    "result = server.query(query2)\n",
    "\n",
    "# Count Results\n",
    "pseu_genes = set(qt.query_to_df(result)['s'].apply(qt.id_from_uri))\n",
    "len(pseu_genes)"
   ]
  },
  {
   "cell_type": "code",
   "execution_count": 14,
   "metadata": {
    "collapsed": true
   },
   "outputs": [],
   "source": [
    "# Save to a file\n",
    "with open('data/pseu_genes.txt', 'w') as fout:\n",
    "    for gene in pseu_genes:\n",
    "        fout.write(gene+'\\n')"
   ]
  },
  {
   "cell_type": "markdown",
   "metadata": {},
   "source": [
    "#### Other Genes"
   ]
  },
  {
   "cell_type": "code",
   "execution_count": 15,
   "metadata": {},
   "outputs": [
    {
     "data": {
      "text/plain": [
       "4533"
      ]
     },
     "execution_count": 15,
     "metadata": {},
     "output_type": "execute_result"
    }
   ],
   "source": [
    "result = server.query(query3)\n",
    "\n",
    "# Count Results\n",
    "other_genes = set(qt.query_to_df(result)['s'].apply(qt.id_from_uri))\n",
    "len(other_genes)"
   ]
  },
  {
   "cell_type": "code",
   "execution_count": 16,
   "metadata": {
    "collapsed": true
   },
   "outputs": [],
   "source": [
    "# Save to a file\n",
    "with open('data/other_genes.txt', 'w') as fout:\n",
    "    for gene in other_genes:\n",
    "        fout.write(gene+'\\n')"
   ]
  },
  {
   "cell_type": "markdown",
   "metadata": {},
   "source": [
    "### Proteins\n",
    "\n",
    "Wikidata treats genes and proteins differently. "
   ]
  },
  {
   "cell_type": "code",
   "execution_count": 17,
   "metadata": {
    "collapsed": true
   },
   "outputs": [],
   "source": [
    "query = \"\"\"\n",
    "SELECT distinct ?s ?sLabel ?p ?o ?oLabel\n",
    "WHERE\n",
    "{\n",
    "    #subclass of protein\n",
    "    ?s wdt:P279 wd:Q8054 .\n",
    "    #found in taxon homo sapiens\n",
    "    ?s wdt:P703 wd:Q15978631 .\n",
    "\n",
    "    SERVICE wikibase:label { bd:serviceParam wikibase:language \"en\" }\n",
    "}\n",
    "\"\"\""
   ]
  },
  {
   "cell_type": "code",
   "execution_count": 18,
   "metadata": {},
   "outputs": [
    {
     "data": {
      "text/plain": [
       "27566"
      ]
     },
     "execution_count": 18,
     "metadata": {},
     "output_type": "execute_result"
    }
   ],
   "source": [
    "result = server.query(query)\n",
    "\n",
    "# Count Results\n",
    "h_proteins = set(qt.query_to_df(result)['s'].apply(qt.id_from_uri))\n",
    "len(h_proteins)"
   ]
  },
  {
   "cell_type": "code",
   "execution_count": 19,
   "metadata": {
    "collapsed": true
   },
   "outputs": [],
   "source": [
    "# Save to a file\n",
    "with open('data/proteins.txt', 'w') as fout:\n",
    "    for prot in h_proteins:\n",
    "        fout.write(prot+'\\n')"
   ]
  },
  {
   "cell_type": "markdown",
   "metadata": {},
   "source": [
    "### What about chemical compounds?"
   ]
  },
  {
   "cell_type": "code",
   "execution_count": 20,
   "metadata": {
    "collapsed": true
   },
   "outputs": [],
   "source": [
    "query = \"\"\"\n",
    "SELECT ?s ?sLabel ?p ?o\n",
    "WHERE\n",
    "{\n",
    "  # insance of Chemical Compound\n",
    "  ?s wdt:P31 wd:Q11173 .\n",
    "  SERVICE wikibase:label { bd:serviceParam wikibase:language \"en\" }\n",
    "}\n",
    "\"\"\""
   ]
  },
  {
   "cell_type": "code",
   "execution_count": 21,
   "metadata": {
    "collapsed": true
   },
   "outputs": [],
   "source": [
    "result = server.query(query)"
   ]
  },
  {
   "cell_type": "code",
   "execution_count": 22,
   "metadata": {},
   "outputs": [
    {
     "data": {
      "text/plain": [
       "156634"
      ]
     },
     "execution_count": 22,
     "metadata": {},
     "output_type": "execute_result"
    }
   ],
   "source": [
    "# Count the results\n",
    "compounds = set(qt.query_to_df(result)['s'].apply(qt.id_from_uri))\n",
    "len(compounds)"
   ]
  },
  {
   "cell_type": "code",
   "execution_count": 23,
   "metadata": {
    "collapsed": true
   },
   "outputs": [],
   "source": [
    "# Save to a file\n",
    "with open('data/compounds.txt', 'w') as fout:\n",
    "    for comp in compounds:\n",
    "        fout.write(comp+'\\n')"
   ]
  }
 ],
 "metadata": {
  "kernelspec": {
   "display_name": "Python 3",
   "language": "python",
   "name": "python3"
  },
  "language_info": {
   "codemirror_mode": {
    "name": "ipython",
    "version": 3
   },
   "file_extension": ".py",
   "mimetype": "text/x-python",
   "name": "python",
   "nbconvert_exporter": "python",
   "pygments_lexer": "ipython3",
   "version": "3.5.2"
  }
 },
 "nbformat": 4,
 "nbformat_minor": 2
}

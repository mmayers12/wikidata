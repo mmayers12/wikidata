{
 "cells": [
  {
   "cell_type": "markdown",
   "metadata": {},
   "source": [
    "# Retreving Base Biomedical Nodes in WikiData"
   ]
  },
  {
   "cell_type": "code",
   "execution_count": 1,
   "metadata": {
    "collapsed": true
   },
   "outputs": [],
   "source": [
    "from pymantic import sparql\n",
    "import pandas as pd\n",
    "import sys\n",
    "sys.path.append('../py')\n",
    "import sparql_tools as qt"
   ]
  },
  {
   "cell_type": "code",
   "execution_count": 2,
   "metadata": {
    "collapsed": true
   },
   "outputs": [],
   "source": [
    "server = sparql.SPARQLServer('http://127.0.0.1:9999/bigdata/sparql')"
   ]
  },
  {
   "cell_type": "code",
   "execution_count": 3,
   "metadata": {},
   "outputs": [],
   "source": [
    "with open('data/n1_types.txt', 'r') as fin:\n",
    "    types = fin.read().strip().split('\\n')\n",
    "types = [' '.join([w[0].upper() + w[1:] for w in t.split(' ')]) for t in types]"
   ]
  },
  {
   "cell_type": "code",
   "execution_count": 4,
   "metadata": {
    "collapsed": true
   },
   "outputs": [],
   "source": [
    "node_files = dict()"
   ]
  },
  {
   "cell_type": "code",
   "execution_count": 5,
   "metadata": {},
   "outputs": [],
   "source": [
    "def query_node_type(query, n_type, filename):\n",
    "    # Query for ids of a node type\n",
    "    result = server.query(query)\n",
    "    qids = set(qt.query_to_df(result)['s'].apply(qt.id_from_uri))\n",
    "    \n",
    "    # Write ids to a file\n",
    "    with open(filename, 'w') as fout:\n",
    "        for qid in qids:\n",
    "            fout.write(qid+'\\n')\n",
    "        \n",
    "    # Print some results to screen\n",
    "    print('Wrote {} ids of type {} to file {}'.format(len(qids), n_type, filename))\n",
    "    \n",
    "    # Add info about type\n",
    "    global node_files\n",
    "    node_files.update({n_type: filename})\n"
   ]
  },
  {
   "cell_type": "markdown",
   "metadata": {},
   "source": [
    "## Counting Nodes"
   ]
  },
  {
   "cell_type": "markdown",
   "metadata": {},
   "source": [
    "### Diseases"
   ]
  },
  {
   "cell_type": "code",
   "execution_count": 6,
   "metadata": {
    "collapsed": true
   },
   "outputs": [],
   "source": [
    "query = \"\"\"\n",
    "SELECT ?s ?sLabel ?p ?o\n",
    "WHERE\n",
    "{\n",
    "  # Instance of Diseae\n",
    "  ?s wdt:P31 wd:Q12136 .\n",
    "  \n",
    "  SERVICE wikibase:label { bd:serviceParam wikibase:language \"en\" }\n",
    "}\n",
    "\"\"\""
   ]
  },
  {
   "cell_type": "code",
   "execution_count": 7,
   "metadata": {},
   "outputs": [
    {
     "name": "stdout",
     "output_type": "stream",
     "text": [
      "Wrote 8666 ids of type Disease to file data/disease.txt\n"
     ]
    }
   ],
   "source": [
    "ntype = types.pop(types.index('Disease'))\n",
    "filename = 'data/disease.txt'\n",
    "\n",
    "query_node_type(query, ntype, filename)"
   ]
  },
  {
   "cell_type": "markdown",
   "metadata": {},
   "source": [
    "### What kind of Genes are there?\n",
    "\n",
    "There are multiple subtypes of human genes:\n",
    "\n",
    "- 'Protein-coding Gene'\n",
    "- 'Non-coding RNA'\n",
    "- 'Pseudogene'\n",
    "- 'Gene' <- Catchall for those not in the other 3\n"
   ]
  },
  {
   "cell_type": "code",
   "execution_count": 8,
   "metadata": {
    "collapsed": true
   },
   "outputs": [],
   "source": [
    "# Human Protein Coding Genes\n",
    "query = \"\"\"\n",
    "SELECT ?s ?sLabel\n",
    "WHERE\n",
    "{\n",
    "  # Subclass of Protein-Coding Gene\n",
    "  ?s wdt:P279 wd:Q20747295 .\n",
    "  # Found in Taxon Homo Sapiens\n",
    "  ?s wdt:P703 wd:Q15978631 .\n",
    "  \n",
    "}\n",
    "\"\"\"\n",
    "\n",
    "# Non-coding RNA\n",
    "query1 = \"\"\"\n",
    "SELECT ?s ?sLabel\n",
    "WHERE\n",
    "{\n",
    "  # Subclass of non-coding RNA\n",
    "  ?s wdt:P279 wd:Q427087 .\n",
    "  # Found in Taxon Homo Sapiens\n",
    "  ?s wdt:P703 wd:Q15978631 .\n",
    " \n",
    "}\n",
    "\"\"\"\n",
    "\n",
    "# Pseudogene\n",
    "query2 = \"\"\"\n",
    "SELECT ?s ?sLabel\n",
    "WHERE\n",
    "{\n",
    "  # Subclass of Pseudogene\n",
    "  ?s wdt:P279 wd:Q277338 .\n",
    "  # Found in Taxon Homo Sapiens\n",
    "  ?s wdt:P703 wd:Q15978631 .\n",
    "}\n",
    "\"\"\"\n",
    "\n",
    "# Remaining Genes (not many)\n",
    "query3 = \"\"\"\n",
    "SELECT ?s ?sLabel\n",
    "WHERE\n",
    "{\n",
    "  # Subclass of Gene\n",
    "  ?s wdt:P279 wd:Q7187 .\n",
    "  # Found in Taxon Homo Sapiens\n",
    "  ?s wdt:P703 wd:Q15978631 .\n",
    "  \n",
    "  # Subtract out the other gene types\n",
    "  MINUS {?s wdt:P279 wd:Q20747295}\n",
    "  MINUS {?s wdt:P279 wd:Q277338}\n",
    "  MINUS {?s wdt:P279 wd:Q427087} \n",
    "}\n",
    "\"\"\"\n"
   ]
  },
  {
   "cell_type": "markdown",
   "metadata": {},
   "source": [
    "#### Human Protein Coding Genes"
   ]
  },
  {
   "cell_type": "code",
   "execution_count": 9,
   "metadata": {},
   "outputs": [
    {
     "name": "stdout",
     "output_type": "stream",
     "text": [
      "Wrote 20706 ids of type Protein-coding Gene to file data/pc_genes.txt\n"
     ]
    }
   ],
   "source": [
    "ntype = types.pop(types.index('Protein-coding Gene'))\n",
    "filename = 'data/pc_genes.txt'\n",
    "\n",
    "query_node_type(query, ntype, filename)"
   ]
  },
  {
   "cell_type": "markdown",
   "metadata": {},
   "source": [
    "#### Non-coding RNA"
   ]
  },
  {
   "cell_type": "code",
   "execution_count": 10,
   "metadata": {},
   "outputs": [
    {
     "name": "stdout",
     "output_type": "stream",
     "text": [
      "Wrote 18066 ids of type Non-coding RNA to file data/ncr_genes.txt\n"
     ]
    }
   ],
   "source": [
    "ntype = types.pop(types.index('Non-coding RNA'))\n",
    "filename = 'data/ncr_genes.txt'\n",
    "\n",
    "query_node_type(query1, ntype, filename)"
   ]
  },
  {
   "cell_type": "markdown",
   "metadata": {},
   "source": [
    "#### Pseudogenes"
   ]
  },
  {
   "cell_type": "code",
   "execution_count": 11,
   "metadata": {},
   "outputs": [
    {
     "name": "stdout",
     "output_type": "stream",
     "text": [
      "Wrote 16862 ids of type Pseudogene to file data/pseu_genes.txt\n"
     ]
    }
   ],
   "source": [
    "ntype = types.pop(types.index('Pseudogene'))\n",
    "filename = 'data/pseu_genes.txt'\n",
    "\n",
    "query_node_type(query2, ntype, filename)"
   ]
  },
  {
   "cell_type": "markdown",
   "metadata": {},
   "source": [
    "#### Other Genes"
   ]
  },
  {
   "cell_type": "code",
   "execution_count": 12,
   "metadata": {},
   "outputs": [
    {
     "name": "stdout",
     "output_type": "stream",
     "text": [
      "Wrote 4533 ids of type Gene to file data/other_genes.txt\n"
     ]
    }
   ],
   "source": [
    "ntype = types.pop(types.index('Gene'))\n",
    "filename = 'data/other_genes.txt'\n",
    "\n",
    "query_node_type(query3, ntype, filename)"
   ]
  },
  {
   "cell_type": "markdown",
   "metadata": {},
   "source": [
    "### Proteins\n",
    "\n",
    "Wikidata treats genes and proteins differently. "
   ]
  },
  {
   "cell_type": "code",
   "execution_count": 13,
   "metadata": {
    "collapsed": true
   },
   "outputs": [],
   "source": [
    "query = \"\"\"\n",
    "SELECT distinct ?s ?sLabel ?p ?o ?oLabel\n",
    "WHERE\n",
    "{\n",
    "    #subclass of protein\n",
    "    ?s wdt:P279 wd:Q8054 .\n",
    "    #found in taxon homo sapiens\n",
    "    ?s wdt:P703 wd:Q15978631 .\n",
    "\n",
    "}\n",
    "\"\"\""
   ]
  },
  {
   "cell_type": "code",
   "execution_count": 14,
   "metadata": {},
   "outputs": [
    {
     "name": "stdout",
     "output_type": "stream",
     "text": [
      "Wrote 27566 ids of type Protein to file data/proteins.txt\n"
     ]
    }
   ],
   "source": [
    "ntype = types.pop(types.index('Protein'))\n",
    "filename = 'data/proteins.txt'\n",
    "\n",
    "query_node_type(query, ntype, filename)"
   ]
  },
  {
   "cell_type": "markdown",
   "metadata": {},
   "source": [
    "### What about chemical compounds?"
   ]
  },
  {
   "cell_type": "code",
   "execution_count": 15,
   "metadata": {
    "collapsed": true
   },
   "outputs": [],
   "source": [
    "query = \"\"\"\n",
    "SELECT ?s ?sLabel ?p ?o\n",
    "WHERE\n",
    "{\n",
    "  # insance of Chemical Compound\n",
    "  ?s wdt:P31 wd:Q11173 .\n",
    "}\n",
    "\"\"\""
   ]
  },
  {
   "cell_type": "code",
   "execution_count": 16,
   "metadata": {},
   "outputs": [
    {
     "name": "stdout",
     "output_type": "stream",
     "text": [
      "Wrote 156634 ids of type Compound to file data/compounds.txt\n"
     ]
    }
   ],
   "source": [
    "ntype = types.pop(types.index('Compound'))\n",
    "filename = 'data/compounds.txt'\n",
    "\n",
    "query_node_type(query, ntype, filename)"
   ]
  },
  {
   "cell_type": "markdown",
   "metadata": {},
   "source": [
    "## Save some information about the remaining types"
   ]
  },
  {
   "cell_type": "code",
   "execution_count": 17,
   "metadata": {
    "collapsed": true
   },
   "outputs": [],
   "source": [
    "import json"
   ]
  },
  {
   "cell_type": "code",
   "execution_count": 18,
   "metadata": {
    "collapsed": true
   },
   "outputs": [],
   "source": [
    "with open('node_info.json', 'w') as fout:\n",
    "    json.dump(node_files, fout, indent=2)"
   ]
  },
  {
   "cell_type": "code",
   "execution_count": 19,
   "metadata": {
    "collapsed": true
   },
   "outputs": [],
   "source": [
    "with open('data/remain_types.txt', 'w') as fout:\n",
    "    for t in types:\n",
    "        fout.write(t+'\\n')"
   ]
  }
 ],
 "metadata": {
  "kernelspec": {
   "display_name": "Python 3",
   "language": "python",
   "name": "python3"
  },
  "language_info": {
   "codemirror_mode": {
    "name": "ipython",
    "version": 3
   },
   "file_extension": ".py",
   "mimetype": "text/x-python",
   "name": "python",
   "nbconvert_exporter": "python",
   "pygments_lexer": "ipython3",
   "version": "3.5.2"
  }
 },
 "nbformat": 4,
 "nbformat_minor": 2
}

{
 "cells": [
  {
   "cell_type": "markdown",
   "metadata": {},
   "source": [
    "# Format the resulting edges for import to neo4j and get files needed for learn pipeline"
   ]
  },
  {
   "cell_type": "code",
   "execution_count": 1,
   "metadata": {
    "collapsed": true
   },
   "outputs": [],
   "source": [
    "import pandas as pd\n",
    "import sys\n",
    "sys.path.append('../py')\n",
    "import processing as pt"
   ]
  },
  {
   "cell_type": "code",
   "execution_count": 2,
   "metadata": {
    "collapsed": true
   },
   "outputs": [],
   "source": [
    "edges = pd.read_hdf('data/all_edges_unfiltered.h5', 'edges')"
   ]
  },
  {
   "cell_type": "markdown",
   "metadata": {},
   "source": [
    "## Examine the effect of different cutoff values for removing low count edge types"
   ]
  },
  {
   "cell_type": "code",
   "execution_count": 3,
   "metadata": {},
   "outputs": [],
   "source": [
    "# Node types should return the same every time, so won't keep separate copies\n",
    "p0, nt, r0 = pt.prep_for_export(edges, 0.5, 0)"
   ]
  },
  {
   "cell_type": "code",
   "execution_count": 4,
   "metadata": {
    "collapsed": true
   },
   "outputs": [],
   "source": [
    "p01, nt, r01 = pt.prep_for_export(edges, 0.5, 0.01)"
   ]
  },
  {
   "cell_type": "code",
   "execution_count": 5,
   "metadata": {
    "collapsed": true
   },
   "outputs": [],
   "source": [
    "p05, nt, r05 = pt.prep_for_export(edges, 0.5, 0.05)"
   ]
  },
  {
   "cell_type": "code",
   "execution_count": 6,
   "metadata": {},
   "outputs": [],
   "source": [
    "p1, nt, r1 = pt.prep_for_export(edges, 0.5, 0.1)"
   ]
  },
  {
   "cell_type": "code",
   "execution_count": 7,
   "metadata": {
    "collapsed": true
   },
   "outputs": [],
   "source": [
    "p15, nt, r15 = pt.prep_for_export(edges, 0.5, 0.15)"
   ]
  },
  {
   "cell_type": "code",
   "execution_count": 8,
   "metadata": {
    "collapsed": true
   },
   "outputs": [],
   "source": [
    "p2, nt, r2 = pt.prep_for_export(edges, 0.5, 0.2)"
   ]
  },
  {
   "cell_type": "code",
   "execution_count": 9,
   "metadata": {
    "collapsed": true
   },
   "outputs": [],
   "source": [
    "p25, nt, r25 =  pt.prep_for_export(edges, 0.5, 0.25)"
   ]
  },
  {
   "cell_type": "code",
   "execution_count": 10,
   "metadata": {
    "collapsed": true
   },
   "outputs": [],
   "source": [
    "p3, nt, r3 = pt.prep_for_export(edges, 0.5, 0.3)"
   ]
  },
  {
   "cell_type": "code",
   "execution_count": 11,
   "metadata": {
    "collapsed": true
   },
   "outputs": [],
   "source": [
    "p5, nt, r5 = pt.prep_for_export(edges, 0.5, 0.5)"
   ]
  },
  {
   "cell_type": "code",
   "execution_count": 12,
   "metadata": {},
   "outputs": [
    {
     "name": "stdout",
     "output_type": "stream",
     "text": [
      "Cutoff: 0\tEdge Tyeps: 183\n",
      "Cutoff: 0.01\tEdge Tyeps: 75\n",
      "Cutoff: 0.05\tEdge Tyeps: 57\n",
      "Cutoff: 0.1\tEdge Tyeps: 51\n",
      "Cutoff: 0.15\tEdge Tyeps: 50\n",
      "Cutoff: 0.2\tEdge Tyeps: 48\n",
      "Cutoff: 0.25\tEdge Tyeps: 45\n",
      "Cutoff: 0.3\tEdge Tyeps: 44\n",
      "Cutoff: 0.5\tEdge Tyeps: 39\n"
     ]
    }
   ],
   "source": [
    "e0 = set(p0['e_type'])\n",
    "e01 = set(p01['e_type'])\n",
    "e05 = set(p05['e_type'])\n",
    "e1 = set(p1['e_type'])\n",
    "e15 = set(p15['e_type'])\n",
    "e2 = set(p2['e_type'])\n",
    "e25 = set(p25['e_type'])\n",
    "e3 = set(p3['e_type'])\n",
    "e5 = set(p5['e_type'])\n",
    "\n",
    "\n",
    "for i, j in zip([e0, e01, e05, e1, e15, e2, e25, e3, e5], [0, .01, .05, .1, .15, .2, .25, .3, .5]):\n",
    "    print('Cutoff: {}\\tEdge Tyeps: {}'.format(j, len(i)))"
   ]
  },
  {
   "cell_type": "code",
   "execution_count": 13,
   "metadata": {},
   "outputs": [
    {
     "name": "stdout",
     "output_type": "stream",
     "text": [
      "--No Cutoff--\n",
      "Total Number of Edge Types: 183\n",
      "Edge Types with more than 1 instance: 124\n",
      "Edge Types with more than 10 instances: 76\n"
     ]
    }
   ],
   "source": [
    "print('--No Cutoff--')\n",
    "print('Total Number of Edge Types: {}'.format(len(set(p0['e_type']))))\n",
    "print('Edge Types with more than 1 instance: {}'.format(sum(p0['e_type'].value_counts() > 1)))\n",
    "print('Edge Types with more than 10 instances: {}'.format(sum(p0['e_type'].value_counts() > 10)))"
   ]
  },
  {
   "cell_type": "markdown",
   "metadata": {},
   "source": [
    "Without filtering, 183 edge types is just too many. Many (over 50) edge types with just a single edge, and even more (about another 50) with fewer than 10"
   ]
  },
  {
   "cell_type": "code",
   "execution_count": 14,
   "metadata": {},
   "outputs": [
    {
     "name": "stdout",
     "output_type": "stream",
     "text": [
      "--Cutoff of 0.01--\n",
      "Total Number of Edge Types: 75\n",
      "Edge Types with more than 1 instance: 67\n",
      "Edge Types with more than 10 instances: 62\n"
     ]
    }
   ],
   "source": [
    "print('--Cutoff of 0.01--')\n",
    "print('Total Number of Edge Types: {}'.format(len(set(p01['e_type']))))\n",
    "print('Edge Types with more than 1 instance: {}'.format(sum(p01['e_type'].value_counts() > 1)))\n",
    "print('Edge Types with more than 10 instances: {}'.format(sum(p01['e_type'].value_counts() > 10)))"
   ]
  },
  {
   "cell_type": "markdown",
   "metadata": {},
   "source": [
    "Filtered with a cutoff of 0.01, there still a lot of edge types at 75, and several with 1 or few instances"
   ]
  },
  {
   "cell_type": "code",
   "execution_count": 15,
   "metadata": {},
   "outputs": [
    {
     "name": "stdout",
     "output_type": "stream",
     "text": [
      "--Cutoff of 0.05--\n",
      "Total Number of Edge Types: 57\n",
      "Edge Types with more than 1 instance: 56\n",
      "Edge Types with more than 10 instances: 54\n"
     ]
    }
   ],
   "source": [
    "print('--Cutoff of 0.05--')\n",
    "print('Total Number of Edge Types: {}'.format(len(set(p05['e_type']))))\n",
    "print('Edge Types with more than 1 instance: {}'.format(sum(p05['e_type'].value_counts() > 1)))\n",
    "print('Edge Types with more than 10 instances: {}'.format(sum(p05['e_type'].value_counts() > 10)))"
   ]
  },
  {
   "cell_type": "markdown",
   "metadata": {},
   "source": [
    "Still have 1 with only 1 instance, and a couple with fewer than 10.  We can compare to later ones and see what is lost"
   ]
  },
  {
   "cell_type": "code",
   "execution_count": 16,
   "metadata": {},
   "outputs": [
    {
     "name": "stdout",
     "output_type": "stream",
     "text": [
      "--Cutoff of 0.1--\n",
      "Total Number of Edge Types: 51\n",
      "Edge Types with more than 1 instance: 51\n",
      "Edge Types with more than 10 instances: 50\n"
     ]
    }
   ],
   "source": [
    "print('--Cutoff of 0.1--')\n",
    "print('Total Number of Edge Types: {}'.format(len(set(p1['e_type']))))\n",
    "print('Edge Types with more than 1 instance: {}'.format(sum(p1['e_type'].value_counts() > 1)))\n",
    "print('Edge Types with more than 10 instances: {}'.format(sum(p1['e_type'].value_counts() > 10)))"
   ]
  },
  {
   "cell_type": "markdown",
   "metadata": {},
   "source": [
    "This looks ok, none have just 1 insance anymore, but one edge is still has fewer than 10\n",
    "\n",
    "Lets compare this to the more forgiving and more strict cutoffs of 0.05 and 0.15"
   ]
  },
  {
   "cell_type": "code",
   "execution_count": 17,
   "metadata": {},
   "outputs": [
    {
     "data": {
      "text/plain": [
       "{'chromosome_GcGT',\n",
       " 'chromosome_MMcGT',\n",
       " 'chromosome_PGcGT',\n",
       " 'drug-used-for-treatment_CHduftC',\n",
       " 'has-part_PCGhpPTM',\n",
       " 'subclass-of_DsoS'}"
      ]
     },
     "execution_count": 17,
     "metadata": {},
     "output_type": "execute_result"
    }
   ],
   "source": [
    "# See what is lost between cutoff of 0.05 and 0.1\n",
    "e05 - e1"
   ]
  },
  {
   "cell_type": "code",
   "execution_count": 18,
   "metadata": {},
   "outputs": [
    {
     "data": {
      "text/plain": [
       "{'part-of_PDpoPD'}"
      ]
     },
     "execution_count": 18,
     "metadata": {},
     "output_type": "execute_result"
    }
   ],
   "source": [
    "# Whats lost when the cutoff is incread from 0.1 to 0.15\n",
    "e1 - e15"
   ]
  },
  {
   "cell_type": "code",
   "execution_count": 19,
   "metadata": {},
   "outputs": [
    {
     "data": {
      "text/plain": [
       "set()"
      ]
     },
     "execution_count": 19,
     "metadata": {},
     "output_type": "execute_result"
    }
   ],
   "source": [
    "# There should only be 1 fewer edge, see if something was changed inadvertantly\n",
    "e15 - e1"
   ]
  },
  {
   "cell_type": "markdown",
   "metadata": {},
   "source": [
    "So lost ProteinDomain is part of a ProteinDomain"
   ]
  },
  {
   "cell_type": "code",
   "execution_count": 20,
   "metadata": {},
   "outputs": [
    {
     "name": "stdout",
     "output_type": "stream",
     "text": [
      "--Cutoff of 0.2--\n",
      "Total Number of Edge Types: 48\n",
      "Edge Types with more than 1 instance: 48\n",
      "Edge Types with more than 10 instances: 47\n"
     ]
    }
   ],
   "source": [
    "print('--Cutoff of 0.2--')\n",
    "print('Total Number of Edge Types: {}'.format(len(set(p2['e_type']))))\n",
    "print('Edge Types with more than 1 instance: {}'.format(sum(p2['e_type'].value_counts() > 1)))\n",
    "print('Edge Types with more than 10 instances: {}'.format(sum(p2['e_type'].value_counts() > 10)))"
   ]
  },
  {
   "cell_type": "code",
   "execution_count": 21,
   "metadata": {},
   "outputs": [
    {
     "data": {
      "text/plain": [
       "{'part-of_PDpoPD', 'regulates-molecular-biology_GTrmbGT', 'subclass-of_GsoC'}"
      ]
     },
     "execution_count": 21,
     "metadata": {},
     "output_type": "execute_result"
    }
   ],
   "source": [
    "# See what is lost between 0.1 and 0.2\n",
    "e1 - e2"
   ]
  },
  {
   "cell_type": "markdown",
   "metadata": {},
   "source": [
    "3 edges lost, all not too useful it seems. They either link 2 non-basenode concepts, or they just don't make sene (how can a gene be a subclass of a compound?)"
   ]
  },
  {
   "cell_type": "code",
   "execution_count": 22,
   "metadata": {},
   "outputs": [
    {
     "name": "stdout",
     "output_type": "stream",
     "text": [
      "--Cutoff of 0.25--\n",
      "Total Number of Edge Types: 45\n",
      "Edge Types with more than 1 instance: 45\n",
      "Edge Types with more than 10 instances: 45\n"
     ]
    }
   ],
   "source": [
    "print('--Cutoff of 0.25--')\n",
    "print('Total Number of Edge Types: {}'.format(len(set(p25['e_type']))))\n",
    "print('Edge Types with more than 1 instance: {}'.format(sum(p25['e_type'].value_counts() > 1)))\n",
    "print('Edge Types with more than 10 instances: {}'.format(sum(p25['e_type'].value_counts() > 10)))"
   ]
  },
  {
   "cell_type": "code",
   "execution_count": 23,
   "metadata": {},
   "outputs": [
    {
     "data": {
      "text/plain": [
       "{'cause-of_CHcoD', 'cause-of_DcoS', 'part-of_GTpoGT'}"
      ]
     },
     "execution_count": 23,
     "metadata": {},
     "output_type": "execute_result"
    }
   ],
   "source": [
    "# Edges lost wne increasing from 0.2 to 0.25\n",
    "e2 - e25"
   ]
  },
  {
   "cell_type": "markdown",
   "metadata": {},
   "source": [
    "Starting to lose more edges, Chemical Hazards-cause->disease, and Disease-cause->Symptoms\n",
    "\n",
    "These are a problem becuase the connection to the basenode disease. Lets look at how many edges of each type there are"
   ]
  },
  {
   "cell_type": "code",
   "execution_count": 24,
   "metadata": {},
   "outputs": [
    {
     "data": {
      "text/plain": [
       "encodes_GeP                           179\n",
       "regulates-molecular-biology_MMrmbG    139\n",
       "drug-used-for-treatment_SduftC        135\n",
       "part-of_ASpoPD                        129\n",
       "part-of_BSpoPD                         93\n",
       "part-of_SMpoPD                         93\n",
       "symptoms_DsS                           52\n",
       "part-of_PTMpoPF                        35\n",
       "cause-of_CHcoS                         31\n",
       "part-of_PTMpoPD                        16\n",
       "Name: e_type, dtype: int64"
      ]
     },
     "execution_count": 24,
     "metadata": {},
     "output_type": "execute_result"
    }
   ],
   "source": [
    "p25['e_type'].value_counts()[-10:]"
   ]
  },
  {
   "cell_type": "markdown",
   "metadata": {},
   "source": [
    "31 and 7, so not a lot, but could be problematic.\n",
    "\n",
    "Lets look at the next cutoff level, betwen 0.25 and 0.3"
   ]
  },
  {
   "cell_type": "code",
   "execution_count": 25,
   "metadata": {},
   "outputs": [
    {
     "data": {
      "text/plain": [
       "{'genetic-association_PCGgaD'}"
      ]
     },
     "execution_count": 25,
     "metadata": {},
     "output_type": "execute_result"
    }
   ],
   "source": [
    "# whats lost when increasing the cutoff from 0.25 to 0.3\n",
    "e25 - e3"
   ]
  },
  {
   "cell_type": "code",
   "execution_count": 26,
   "metadata": {},
   "outputs": [
    {
     "data": {
      "text/plain": [
       "genetic-association_PCGgaD    2093\n",
       "Name: e_type, dtype: int64"
      ]
     },
     "execution_count": 26,
     "metadata": {},
     "output_type": "execute_result"
    }
   ],
   "source": [
    "p1[p1['pLabel'] == 'genetic association']['e_type'].value_counts()"
   ]
  },
  {
   "cell_type": "markdown",
   "metadata": {},
   "source": [
    "Now this is a huge edge, and a nice bridge in the compound-protein-gene-disease link... This can't aford to be lost, I won't look in detail at any higher cutoffs"
   ]
  },
  {
   "cell_type": "markdown",
   "metadata": {},
   "source": [
    "## Summary of different cutoff values for low count edges\n",
    "\n",
    "- No Cutoff\n",
    "    - 183 Edge Types\n",
    "        - over 50 with only a count of 1\n",
    "        - Another 50 with fewer than 10 counts\n",
    "\n",
    "\n",
    "- 0.01\n",
    "    - 75 edge types\n",
    "    - As compared to 0.05, contains:\n",
    "        - Chem Hazard afflicts Protein Fam\n",
    "        - Chem Hazard cause of death Disease\n",
    "        - Chem Hazard cause of Symptom\n",
    "        - compound different from compound\n",
    "        - nc-RNA genetic association with Disease\n",
    "        - PG genetic association with Disease\n",
    "    - Many edge types with count of 1\n",
    "\n",
    "\n",
    "- 0.05\n",
    "    - 57 edge types\n",
    "    - As compared to 0.1, contains:\n",
    "        - Chromosome edge to X chromosome GO Term (probably an inappropriate type)\n",
    "            - 'chromosome_GcGT'\n",
    "            - 'chromosome_MMcGT'\n",
    "            - 'chromosome_PGcGT'\n",
    "        - 'drug-used-for-treatment_CHduftC'\n",
    "            - Drugs that treat chemical hazards\n",
    "        - 'has-part_PCGhpPTM'\n",
    "            - Protein coding genes have part post-trans mod <- only 1\n",
    "        - 'subclass-of_DsoS'\n",
    "            - Diseases are subclasses of Symptoms\n",
    "\n",
    "\n",
    "- 0.1\n",
    "    - 51 edge types\n",
    "    - Decent coverage of edges\n",
    "    - No edges with only 1 insance\n",
    "    - 1 edge with fewer than 10 instances\n",
    "    \n",
    "    \n",
    "- 0.15\n",
    "    - 50 Edge types\n",
    "    - As compared to 0.1, lost:\n",
    "        - Protein Domain is part of Protein Domain\n",
    "\n",
    "\n",
    "- 0.2\n",
    "    - 48 Edge Types\n",
    "    - As compared to 0.1, lost:\n",
    "        - Protein Domain is part of Protein Domain\n",
    "        - GO Term -regulates-molecular-biology-> GO Term\n",
    "        - Gene -subclass-of-> Compound\n",
    "            - Not sure this one makes any sense anyway...\n",
    "\n",
    "- 0.25\n",
    "    - 45 Edge Types\n",
    "    - Lose 2 potential important edges:\n",
    "        - Chemical Hazards -cause-> Disease\n",
    "        - Disease -cause-> Symptoms\n",
    "\n",
    "\n",
    "- 0.3\n",
    "    - 44 Edge Types\n",
    "    - Lost a critical 'Protein-Coding Gene -genetic-association-with-> Disease' edge\n",
    "    \n",
    "    \n"
   ]
  },
  {
   "cell_type": "code",
   "execution_count": 29,
   "metadata": {
    "collapsed": true
   },
   "outputs": [],
   "source": [
    "prepped, node_types, reciprocals = p2, nt, r2"
   ]
  },
  {
   "cell_type": "markdown",
   "metadata": {},
   "source": [
    "### Format to neo4j and save the files"
   ]
  },
  {
   "cell_type": "code",
   "execution_count": 30,
   "metadata": {},
   "outputs": [],
   "source": [
    "node_neo = pt.format_nodes_neo(prepped, node_types)\n",
    "edge_neo = pt.format_edges_neo(prepped)"
   ]
  },
  {
   "cell_type": "code",
   "execution_count": 31,
   "metadata": {},
   "outputs": [
    {
     "data": {
      "text/plain": [
       "Protein                            26907\n",
       "GO Term                            21120\n",
       "Protein-coding Gene                19321\n",
       "Protein Family                     12832\n",
       "Disease                             7482\n",
       "Protein Domain                      6177\n",
       "Compound                            2614\n",
       "Mature MicroRNA                     2583\n",
       "Chemical Hazard                      675\n",
       "Supersecondary Structure             643\n",
       "Non-coding RNA                       524\n",
       "Pseudo Gene                          440\n",
       "Gene                                 151\n",
       "Structural Motif                     144\n",
       "Active Site                          121\n",
       "Binding Site                          71\n",
       "Symptom                               30\n",
       "Post-translational Modification       16\n",
       "Name: :LABEL, dtype: int64"
      ]
     },
     "execution_count": 31,
     "metadata": {},
     "output_type": "execute_result"
    }
   ],
   "source": [
    "# How many of each node type is represented?\n",
    "node_neo[':LABEL'].value_counts()"
   ]
  },
  {
   "cell_type": "code",
   "execution_count": 32,
   "metadata": {},
   "outputs": [
    {
     "data": {
      "text/plain": [
       "Protein                            26907\n",
       "GO Term                            21120\n",
       "Protein-coding Gene                19321\n",
       "Protein Family                     12832\n",
       "Disease                             7482\n",
       "Protein Domain                      6177\n",
       "Compound                            2614\n",
       "Mature MicroRNA                     2583\n",
       "Chemical Hazard                      675\n",
       "Supersecondary Structure             643\n",
       "Non-coding RNA                       524\n",
       "Pseudo Gene                          440\n",
       "Gene                                 151\n",
       "Structural Motif                     144\n",
       "Active Site                          121\n",
       "Binding Site                          71\n",
       "Symptom                               30\n",
       "Post-translational Modification       16\n",
       "Name: :LABEL, dtype: int64"
      ]
     },
     "execution_count": 32,
     "metadata": {},
     "output_type": "execute_result"
    }
   ],
   "source": [
    "# How many of each node type is represented?\n",
    "node_neo[':LABEL'].value_counts()"
   ]
  },
  {
   "cell_type": "code",
   "execution_count": 33,
   "metadata": {
    "collapsed": true
   },
   "outputs": [],
   "source": [
    "node_neo.to_csv('data/hetnet_nodes.csv', index=False)\n",
    "edge_neo.to_csv('data/hetnet_edges.csv', index=False)"
   ]
  },
  {
   "cell_type": "markdown",
   "metadata": {},
   "source": [
    "## Make the metagraph needed for the learn pipline\n",
    "\n",
    "#### See how long of metapaths we should use"
   ]
  },
  {
   "cell_type": "code",
   "execution_count": 34,
   "metadata": {
    "collapsed": true
   },
   "outputs": [],
   "source": [
    "met = pt.get_metaedge_tuples(prepped, node_types, reciprocals)\n",
    "abv = pt.get_abbrev_dict(prepped, node_types)"
   ]
  },
  {
   "cell_type": "code",
   "execution_count": 35,
   "metadata": {
    "collapsed": true
   },
   "outputs": [],
   "source": [
    "from hetio.hetnet import MetaGraph\n",
    "\n",
    "mg = MetaGraph.from_edge_tuples(met, abv)"
   ]
  },
  {
   "cell_type": "code",
   "execution_count": 36,
   "metadata": {},
   "outputs": [
    {
     "name": "stdout",
     "output_type": "stream",
     "text": [
      "For a max path length of 4, there are 278 metapaths\n",
      "For a max path length of 5, there are 1608 metapaths\n",
      "For a max path length of 6, there are 9214 metapaths\n"
     ]
    }
   ],
   "source": [
    "num4 = len(mg.extract_metapaths('Compound', 'Disease', 4))\n",
    "num5 = len(mg.extract_metapaths('Compound', 'Disease', 5))\n",
    "num6 = len(mg.extract_metapaths('Compound', 'Disease', 6))\n",
    "\n",
    "for pl, paths in zip([4, 5, 6], [num4, num5, num6]):\n",
    "    print('For a max path length of {}, there are {} metapaths'.format(pl, paths))"
   ]
  },
  {
   "cell_type": "markdown",
   "metadata": {},
   "source": [
    "## Metagraph Analysis\n",
    "\n",
    "Metapaths of length 4:\n",
    "- 278 pathtypes\n",
    "- AS, BS, GT, NCR, PTM, PD, PF, PG, SM, SS - All not included\n",
    "    - Active Site\n",
    "    - Binding Site\n",
    "    - GO Term\n",
    "    - Non-Coding RNA\n",
    "    - Post-translational Modification\n",
    "    - Protein Domain\n",
    "    - Protein Family\n",
    "    - Pseudo Gene\n",
    "    - Structural Motif\n",
    "    - Supersecondary Structure\n",
    "  \n",
    "Metapaths of length 5:\n",
    "- 1608 pathtypes\n",
    "- SM - Still not represented\n",
    "- Picked up: All remaining!\n",
    "    - AS: 2\n",
    "    - BS: 2\n",
    "    - GT: 18 (though some might not be valid, probably only about 6-8 valid)\n",
    "        - protein -mf-> GO TERM -bp-> protein (etc.)\n",
    "    - MM: 10\n",
    "    - NCR: 3\n",
    "    - PD: 2\n",
    "    - PF: 2\n",
    "    - PG: 3\n",
    "    - SS: 2\n",
    "    - SM: 2\n",
    "- When you think about it, this is like metapath length 4 in Rephetio\n",
    "    - CGD gets you there 1 step faster than CPGD\n",
    "    - Example: Compound **-binds-** Protein **-has-** Structural Motif **-has-** Protein **-encoded-** Gene **-associated-** Disease \n",
    "\n",
    "\n",
    "Metapaths of length 6:\n",
    "- 9,196 pathtypes\n",
    "- Lots more examples here, would be great if we had the computation"
   ]
  },
  {
   "cell_type": "markdown",
   "metadata": {},
   "source": [
    "## Make Hetio information"
   ]
  },
  {
   "cell_type": "code",
   "execution_count": 37,
   "metadata": {},
   "outputs": [
    {
     "name": "stdout",
     "output_type": "stream",
     "text": [
      "Added 101851 nodes to graph\n",
      "Added 842952 edges to graph\n"
     ]
    }
   ],
   "source": [
    "pt.prep_hetio(prepped, node_types, reciprocals)"
   ]
  }
 ],
 "metadata": {
  "kernelspec": {
   "display_name": "Python 3",
   "language": "python",
   "name": "python3"
  },
  "language_info": {
   "codemirror_mode": {
    "name": "ipython",
    "version": 3
   },
   "file_extension": ".py",
   "mimetype": "text/x-python",
   "name": "python",
   "nbconvert_exporter": "python",
   "pygments_lexer": "ipython3",
   "version": "3.5.2"
  }
 },
 "nbformat": 4,
 "nbformat_minor": 2
}

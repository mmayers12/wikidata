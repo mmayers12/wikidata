{
 "cells": [
  {
   "cell_type": "markdown",
   "metadata": {},
   "source": [
    "# Format the resulting edges for import to neo4j and get files needed for learn pipeline"
   ]
  },
  {
   "cell_type": "code",
   "execution_count": 1,
   "metadata": {
    "collapsed": true
   },
   "outputs": [],
   "source": [
    "import pandas as pd\n",
    "import sys\n",
    "sys.path.append('../py')\n",
    "import processing as pt"
   ]
  },
  {
   "cell_type": "code",
   "execution_count": 2,
   "metadata": {
    "collapsed": true
   },
   "outputs": [],
   "source": [
    "edges = pd.read_hdf('data/all_edges_unfiltered.h5', 'edges')"
   ]
  },
  {
   "cell_type": "markdown",
   "metadata": {},
   "source": [
    "## Examine the effect of different cutoff values for removing low count edge types"
   ]
  },
  {
   "cell_type": "code",
   "execution_count": 3,
   "metadata": {},
   "outputs": [],
   "source": [
    "prepped, node_types, reciprocals = pt.prep_for_export(edges, 0.5, 0.1)"
   ]
  },
  {
   "cell_type": "code",
   "execution_count": 4,
   "metadata": {},
   "outputs": [],
   "source": [
    "p1, nt, r = pt.prep_for_export(edges, 0.5, 0.05)"
   ]
  },
  {
   "cell_type": "code",
   "execution_count": 5,
   "metadata": {},
   "outputs": [],
   "source": [
    "p2, nt, r = pt.prep_for_export(edges, 0.5, 0.01)"
   ]
  },
  {
   "cell_type": "code",
   "execution_count": 6,
   "metadata": {},
   "outputs": [
    {
     "name": "stdout",
     "output_type": "stream",
     "text": [
      "Cutoff: 0.1\tEdge Tyeps: 51\n",
      "Cutoff: 0.05\tEdge Tyeps: 57\n",
      "Cutoff: 0.01\tEdge Tyeps: 75\n"
     ]
    }
   ],
   "source": [
    "e0 = set(prepped['e_type'])\n",
    "e1 = set(p1['e_type'])\n",
    "e2 = set(p2['e_type'])\n",
    "\n",
    "for i, j in zip([e0, e1, e2], [0.1, 0.05, 0.01]):\n",
    "    print('Cutoff: {}\\tEdge Tyeps: {}'.format(j, len(i)))"
   ]
  },
  {
   "cell_type": "code",
   "execution_count": 7,
   "metadata": {},
   "outputs": [
    {
     "data": {
      "text/plain": [
       "{'chromosome_GcGT',\n",
       " 'chromosome_MMcGT',\n",
       " 'chromosome_PGcGT',\n",
       " 'drug-used-for-treatment_CHduftC',\n",
       " 'has-part_PCGhpPTM',\n",
       " 'subclass-of_DsoS'}"
      ]
     },
     "execution_count": 7,
     "metadata": {},
     "output_type": "execute_result"
    }
   ],
   "source": [
    "e1-e0"
   ]
  },
  {
   "cell_type": "code",
   "execution_count": 8,
   "metadata": {},
   "outputs": [
    {
     "data": {
      "text/plain": [
       "{'afflicts_CHaPF',\n",
       " 'cause-of-death_CHcodD',\n",
       " 'cause-of_ScoC',\n",
       " 'chromosome_PCGcGT',\n",
       " 'different-from_CdfC',\n",
       " 'genetic-association_DgaNCR',\n",
       " 'genetic-association_PCGgaD',\n",
       " 'genetic-association_PGgaD',\n",
       " 'has-part_ChpC',\n",
       " 'has-part_PCGhpAS',\n",
       " 'has-part_PCGhpBS',\n",
       " 'instance-of_CioC',\n",
       " 'instance-of_SioGT',\n",
       " 'part-of_BSpoSM',\n",
       " 'part-of_BSpoSS',\n",
       " 'part-of_SSpoSM',\n",
       " 'subclass-of_SsoD',\n",
       " 'subclass-of_SsoS',\n",
       " 'symptoms_DsD'}"
      ]
     },
     "execution_count": 8,
     "metadata": {},
     "output_type": "execute_result"
    }
   ],
   "source": [
    "e2-e1"
   ]
  },
  {
   "cell_type": "markdown",
   "metadata": {},
   "source": [
    "## Cutoff values for low count edges compared\n",
    "\n",
    "- 0.1\n",
    "    - 51 edge types\n",
    "    \n",
    "    \n",
    "- 0.05\n",
    "    - 57 edge types\n",
    "    - Chromosome edge to X chromosome GO Term (probably an inappropriate type)\n",
    "        - 'chromosome_GcGT'\n",
    "        - 'chromosome_MMcGT'\n",
    "        - 'chromosome_PGcGT'\n",
    "    - 'drug-used-for-treatment_CHduftC'\n",
    "        - Drugs that treat chemical hazards\n",
    "    - 'has-part_PCGhpPTM'\n",
    "        - Protein coding genes have part post-trans mod <- only 1\n",
    "    - 'subclass-of_DsoS'\n",
    "        - Diseases are subclasses of Symptoms\n",
    "    \n",
    "    \n",
    "- 0.01\n",
    "    - 75 edge types\n",
    "        - Chem Hazard afflicts Protein Fam\n",
    "        - Chem Hazard cause of death Disease\n",
    "        - Chem Hazard cause of Symptom\n",
    "        - compound different from compound\n",
    "        - nc-RNA genetic association with Disease\n",
    "        - PG genetic association with Disease\n",
    "    - Many edge types with count of 1"
   ]
  },
  {
   "cell_type": "markdown",
   "metadata": {},
   "source": [
    "### Format to neo4j and save the files"
   ]
  },
  {
   "cell_type": "code",
   "execution_count": 9,
   "metadata": {
    "collapsed": true
   },
   "outputs": [],
   "source": [
    "node_neo = pt.format_nodes_neo(prepped, node_types)\n",
    "edge_neo = pt.format_edges_neo(prepped)"
   ]
  },
  {
   "cell_type": "code",
   "execution_count": 10,
   "metadata": {},
   "outputs": [
    {
     "data": {
      "text/plain": [
       "Protein                            26907\n",
       "GO Term                            21148\n",
       "Protein-coding Gene                19321\n",
       "Protein Family                     12832\n",
       "Disease                             7482\n",
       "Protein Domain                      6321\n",
       "Compound                            2615\n",
       "Mature MicroRNA                     2583\n",
       "Chemical Hazard                      675\n",
       "Supersecondary Structure             643\n",
       "Non-coding RNA                       524\n",
       "Pseudo Gene                          440\n",
       "Gene                                 189\n",
       "Structural Motif                     144\n",
       "Active Site                          121\n",
       "Binding Site                          71\n",
       "Symptom                               31\n",
       "Post-translational Modification       16\n",
       "Name: :LABEL, dtype: int64"
      ]
     },
     "execution_count": 10,
     "metadata": {},
     "output_type": "execute_result"
    }
   ],
   "source": [
    "# How many of each node type is represented?\n",
    "node_neo[':LABEL'].value_counts()"
   ]
  },
  {
   "cell_type": "code",
   "execution_count": 11,
   "metadata": {
    "collapsed": true
   },
   "outputs": [],
   "source": [
    "node_neo.to_csv('data/hetnet_nodes.csv', index=False)\n",
    "edge_neo.to_csv('data/hetnet_edges.csv', index=False)"
   ]
  },
  {
   "cell_type": "markdown",
   "metadata": {},
   "source": [
    "## Make the metagraph needed for the learn pipline\n",
    "\n",
    "#### See how long of metapaths we should use"
   ]
  },
  {
   "cell_type": "code",
   "execution_count": 12,
   "metadata": {},
   "outputs": [],
   "source": [
    "met = pt.get_metaedge_tuples(prepped, node_types, reciprocals)\n",
    "abv = pt.get_abbrev_dict(prepped, node_types)"
   ]
  },
  {
   "cell_type": "code",
   "execution_count": 13,
   "metadata": {
    "collapsed": true
   },
   "outputs": [],
   "source": [
    "from hetio.hetnet import MetaGraph\n",
    "\n",
    "mg = MetaGraph.from_edge_tuples(met, abv)"
   ]
  },
  {
   "cell_type": "code",
   "execution_count": 14,
   "metadata": {},
   "outputs": [
    {
     "name": "stdout",
     "output_type": "stream",
     "text": [
      "For a max path length of 4, there are 291 metapaths\n",
      "For a max path length of 5, there are 1699 metapaths\n",
      "For a max path length of 6, there are 9914 metapaths\n"
     ]
    }
   ],
   "source": [
    "num4 = len(mg.extract_metapaths('Compound', 'Disease', 4))\n",
    "num5 = len(mg.extract_metapaths('Compound', 'Disease', 5))\n",
    "num6 = len(mg.extract_metapaths('Compound', 'Disease', 6))\n",
    "\n",
    "for pl, paths in zip([4, 5, 6], [num4, num5, num6]):\n",
    "    print('For a max path length of {}, there are {} metapaths'.format(pl, paths))"
   ]
  },
  {
   "cell_type": "markdown",
   "metadata": {},
   "source": [
    "## Metagraph Analysis\n",
    "\n",
    "Metapaths of length 4:\n",
    "- 291 pathtypes\n",
    "- AS, BS, GT, NCR, PTM, PD, PF, PG, SM, SS - All not included\n",
    "    - Active Site\n",
    "    - Binding Site\n",
    "    - GO Term\n",
    "    - Non-Coding RNA\n",
    "    - Post-translational Modification\n",
    "    - Protein Domain\n",
    "    - Protein Family\n",
    "    - Pseudo Gene\n",
    "    - Structural Motif\n",
    "    - Supersecondary Structure\n",
    "  \n",
    "Metapaths of length 5:\n",
    "- 1699 pathtypes\n",
    "- SM - Still not represented\n",
    "- Picked up: All remaining!\n",
    "    - AS: 2\n",
    "    - BS: 2\n",
    "    - GT: 18 (though some might not be valid, probably only about 6-8 valid)\n",
    "        - protein -mf-> GO TERM -bp-> protein (etc.)\n",
    "    - MM: 10\n",
    "    - NCR: 3\n",
    "    - PD: 2\n",
    "    - PF: 2\n",
    "    - PG: 3\n",
    "    - SS: 2\n",
    "    - SM: 2\n",
    "- When you think about it, this is like metapath length 4 in Rephetio\n",
    "    - CGD gets you there 1 step faster than CPGD\n",
    "    - Example: Compound **-binds-** Protein **-has-** Structural Motif **-has-** Protein **-encoded-** Gene **-associated-** Disease \n",
    "\n",
    "\n",
    "Metapaths of length 6:\n",
    "- 9,914 pathtypes\n",
    "- Lots more examples here, would be great if we had the computation"
   ]
  },
  {
   "cell_type": "markdown",
   "metadata": {},
   "source": [
    "## Make Hetio information"
   ]
  },
  {
   "cell_type": "code",
   "execution_count": 15,
   "metadata": {},
   "outputs": [
    {
     "name": "stdout",
     "output_type": "stream",
     "text": [
      "Added 102063 nodes to graph\n",
      "Added 848121 edges to graph\n"
     ]
    }
   ],
   "source": [
    "pt.prep_hetio(prepped, node_types, reciprocals)"
   ]
  }
 ],
 "metadata": {
  "kernelspec": {
   "display_name": "Python 3",
   "language": "python",
   "name": "python3"
  },
  "language_info": {
   "codemirror_mode": {
    "name": "ipython",
    "version": 3
   },
   "file_extension": ".py",
   "mimetype": "text/x-python",
   "name": "python",
   "nbconvert_exporter": "python",
   "pygments_lexer": "ipython3",
   "version": "3.5.2"
  }
 },
 "nbformat": 4,
 "nbformat_minor": 2
}

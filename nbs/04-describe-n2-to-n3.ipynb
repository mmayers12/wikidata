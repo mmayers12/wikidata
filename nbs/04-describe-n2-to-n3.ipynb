{
 "cells": [
  {
   "cell_type": "code",
   "execution_count": 1,
   "metadata": {
    "collapsed": true
   },
   "outputs": [],
   "source": [
    "import sys\n",
    "sys.path.append('../py')\n",
    "import sparql_tools as qt\n",
    "import pandas as pd"
   ]
  },
  {
   "cell_type": "code",
   "execution_count": 2,
   "metadata": {
    "collapsed": true
   },
   "outputs": [],
   "source": [
    "n2_nodes = qt.open_datafile('n2_nodes.txt')"
   ]
  },
  {
   "cell_type": "code",
   "execution_count": 3,
   "metadata": {},
   "outputs": [
    {
     "name": "stdout",
     "output_type": "stream",
     "text": [
      "Running queries...\n"
     ]
    },
    {
     "name": "stderr",
     "output_type": "stream",
     "text": [
      "100%|██████████| 38019/38019 [09:13<00:00, 68.72it/s] \n"
     ]
    },
    {
     "name": "stdout",
     "output_type": "stream",
     "text": [
      "Getting labels for results...\n"
     ]
    },
    {
     "name": "stderr",
     "output_type": "stream",
     "text": [
      "100%|██████████| 38019/38019 [1:10:02<00:00,  9.05it/s]   \n"
     ]
    },
    {
     "name": "stdout",
     "output_type": "stream",
     "text": [
      "No new Properties to save\n",
      "No new Entities to save\n"
     ]
    }
   ],
   "source": [
    "n2_df = qt.query_from_list(n2_nodes)"
   ]
  },
  {
   "cell_type": "code",
   "execution_count": 4,
   "metadata": {},
   "outputs": [
    {
     "data": {
      "text/plain": [
       "512743"
      ]
     },
     "execution_count": 4,
     "metadata": {},
     "output_type": "execute_result"
    }
   ],
   "source": [
    "len(n2_df)"
   ]
  },
  {
   "cell_type": "code",
   "execution_count": 5,
   "metadata": {},
   "outputs": [
    {
     "data": {
      "text/html": [
       "<div>\n",
       "<table border=\"1\" class=\"dataframe\">\n",
       "  <thead>\n",
       "    <tr style=\"text-align: right;\">\n",
       "      <th></th>\n",
       "      <th>sLabel</th>\n",
       "      <th>pLabel</th>\n",
       "      <th>oLabel</th>\n",
       "      <th>s</th>\n",
       "      <th>p</th>\n",
       "      <th>o</th>\n",
       "    </tr>\n",
       "  </thead>\n",
       "  <tbody>\n",
       "    <tr>\n",
       "      <th>0</th>\n",
       "      <td>Exosome component 6</td>\n",
       "      <td>subclass of</td>\n",
       "      <td>protein</td>\n",
       "      <td>http://www.wikidata.org/entity/Q21494414</td>\n",
       "      <td>http://www.wikidata.org/prop/direct/P279</td>\n",
       "      <td>http://www.wikidata.org/entity/Q8054</td>\n",
       "    </tr>\n",
       "    <tr>\n",
       "      <th>1</th>\n",
       "      <td>Exosome component 6</td>\n",
       "      <td>cell component</td>\n",
       "      <td>nucleolus</td>\n",
       "      <td>http://www.wikidata.org/entity/Q21494414</td>\n",
       "      <td>http://www.wikidata.org/prop/direct/P681</td>\n",
       "      <td>http://www.wikidata.org/entity/Q30869</td>\n",
       "    </tr>\n",
       "    <tr>\n",
       "      <th>2</th>\n",
       "      <td>Exosome component 6</td>\n",
       "      <td>cell component</td>\n",
       "      <td>nucleus</td>\n",
       "      <td>http://www.wikidata.org/entity/Q21494414</td>\n",
       "      <td>http://www.wikidata.org/prop/direct/P681</td>\n",
       "      <td>http://www.wikidata.org/entity/Q40260</td>\n",
       "    </tr>\n",
       "    <tr>\n",
       "      <th>3</th>\n",
       "      <td>Exosome component 6</td>\n",
       "      <td>cell component</td>\n",
       "      <td>cytoplasm</td>\n",
       "      <td>http://www.wikidata.org/entity/Q21494414</td>\n",
       "      <td>http://www.wikidata.org/prop/direct/P681</td>\n",
       "      <td>http://www.wikidata.org/entity/Q79899</td>\n",
       "    </tr>\n",
       "    <tr>\n",
       "      <th>4</th>\n",
       "      <td>Exosome component 6</td>\n",
       "      <td>found in taxon</td>\n",
       "      <td>Mus musculus</td>\n",
       "      <td>http://www.wikidata.org/entity/Q21494414</td>\n",
       "      <td>http://www.wikidata.org/prop/direct/P703</td>\n",
       "      <td>http://www.wikidata.org/entity/Q83310</td>\n",
       "    </tr>\n",
       "  </tbody>\n",
       "</table>\n",
       "</div>"
      ],
      "text/plain": [
       "                sLabel          pLabel        oLabel  \\\n",
       "0  Exosome component 6     subclass of       protein   \n",
       "1  Exosome component 6  cell component     nucleolus   \n",
       "2  Exosome component 6  cell component       nucleus   \n",
       "3  Exosome component 6  cell component     cytoplasm   \n",
       "4  Exosome component 6  found in taxon  Mus musculus   \n",
       "\n",
       "                                          s  \\\n",
       "0  http://www.wikidata.org/entity/Q21494414   \n",
       "1  http://www.wikidata.org/entity/Q21494414   \n",
       "2  http://www.wikidata.org/entity/Q21494414   \n",
       "3  http://www.wikidata.org/entity/Q21494414   \n",
       "4  http://www.wikidata.org/entity/Q21494414   \n",
       "\n",
       "                                          p  \\\n",
       "0  http://www.wikidata.org/prop/direct/P279   \n",
       "1  http://www.wikidata.org/prop/direct/P681   \n",
       "2  http://www.wikidata.org/prop/direct/P681   \n",
       "3  http://www.wikidata.org/prop/direct/P681   \n",
       "4  http://www.wikidata.org/prop/direct/P703   \n",
       "\n",
       "                                       o  \n",
       "0   http://www.wikidata.org/entity/Q8054  \n",
       "1  http://www.wikidata.org/entity/Q30869  \n",
       "2  http://www.wikidata.org/entity/Q40260  \n",
       "3  http://www.wikidata.org/entity/Q79899  \n",
       "4  http://www.wikidata.org/entity/Q83310  "
      ]
     },
     "execution_count": 5,
     "metadata": {},
     "output_type": "execute_result"
    }
   ],
   "source": [
    "n2_df.head()"
   ]
  },
  {
   "cell_type": "code",
   "execution_count": 6,
   "metadata": {
    "collapsed": true
   },
   "outputs": [],
   "source": [
    "n2_df.to_hdf('data/n2_edges.h5', 'n2_df')"
   ]
  },
  {
   "cell_type": "markdown",
   "metadata": {},
   "source": [
    "## Save N3 nodes"
   ]
  },
  {
   "cell_type": "code",
   "execution_count": 7,
   "metadata": {
    "collapsed": true
   },
   "outputs": [],
   "source": [
    "n3_nodes = set(n2_df['o'].apply(qt.id_from_uri))\n",
    "n2_nodes = set(n2_nodes)\n",
    "n1_nodes = set(qt.open_datafile('n1_nodes.txt'))\n",
    "base_nodes = set(qt.open_datafile('basenodes.txt'))"
   ]
  },
  {
   "cell_type": "code",
   "execution_count": 8,
   "metadata": {},
   "outputs": [
    {
     "name": "stdout",
     "output_type": "stream",
     "text": [
      "82603\n",
      "38019\n",
      "70893\n",
      "252344\n"
     ]
    }
   ],
   "source": [
    "print(len(n3_nodes))\n",
    "print(len(n2_nodes))\n",
    "print(len(n1_nodes))\n",
    "print(len(base_nodes))"
   ]
  },
  {
   "cell_type": "code",
   "execution_count": 9,
   "metadata": {
    "collapsed": true
   },
   "outputs": [],
   "source": [
    "n3_filt = ((n3_nodes - n2_nodes) - n1_nodes ) - base_nodes"
   ]
  },
  {
   "cell_type": "code",
   "execution_count": 10,
   "metadata": {},
   "outputs": [
    {
     "data": {
      "text/plain": [
       "25622"
      ]
     },
     "execution_count": 10,
     "metadata": {},
     "output_type": "execute_result"
    }
   ],
   "source": [
    "len(n3_filt)"
   ]
  },
  {
   "cell_type": "code",
   "execution_count": 11,
   "metadata": {
    "collapsed": true
   },
   "outputs": [],
   "source": [
    "with open('data/n3_nodes.txt', 'w') as fout:\n",
    "    for node in n3_filt:\n",
    "        fout.write(node+'\\n')"
   ]
  },
  {
   "cell_type": "markdown",
   "metadata": {},
   "source": [
    "## Analysis on edges from N2 nodes"
   ]
  },
  {
   "cell_type": "code",
   "execution_count": 12,
   "metadata": {},
   "outputs": [
    {
     "data": {
      "text/plain": [
       "biological process                            139083\n",
       "cell component                                 91747\n",
       "molecular function                             75231\n",
       "has part                                       52706\n",
       "subclass of                                    46065\n",
       "encoded by                                     23364\n",
       "found in taxon                                 23323\n",
       "instance of                                     8695\n",
       "part of                                         4872\n",
       "contains administrative territorial entity      4820\n",
       "shares border with                              3701\n",
       "sister city                                     3211\n",
       "said to be the same as                          2465\n",
       "topic's main category                           2191\n",
       "in the administrative territorial entity        1719\n",
       "country                                         1680\n",
       "regulates (molecular biology)                   1509\n",
       "member of                                       1498\n",
       "described by source                             1215\n",
       "winner                                          1082\n",
       "Name: pLabel, dtype: int64"
      ]
     },
     "execution_count": 12,
     "metadata": {},
     "output_type": "execute_result"
    }
   ],
   "source": [
    "n2_df['pLabel'].value_counts()[:20]"
   ]
  },
  {
   "cell_type": "code",
   "execution_count": 13,
   "metadata": {},
   "outputs": [
    {
     "data": {
      "text/plain": [
       "protein                                       23184\n",
       "protein family                                 2311\n",
       "Wikimedia category                             1017\n",
       "human                                           627\n",
       "protein domain                                  256\n",
       "commune of France                               221\n",
       "symptom                                         161\n",
       "edition                                         145\n",
       "taxon                                           136\n",
       "male given name                                 136\n",
       "city                                            128\n",
       "district of Uganda                              112\n",
       "Small GTPase superfamily                         92\n",
       "profession                                       85\n",
       "protein complex                                  83\n",
       "single-organism developmental process            81\n",
       "G protein-coupled receptor, rhodopsin-like       80\n",
       "Supersecondary structure                         79\n",
       "sovereign state                                  75\n",
       "award                                            74\n",
       "Name: oLabel, dtype: int64"
      ]
     },
     "execution_count": 13,
     "metadata": {},
     "output_type": "execute_result"
    }
   ],
   "source": [
    "n2_df.query(\"pLabel == 'instance of' | pLabel == 'subclass of'\")['oLabel'].value_counts()[:20]"
   ]
  },
  {
   "cell_type": "code",
   "execution_count": 14,
   "metadata": {},
   "outputs": [
    {
     "data": {
      "text/plain": [
       "Mus musculus                       15349\n",
       "brown rat                           6604\n",
       "Saccharomyces cerevisiae S288c      1317\n",
       "Homo sapiens                          41\n",
       "human                                  7\n",
       "Chlamydia trachomatis D/UW-3/CX        2\n",
       "Vertebrata                             1\n",
       "animal                                 1\n",
       "Ungulate                               1\n",
       "Name: oLabel, dtype: int64"
      ]
     },
     "execution_count": 14,
     "metadata": {},
     "output_type": "execute_result"
    }
   ],
   "source": [
    "n2_df.query(\"pLabel == 'found in taxon'\")['oLabel'].value_counts()[:20]"
   ]
  }
 ],
 "metadata": {
  "kernelspec": {
   "display_name": "Python 3",
   "language": "python",
   "name": "python3"
  },
  "language_info": {
   "codemirror_mode": {
    "name": "ipython",
    "version": 3
   },
   "file_extension": ".py",
   "mimetype": "text/x-python",
   "name": "python",
   "nbconvert_exporter": "python",
   "pygments_lexer": "ipython3",
   "version": "3.5.2"
  }
 },
 "nbformat": 4,
 "nbformat_minor": 2
}

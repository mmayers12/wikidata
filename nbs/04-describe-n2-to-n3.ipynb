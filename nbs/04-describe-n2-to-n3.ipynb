{
 "cells": [
  {
   "cell_type": "code",
   "execution_count": 1,
   "metadata": {
    "collapsed": true
   },
   "outputs": [],
   "source": [
    "import sys\n",
    "sys.path.append('../py')\n",
    "import sparql_tools as qt\n",
    "import pandas as pd"
   ]
  },
  {
   "cell_type": "code",
   "execution_count": 10,
   "metadata": {
    "collapsed": true
   },
   "outputs": [],
   "source": [
    "n2_nodes = qt.open_datafile('n2_nodes.txt')"
   ]
  },
  {
   "cell_type": "code",
   "execution_count": null,
   "metadata": {},
   "outputs": [
    {
     "name": "stderr",
     "output_type": "stream",
     "text": [
      " 37%|███▋      | 14375/38941 [12:15<18:17, 22.38it/s]  "
     ]
    }
   ],
   "source": [
    "n2_df = qt.query_from_list(n2_nodes)"
   ]
  },
  {
   "cell_type": "code",
   "execution_count": 7,
   "metadata": {},
   "outputs": [
    {
     "data": {
      "text/plain": [
       "508711"
      ]
     },
     "execution_count": 7,
     "metadata": {},
     "output_type": "execute_result"
    }
   ],
   "source": [
    "len(n2_df)"
   ]
  },
  {
   "cell_type": "code",
   "execution_count": 8,
   "metadata": {},
   "outputs": [
    {
     "data": {
      "text/html": [
       "<div>\n",
       "<table border=\"1\" class=\"dataframe\">\n",
       "  <thead>\n",
       "    <tr style=\"text-align: right;\">\n",
       "      <th></th>\n",
       "      <th>sLabel</th>\n",
       "      <th>pLabel</th>\n",
       "      <th>oLabel</th>\n",
       "      <th>s</th>\n",
       "      <th>p</th>\n",
       "      <th>o</th>\n",
       "    </tr>\n",
       "  </thead>\n",
       "  <tbody>\n",
       "    <tr>\n",
       "      <th>0</th>\n",
       "      <td>Serbia</td>\n",
       "      <td>diplomatic relation</td>\n",
       "      <td>France</td>\n",
       "      <td>http://www.wikidata.org/entity/Q403</td>\n",
       "      <td>http://www.wikidata.org/prop/direct/P530</td>\n",
       "      <td>http://www.wikidata.org/entity/Q142</td>\n",
       "    </tr>\n",
       "    <tr>\n",
       "      <th>1</th>\n",
       "      <td>Serbia</td>\n",
       "      <td>diplomatic relation</td>\n",
       "      <td>United Kingdom</td>\n",
       "      <td>http://www.wikidata.org/entity/Q403</td>\n",
       "      <td>http://www.wikidata.org/prop/direct/P530</td>\n",
       "      <td>http://www.wikidata.org/entity/Q145</td>\n",
       "    </tr>\n",
       "    <tr>\n",
       "      <th>2</th>\n",
       "      <td>Serbia</td>\n",
       "      <td>public holiday</td>\n",
       "      <td>Good Friday</td>\n",
       "      <td>http://www.wikidata.org/entity/Q403</td>\n",
       "      <td>http://www.wikidata.org/prop/direct/P832</td>\n",
       "      <td>http://www.wikidata.org/entity/Q40317</td>\n",
       "    </tr>\n",
       "    <tr>\n",
       "      <th>3</th>\n",
       "      <td>Serbia</td>\n",
       "      <td>public holiday</td>\n",
       "      <td>Christmas</td>\n",
       "      <td>http://www.wikidata.org/entity/Q403</td>\n",
       "      <td>http://www.wikidata.org/prop/direct/P832</td>\n",
       "      <td>http://www.wikidata.org/entity/Q19809</td>\n",
       "    </tr>\n",
       "    <tr>\n",
       "      <th>4</th>\n",
       "      <td>Serbia</td>\n",
       "      <td>diplomatic relation</td>\n",
       "      <td>Hungary</td>\n",
       "      <td>http://www.wikidata.org/entity/Q403</td>\n",
       "      <td>http://www.wikidata.org/prop/direct/P530</td>\n",
       "      <td>http://www.wikidata.org/entity/Q28</td>\n",
       "    </tr>\n",
       "  </tbody>\n",
       "</table>\n",
       "</div>"
      ],
      "text/plain": [
       "   sLabel               pLabel          oLabel  \\\n",
       "0  Serbia  diplomatic relation          France   \n",
       "1  Serbia  diplomatic relation  United Kingdom   \n",
       "2  Serbia       public holiday     Good Friday   \n",
       "3  Serbia       public holiday       Christmas   \n",
       "4  Serbia  diplomatic relation         Hungary   \n",
       "\n",
       "                                     s  \\\n",
       "0  http://www.wikidata.org/entity/Q403   \n",
       "1  http://www.wikidata.org/entity/Q403   \n",
       "2  http://www.wikidata.org/entity/Q403   \n",
       "3  http://www.wikidata.org/entity/Q403   \n",
       "4  http://www.wikidata.org/entity/Q403   \n",
       "\n",
       "                                          p  \\\n",
       "0  http://www.wikidata.org/prop/direct/P530   \n",
       "1  http://www.wikidata.org/prop/direct/P530   \n",
       "2  http://www.wikidata.org/prop/direct/P832   \n",
       "3  http://www.wikidata.org/prop/direct/P832   \n",
       "4  http://www.wikidata.org/prop/direct/P530   \n",
       "\n",
       "                                       o  \n",
       "0    http://www.wikidata.org/entity/Q142  \n",
       "1    http://www.wikidata.org/entity/Q145  \n",
       "2  http://www.wikidata.org/entity/Q40317  \n",
       "3  http://www.wikidata.org/entity/Q19809  \n",
       "4     http://www.wikidata.org/entity/Q28  "
      ]
     },
     "execution_count": 8,
     "metadata": {},
     "output_type": "execute_result"
    }
   ],
   "source": [
    "n2_df.head()"
   ]
  },
  {
   "cell_type": "code",
   "execution_count": 6,
   "metadata": {
    "collapsed": true
   },
   "outputs": [],
   "source": [
    "n2_df.to_hdf('data/n2_edges.h5', 'n2_df')"
   ]
  },
  {
   "cell_type": "markdown",
   "metadata": {},
   "source": [
    "## Save N3 nodes"
   ]
  },
  {
   "cell_type": "code",
   "execution_count": 11,
   "metadata": {
    "collapsed": true
   },
   "outputs": [],
   "source": [
    "n3_nodes = set(n2_df['o'].apply(qt.id_from_uri))\n",
    "n2_nodes = set(n2_nodes)\n",
    "n1_nodes = set(qt.open_datafile('n1_nodes.txt'))\n",
    "base_nodes = set(qt.open_datafile('basenodes.txt'))"
   ]
  },
  {
   "cell_type": "code",
   "execution_count": 12,
   "metadata": {},
   "outputs": [
    {
     "name": "stdout",
     "output_type": "stream",
     "text": [
      "84492\n",
      "38941\n",
      "71129\n",
      "252344\n"
     ]
    }
   ],
   "source": [
    "print(len(n3_nodes))\n",
    "print(len(n2_nodes))\n",
    "print(len(n1_nodes))\n",
    "print(len(base_nodes))"
   ]
  },
  {
   "cell_type": "code",
   "execution_count": 13,
   "metadata": {
    "collapsed": true
   },
   "outputs": [],
   "source": [
    "n3_filt = ((n3_nodes - n2_nodes) - n1_nodes ) - base_nodes"
   ]
  },
  {
   "cell_type": "code",
   "execution_count": 20,
   "metadata": {},
   "outputs": [
    {
     "data": {
      "text/plain": [
       "27709"
      ]
     },
     "execution_count": 20,
     "metadata": {},
     "output_type": "execute_result"
    }
   ],
   "source": [
    "len(n3_filt)"
   ]
  },
  {
   "cell_type": "code",
   "execution_count": 15,
   "metadata": {
    "collapsed": true
   },
   "outputs": [],
   "source": [
    "with open('data/n3_nodes.txt', 'w') as fout:\n",
    "    for node in n3_filt:\n",
    "        fout.write(node+'\\n')"
   ]
  },
  {
   "cell_type": "markdown",
   "metadata": {},
   "source": [
    "## Analysis on edges from N2 nodes"
   ]
  },
  {
   "cell_type": "code",
   "execution_count": 16,
   "metadata": {},
   "outputs": [
    {
     "data": {
      "text/plain": [
       "biological process                            139083\n",
       "cell component                                 91747\n",
       "molecular function                             75231\n",
       "has part                                       52674\n",
       "subclass of                                    46039\n",
       "encoded by                                     23364\n",
       "found in taxon                                 21963\n",
       "instance of                                     8423\n",
       "part of                                         4830\n",
       "contains administrative territorial entity      3442\n",
       "shares border with                              3186\n",
       "sister city                                     2908\n",
       "population                                      2733\n",
       "said to be the same as                          2452\n",
       "topic's main category                           2036\n",
       "in the administrative territorial entity        1736\n",
       "country                                         1543\n",
       "regulates (molecular biology)                   1509\n",
       "described by source                             1116\n",
       "winner                                          1073\n",
       "Name: pLabel, dtype: int64"
      ]
     },
     "execution_count": 16,
     "metadata": {},
     "output_type": "execute_result"
    }
   ],
   "source": [
    "n2_df['pLabel'].value_counts()[:20]"
   ]
  },
  {
   "cell_type": "code",
   "execution_count": 18,
   "metadata": {},
   "outputs": [
    {
     "data": {
      "text/plain": [
       "protein                                       23184\n",
       "protein family                                 2311\n",
       "Wikimedia category                             1002\n",
       "human                                           616\n",
       "protein domain                                  256\n",
       "commune of France                               221\n",
       "symptom                                         161\n",
       "edition                                         145\n",
       "male given name                                 136\n",
       "taxon                                           130\n",
       "city                                            123\n",
       "district of Uganda                              112\n",
       "Small GTPase superfamily                         92\n",
       "profession                                       84\n",
       "protein complex                                  83\n",
       "single-organism developmental process            81\n",
       "G protein-coupled receptor, rhodopsin-like       80\n",
       "Supersecondary structure                         79\n",
       "university                                       73\n",
       "award                                            73\n",
       "Name: oLabel, dtype: int64"
      ]
     },
     "execution_count": 18,
     "metadata": {},
     "output_type": "execute_result"
    }
   ],
   "source": [
    "n2_df.query(\"pLabel == 'instance of' | pLabel == 'subclass of'\")['oLabel'].value_counts()[:20]"
   ]
  },
  {
   "cell_type": "code",
   "execution_count": 19,
   "metadata": {},
   "outputs": [
    {
     "data": {
      "text/plain": [
       "Mus musculus    15349\n",
       "brown rat        6604\n",
       "human               7\n",
       "Vertebrata          1\n",
       "Ungulate            1\n",
       "animal              1\n",
       "Name: oLabel, dtype: int64"
      ]
     },
     "execution_count": 19,
     "metadata": {},
     "output_type": "execute_result"
    }
   ],
   "source": [
    "n2_df.query(\"pLabel == 'found in taxon'\")['oLabel'].value_counts()[:20]"
   ]
  },
  {
   "cell_type": "code",
   "execution_count": null,
   "metadata": {
    "collapsed": true
   },
   "outputs": [],
   "source": []
  }
 ],
 "metadata": {
  "kernelspec": {
   "display_name": "Python 3",
   "language": "python",
   "name": "python3"
  },
  "language_info": {
   "codemirror_mode": {
    "name": "ipython",
    "version": 3
   },
   "file_extension": ".py",
   "mimetype": "text/x-python",
   "name": "python",
   "nbconvert_exporter": "python",
   "pygments_lexer": "ipython3",
   "version": "3.5.2"
  }
 },
 "nbformat": 4,
 "nbformat_minor": 2
}

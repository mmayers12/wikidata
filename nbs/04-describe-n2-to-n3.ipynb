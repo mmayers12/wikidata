{
 "cells": [
  {
   "cell_type": "code",
   "execution_count": 1,
   "metadata": {
    "collapsed": true
   },
   "outputs": [],
   "source": [
    "import sys\n",
    "sys.path.append('../py')\n",
    "import sparql_tools as qt\n",
    "import pandas as pd"
   ]
  },
  {
   "cell_type": "code",
   "execution_count": 2,
   "metadata": {
    "collapsed": true
   },
   "outputs": [],
   "source": [
    "n2_nodes = qt.open_datafile('n2_nodes.txt')"
   ]
  },
  {
   "cell_type": "code",
   "execution_count": 3,
   "metadata": {},
   "outputs": [
    {
     "name": "stderr",
     "output_type": "stream",
     "text": [
      "100%|██████████| 61101/61101 [49:04<00:00, 18.58it/s]  \n"
     ]
    },
    {
     "name": "stdout",
     "output_type": "stream",
     "text": [
      "No new mappings to save\n"
     ]
    }
   ],
   "source": [
    "n2_df = qt.query_from_list(n2_nodes)"
   ]
  },
  {
   "cell_type": "code",
   "execution_count": 4,
   "metadata": {},
   "outputs": [
    {
     "data": {
      "text/plain": [
       "670062"
      ]
     },
     "execution_count": 4,
     "metadata": {},
     "output_type": "execute_result"
    }
   ],
   "source": [
    "len(n2_df)"
   ]
  },
  {
   "cell_type": "code",
   "execution_count": 5,
   "metadata": {},
   "outputs": [
    {
     "data": {
      "text/html": [
       "<div>\n",
       "<table border=\"1\" class=\"dataframe\">\n",
       "  <thead>\n",
       "    <tr style=\"text-align: right;\">\n",
       "      <th></th>\n",
       "      <th>sLabel</th>\n",
       "      <th>pLabel</th>\n",
       "      <th>oLabel</th>\n",
       "      <th>s</th>\n",
       "      <th>p</th>\n",
       "      <th>o</th>\n",
       "    </tr>\n",
       "  </thead>\n",
       "  <tbody>\n",
       "    <tr>\n",
       "      <th>0</th>\n",
       "      <td>response to DNA damage checkpoint signaling</td>\n",
       "      <td>has part</td>\n",
       "      <td>negative regulation of transcription from RNA ...</td>\n",
       "      <td>http://www.wikidata.org/entity/Q22254449</td>\n",
       "      <td>http://www.wikidata.org/prop/direct/P527</td>\n",
       "      <td>http://www.wikidata.org/entity/Q22254452</td>\n",
       "    </tr>\n",
       "    <tr>\n",
       "      <th>1</th>\n",
       "      <td>response to DNA damage checkpoint signaling</td>\n",
       "      <td>subclass of</td>\n",
       "      <td>response to DNA integrity checkpoint signaling</td>\n",
       "      <td>http://www.wikidata.org/entity/Q22254449</td>\n",
       "      <td>http://www.wikidata.org/prop/direct/P279</td>\n",
       "      <td>http://www.wikidata.org/entity/Q22273708</td>\n",
       "    </tr>\n",
       "    <tr>\n",
       "      <th>2</th>\n",
       "      <td>Similar to RIKEN cDNA 4921507P07</td>\n",
       "      <td>cell component</td>\n",
       "      <td>centrosome</td>\n",
       "      <td>http://www.wikidata.org/entity/Q28561142</td>\n",
       "      <td>http://www.wikidata.org/prop/direct/P681</td>\n",
       "      <td>http://www.wikidata.org/entity/Q190769</td>\n",
       "    </tr>\n",
       "    <tr>\n",
       "      <th>3</th>\n",
       "      <td>Similar to RIKEN cDNA 4921507P07</td>\n",
       "      <td>cell component</td>\n",
       "      <td>cytoskeleton</td>\n",
       "      <td>http://www.wikidata.org/entity/Q28561142</td>\n",
       "      <td>http://www.wikidata.org/prop/direct/P681</td>\n",
       "      <td>http://www.wikidata.org/entity/Q154626</td>\n",
       "    </tr>\n",
       "    <tr>\n",
       "      <th>4</th>\n",
       "      <td>Similar to RIKEN cDNA 4921507P07</td>\n",
       "      <td>found in taxon</td>\n",
       "      <td>brown rat</td>\n",
       "      <td>http://www.wikidata.org/entity/Q28561142</td>\n",
       "      <td>http://www.wikidata.org/prop/direct/P703</td>\n",
       "      <td>http://www.wikidata.org/entity/Q184224</td>\n",
       "    </tr>\n",
       "  </tbody>\n",
       "</table>\n",
       "</div>"
      ],
      "text/plain": [
       "                                        sLabel          pLabel  \\\n",
       "0  response to DNA damage checkpoint signaling        has part   \n",
       "1  response to DNA damage checkpoint signaling     subclass of   \n",
       "2             Similar to RIKEN cDNA 4921507P07  cell component   \n",
       "3             Similar to RIKEN cDNA 4921507P07  cell component   \n",
       "4             Similar to RIKEN cDNA 4921507P07  found in taxon   \n",
       "\n",
       "                                              oLabel  \\\n",
       "0  negative regulation of transcription from RNA ...   \n",
       "1     response to DNA integrity checkpoint signaling   \n",
       "2                                         centrosome   \n",
       "3                                       cytoskeleton   \n",
       "4                                          brown rat   \n",
       "\n",
       "                                          s  \\\n",
       "0  http://www.wikidata.org/entity/Q22254449   \n",
       "1  http://www.wikidata.org/entity/Q22254449   \n",
       "2  http://www.wikidata.org/entity/Q28561142   \n",
       "3  http://www.wikidata.org/entity/Q28561142   \n",
       "4  http://www.wikidata.org/entity/Q28561142   \n",
       "\n",
       "                                          p  \\\n",
       "0  http://www.wikidata.org/prop/direct/P527   \n",
       "1  http://www.wikidata.org/prop/direct/P279   \n",
       "2  http://www.wikidata.org/prop/direct/P681   \n",
       "3  http://www.wikidata.org/prop/direct/P681   \n",
       "4  http://www.wikidata.org/prop/direct/P703   \n",
       "\n",
       "                                          o  \n",
       "0  http://www.wikidata.org/entity/Q22254452  \n",
       "1  http://www.wikidata.org/entity/Q22273708  \n",
       "2    http://www.wikidata.org/entity/Q190769  \n",
       "3    http://www.wikidata.org/entity/Q154626  \n",
       "4    http://www.wikidata.org/entity/Q184224  "
      ]
     },
     "execution_count": 5,
     "metadata": {},
     "output_type": "execute_result"
    }
   ],
   "source": [
    "n2_df.head()"
   ]
  },
  {
   "cell_type": "code",
   "execution_count": 6,
   "metadata": {
    "collapsed": true
   },
   "outputs": [],
   "source": [
    "n2_df.to_hdf('data/n2_edges.h5', 'n2_df')"
   ]
  },
  {
   "cell_type": "markdown",
   "metadata": {},
   "source": [
    "## Save N3 nodes"
   ]
  },
  {
   "cell_type": "code",
   "execution_count": 7,
   "metadata": {
    "collapsed": true
   },
   "outputs": [],
   "source": [
    "n3_nodes = set(n2_df['o'])\n",
    "n2_nodes = set(n2_df['s'])\n",
    "n1_nodes = set(qt.open_datafile('n1_nodes.txt'))\n",
    "base_nodes = set(qt.open_datafile('basenodes.txt'))"
   ]
  },
  {
   "cell_type": "code",
   "execution_count": 8,
   "metadata": {},
   "outputs": [
    {
     "name": "stdout",
     "output_type": "stream",
     "text": [
      "128176\n",
      "59784\n",
      "71129\n",
      "252344\n"
     ]
    }
   ],
   "source": [
    "print(len(n3_nodes))\n",
    "print(len(n2_nodes))\n",
    "print(len(n1_nodes))\n",
    "print(len(base_nodes))"
   ]
  },
  {
   "cell_type": "code",
   "execution_count": 9,
   "metadata": {
    "collapsed": true
   },
   "outputs": [],
   "source": [
    "n3_filt = ((n3_nodes - n2_nodes) - n1_nodes ) - base_nodes"
   ]
  },
  {
   "cell_type": "code",
   "execution_count": 10,
   "metadata": {},
   "outputs": [
    {
     "data": {
      "text/plain": [
       "121461"
      ]
     },
     "execution_count": 10,
     "metadata": {},
     "output_type": "execute_result"
    }
   ],
   "source": [
    "len(n3_filt)"
   ]
  },
  {
   "cell_type": "code",
   "execution_count": 11,
   "metadata": {
    "collapsed": true
   },
   "outputs": [],
   "source": [
    "with open('data/n3_nodes.txt', 'w') as fout:\n",
    "    for node in n3_filt:\n",
    "        fout.write(node+'\\n')"
   ]
  },
  {
   "cell_type": "markdown",
   "metadata": {},
   "source": [
    "## Analysis on edges from N2 nodes"
   ]
  },
  {
   "cell_type": "code",
   "execution_count": 12,
   "metadata": {},
   "outputs": [
    {
     "data": {
      "text/plain": [
       "biological process                            140300\n",
       "cell component                                 92285\n",
       "subclass of                                    83615\n",
       "molecular function                             75707\n",
       "has part                                       56653\n",
       "ortholog                                       35344\n",
       "encoded by                                     25208\n",
       "encodes                                        23132\n",
       "found in taxon                                 21963\n",
       "chromosome                                     19699\n",
       "strand orientation                             19679\n",
       "instance of                                    13874\n",
       "part of                                         4861\n",
       "genetic association                             3702\n",
       "contains administrative territorial entity      3442\n",
       "shares border with                              3186\n",
       "sister city                                     2908\n",
       "topic's main category                           2803\n",
       "population                                      2733\n",
       "said to be the same as                          2476\n",
       "Name: pLabel, dtype: int64"
      ]
     },
     "execution_count": 12,
     "metadata": {},
     "output_type": "execute_result"
    }
   ],
   "source": [
    "n2_df['pLabel'].value_counts()[:20]"
   ]
  },
  {
   "cell_type": "code",
   "execution_count": 13,
   "metadata": {},
   "outputs": [
    {
     "data": {
      "text/plain": [
       "protein                    23268\n",
       "gene                       18116\n",
       "protein-coding gene        17999\n",
       "protein family              2311\n",
       "microRNA                    1693\n",
       "chemical compound           1607\n",
       "Wikimedia category          1002\n",
       "disease                      768\n",
       "human                        616\n",
       "pharmaceutical drug          486\n",
       "protein domain               256\n",
       "commune of France            221\n",
       "symptom                      165\n",
       "edition                      145\n",
       "male given name              136\n",
       "taxon                        130\n",
       "city                         123\n",
       "district of Uganda           112\n",
       "occupational carcinogen      100\n",
       "flammable solid               92\n",
       "Name: oLabel, dtype: int64"
      ]
     },
     "execution_count": 13,
     "metadata": {},
     "output_type": "execute_result"
    }
   ],
   "source": [
    "n2_df.query(\"pLabel == 'instance of' | pLabel == 'subclass of'\")['oLcvabel'].value_counts()[:20]"
   ]
  },
  {
   "cell_type": "code",
   "execution_count": 15,
   "metadata": {},
   "outputs": [
    {
     "data": {
      "text/plain": [
       "Mus musculus    15349\n",
       "brown rat        6604\n",
       "human               7\n",
       "animal              1\n",
       "Vertebrata          1\n",
       "Ungulate            1\n",
       "Name: oLabel, dtype: int64"
      ]
     },
     "execution_count": 15,
     "metadata": {},
     "output_type": "execute_result"
    }
   ],
   "source": [
    "n2_df.query(\"pLabel == 'found in taxon'\")['oLabel'].value_counts()[:20]"
   ]
  },
  {
   "cell_type": "code",
   "execution_count": null,
   "metadata": {
    "collapsed": true
   },
   "outputs": [],
   "source": []
  }
 ],
 "metadata": {
  "kernelspec": {
   "display_name": "Python 3",
   "language": "python",
   "name": "python3"
  },
  "language_info": {
   "codemirror_mode": {
    "name": "ipython",
    "version": 3
   },
   "file_extension": ".py",
   "mimetype": "text/x-python",
   "name": "python",
   "nbconvert_exporter": "python",
   "pygments_lexer": "ipython3",
   "version": "3.5.2"
  }
 },
 "nbformat": 4,
 "nbformat_minor": 2
}

{
 "cells": [
  {
   "cell_type": "markdown",
   "metadata": {},
   "source": [
    "# Edges from the base nodes of the Biomedical Dataspace of WikiData"
   ]
  },
  {
   "cell_type": "code",
   "execution_count": 1,
   "metadata": {
    "collapsed": true
   },
   "outputs": [],
   "source": [
    "from pymantic import sparql\n",
    "import pandas as pd\n",
    "\n",
    "server = sparql.SPARQLServer('http://127.0.0.1:9999/bigdata/sparql')"
   ]
  },
  {
   "cell_type": "code",
   "execution_count": 60,
   "metadata": {
    "collapsed": true
   },
   "outputs": [],
   "source": [
    "import xmltodict\n",
    "import requests\n",
    "import json\n",
    "import os\n",
    "\n",
    "# Create a dict to store property labels\n",
    "# If this isnt the first run through, load the dict from\n",
    "# a file\n",
    "if os.path.exists('wd_properties.json'):\n",
    "    with open('wd_properties.json', 'r') as fin:\n",
    "        prop_dict = json.load(fin)\n",
    "else:\n",
    "    prop_dict = dict()\n",
    "    \n",
    "\n",
    "def get_prop_label(prop):\n",
    "    \"\"\"\n",
    "    Function to get the property name from a property P-value\n",
    "    \n",
    "    prop: String, the wikidata property code (e.g. P31)\n",
    "    return: String, the label for the given property (e.g. P31 reutrns 'instance of')\n",
    "    \"\"\"\n",
    "    \n",
    "    # If there's already a local properties file, \n",
    "    # Check to see if the property is alreay in the file\n",
    "    if os.path.exists('wd_properties.json'):\n",
    "        with open('wd_properties.json', 'r') as fin:\n",
    "            prop_dict = json.load(fin)\n",
    "        if prop in prop_dict:\n",
    "            return prop_dict[prop]\n",
    "    \n",
    "    else:\n",
    "        # request the info for the property\n",
    "        r = requests.get('http://www.wikidata.org/prop/direct/' + prop)\n",
    "        # Parse the xml\n",
    "        rdict = xmltodict.parse(r.text)\n",
    "        # Get the page title which is the property name\n",
    "        title = rdict['html']['head']['title']\n",
    "    \n",
    "        # titles appear like this: 'Title name - Wikidata'\n",
    "        # Just want the title name\n",
    "        title = title[:title.find('-')-1]\n",
    "    \n",
    "    return title    "
   ]
  },
  {
   "cell_type": "code",
   "execution_count": 3,
   "metadata": {
    "collapsed": true
   },
   "outputs": [],
   "source": [
    "def id_from_uri(uri):\n",
    "    \"\"\"\n",
    "    Splits the URI for a property to give the ID \n",
    "    \n",
    "    uri: String, the URI for the property\n",
    "    return: String, the entity or property's ID (e.g. Q20747295 or P31)\n",
    "    \"\"\"\n",
    "    return uri.split('/')[-1]"
   ]
  },
  {
   "cell_type": "code",
   "execution_count": 4,
   "metadata": {
    "collapsed": true
   },
   "outputs": [],
   "source": [
    "def query_to_df(result):\n",
    "    \"\"\"\n",
    "    Takes the json result from a sparql query and converts to a Pandas DataFrame\n",
    "    \n",
    "    result: json, result from sparql query\n",
    "    return: DataFrame, results in tabulated dataframe format\n",
    "    \"\"\"\n",
    "    dat = result['results']['bindings']\n",
    "    dat1 = []\n",
    "    for d in dat:\n",
    "        d = {k:v['value'] for k, v in d.items()}\n",
    "        dat1.append(d)\n",
    "    return pd.DataFrame(dat1)"
   ]
  },
  {
   "cell_type": "markdown",
   "metadata": {},
   "source": [
    "## Diseases"
   ]
  },
  {
   "cell_type": "code",
   "execution_count": 28,
   "metadata": {
    "collapsed": true
   },
   "outputs": [],
   "source": [
    "query = \"\"\"\n",
    "SELECT distinct ?disease ?diseaseLabel ?p ?o ?oLabel\n",
    "WHERE\n",
    "{\n",
    "    # disease is instace of disease\n",
    "    ?disease wdt:P31 wd:Q12136 .\n",
    "    # Get edges and targets\n",
    "    ?disease ?p ?o .\n",
    "    FILTER NOT EXISTS {?o rdf:type ?type .}\n",
    "    # Make sure edges ave there own edges and targes\n",
    "    ?o ?p2 ?o2 .\n",
    "    FILTER NOT EXISTS {?o2 rdf:type ?type .}\n",
    "    SERVICE wikibase:label { bd:serviceParam wikibase:language \"en\" }\n",
    "}\"\"\""
   ]
  },
  {
   "cell_type": "code",
   "execution_count": 38,
   "metadata": {},
   "outputs": [
    {
     "name": "stdout",
     "output_type": "stream",
     "text": [
      "CPU times: user 292 ms, sys: 1.48 s, total: 1.78 s\n",
      "Wall time: 1min 43s\n"
     ]
    }
   ],
   "source": [
    "%time result = server.query(query)"
   ]
  },
  {
   "cell_type": "code",
   "execution_count": null,
   "metadata": {
    "collapsed": true
   },
   "outputs": [],
   "source": [
    "disease_df = query_to_df(result)"
   ]
  },
  {
   "cell_type": "markdown",
   "metadata": {},
   "source": [
    "Get Human Readable labels for the Properties"
   ]
  },
  {
   "cell_type": "code",
   "execution_count": 40,
   "metadata": {
    "collapsed": true
   },
   "outputs": [],
   "source": [
    "props = set(disease_df['p'].apply(id_from_uri))\n",
    "prop_dict.update({prop: get_prop_label(prop) for prop in props})\n",
    "\n",
    "disease_df['pLabel'] = disease_df['p'].apply(lambda x: prop_dict[id_from_uri(x)])"
   ]
  },
  {
   "cell_type": "code",
   "execution_count": 41,
   "metadata": {},
   "outputs": [
    {
     "data": {
      "text/plain": [
       "29606"
      ]
     },
     "execution_count": 41,
     "metadata": {},
     "output_type": "execute_result"
    }
   ],
   "source": [
    "len(disease_df)"
   ]
  },
  {
   "cell_type": "code",
   "execution_count": 110,
   "metadata": {
    "collapsed": true
   },
   "outputs": [],
   "source": [
    "test = disease_df[disease_df.duplicated(subset=['diseaseLabel', 'pLabel', 'oLabel'], keep=False)]\n"
   ]
  },
  {
   "cell_type": "code",
   "execution_count": 111,
   "metadata": {},
   "outputs": [
    {
     "data": {
      "text/plain": [
       "disease         http://www.wikidata.org/entity/Q18554674\n",
       "diseaseLabel                            cerebral malaria\n",
       "o                  http://www.wikidata.org/entity/Q12156\n",
       "oLabel                                           malaria\n",
       "p               http://www.wikidata.org/prop/direct/P279\n",
       "pLabel                                       subclass of\n",
       "Name: 1329, dtype: object"
      ]
     },
     "execution_count": 111,
     "metadata": {},
     "output_type": "execute_result"
    }
   ],
   "source": [
    "test.loc[1329]\n"
   ]
  },
  {
   "cell_type": "code",
   "execution_count": 112,
   "metadata": {},
   "outputs": [
    {
     "data": {
      "text/plain": [
       "disease          http://www.wikidata.org/entity/Q2822915\n",
       "diseaseLabel                            cerebral malaria\n",
       "o                  http://www.wikidata.org/entity/Q12156\n",
       "oLabel                                           malaria\n",
       "p               http://www.wikidata.org/prop/direct/P279\n",
       "pLabel                                       subclass of\n",
       "Name: 1361, dtype: object"
      ]
     },
     "execution_count": 112,
     "metadata": {},
     "output_type": "execute_result"
    }
   ],
   "source": [
    "test.loc[1361]"
   ]
  },
  {
   "cell_type": "code",
   "execution_count": 42,
   "metadata": {},
   "outputs": [
    {
     "data": {
      "text/html": [
       "<div>\n",
       "<table border=\"1\" class=\"dataframe\">\n",
       "  <thead>\n",
       "    <tr style=\"text-align: right;\">\n",
       "      <th></th>\n",
       "      <th>diseaseLabel</th>\n",
       "      <th>pLabel</th>\n",
       "      <th>oLabel</th>\n",
       "    </tr>\n",
       "  </thead>\n",
       "  <tbody>\n",
       "    <tr>\n",
       "      <th>0</th>\n",
       "      <td>chronic cystitis</td>\n",
       "      <td>subclass of</td>\n",
       "      <td>cystitis</td>\n",
       "    </tr>\n",
       "    <tr>\n",
       "      <th>1</th>\n",
       "      <td>Alzheimer's disease 2</td>\n",
       "      <td>subclass of</td>\n",
       "      <td>Alzheimer's disease</td>\n",
       "    </tr>\n",
       "    <tr>\n",
       "      <th>2</th>\n",
       "      <td>Alzheimer's disease 4</td>\n",
       "      <td>subclass of</td>\n",
       "      <td>Alzheimer's disease</td>\n",
       "    </tr>\n",
       "    <tr>\n",
       "      <th>3</th>\n",
       "      <td>Alzheimer's disease 8</td>\n",
       "      <td>subclass of</td>\n",
       "      <td>Alzheimer's disease</td>\n",
       "    </tr>\n",
       "    <tr>\n",
       "      <th>4</th>\n",
       "      <td>Alzheimer's disease 7</td>\n",
       "      <td>subclass of</td>\n",
       "      <td>Alzheimer's disease</td>\n",
       "    </tr>\n",
       "    <tr>\n",
       "      <th>5</th>\n",
       "      <td>Alzheimer's disease 19</td>\n",
       "      <td>subclass of</td>\n",
       "      <td>Alzheimer's disease</td>\n",
       "    </tr>\n",
       "    <tr>\n",
       "      <th>6</th>\n",
       "      <td>hemorrhagic cystitis</td>\n",
       "      <td>subclass of</td>\n",
       "      <td>cystitis</td>\n",
       "    </tr>\n",
       "    <tr>\n",
       "      <th>7</th>\n",
       "      <td>Clay-shoveler fracture</td>\n",
       "      <td>subclass of</td>\n",
       "      <td>spinal fracture</td>\n",
       "    </tr>\n",
       "    <tr>\n",
       "      <th>8</th>\n",
       "      <td>acute cystitis</td>\n",
       "      <td>subclass of</td>\n",
       "      <td>cystitis</td>\n",
       "    </tr>\n",
       "    <tr>\n",
       "      <th>9</th>\n",
       "      <td>Alzheimer's disease 6</td>\n",
       "      <td>subclass of</td>\n",
       "      <td>Alzheimer's disease</td>\n",
       "    </tr>\n",
       "    <tr>\n",
       "      <th>10</th>\n",
       "      <td>Alzheimer's disease 11</td>\n",
       "      <td>subclass of</td>\n",
       "      <td>Alzheimer's disease</td>\n",
       "    </tr>\n",
       "    <tr>\n",
       "      <th>11</th>\n",
       "      <td>Alzheimer's disease 14</td>\n",
       "      <td>subclass of</td>\n",
       "      <td>Alzheimer's disease</td>\n",
       "    </tr>\n",
       "    <tr>\n",
       "      <th>12</th>\n",
       "      <td>Alzheimer's disease 15</td>\n",
       "      <td>subclass of</td>\n",
       "      <td>Alzheimer's disease</td>\n",
       "    </tr>\n",
       "    <tr>\n",
       "      <th>13</th>\n",
       "      <td>meibomian cyst</td>\n",
       "      <td>anatomical location</td>\n",
       "      <td>Meibomian gland</td>\n",
       "    </tr>\n",
       "    <tr>\n",
       "      <th>14</th>\n",
       "      <td>Leber congenital amaurosis 12</td>\n",
       "      <td>subclass of</td>\n",
       "      <td>Leber congenital amaurosis</td>\n",
       "    </tr>\n",
       "    <tr>\n",
       "      <th>15</th>\n",
       "      <td>Leber congenital amaurosis 16</td>\n",
       "      <td>subclass of</td>\n",
       "      <td>Leber congenital amaurosis</td>\n",
       "    </tr>\n",
       "    <tr>\n",
       "      <th>16</th>\n",
       "      <td>Leber congenital amaurosis 11</td>\n",
       "      <td>subclass of</td>\n",
       "      <td>Leber congenital amaurosis</td>\n",
       "    </tr>\n",
       "    <tr>\n",
       "      <th>17</th>\n",
       "      <td>Leber congenital amaurosis 10</td>\n",
       "      <td>subclass of</td>\n",
       "      <td>Leber congenital amaurosis</td>\n",
       "    </tr>\n",
       "    <tr>\n",
       "      <th>18</th>\n",
       "      <td>Leber congenital amaurosis 4</td>\n",
       "      <td>subclass of</td>\n",
       "      <td>Leber congenital amaurosis</td>\n",
       "    </tr>\n",
       "    <tr>\n",
       "      <th>19</th>\n",
       "      <td>prostatocystitis</td>\n",
       "      <td>subclass of</td>\n",
       "      <td>cystitis</td>\n",
       "    </tr>\n",
       "  </tbody>\n",
       "</table>\n",
       "</div>"
      ],
      "text/plain": [
       "                     diseaseLabel               pLabel  \\\n",
       "0                chronic cystitis          subclass of   \n",
       "1           Alzheimer's disease 2          subclass of   \n",
       "2           Alzheimer's disease 4          subclass of   \n",
       "3           Alzheimer's disease 8          subclass of   \n",
       "4           Alzheimer's disease 7          subclass of   \n",
       "5          Alzheimer's disease 19          subclass of   \n",
       "6            hemorrhagic cystitis          subclass of   \n",
       "7          Clay-shoveler fracture          subclass of   \n",
       "8                  acute cystitis          subclass of   \n",
       "9           Alzheimer's disease 6          subclass of   \n",
       "10         Alzheimer's disease 11          subclass of   \n",
       "11         Alzheimer's disease 14          subclass of   \n",
       "12         Alzheimer's disease 15          subclass of   \n",
       "13                 meibomian cyst  anatomical location   \n",
       "14  Leber congenital amaurosis 12          subclass of   \n",
       "15  Leber congenital amaurosis 16          subclass of   \n",
       "16  Leber congenital amaurosis 11          subclass of   \n",
       "17  Leber congenital amaurosis 10          subclass of   \n",
       "18   Leber congenital amaurosis 4          subclass of   \n",
       "19               prostatocystitis          subclass of   \n",
       "\n",
       "                        oLabel  \n",
       "0                     cystitis  \n",
       "1          Alzheimer's disease  \n",
       "2          Alzheimer's disease  \n",
       "3          Alzheimer's disease  \n",
       "4          Alzheimer's disease  \n",
       "5          Alzheimer's disease  \n",
       "6                     cystitis  \n",
       "7              spinal fracture  \n",
       "8                     cystitis  \n",
       "9          Alzheimer's disease  \n",
       "10         Alzheimer's disease  \n",
       "11         Alzheimer's disease  \n",
       "12         Alzheimer's disease  \n",
       "13             Meibomian gland  \n",
       "14  Leber congenital amaurosis  \n",
       "15  Leber congenital amaurosis  \n",
       "16  Leber congenital amaurosis  \n",
       "17  Leber congenital amaurosis  \n",
       "18  Leber congenital amaurosis  \n",
       "19                    cystitis  "
      ]
     },
     "execution_count": 42,
     "metadata": {},
     "output_type": "execute_result"
    }
   ],
   "source": [
    "disease_df[['diseaseLabel', 'pLabel', 'oLabel']].head(20)"
   ]
  },
  {
   "cell_type": "code",
   "execution_count": 43,
   "metadata": {
    "scrolled": false
   },
   "outputs": [
    {
     "data": {
      "text/plain": [
       "subclass of                11169\n",
       "instance of                 8818\n",
       "drug used for treatment     2923\n",
       "medical specialty           2211\n",
       "genetic association         2182\n",
       "has cause                    398\n",
       "topic's main category        359\n",
       "symptoms                     303\n",
       "described by source          177\n",
       "afflicts                     176\n",
       "named after                  166\n",
       "anatomical location          158\n",
       "medical examinations          68\n",
       "cause of                      58\n",
       "discoverer or inventor        51\n",
       "equivalent class              48\n",
       "Disease Ontology ID           39\n",
       "said to be the same as        32\n",
       "IC                            31\n",
       "different from                29\n",
       "Name: pLabel, dtype: int64"
      ]
     },
     "execution_count": 43,
     "metadata": {},
     "output_type": "execute_result"
    }
   ],
   "source": [
    "disease_df['pLabel'].value_counts()[:20]"
   ]
  },
  {
   "cell_type": "code",
   "execution_count": 69,
   "metadata": {
    "collapsed": true
   },
   "outputs": [],
   "source": [
    "# Save to disk\n",
    "disease_df.to_hdf('data/disease_edges.h5', 'disase_df')"
   ]
  },
  {
   "cell_type": "markdown",
   "metadata": {},
   "source": [
    "## Genes\n",
    "\n",
    "There are too many genes for a single query, doing this results in a MemoryManagerOutOfMemory error.  \n",
    "Therefore, we will loop through the list of genes, doing each query independently."
   ]
  },
  {
   "cell_type": "code",
   "execution_count": 51,
   "metadata": {
    "collapsed": true
   },
   "outputs": [],
   "source": [
    "query = \"\"\"\n",
    "SELECT distinct ?gene ?geneLabel ?p ?o ?oLabel\n",
    "WHERE\n",
    "{{\n",
    "    values ?gene {{wd:{}}}\n",
    "    # Get edges and targets\n",
    "    ?gene ?p ?o .\n",
    "    FILTER NOT EXISTS {{?o rdf:type ?type .}}\n",
    "    # Make sure edges ave there own edges and targes\n",
    "    ?o ?p2 ?o2 .\n",
    "    FILTER NOT EXISTS {{?o2 rdf:type ?type .}}\n",
    "    SERVICE wikibase:label {{ bd:serviceParam wikibase:language \"en\" }}\n",
    "}}\"\"\""
   ]
  },
  {
   "cell_type": "code",
   "execution_count": 48,
   "metadata": {
    "collapsed": true
   },
   "outputs": [],
   "source": [
    "def open_datafile(filename):\n",
    "    \"\"\"\n",
    "    Opens a file and returns the data as a list\n",
    "    \n",
    "    filename: String, the name of the file\n",
    "    return: List, the list of the items in the datafile\n",
    "    \"\"\"\n",
    "    out_list = []\n",
    "    with open('data/'+filename, 'r') as fin:\n",
    "        for line in fin.readlines():\n",
    "            out_list.append(line.strip())\n",
    "    return out_list"
   ]
  },
  {
   "cell_type": "code",
   "execution_count": 49,
   "metadata": {
    "collapsed": true
   },
   "outputs": [],
   "source": [
    "h_genes = open_datafile('h_genes.txt')"
   ]
  },
  {
   "cell_type": "code",
   "execution_count": 53,
   "metadata": {
    "collapsed": true
   },
   "outputs": [],
   "source": [
    "from tqdm import tqdm"
   ]
  },
  {
   "cell_type": "markdown",
   "metadata": {},
   "source": [
    "Query each gene to get edges and nodes they point to"
   ]
  },
  {
   "cell_type": "code",
   "execution_count": 54,
   "metadata": {},
   "outputs": [
    {
     "name": "stderr",
     "output_type": "stream",
     "text": [
      "100%|██████████| 60162/60162 [24:18<00:00, 29.91it/s]\n"
     ]
    }
   ],
   "source": [
    "results = []\n",
    "for gene in tqdm(h_genes):\n",
    "    results.append(server.query(query.format(gene)))"
   ]
  },
  {
   "cell_type": "markdown",
   "metadata": {},
   "source": [
    "Convert the results to a DataFrame and concatanate the results"
   ]
  },
  {
   "cell_type": "code",
   "execution_count": 55,
   "metadata": {},
   "outputs": [
    {
     "name": "stderr",
     "output_type": "stream",
     "text": [
      "100%|██████████| 60162/60162 [00:54<00:00, 1110.15it/s]\n"
     ]
    }
   ],
   "source": [
    "results_dfs = []\n",
    "for result in tqdm(results):\n",
    "    results_dfs.append(query_to_df(result))"
   ]
  },
  {
   "cell_type": "code",
   "execution_count": 65,
   "metadata": {},
   "outputs": [
    {
     "data": {
      "text/plain": [
       "231966"
      ]
     },
     "execution_count": 65,
     "metadata": {},
     "output_type": "execute_result"
    }
   ],
   "source": [
    "gene_df = pd.concat(results_dfs)\n",
    "gene_df = gene_df.reset_index(drop=True)\n",
    "len(gene_df)"
   ]
  },
  {
   "cell_type": "code",
   "execution_count": 61,
   "metadata": {
    "collapsed": true
   },
   "outputs": [],
   "source": [
    "props = set(gene_df['p'].apply(id_from_uri))\n",
    "prop_dict.update({prop: get_prop_label(prop) for prop in props})\n",
    "\n",
    "gene_df['pLabel'] = gene_df['p'].apply(lambda x: prop_dict[id_from_uri(x)])"
   ]
  },
  {
   "cell_type": "code",
   "execution_count": 66,
   "metadata": {},
   "outputs": [
    {
     "data": {
      "text/html": [
       "<div>\n",
       "<table border=\"1\" class=\"dataframe\">\n",
       "  <thead>\n",
       "    <tr style=\"text-align: right;\">\n",
       "      <th></th>\n",
       "      <th>geneLabel</th>\n",
       "      <th>pLabel</th>\n",
       "      <th>oLabel</th>\n",
       "    </tr>\n",
       "  </thead>\n",
       "  <tbody>\n",
       "    <tr>\n",
       "      <th>0</th>\n",
       "      <td>DYZ1L27</td>\n",
       "      <td>subclass of</td>\n",
       "      <td>gene</td>\n",
       "    </tr>\n",
       "    <tr>\n",
       "      <th>1</th>\n",
       "      <td>MAPK12</td>\n",
       "      <td>chromosome</td>\n",
       "      <td>Homo sapiens chromosome 22</td>\n",
       "    </tr>\n",
       "    <tr>\n",
       "      <th>2</th>\n",
       "      <td>MAPK12</td>\n",
       "      <td>ortholog</td>\n",
       "      <td>Mapk12</td>\n",
       "    </tr>\n",
       "    <tr>\n",
       "      <th>3</th>\n",
       "      <td>MAPK12</td>\n",
       "      <td>subclass of</td>\n",
       "      <td>protein-coding gene</td>\n",
       "    </tr>\n",
       "    <tr>\n",
       "      <th>4</th>\n",
       "      <td>MAPK12</td>\n",
       "      <td>encodes</td>\n",
       "      <td>Mitogen-activated protein kinase 12</td>\n",
       "    </tr>\n",
       "    <tr>\n",
       "      <th>5</th>\n",
       "      <td>MAPK12</td>\n",
       "      <td>ortholog</td>\n",
       "      <td>Mapk12</td>\n",
       "    </tr>\n",
       "    <tr>\n",
       "      <th>6</th>\n",
       "      <td>MAPK12</td>\n",
       "      <td>strand orientation</td>\n",
       "      <td>Reverse Strand</td>\n",
       "    </tr>\n",
       "    <tr>\n",
       "      <th>7</th>\n",
       "      <td>MAPK12</td>\n",
       "      <td>subclass of</td>\n",
       "      <td>gene</td>\n",
       "    </tr>\n",
       "    <tr>\n",
       "      <th>8</th>\n",
       "      <td>OOEP-AS1</td>\n",
       "      <td>subclass of</td>\n",
       "      <td>gene</td>\n",
       "    </tr>\n",
       "    <tr>\n",
       "      <th>9</th>\n",
       "      <td>OOEP-AS1</td>\n",
       "      <td>subclass of</td>\n",
       "      <td>non-coding RNA</td>\n",
       "    </tr>\n",
       "    <tr>\n",
       "      <th>10</th>\n",
       "      <td>LOC145945</td>\n",
       "      <td>subclass of</td>\n",
       "      <td>gene</td>\n",
       "    </tr>\n",
       "    <tr>\n",
       "      <th>11</th>\n",
       "      <td>FAM186B</td>\n",
       "      <td>chromosome</td>\n",
       "      <td>Homo sapiens chromosome 12</td>\n",
       "    </tr>\n",
       "    <tr>\n",
       "      <th>12</th>\n",
       "      <td>FAM186B</td>\n",
       "      <td>encodes</td>\n",
       "      <td>Family with sequence similarity 186 member B</td>\n",
       "    </tr>\n",
       "    <tr>\n",
       "      <th>13</th>\n",
       "      <td>FAM186B</td>\n",
       "      <td>subclass of</td>\n",
       "      <td>protein-coding gene</td>\n",
       "    </tr>\n",
       "    <tr>\n",
       "      <th>14</th>\n",
       "      <td>FAM186B</td>\n",
       "      <td>ortholog</td>\n",
       "      <td>Fam186b</td>\n",
       "    </tr>\n",
       "    <tr>\n",
       "      <th>15</th>\n",
       "      <td>FAM186B</td>\n",
       "      <td>ortholog</td>\n",
       "      <td>Fam186b</td>\n",
       "    </tr>\n",
       "    <tr>\n",
       "      <th>16</th>\n",
       "      <td>FAM186B</td>\n",
       "      <td>strand orientation</td>\n",
       "      <td>Reverse Strand</td>\n",
       "    </tr>\n",
       "    <tr>\n",
       "      <th>17</th>\n",
       "      <td>FAM186B</td>\n",
       "      <td>subclass of</td>\n",
       "      <td>gene</td>\n",
       "    </tr>\n",
       "    <tr>\n",
       "      <th>18</th>\n",
       "      <td>SPCS2</td>\n",
       "      <td>chromosome</td>\n",
       "      <td>Homo sapiens chromosome 11</td>\n",
       "    </tr>\n",
       "    <tr>\n",
       "      <th>19</th>\n",
       "      <td>SPCS2</td>\n",
       "      <td>subclass of</td>\n",
       "      <td>protein-coding gene</td>\n",
       "    </tr>\n",
       "  </tbody>\n",
       "</table>\n",
       "</div>"
      ],
      "text/plain": [
       "    geneLabel              pLabel  \\\n",
       "0     DYZ1L27         subclass of   \n",
       "1      MAPK12          chromosome   \n",
       "2      MAPK12            ortholog   \n",
       "3      MAPK12         subclass of   \n",
       "4      MAPK12             encodes   \n",
       "5      MAPK12            ortholog   \n",
       "6      MAPK12  strand orientation   \n",
       "7      MAPK12         subclass of   \n",
       "8    OOEP-AS1         subclass of   \n",
       "9    OOEP-AS1         subclass of   \n",
       "10  LOC145945         subclass of   \n",
       "11    FAM186B          chromosome   \n",
       "12    FAM186B             encodes   \n",
       "13    FAM186B         subclass of   \n",
       "14    FAM186B            ortholog   \n",
       "15    FAM186B            ortholog   \n",
       "16    FAM186B  strand orientation   \n",
       "17    FAM186B         subclass of   \n",
       "18      SPCS2          chromosome   \n",
       "19      SPCS2         subclass of   \n",
       "\n",
       "                                          oLabel  \n",
       "0                                           gene  \n",
       "1                     Homo sapiens chromosome 22  \n",
       "2                                         Mapk12  \n",
       "3                            protein-coding gene  \n",
       "4            Mitogen-activated protein kinase 12  \n",
       "5                                         Mapk12  \n",
       "6                                 Reverse Strand  \n",
       "7                                           gene  \n",
       "8                                           gene  \n",
       "9                                 non-coding RNA  \n",
       "10                                          gene  \n",
       "11                    Homo sapiens chromosome 12  \n",
       "12  Family with sequence similarity 186 member B  \n",
       "13                           protein-coding gene  \n",
       "14                                       Fam186b  \n",
       "15                                       Fam186b  \n",
       "16                                Reverse Strand  \n",
       "17                                          gene  \n",
       "18                    Homo sapiens chromosome 11  \n",
       "19                           protein-coding gene  "
      ]
     },
     "execution_count": 66,
     "metadata": {},
     "output_type": "execute_result"
    }
   ],
   "source": [
    "gene_df[['geneLabel', 'pLabel', 'oLabel']].head(20)"
   ]
  },
  {
   "cell_type": "code",
   "execution_count": 67,
   "metadata": {},
   "outputs": [
    {
     "data": {
      "text/plain": [
       "subclass of                                        116880\n",
       "ortholog                                            35295\n",
       "encodes                                             27194\n",
       "chromosome                                          25673\n",
       "strand orientation                                  24631\n",
       "genetic association                                  2205\n",
       "instance of                                            48\n",
       "has part                                                6\n",
       "described by source                                     5\n",
       "decreased expression in                                 4\n",
       "different from                                          3\n",
       "medical condition treated                               3\n",
       "deletion association with                               2\n",
       "RefSeq RNA ID                                           2\n",
       "topic's main category                                   2\n",
       "encoded by                                              1\n",
       "cause of                                                1\n",
       "increased expression in                                 1\n",
       "image                                                   1\n",
       "material produced                                       1\n",
       "posttranslational modification association with         1\n",
       "gene inversion association with                         1\n",
       "genomic start                                           1\n",
       "gene duplication association with                       1\n",
       "altered regulation leads to                             1\n",
       "said to be the same as                                  1\n",
       "gene insertion association with                         1\n",
       "gene substitution association with                      1\n",
       "Name: pLabel, dtype: int64"
      ]
     },
     "execution_count": 67,
     "metadata": {},
     "output_type": "execute_result"
    }
   ],
   "source": [
    "gene_df['pLabel'].value_counts()"
   ]
  },
  {
   "cell_type": "code",
   "execution_count": 68,
   "metadata": {
    "collapsed": true
   },
   "outputs": [],
   "source": [
    "# Save to disk\n",
    "gene_df.to_hdf('data/h_genes_edges.h5', 'gene_df')"
   ]
  },
  {
   "cell_type": "markdown",
   "metadata": {},
   "source": [
    "## Proteins\n",
    "\n",
    "Genes did not seem to have very many interesting edges... lets see if proteins have anything better"
   ]
  },
  {
   "cell_type": "code",
   "execution_count": 116,
   "metadata": {
    "collapsed": true
   },
   "outputs": [],
   "source": [
    "query = \"\"\"\n",
    "SELECT distinct ?prot ?protLabel ?p ?o ?oLabel\n",
    "WHERE\n",
    "{{\n",
    "    values ?prot {{wd:{}}}\n",
    "    # Get edges and targets\n",
    "    ?prot ?p ?o .\n",
    "    FILTER NOT EXISTS {{?o rdf:type ?type .}}\n",
    "    # Make sure edges ave there own edges and targes\n",
    "    ?o ?p2 ?o2 .\n",
    "    FILTER NOT EXISTS {{?o2 rdf:type ?type .}}\n",
    "    SERVICE wikibase:label {{ bd:serviceParam wikibase:language \"en\" }}\n",
    "}}\"\"\""
   ]
  },
  {
   "cell_type": "code",
   "execution_count": 117,
   "metadata": {
    "collapsed": true
   },
   "outputs": [],
   "source": [
    "h_prots = open_datafile('h_proteins.txt')"
   ]
  },
  {
   "cell_type": "code",
   "execution_count": 120,
   "metadata": {},
   "outputs": [
    {
     "name": "stderr",
     "output_type": "stream",
     "text": [
      "100%|██████████| 26708/26708 [27:28<00:00, 16.20it/s]\n"
     ]
    }
   ],
   "source": [
    "results = []\n",
    "for prot in tqdm(h_prots):\n",
    "    results.append(server.query(query.format(prot)))"
   ]
  },
  {
   "cell_type": "code",
   "execution_count": 121,
   "metadata": {},
   "outputs": [
    {
     "name": "stderr",
     "output_type": "stream",
     "text": [
      "100%|██████████| 26708/26708 [00:24<00:00, 1081.30it/s]\n"
     ]
    }
   ],
   "source": [
    "results_dfs = []\n",
    "for result in tqdm(results):\n",
    "    results_dfs.append(query_to_df(result))"
   ]
  },
  {
   "cell_type": "code",
   "execution_count": 122,
   "metadata": {},
   "outputs": [
    {
     "data": {
      "text/plain": [
       "468107"
      ]
     },
     "execution_count": 122,
     "metadata": {},
     "output_type": "execute_result"
    }
   ],
   "source": [
    "prot_df = pd.concat(results_dfs)\n",
    "prot_df = prot_df.reset_index(drop=True)\n",
    "len(prot_df)"
   ]
  },
  {
   "cell_type": "code",
   "execution_count": 124,
   "metadata": {
    "collapsed": true
   },
   "outputs": [],
   "source": [
    "props = set(prot_df['p'].apply(id_from_uri))\n",
    "prop_dict.update({prop: get_prop_label(prop) for prop in props})\n",
    "\n",
    "prot_df['pLabel'] = prot_df['p'].apply(lambda x: prop_dict[id_from_uri(x)])"
   ]
  },
  {
   "cell_type": "code",
   "execution_count": 125,
   "metadata": {},
   "outputs": [
    {
     "data": {
      "text/html": [
       "<div>\n",
       "<table border=\"1\" class=\"dataframe\">\n",
       "  <thead>\n",
       "    <tr style=\"text-align: right;\">\n",
       "      <th></th>\n",
       "      <th>protLabel</th>\n",
       "      <th>pLabel</th>\n",
       "      <th>oLabel</th>\n",
       "    </tr>\n",
       "  </thead>\n",
       "  <tbody>\n",
       "    <tr>\n",
       "      <th>0</th>\n",
       "      <td>Putative uncharacterized protein ATP1A1-AS1</td>\n",
       "      <td>subclass of</td>\n",
       "      <td>protein</td>\n",
       "    </tr>\n",
       "    <tr>\n",
       "      <th>1</th>\n",
       "      <td>Putative uncharacterized protein ATP1A1-AS1</td>\n",
       "      <td>encoded by</td>\n",
       "      <td>ATP1A1-AS1</td>\n",
       "    </tr>\n",
       "    <tr>\n",
       "      <th>2</th>\n",
       "      <td>C2 calcium dependent domain containing 2</td>\n",
       "      <td>cell component</td>\n",
       "      <td>extracellular region</td>\n",
       "    </tr>\n",
       "    <tr>\n",
       "      <th>3</th>\n",
       "      <td>C2 calcium dependent domain containing 2</td>\n",
       "      <td>encoded by</td>\n",
       "      <td>C2CD2</td>\n",
       "    </tr>\n",
       "    <tr>\n",
       "      <th>4</th>\n",
       "      <td>C2 calcium dependent domain containing 2</td>\n",
       "      <td>has part</td>\n",
       "      <td>C2 domain</td>\n",
       "    </tr>\n",
       "    <tr>\n",
       "      <th>5</th>\n",
       "      <td>C2 calcium dependent domain containing 2</td>\n",
       "      <td>subclass of</td>\n",
       "      <td>protein</td>\n",
       "    </tr>\n",
       "    <tr>\n",
       "      <th>6</th>\n",
       "      <td>C2 calcium dependent domain containing 2</td>\n",
       "      <td>cell component</td>\n",
       "      <td>nucleus</td>\n",
       "    </tr>\n",
       "    <tr>\n",
       "      <th>7</th>\n",
       "      <td>C2 calcium dependent domain containing 2</td>\n",
       "      <td>cell component</td>\n",
       "      <td>cytosol</td>\n",
       "    </tr>\n",
       "    <tr>\n",
       "      <th>8</th>\n",
       "      <td>Protein phosphatase with EF-hand domain 2</td>\n",
       "      <td>molecular function</td>\n",
       "      <td>protein serine/threonine phosphatase activity</td>\n",
       "    </tr>\n",
       "    <tr>\n",
       "      <th>9</th>\n",
       "      <td>Protein phosphatase with EF-hand domain 2</td>\n",
       "      <td>has part</td>\n",
       "      <td>EF-hand domain pair</td>\n",
       "    </tr>\n",
       "    <tr>\n",
       "      <th>10</th>\n",
       "      <td>Protein phosphatase with EF-hand domain 2</td>\n",
       "      <td>has part</td>\n",
       "      <td>Calcineurin-like phosphoesterase domain, ApaH ...</td>\n",
       "    </tr>\n",
       "    <tr>\n",
       "      <th>11</th>\n",
       "      <td>Protein phosphatase with EF-hand domain 2</td>\n",
       "      <td>subclass of</td>\n",
       "      <td>Serine/threonine-protein phosphatase with EF-h...</td>\n",
       "    </tr>\n",
       "    <tr>\n",
       "      <th>12</th>\n",
       "      <td>Protein phosphatase with EF-hand domain 2</td>\n",
       "      <td>has part</td>\n",
       "      <td>Serine/threonine-specific protein phosphatase/...</td>\n",
       "    </tr>\n",
       "    <tr>\n",
       "      <th>13</th>\n",
       "      <td>Protein phosphatase with EF-hand domain 2</td>\n",
       "      <td>has part</td>\n",
       "      <td>PPP domain</td>\n",
       "    </tr>\n",
       "    <tr>\n",
       "      <th>14</th>\n",
       "      <td>Protein phosphatase with EF-hand domain 2</td>\n",
       "      <td>has part</td>\n",
       "      <td>EF-Hand 1, calcium-binding site</td>\n",
       "    </tr>\n",
       "    <tr>\n",
       "      <th>15</th>\n",
       "      <td>Protein phosphatase with EF-hand domain 2</td>\n",
       "      <td>has part</td>\n",
       "      <td>Metallo-dependent phosphatase-like</td>\n",
       "    </tr>\n",
       "    <tr>\n",
       "      <th>16</th>\n",
       "      <td>Protein phosphatase with EF-hand domain 2</td>\n",
       "      <td>has part</td>\n",
       "      <td>EF-hand domain</td>\n",
       "    </tr>\n",
       "    <tr>\n",
       "      <th>17</th>\n",
       "      <td>Protein phosphatase with EF-hand domain 2</td>\n",
       "      <td>subclass of</td>\n",
       "      <td>protein</td>\n",
       "    </tr>\n",
       "    <tr>\n",
       "      <th>18</th>\n",
       "      <td>Protein phosphatase with EF-hand domain 2</td>\n",
       "      <td>molecular function</td>\n",
       "      <td>protein binding</td>\n",
       "    </tr>\n",
       "    <tr>\n",
       "      <th>19</th>\n",
       "      <td>Protein phosphatase with EF-hand domain 2</td>\n",
       "      <td>biological process</td>\n",
       "      <td>visual perception</td>\n",
       "    </tr>\n",
       "  </tbody>\n",
       "</table>\n",
       "</div>"
      ],
      "text/plain": [
       "                                      protLabel              pLabel  \\\n",
       "0   Putative uncharacterized protein ATP1A1-AS1         subclass of   \n",
       "1   Putative uncharacterized protein ATP1A1-AS1          encoded by   \n",
       "2      C2 calcium dependent domain containing 2      cell component   \n",
       "3      C2 calcium dependent domain containing 2          encoded by   \n",
       "4      C2 calcium dependent domain containing 2            has part   \n",
       "5      C2 calcium dependent domain containing 2         subclass of   \n",
       "6      C2 calcium dependent domain containing 2      cell component   \n",
       "7      C2 calcium dependent domain containing 2      cell component   \n",
       "8     Protein phosphatase with EF-hand domain 2  molecular function   \n",
       "9     Protein phosphatase with EF-hand domain 2            has part   \n",
       "10    Protein phosphatase with EF-hand domain 2            has part   \n",
       "11    Protein phosphatase with EF-hand domain 2         subclass of   \n",
       "12    Protein phosphatase with EF-hand domain 2            has part   \n",
       "13    Protein phosphatase with EF-hand domain 2            has part   \n",
       "14    Protein phosphatase with EF-hand domain 2            has part   \n",
       "15    Protein phosphatase with EF-hand domain 2            has part   \n",
       "16    Protein phosphatase with EF-hand domain 2            has part   \n",
       "17    Protein phosphatase with EF-hand domain 2         subclass of   \n",
       "18    Protein phosphatase with EF-hand domain 2  molecular function   \n",
       "19    Protein phosphatase with EF-hand domain 2  biological process   \n",
       "\n",
       "                                               oLabel  \n",
       "0                                             protein  \n",
       "1                                          ATP1A1-AS1  \n",
       "2                                extracellular region  \n",
       "3                                               C2CD2  \n",
       "4                                           C2 domain  \n",
       "5                                             protein  \n",
       "6                                             nucleus  \n",
       "7                                             cytosol  \n",
       "8       protein serine/threonine phosphatase activity  \n",
       "9                                 EF-hand domain pair  \n",
       "10  Calcineurin-like phosphoesterase domain, ApaH ...  \n",
       "11  Serine/threonine-protein phosphatase with EF-h...  \n",
       "12  Serine/threonine-specific protein phosphatase/...  \n",
       "13                                         PPP domain  \n",
       "14                    EF-Hand 1, calcium-binding site  \n",
       "15                 Metallo-dependent phosphatase-like  \n",
       "16                                     EF-hand domain  \n",
       "17                                            protein  \n",
       "18                                    protein binding  \n",
       "19                                  visual perception  "
      ]
     },
     "execution_count": 125,
     "metadata": {},
     "output_type": "execute_result"
    }
   ],
   "source": [
    "prot_df[['protLabel', 'pLabel', 'oLabel']].head(20)"
   ]
  },
  {
   "cell_type": "code",
   "execution_count": 126,
   "metadata": {},
   "outputs": [
    {
     "data": {
      "text/plain": [
       "biological process           153068\n",
       "cell component                96791\n",
       "molecular function            81450\n",
       "has part                      61545\n",
       "subclass of                   39483\n",
       "encoded by                    27007\n",
       "physically interacts with      3696\n",
       "instance of                    1705\n",
       "chromosome                     1666\n",
       "strand orientation             1666\n",
       "medical condition treated         4\n",
       "topic's main category             3\n",
       "described by source               3\n",
       "ortholog                          3\n",
       "part of                           3\n",
       "different from                    2\n",
       "genetic association               2\n",
       "material used                     2\n",
       "encodes                           2\n",
       "material produced                 2\n",
       "Name: pLabel, dtype: int64"
      ]
     },
     "execution_count": 126,
     "metadata": {},
     "output_type": "execute_result"
    }
   ],
   "source": [
    "prot_df['pLabel'].value_counts()[:20]"
   ]
  },
  {
   "cell_type": "code",
   "execution_count": 127,
   "metadata": {
    "collapsed": true
   },
   "outputs": [],
   "source": [
    "# Save to disk\n",
    "prot_df.to_hdf('data/h_protein_edges.h5', 'prot_df')"
   ]
  },
  {
   "cell_type": "markdown",
   "metadata": {},
   "source": [
    "## Compounds"
   ]
  },
  {
   "cell_type": "code",
   "execution_count": 70,
   "metadata": {
    "collapsed": true
   },
   "outputs": [],
   "source": [
    "query = \"\"\"\n",
    "SELECT distinct ?comp ?compLabel ?p ?o ?oLabel\n",
    "WHERE\n",
    "{{\n",
    "    values ?comp {{wd:{}}}\n",
    "    # Get edges and targets\n",
    "    ?comp ?p ?o .\n",
    "    FILTER NOT EXISTS {{?o rdf:type ?type .}}\n",
    "    # Make sure edges have their own edges and targes\n",
    "    ?o ?p2 ?o2 .\n",
    "    FILTER NOT EXISTS {{?o2 rdf:type ?type .}}\n",
    "    SERVICE wikibase:label {{ bd:serviceParam wikibase:language \"en\" }}\n",
    "}}\"\"\""
   ]
  },
  {
   "cell_type": "code",
   "execution_count": 71,
   "metadata": {
    "collapsed": true
   },
   "outputs": [],
   "source": [
    "compounds = open_datafile('compounds.txt')"
   ]
  },
  {
   "cell_type": "code",
   "execution_count": 72,
   "metadata": {},
   "outputs": [
    {
     "name": "stderr",
     "output_type": "stream",
     "text": [
      "100%|██████████| 156683/156683 [52:00<00:00, 50.22it/s] \n"
     ]
    }
   ],
   "source": [
    "results = []\n",
    "for comp in tqdm(compounds):\n",
    "    results.append(server.query(query.format(comp)))"
   ]
  },
  {
   "cell_type": "code",
   "execution_count": 73,
   "metadata": {},
   "outputs": [
    {
     "name": "stderr",
     "output_type": "stream",
     "text": [
      "100%|██████████| 156683/156683 [02:17<00:00, 1142.58it/s]\n"
     ]
    }
   ],
   "source": [
    "results_dfs = []\n",
    "for result in tqdm(results):\n",
    "    results_dfs.append(query_to_df(result))"
   ]
  },
  {
   "cell_type": "code",
   "execution_count": 74,
   "metadata": {},
   "outputs": [
    {
     "data": {
      "text/plain": [
       "189127"
      ]
     },
     "execution_count": 74,
     "metadata": {},
     "output_type": "execute_result"
    }
   ],
   "source": [
    "comp_df = pd.concat(results_dfs)\n",
    "comp_df = comp_df.reset_index(drop=True)\n",
    "len(comp_df)"
   ]
  },
  {
   "cell_type": "code",
   "execution_count": 75,
   "metadata": {
    "collapsed": true
   },
   "outputs": [],
   "source": [
    "props = set(comp_df['p'].apply(id_from_uri))\n",
    "prop_dict.update({prop: get_prop_label(prop) for prop in props})\n",
    "\n",
    "comp_df['pLabel'] = comp_df['p'].apply(lambda x: prop_dict[id_from_uri(x)])"
   ]
  },
  {
   "cell_type": "code",
   "execution_count": 76,
   "metadata": {},
   "outputs": [
    {
     "data": {
      "text/html": [
       "<div>\n",
       "<table border=\"1\" class=\"dataframe\">\n",
       "  <thead>\n",
       "    <tr style=\"text-align: right;\">\n",
       "      <th></th>\n",
       "      <th>compLabel</th>\n",
       "      <th>pLabel</th>\n",
       "      <th>oLabel</th>\n",
       "    </tr>\n",
       "  </thead>\n",
       "  <tbody>\n",
       "    <tr>\n",
       "      <th>0</th>\n",
       "      <td>N-[4-[4-(ethylsulfonylamino)-3-methoxyphenyl]-...</td>\n",
       "      <td>instance of</td>\n",
       "      <td>chemical compound</td>\n",
       "    </tr>\n",
       "    <tr>\n",
       "      <th>1</th>\n",
       "      <td>daledalin tosylate</td>\n",
       "      <td>instance of</td>\n",
       "      <td>chemical compound</td>\n",
       "    </tr>\n",
       "    <tr>\n",
       "      <th>2</th>\n",
       "      <td>Enestebol</td>\n",
       "      <td>instance of</td>\n",
       "      <td>chemical compound</td>\n",
       "    </tr>\n",
       "    <tr>\n",
       "      <th>3</th>\n",
       "      <td>4-(dimethylamino)-N-[(3R,9R,10S)-12-[(2R)-1-hy...</td>\n",
       "      <td>instance of</td>\n",
       "      <td>chemical compound</td>\n",
       "    </tr>\n",
       "    <tr>\n",
       "      <th>4</th>\n",
       "      <td>2-pyridin-2-yl-7,8-dihydro-5H-thiopyrano[4,3-D...</td>\n",
       "      <td>instance of</td>\n",
       "      <td>chemical compound</td>\n",
       "    </tr>\n",
       "    <tr>\n",
       "      <th>5</th>\n",
       "      <td>benzyl methyl disulfide</td>\n",
       "      <td>instance of</td>\n",
       "      <td>chemical compound</td>\n",
       "    </tr>\n",
       "    <tr>\n",
       "      <th>6</th>\n",
       "      <td>9-(3-hydroxy-2,6,6-trimethyl-1-cyclohexenyl)-3...</td>\n",
       "      <td>instance of</td>\n",
       "      <td>chemical compound</td>\n",
       "    </tr>\n",
       "    <tr>\n",
       "      <th>7</th>\n",
       "      <td>N-(3-methoxypropyl)-3,4,5-trimethoxybenzylamine</td>\n",
       "      <td>instance of</td>\n",
       "      <td>chemical compound</td>\n",
       "    </tr>\n",
       "    <tr>\n",
       "      <th>8</th>\n",
       "      <td>encenicline</td>\n",
       "      <td>physically interacts with</td>\n",
       "      <td>Cholinergic receptor nicotinic alpha 7 subunit</td>\n",
       "    </tr>\n",
       "    <tr>\n",
       "      <th>9</th>\n",
       "      <td>encenicline</td>\n",
       "      <td>instance of</td>\n",
       "      <td>chemical compound</td>\n",
       "    </tr>\n",
       "    <tr>\n",
       "      <th>10</th>\n",
       "      <td>5-((2-hydroxy-2-methylpropoxy)carbonyl)-2,6-di...</td>\n",
       "      <td>instance of</td>\n",
       "      <td>chemical compound</td>\n",
       "    </tr>\n",
       "    <tr>\n",
       "      <th>11</th>\n",
       "      <td>2,4-Diamino-6-[N-(3',5'-Dimethoxybenzyl)-N-Met...</td>\n",
       "      <td>instance of</td>\n",
       "      <td>chemical compound</td>\n",
       "    </tr>\n",
       "    <tr>\n",
       "      <th>12</th>\n",
       "      <td>N-[(4S,7S,8R)-5-(cyclopropylmethyl)-8-methoxy-...</td>\n",
       "      <td>instance of</td>\n",
       "      <td>chemical compound</td>\n",
       "    </tr>\n",
       "    <tr>\n",
       "      <th>13</th>\n",
       "      <td>5-{2-(ethylcarbamoyl)-4-[3-(trifluoromethyl)-1...</td>\n",
       "      <td>instance of</td>\n",
       "      <td>chemical compound</td>\n",
       "    </tr>\n",
       "    <tr>\n",
       "      <th>14</th>\n",
       "      <td>ebselen</td>\n",
       "      <td>instance of</td>\n",
       "      <td>chemical compound</td>\n",
       "    </tr>\n",
       "    <tr>\n",
       "      <th>15</th>\n",
       "      <td>N-[(4R,7R,8R)-8-methoxy-4,7,10-trimethyl-11-ox...</td>\n",
       "      <td>instance of</td>\n",
       "      <td>chemical compound</td>\n",
       "    </tr>\n",
       "    <tr>\n",
       "      <th>16</th>\n",
       "      <td>isoniazid glucuronate</td>\n",
       "      <td>instance of</td>\n",
       "      <td>chemical compound</td>\n",
       "    </tr>\n",
       "    <tr>\n",
       "      <th>17</th>\n",
       "      <td>(2R,3S)-2-[[1,3-benzodioxol-5-ylmethyl(methyl)...</td>\n",
       "      <td>instance of</td>\n",
       "      <td>chemical compound</td>\n",
       "    </tr>\n",
       "    <tr>\n",
       "      <th>18</th>\n",
       "      <td>1-oleoyl-2-(6Z)-octadecenoyl-sn-glycero-3-phos...</td>\n",
       "      <td>instance of</td>\n",
       "      <td>chemical compound</td>\n",
       "    </tr>\n",
       "    <tr>\n",
       "      <th>19</th>\n",
       "      <td>methenamine</td>\n",
       "      <td>medical condition treated</td>\n",
       "      <td>acute cystitis</td>\n",
       "    </tr>\n",
       "  </tbody>\n",
       "</table>\n",
       "</div>"
      ],
      "text/plain": [
       "                                            compLabel  \\\n",
       "0   N-[4-[4-(ethylsulfonylamino)-3-methoxyphenyl]-...   \n",
       "1                                  daledalin tosylate   \n",
       "2                                           Enestebol   \n",
       "3   4-(dimethylamino)-N-[(3R,9R,10S)-12-[(2R)-1-hy...   \n",
       "4   2-pyridin-2-yl-7,8-dihydro-5H-thiopyrano[4,3-D...   \n",
       "5                             benzyl methyl disulfide   \n",
       "6   9-(3-hydroxy-2,6,6-trimethyl-1-cyclohexenyl)-3...   \n",
       "7     N-(3-methoxypropyl)-3,4,5-trimethoxybenzylamine   \n",
       "8                                         encenicline   \n",
       "9                                         encenicline   \n",
       "10  5-((2-hydroxy-2-methylpropoxy)carbonyl)-2,6-di...   \n",
       "11  2,4-Diamino-6-[N-(3',5'-Dimethoxybenzyl)-N-Met...   \n",
       "12  N-[(4S,7S,8R)-5-(cyclopropylmethyl)-8-methoxy-...   \n",
       "13  5-{2-(ethylcarbamoyl)-4-[3-(trifluoromethyl)-1...   \n",
       "14                                            ebselen   \n",
       "15  N-[(4R,7R,8R)-8-methoxy-4,7,10-trimethyl-11-ox...   \n",
       "16                              isoniazid glucuronate   \n",
       "17  (2R,3S)-2-[[1,3-benzodioxol-5-ylmethyl(methyl)...   \n",
       "18  1-oleoyl-2-(6Z)-octadecenoyl-sn-glycero-3-phos...   \n",
       "19                                        methenamine   \n",
       "\n",
       "                       pLabel                                          oLabel  \n",
       "0                 instance of                               chemical compound  \n",
       "1                 instance of                               chemical compound  \n",
       "2                 instance of                               chemical compound  \n",
       "3                 instance of                               chemical compound  \n",
       "4                 instance of                               chemical compound  \n",
       "5                 instance of                               chemical compound  \n",
       "6                 instance of                               chemical compound  \n",
       "7                 instance of                               chemical compound  \n",
       "8   physically interacts with  Cholinergic receptor nicotinic alpha 7 subunit  \n",
       "9                 instance of                               chemical compound  \n",
       "10                instance of                               chemical compound  \n",
       "11                instance of                               chemical compound  \n",
       "12                instance of                               chemical compound  \n",
       "13                instance of                               chemical compound  \n",
       "14                instance of                               chemical compound  \n",
       "15                instance of                               chemical compound  \n",
       "16                instance of                               chemical compound  \n",
       "17                instance of                               chemical compound  \n",
       "18                instance of                               chemical compound  \n",
       "19  medical condition treated                                  acute cystitis  "
      ]
     },
     "execution_count": 76,
     "metadata": {},
     "output_type": "execute_result"
    }
   ],
   "source": [
    "comp_df[['compLabel', 'pLabel', 'oLabel']].head(20)"
   ]
  },
  {
   "cell_type": "code",
   "execution_count": 82,
   "metadata": {},
   "outputs": [
    {
     "data": {
      "text/plain": [
       "instance of                     162254\n",
       "has part                         13928\n",
       "physically interacts with         3909\n",
       "medical condition treated         3557\n",
       "significant drug interaction      1799\n",
       "subclass of                        963\n",
       "cause of                           613\n",
       "topic's main category              412\n",
       "described by source                359\n",
       "crystal system                     304\n",
       "color                              293\n",
       "route of administration            197\n",
       "discoverer or inventor              65\n",
       "named after                         58\n",
       "different from                      40\n",
       "biological process                  40\n",
       "part of                             38\n",
       "use                                 36\n",
       "material used                       36\n",
       "decays to                           31\n",
       "Name: pLabel, dtype: int64"
      ]
     },
     "execution_count": 82,
     "metadata": {},
     "output_type": "execute_result"
    }
   ],
   "source": [
    "comp_df['pLabel'].value_counts()[:20]"
   ]
  },
  {
   "cell_type": "code",
   "execution_count": 78,
   "metadata": {
    "collapsed": true
   },
   "outputs": [],
   "source": [
    "# Save to disk\n",
    "comp_df.to_hdf('data/compund_edges.h5', 'comp_df')"
   ]
  },
  {
   "cell_type": "markdown",
   "metadata": {},
   "source": [
    "## Summary so far\n",
    "\n",
    "### Nodes\n",
    "\n",
    "- Compound Nodes: 156,683\n",
    "- Gene Nodes (Homo sapiens):\n",
    "    - Protein Coding: 20,706\n",
    "    - Any: 60,162\n",
    "    - All genes & taxons: 617,694\n",
    "- Disease Nodes: 8,779\n",
    "\n",
    "### Edges\n",
    "\n",
    "- From Compounds: 189,022\n",
    "- From Genes (Any Human): 231,966\n",
    "- From Diseases: 162,024\n"
   ]
  },
  {
   "cell_type": "markdown",
   "metadata": {},
   "source": [
    "## Save properties for future use"
   ]
  },
  {
   "cell_type": "code",
   "execution_count": 79,
   "metadata": {},
   "outputs": [
    {
     "data": {
      "text/plain": [
       "(694, 694)"
      ]
     },
     "execution_count": 79,
     "metadata": {},
     "output_type": "execute_result"
    }
   ],
   "source": [
    "with open('wd_properties.json', 'r') as fin:\n",
    "    prop_dict1 = json.load(fin)\n",
    "# Compare what new properties we've looked up to those already in the file\n",
    "len(prop_dict), len(prop_dict1)"
   ]
  },
  {
   "cell_type": "code",
   "execution_count": 80,
   "metadata": {},
   "outputs": [
    {
     "data": {
      "text/plain": [
       "694"
      ]
     },
     "execution_count": 80,
     "metadata": {},
     "output_type": "execute_result"
    }
   ],
   "source": [
    "# See if there's new ones that can be added\n",
    "prop_dict1.update(prop_dict)\n",
    "len(prop_dict1)"
   ]
  },
  {
   "cell_type": "code",
   "execution_count": 81,
   "metadata": {
    "collapsed": true
   },
   "outputs": [],
   "source": [
    "# Save with new properties to file\n",
    "with open('wd_properties.json', 'w') as fout:\n",
    "    json.dump(prop_dict1, fout, indent=2)"
   ]
  },
  {
   "cell_type": "markdown",
   "metadata": {},
   "source": [
    "## Save the entity labels for future use\n",
    "\n",
    "Supposedly the line `SERVICE wikibase:label {{ bd:serviceParam wikibase:language \"en\" }}` in queryies is expensive\n",
    "so we'll save the labels so they can be mapped later."
   ]
  },
  {
   "cell_type": "code",
   "execution_count": 146,
   "metadata": {},
   "outputs": [],
   "source": [
    "if os.path.exists('wd_entities.json'):\n",
    "    with open('wd_entities.json', 'r') as fin:\n",
    "        entity_dict = json.load(fin)\n",
    "else:\n",
    "    entity_dict = {}"
   ]
  },
  {
   "cell_type": "code",
   "execution_count": 147,
   "metadata": {
    "collapsed": true
   },
   "outputs": [],
   "source": [
    "def add_to_entity_dict(entity_dict, df, eid, label):\n",
    "    \"\"\"\n",
    "    Updates the entitiy dict to add new enity:label  key:value pairs from a wikidata search\n",
    "    \"\"\"\n",
    "    cols = [eid, label]\n",
    "    entity_dict.update({id_from_uri(item[eid]): item[label] for item in df[cols].to_dict(orient='records')})"
   ]
  },
  {
   "cell_type": "code",
   "execution_count": 148,
   "metadata": {
    "collapsed": true
   },
   "outputs": [],
   "source": [
    "# Add diseases\n",
    "add_to_entity_dict(entity_dict, disease_df, 'disease', 'diseaseLabel')\n",
    "add_to_entity_dict(entity_dict, disease_df, 'o', 'oLabel')\n",
    "# Add Genes\n",
    "add_to_entity_dict(entity_dict, gene_df, 'gene', 'geneLabel')\n",
    "add_to_entity_dict(entity_dict, gene_df, 'o', 'oLabel')\n",
    "# Add Proteins\n",
    "add_to_entity_dict(entity_dict, prot_df, 'prot', 'protLabel')\n",
    "add_to_entity_dict(entity_dict, prot_df, 'o', 'oLabel')\n",
    "# Add Compounds\n",
    "add_to_entity_dict(entity_dict, comp_df, 'comp', 'compLabel')\n",
    "add_to_entity_dict(entity_dict, comp_df, 'o', 'oLabel')"
   ]
  },
  {
   "cell_type": "code",
   "execution_count": 149,
   "metadata": {},
   "outputs": [
    {
     "data": {
      "text/plain": [
       "323441"
      ]
     },
     "execution_count": 149,
     "metadata": {},
     "output_type": "execute_result"
    }
   ],
   "source": [
    "len(entity_dict)"
   ]
  },
  {
   "cell_type": "code",
   "execution_count": 150,
   "metadata": {},
   "outputs": [],
   "source": [
    "with open('wd_entities.json', 'w') as fout:\n",
    "    json.dump(entity_dict, fout, indent=2)"
   ]
  }
 ],
 "metadata": {
  "kernelspec": {
   "display_name": "Python 3",
   "language": "python",
   "name": "python3"
  },
  "language_info": {
   "codemirror_mode": {
    "name": "ipython",
    "version": 3
   },
   "file_extension": ".py",
   "mimetype": "text/x-python",
   "name": "python",
   "nbconvert_exporter": "python",
   "pygments_lexer": "ipython3",
   "version": "3.5.2"
  }
 },
 "nbformat": 4,
 "nbformat_minor": 2
}

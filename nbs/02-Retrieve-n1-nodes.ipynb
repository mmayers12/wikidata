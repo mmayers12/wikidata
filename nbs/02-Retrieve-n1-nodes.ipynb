{
 "cells": [
  {
   "cell_type": "markdown",
   "metadata": {},
   "source": [
    "# Get The N1 nodes for the network"
   ]
  },
  {
   "cell_type": "code",
   "execution_count": 1,
   "metadata": {
    "collapsed": true
   },
   "outputs": [],
   "source": [
    "import sys\n",
    "sys.path.append('../py')\n",
    "import sparql_tools as qt\n",
    "import pandas as pd\n",
    "from pymantic import sparql\n",
    "\n",
    "server = sparql.SPARQLServer('http://127.0.0.1:9999/bigdata/sparql')"
   ]
  },
  {
   "cell_type": "code",
   "execution_count": 2,
   "metadata": {
    "collapsed": true
   },
   "outputs": [],
   "source": [
    "def query_node_type(query, n_type, filename):\n",
    "    \"\"\"\n",
    "    Queries to find the id's for nodes of a given type, then save to a file and appends the type and filname to a dict.\n",
    "    Queries are unique to every node type and must be written.\n",
    "    \n",
    "    :param query: String, the sqarql query to be run\n",
    "    :param n_type: String, The name for the type of nodes being queried for\n",
    "    :param filename: String, the name of the file to write the node id's to.\n",
    "    \"\"\"\n",
    "    # Query for ids of a node type\n",
    "    result = server.query(query)\n",
    "    qids = set(qt.query_to_df(result)['s'].apply(qt.id_from_uri))\n",
    "    \n",
    "    # Write ids to a file\n",
    "    with open(filename, 'w') as fout:\n",
    "        for qid in qids:\n",
    "            fout.write(qid+'\\n')\n",
    "        \n",
    "    # Print some results to screen\n",
    "    print('Wrote {} ids of type {} to file {}'.format(len(qids), n_type, filename))\n",
    "    \n",
    "    # Add info about type\n",
    "    global node_files\n",
    "    node_files.update({n_type: filename})"
   ]
  },
  {
   "cell_type": "code",
   "execution_count": 3,
   "metadata": {},
   "outputs": [
    {
     "data": {
      "text/plain": [
       "['Supersecondary Structure',\n",
       " 'Structural Motif',\n",
       " 'Active Site',\n",
       " 'Binding Site',\n",
       " 'Post-translational Modification',\n",
       " 'Chemical Hazard',\n",
       " 'Symptom',\n",
       " 'GO Term',\n",
       " 'Protein Family',\n",
       " 'Protein Domain',\n",
       " 'Mature MicroRNA']"
      ]
     },
     "execution_count": 3,
     "metadata": {},
     "output_type": "execute_result"
    }
   ],
   "source": [
    "# Using types.remove ensured I didn't made a typeo in a type name\n",
    "# And helped me to keep track of which I had completed when\n",
    "# Initially writing this notebook\n",
    "with open('data/remain_types.txt', 'r') as fin:\n",
    "    types = fin.read().strip().split('\\n')\n",
    "types"
   ]
  },
  {
   "cell_type": "code",
   "execution_count": 4,
   "metadata": {},
   "outputs": [
    {
     "data": {
      "text/plain": [
       "{'Compound': 'data/compounds.txt',\n",
       " 'Disease': 'data/disease.txt',\n",
       " 'Gene': 'data/other_genes.txt',\n",
       " 'Non-coding RNA': 'data/ncr_genes.txt',\n",
       " 'Protein': 'data/proteins.txt',\n",
       " 'Protein-coding Gene': 'data/pc_genes.txt',\n",
       " 'Pseudogene': 'data/pseu_genes.txt'}"
      ]
     },
     "execution_count": 4,
     "metadata": {},
     "output_type": "execute_result"
    }
   ],
   "source": [
    "import json\n",
    "with open('node_info.json', 'r') as fin:\n",
    "    node_files = json.load(fin)\n",
    "node_files"
   ]
  },
  {
   "cell_type": "markdown",
   "metadata": {},
   "source": [
    "## Query for GO Terms"
   ]
  },
  {
   "cell_type": "code",
   "execution_count": 5,
   "metadata": {
    "collapsed": true
   },
   "outputs": [],
   "source": [
    "query = \"\"\"\n",
    "SELECT DISTINCT ?s ?sLabel\n",
    "WHERE\n",
    "{\n",
    "  # Molecular Function Terms\n",
    "  {?a wdt:P680 ?s}\n",
    "  # Biolocial Process Terms\n",
    "  UNION {?a wdt:P682 ?s}\n",
    "  # Cell Component Terms\n",
    "  UNION {?a wdt:P681 ?s}\n",
    "}\n",
    "\"\"\""
   ]
  },
  {
   "cell_type": "code",
   "execution_count": 6,
   "metadata": {},
   "outputs": [
    {
     "name": "stdout",
     "output_type": "stream",
     "text": [
      "Wrote 21358 ids of type GO Term to file data/go_terms.txt\n"
     ]
    }
   ],
   "source": [
    "ntype = types.pop(types.index('GO Term'))\n",
    "filename = 'data/go_terms.txt'\n",
    "\n",
    "query_node_type(query, ntype, filename)"
   ]
  },
  {
   "cell_type": "markdown",
   "metadata": {},
   "source": [
    "## Mature Micronrna"
   ]
  },
  {
   "cell_type": "code",
   "execution_count": 7,
   "metadata": {
    "collapsed": true
   },
   "outputs": [],
   "source": [
    "query = \"\"\"\n",
    "SELECT DISTINCT ?s ?sLabel\n",
    "WHERE\n",
    "{\n",
    "  # Instance of Mature MicroRNA\n",
    "  ?s wdt:P31 wd:Q23838648  \n",
    "}\n",
    "\"\"\""
   ]
  },
  {
   "cell_type": "code",
   "execution_count": 8,
   "metadata": {},
   "outputs": [
    {
     "name": "stdout",
     "output_type": "stream",
     "text": [
      "Wrote 2588 ids of type Mature MicroRNA to file data/mirna.txt\n"
     ]
    }
   ],
   "source": [
    "ntype = types.pop(types.index('Mature MicroRNA'))\n",
    "filename = 'data/mirna.txt'\n",
    "\n",
    "query_node_type(query, ntype, filename)"
   ]
  },
  {
   "cell_type": "markdown",
   "metadata": {},
   "source": [
    "## Supersecondary Structure"
   ]
  },
  {
   "cell_type": "code",
   "execution_count": 9,
   "metadata": {
    "collapsed": true
   },
   "outputs": [],
   "source": [
    "query = \"\"\"\n",
    "SELECT DISTINCT ?s ?sLabel\n",
    "WHERE\n",
    "{\n",
    "  # Instance of Supersecondary Structure\n",
    "  ?s wdt:P31 wd:Q7644128  \n",
    "}\n",
    "\"\"\""
   ]
  },
  {
   "cell_type": "code",
   "execution_count": 10,
   "metadata": {},
   "outputs": [
    {
     "name": "stdout",
     "output_type": "stream",
     "text": [
      "Wrote 686 ids of type Supersecondary Structure to file data/ss_struct.txt\n"
     ]
    }
   ],
   "source": [
    "ntype = types.pop(types.index('Supersecondary Structure'))\n",
    "filename = 'data/ss_struct.txt'\n",
    "\n",
    "query_node_type(query, ntype, filename)"
   ]
  },
  {
   "cell_type": "markdown",
   "metadata": {},
   "source": [
    "## Structural Motif"
   ]
  },
  {
   "cell_type": "code",
   "execution_count": 11,
   "metadata": {
    "collapsed": true
   },
   "outputs": [],
   "source": [
    "query = \"\"\"\n",
    "SELECT DISTINCT ?s ?sLabel\n",
    "WHERE\n",
    "{\n",
    "  # Instance of Structural Motif\n",
    "  ?s wdt:P31 wd:Q3273544  \n",
    "}\n",
    "\"\"\""
   ]
  },
  {
   "cell_type": "code",
   "execution_count": 12,
   "metadata": {},
   "outputs": [
    {
     "name": "stdout",
     "output_type": "stream",
     "text": [
      "Wrote 286 ids of type Structural Motif to file data/s_motif.txt\n"
     ]
    }
   ],
   "source": [
    "ntype = types.pop(types.index('Structural Motif'))\n",
    "filename = 'data/s_motif.txt'\n",
    "\n",
    "query_node_type(query, ntype, filename)"
   ]
  },
  {
   "cell_type": "markdown",
   "metadata": {},
   "source": [
    "## Active Site"
   ]
  },
  {
   "cell_type": "code",
   "execution_count": 13,
   "metadata": {
    "collapsed": true
   },
   "outputs": [],
   "source": [
    "query = \"\"\"\n",
    "SELECT DISTINCT ?s ?sLabel\n",
    "WHERE\n",
    "{\n",
    "  # Instance of Active Stie\n",
    "  ?s wdt:P31 wd:Q423026  \n",
    "}\n",
    "\"\"\""
   ]
  },
  {
   "cell_type": "code",
   "execution_count": 14,
   "metadata": {},
   "outputs": [
    {
     "name": "stdout",
     "output_type": "stream",
     "text": [
      "Wrote 132 ids of type Active Site to file data/active_site.txt\n"
     ]
    }
   ],
   "source": [
    "ntype = types.pop(types.index('Active Site'))\n",
    "filename = 'data/active_site.txt'\n",
    "\n",
    "query_node_type(query, ntype, filename)"
   ]
  },
  {
   "cell_type": "markdown",
   "metadata": {},
   "source": [
    "## Binding Site"
   ]
  },
  {
   "cell_type": "code",
   "execution_count": 15,
   "metadata": {
    "collapsed": true
   },
   "outputs": [],
   "source": [
    "query = \"\"\"\n",
    "SELECT DISTINCT ?s ?sLabel\n",
    "WHERE\n",
    "{\n",
    "  # Instance of Binding Stie\n",
    "  ?s wdt:P31 wd:Q616005\n",
    "}\n",
    "\"\"\""
   ]
  },
  {
   "cell_type": "code",
   "execution_count": 16,
   "metadata": {},
   "outputs": [
    {
     "name": "stdout",
     "output_type": "stream",
     "text": [
      "Wrote 76 ids of type Binding Site to file data/binding_site.txt\n"
     ]
    }
   ],
   "source": [
    "ntype = types.pop(types.index('Binding Site'))\n",
    "filename = 'data/binding_site.txt'\n",
    "\n",
    "query_node_type(query, ntype, filename)"
   ]
  },
  {
   "cell_type": "markdown",
   "metadata": {},
   "source": [
    "## Post-Translational Modification"
   ]
  },
  {
   "cell_type": "code",
   "execution_count": 17,
   "metadata": {
    "collapsed": true
   },
   "outputs": [],
   "source": [
    "query = \"\"\"\n",
    "SELECT DISTINCT ?s ?sLabel\n",
    "WHERE\n",
    "{\n",
    "  # Instance of Postranslational Modification\n",
    "  ?s wdt:P31 wd:Q898362\n",
    "  }\n",
    "\"\"\""
   ]
  },
  {
   "cell_type": "code",
   "execution_count": 18,
   "metadata": {},
   "outputs": [
    {
     "name": "stdout",
     "output_type": "stream",
     "text": [
      "Wrote 18 ids of type Post-translational Modification to file data/ptm.txt\n"
     ]
    }
   ],
   "source": [
    "ntype = types.pop(types.index('Post-translational Modification'))\n",
    "filename = 'data/ptm.txt'\n",
    "\n",
    "query_node_type(query, ntype, filename)"
   ]
  },
  {
   "cell_type": "markdown",
   "metadata": {},
   "source": [
    "## Chemical Hazard"
   ]
  },
  {
   "cell_type": "code",
   "execution_count": 19,
   "metadata": {
    "collapsed": true
   },
   "outputs": [],
   "source": [
    "query = \"\"\"\n",
    "SELECT DISTINCT ?s ?sLabel\n",
    "WHERE\n",
    "{\n",
    "  # Subclass of Chemical Hazard\n",
    "  ?s wdt:P279 wd:Q21167512\n",
    "  }\n",
    "\"\"\""
   ]
  },
  {
   "cell_type": "code",
   "execution_count": 20,
   "metadata": {},
   "outputs": [
    {
     "name": "stdout",
     "output_type": "stream",
     "text": [
      "Wrote 689 ids of type Chemical Hazard to file data/chem_hazard.txt\n"
     ]
    }
   ],
   "source": [
    "ntype = types.pop(types.index('Chemical Hazard'))\n",
    "filename = 'data/chem_hazard.txt'\n",
    "\n",
    "query_node_type(query, ntype, filename)"
   ]
  },
  {
   "cell_type": "markdown",
   "metadata": {},
   "source": [
    "## Symptom"
   ]
  },
  {
   "cell_type": "code",
   "execution_count": 21,
   "metadata": {
    "collapsed": true
   },
   "outputs": [],
   "source": [
    "query = \"\"\"\n",
    "SELECT DISTINCT ?s ?sLabel\n",
    "WHERE\n",
    "{\n",
    "  # Subclass of Symptom\n",
    "  ?s wdt:P279 wd:Q169872\n",
    "  }\n",
    "\"\"\""
   ]
  },
  {
   "cell_type": "code",
   "execution_count": 22,
   "metadata": {},
   "outputs": [
    {
     "name": "stdout",
     "output_type": "stream",
     "text": [
      "Wrote 38 ids of type Symptom to file data/symptoms.txt\n"
     ]
    }
   ],
   "source": [
    "ntype = types.pop(types.index('Symptom'))\n",
    "filename = 'data/symptoms.txt'\n",
    "\n",
    "query_node_type(query, ntype, filename)"
   ]
  },
  {
   "cell_type": "markdown",
   "metadata": {},
   "source": [
    "## Protein Family"
   ]
  },
  {
   "cell_type": "code",
   "execution_count": 23,
   "metadata": {
    "collapsed": true
   },
   "outputs": [],
   "source": [
    "query = \"\"\"\n",
    "SELECT DISTINCT ?s ?sLabel\n",
    "WHERE\n",
    "{\n",
    "  # Instance of Protein Family\n",
    "  ?s wdt:P31 wd:Q417841\n",
    "  }\n",
    "\"\"\""
   ]
  },
  {
   "cell_type": "code",
   "execution_count": 24,
   "metadata": {},
   "outputs": [
    {
     "name": "stdout",
     "output_type": "stream",
     "text": [
      "Wrote 20390 ids of type Protein Family to file data/p_fams.txt\n"
     ]
    }
   ],
   "source": [
    "ntype = types.pop(types.index('Protein Family'))\n",
    "filename = 'data/p_fams.txt'\n",
    "\n",
    "query_node_type(query, ntype, filename)"
   ]
  },
  {
   "cell_type": "markdown",
   "metadata": {},
   "source": [
    "## Protein Domain"
   ]
  },
  {
   "cell_type": "code",
   "execution_count": 25,
   "metadata": {
    "collapsed": true
   },
   "outputs": [],
   "source": [
    "query = \"\"\"\n",
    "SELECT DISTINCT ?s ?sLabel\n",
    "WHERE\n",
    "{\n",
    "  # Instance of Protein Domain\n",
    "  ?s wdt:P31 wd:Q898273\n",
    "  }\n",
    "\"\"\""
   ]
  },
  {
   "cell_type": "code",
   "execution_count": 26,
   "metadata": {},
   "outputs": [
    {
     "name": "stdout",
     "output_type": "stream",
     "text": [
      "Wrote 9056 ids of type Protein Domain to file data/p_domain.txt\n"
     ]
    }
   ],
   "source": [
    "ntype = types.pop(types.index('Protein Domain'))\n",
    "filename = 'data/p_domain.txt'\n",
    "\n",
    "query_node_type(query, ntype, filename)"
   ]
  },
  {
   "cell_type": "markdown",
   "metadata": {},
   "source": [
    "## Dump info on the files"
   ]
  },
  {
   "cell_type": "code",
   "execution_count": 27,
   "metadata": {
    "collapsed": true
   },
   "outputs": [],
   "source": [
    "with open('node_info.json', 'w') as fout:\n",
    "    json.dump(node_files, fout, indent=2)"
   ]
  }
 ],
 "metadata": {
  "kernelspec": {
   "display_name": "Python 3",
   "language": "python",
   "name": "python3"
  },
  "language_info": {
   "codemirror_mode": {
    "name": "ipython",
    "version": 3
   },
   "file_extension": ".py",
   "mimetype": "text/x-python",
   "name": "python",
   "nbconvert_exporter": "python",
   "pygments_lexer": "ipython3",
   "version": "3.5.2"
  }
 },
 "nbformat": 4,
 "nbformat_minor": 2
}

{
 "cells": [
  {
   "cell_type": "markdown",
   "metadata": {},
   "source": [
    "# Format the resulting edges for import to neo4j and get files needed for learn pipeline"
   ]
  },
  {
   "cell_type": "code",
   "execution_count": 1,
   "metadata": {
    "collapsed": true
   },
   "outputs": [],
   "source": [
    "import json\n",
    "import pandas as pd\n",
    "import sys\n",
    "sys.path.append('../py')\n",
    "import processing as pt"
   ]
  },
  {
   "cell_type": "code",
   "execution_count": 2,
   "metadata": {
    "collapsed": true
   },
   "outputs": [],
   "source": [
    "edges = pd.read_hdf('data/all_edges_unfiltered.h5', 'edges')"
   ]
  },
  {
   "cell_type": "markdown",
   "metadata": {},
   "source": [
    "## The Current Wikidata Metgraph\n",
    "\n",
    "![Metagraph](wikidata-metagraph-0.2-cutoff.png)"
   ]
  },
  {
   "cell_type": "markdown",
   "metadata": {},
   "source": [
    "After careful examination of this metagraph, it appears that there will be two major issues that contriube to an increased computational complexity:\n",
    "\n",
    "1. The splitting of Genes into 4 different node types, all with the same paths, creating 8 edge types from 2 initally, adds produces a great number of combinations that will greatly increase the number of queries needed to be performed. \n",
    "\n",
    "2. The splitting of Proteins and Genes, that other knowledge graphs of this type, will require metapaths of length 5 to describe relationships that a metapath of length 4 would otherwise describe.\n",
    "\n",
    "Because all proteins have a direct link to a Gene, this infomration doesn't needed to be captured by an edge.\n",
    "\n",
    "We will do two things:\n",
    "\n",
    "1. Collapse all genes into 1 type called 'Gene'\n",
    "\n",
    "2. Replace all references to protiens with the id for their corresponding gene.  Will will, however, keep the label for the gene"
   ]
  },
  {
   "cell_type": "markdown",
   "metadata": {},
   "source": [
    "### Collapse all genes into Gene"
   ]
  },
  {
   "cell_type": "code",
   "execution_count": 3,
   "metadata": {},
   "outputs": [
    {
     "data": {
      "text/plain": [
       "Protein                            513942\n",
       "Mature MicroRNA                    329845\n",
       "Gene                               308917\n",
       "Compound                           192147\n",
       "GO Term                             60459\n",
       "Protein Family                      36090\n",
       "Disease                             28878\n",
       "Protein Domain                      21819\n",
       "Chemical Hazard                     17395\n",
       "Supersecondary Structure             2690\n",
       "Structural Motif                      588\n",
       "Active Site                           539\n",
       "Binding Site                          395\n",
       "Symptom                               246\n",
       "Post-translational Modification        72\n",
       "Name: type, dtype: int64"
      ]
     },
     "execution_count": 3,
     "metadata": {},
     "output_type": "execute_result"
    }
   ],
   "source": [
    "for kind in ['Gene', 'Protein-coding Gene', 'Pseudo Gene', 'Non-coding RNA']:\n",
    "    edges.loc[edges['type']==kind, 'type'] = 'Gene'\n",
    "edges['type'].value_counts()"
   ]
  },
  {
   "cell_type": "markdown",
   "metadata": {},
   "source": [
    "### Create Gene to Protein Mapping"
   ]
  },
  {
   "cell_type": "code",
   "execution_count": 4,
   "metadata": {
    "collapsed": true
   },
   "outputs": [],
   "source": [
    "# Get all proteins\n",
    "idxp = edges['type'] == 'Protein'\n",
    "proteins = edges.loc[idxp, 's'].unique()\n",
    "gpdf = edges.query('o in @proteins and pLabel == \"encodes\"')"
   ]
  },
  {
   "cell_type": "code",
   "execution_count": 5,
   "metadata": {},
   "outputs": [
    {
     "name": "stdout",
     "output_type": "stream",
     "text": [
      "Unique Proteins:  25056\n",
      "Unique Genes:  20099\n"
     ]
    }
   ],
   "source": [
    "print('Unique Proteins: ', gpdf['o'].nunique())\n",
    "print('Unique Genes: ', gpdf['s'].nunique())"
   ]
  },
  {
   "cell_type": "markdown",
   "metadata": {},
   "source": [
    "Looks like we're going to lose about 5000 proteins, due to one-to-many gene-encodes-protein relationships"
   ]
  },
  {
   "cell_type": "code",
   "execution_count": 6,
   "metadata": {
    "collapsed": true
   },
   "outputs": [],
   "source": [
    "# Protein to Gene URI Mapping\n",
    "p_to_g = gpdf.set_index('o')['s'].to_dict()"
   ]
  },
  {
   "cell_type": "code",
   "execution_count": 7,
   "metadata": {
    "collapsed": true
   },
   "outputs": [],
   "source": [
    "gpdf = edges.query('o in @proteins and pLabel == \"encodes\"')\n",
    "idx_dup = gpdf.duplicated(subset='sLabel', keep=False)\n",
    "\n",
    "# Begin with a mapping of gene to gene Label\n",
    "g_to_pl = edges[edges['type'] == 'Gene'].drop_duplicates(subset='s').set_index('s')['sLabel'].to_dict()\n",
    "\n",
    "# Update mappings with Proteins and Genes with 1-1 relationships that can be mapped the protein's name\n",
    "g_to_pl.update(gpdf.loc[~idx_dup].set_index('s')['oLabel'].to_dict())"
   ]
  },
  {
   "cell_type": "markdown",
   "metadata": {},
   "source": [
    "### Do the mapping"
   ]
  },
  {
   "cell_type": "code",
   "execution_count": 8,
   "metadata": {
    "scrolled": false
   },
   "outputs": [
    {
     "name": "stdout",
     "output_type": "stream",
     "text": [
      "1367881\n",
      "1300192\n",
      "1282791\n",
      "Done\n"
     ]
    }
   ],
   "source": [
    "# Drop Gene-encodes-Protein Edges\n",
    "gep_idx = edges.query('o in @proteins and pLabel == \"encodes\"').index\n",
    "edges.drop(gep_idx, inplace=True)\n",
    "print(len(edges))\n",
    "# Drop Protein-encoded_by-Gene Edges\n",
    "pebg_idx = edges.query('s in @proteins and pLabel == \"encoded by\"').index\n",
    "edges.drop(pebg_idx, inplace=True)\n",
    "print(len(edges))\n",
    "\n",
    "# Reset the index and grab the remaining proteins that haven't been dropped\n",
    "edges.reset_index(drop=True, inplace=True)\n",
    "idxp = edges['type'] == 'Protein'\n",
    "\n",
    "# Rename the types to gene, then apply the uri mappings\n",
    "edges.loc[idxp, 'type'] = 'Gene'\n",
    "\n",
    "edges.loc[idxp, 's'] = edges.loc[idxp, 's'].apply(lambda s: p_to_g.get(s, float('nan')))\n",
    "edges['o'] = edges['o'].apply(lambda o: p_to_g.get(o, o))\n",
    "\n",
    "# Remove any unmappable proteins\n",
    "edges = edges.dropna()\n",
    "print(len(edges))\n",
    "\n",
    "# Apply Label Mappings\n",
    "idxg = edges['type'] == 'Gene'\n",
    "genes = edges.loc[idxg, 's'].unique()\n",
    "idx_obj_g = edges.query('o in @genes').index\n",
    "\n",
    "edges.loc[idxg, 'sLabel'] = edges.loc[idxg, 's'].apply(lambda s: g_to_pl[s])\n",
    "edges.loc[idx_obj_g, 'oLabel'] = edges.loc[idx_obj_g, 'o'].apply(lambda o: g_to_pl[o])\n",
    "\n",
    "print('Done')"
   ]
  },
  {
   "cell_type": "code",
   "execution_count": 9,
   "metadata": {},
   "outputs": [
    {
     "data": {
      "text/html": [
       "<div>\n",
       "<table border=\"1\" class=\"dataframe\">\n",
       "  <thead>\n",
       "    <tr style=\"text-align: right;\">\n",
       "      <th></th>\n",
       "      <th>sLabel</th>\n",
       "      <th>pLabel</th>\n",
       "      <th>oLabel</th>\n",
       "      <th>s</th>\n",
       "      <th>p</th>\n",
       "      <th>o</th>\n",
       "      <th>type</th>\n",
       "    </tr>\n",
       "  </thead>\n",
       "  <tbody>\n",
       "  </tbody>\n",
       "</table>\n",
       "</div>"
      ],
      "text/plain": [
       "Empty DataFrame\n",
       "Columns: [sLabel, pLabel, oLabel, s, p, o, type]\n",
       "Index: []"
      ]
     },
     "execution_count": 9,
     "metadata": {},
     "output_type": "execute_result"
    }
   ],
   "source": [
    "gndf = edges.query('type == \"Gene\"').drop_duplicates(subset = ['s', 'sLabel'])\n",
    "gndf[gndf['s'].duplicated(keep=False)].sort_values('s')"
   ]
  },
  {
   "cell_type": "code",
   "execution_count": 10,
   "metadata": {
    "collapsed": true,
    "scrolled": false
   },
   "outputs": [],
   "source": [
    "edge_counts = edges['type'].value_counts()\n",
    "node_counts = edges.groupby('type')['s'].nunique().sort_values(ascending=False)\n",
    "\n",
    "avg_degree = edge_counts / node_counts"
   ]
  },
  {
   "cell_type": "code",
   "execution_count": 11,
   "metadata": {},
   "outputs": [
    {
     "data": {
      "text/plain": [
       "Mature MicroRNA                    111.919985\n",
       "Chemical Hazard                     20.238026\n",
       "Gene                                11.671057\n",
       "Symptom                              5.514286\n",
       "Binding Site                         4.243243\n",
       "Active Site                          3.540984\n",
       "Post-translational Modification      3.411765\n",
       "Supersecondary Structure             3.293313\n",
       "Disease                              2.766433\n",
       "GO Term                              2.425202\n",
       "Protein Domain                       2.188804\n",
       "Structural Motif                     1.918699\n",
       "Protein Family                       1.629478\n",
       "Compound                             1.208826\n",
       "dtype: float64"
      ]
     },
     "execution_count": 11,
     "metadata": {},
     "output_type": "execute_result"
    }
   ],
   "source": [
    "avg_degree.sort_values(ascending = False)"
   ]
  },
  {
   "cell_type": "markdown",
   "metadata": {},
   "source": [
    "## Now that the edges have changed, re-examine the effect of different cutoff values for removing low count edge types"
   ]
  },
  {
   "cell_type": "code",
   "execution_count": 12,
   "metadata": {
    "collapsed": true
   },
   "outputs": [],
   "source": [
    "# Node types should return the same every time, so won't keep separate copies\n",
    "p0, nt, r0 = pt.prep_for_export(edges, 0.5, 0)"
   ]
  },
  {
   "cell_type": "code",
   "execution_count": 13,
   "metadata": {
    "collapsed": true
   },
   "outputs": [],
   "source": [
    "p01, nt, r01 = pt.prep_for_export(edges, 0.5, 0.01)"
   ]
  },
  {
   "cell_type": "code",
   "execution_count": 14,
   "metadata": {
    "collapsed": true
   },
   "outputs": [],
   "source": [
    "p05, nt, r05 = pt.prep_for_export(edges, 0.5, 0.05)"
   ]
  },
  {
   "cell_type": "code",
   "execution_count": 15,
   "metadata": {
    "collapsed": true
   },
   "outputs": [],
   "source": [
    "p1, nt, r1 = pt.prep_for_export(edges, 0.5, 0.1)"
   ]
  },
  {
   "cell_type": "code",
   "execution_count": 16,
   "metadata": {
    "collapsed": true
   },
   "outputs": [],
   "source": [
    "p15, nt, r15 = pt.prep_for_export(edges, 0.5, 0.15)"
   ]
  },
  {
   "cell_type": "code",
   "execution_count": 12,
   "metadata": {
    "collapsed": true
   },
   "outputs": [],
   "source": [
    "p2, nt, r2 = pt.prep_for_export(edges, 0.5, 0.2)"
   ]
  },
  {
   "cell_type": "code",
   "execution_count": 18,
   "metadata": {
    "collapsed": true
   },
   "outputs": [],
   "source": [
    "p25, nt, r25 =  pt.prep_for_export(edges, 0.5, 0.25)"
   ]
  },
  {
   "cell_type": "code",
   "execution_count": 19,
   "metadata": {
    "collapsed": true
   },
   "outputs": [],
   "source": [
    "p3, nt, r3 = pt.prep_for_export(edges, 0.5, 0.3)"
   ]
  },
  {
   "cell_type": "code",
   "execution_count": 20,
   "metadata": {
    "collapsed": true
   },
   "outputs": [],
   "source": [
    "p5, nt, r5 = pt.prep_for_export(edges, 0.5, 0.5)"
   ]
  },
  {
   "cell_type": "code",
   "execution_count": 21,
   "metadata": {},
   "outputs": [
    {
     "name": "stdout",
     "output_type": "stream",
     "text": [
      "Cutoff: 0\tEdge Tyeps: 149\n",
      "Cutoff: 0.01\tEdge Tyeps: 59\n",
      "Cutoff: 0.05\tEdge Tyeps: 47\n",
      "Cutoff: 0.1\tEdge Tyeps: 44\n",
      "Cutoff: 0.15\tEdge Tyeps: 42\n",
      "Cutoff: 0.2\tEdge Tyeps: 37\n",
      "Cutoff: 0.25\tEdge Tyeps: 37\n",
      "Cutoff: 0.3\tEdge Tyeps: 35\n",
      "Cutoff: 0.5\tEdge Tyeps: 33\n"
     ]
    }
   ],
   "source": [
    "e0 = set(p0['e_type'])\n",
    "e01 = set(p01['e_type'])\n",
    "e05 = set(p05['e_type'])\n",
    "e1 = set(p1['e_type'])\n",
    "e15 = set(p15['e_type'])\n",
    "e2 = set(p2['e_type'])\n",
    "e25 = set(p25['e_type'])\n",
    "e3 = set(p3['e_type'])\n",
    "e5 = set(p5['e_type'])\n",
    "\n",
    "\n",
    "for i, j in zip([e0, e01, e05, e1, e15, e2, e25, e3, e5], [0, .01, .05, .1, .15, .2, .25, .3, .5]):\n",
    "    print('Cutoff: {}\\tEdge Tyeps: {}'.format(j, len(i)))"
   ]
  },
  {
   "cell_type": "code",
   "execution_count": 22,
   "metadata": {
    "collapsed": true
   },
   "outputs": [],
   "source": [
    "def print_cutoff_info(this_cut, name, prev_cut=None, prev_name=None):\n",
    "    this_edge = set(this_cut['e_type'])\n",
    "    if prev_name:\n",
    "        prev_edge = set(prev_cut['e_type'])\n",
    "    \n",
    "    \n",
    "    print('--{}--'.format(name))\n",
    "    print('Total Number of Edge Types: {}'.format(len(set(this_cut['e_type']))))\n",
    "    print('Edge Types with only 1 instance: {}'.format(sum(this_cut['e_type'].value_counts() <= 1)))\n",
    "    print('Edge Types with 10 or fewer instances: {}'.format(sum(this_cut['e_type'].value_counts() <= 10)))\n",
    "\n",
    "    if prev_name:\n",
    "        print('\\n')\n",
    "        print('-'*50)\n",
    "        print('This cutoff removes the following edges that were in {}:'.format(prev_name))\n",
    "        print('-'*50)\n",
    "\n",
    "        for edge in (prev_edge - this_edge):\n",
    "            print(edge)\n",
    "    "
   ]
  },
  {
   "cell_type": "code",
   "execution_count": 23,
   "metadata": {},
   "outputs": [
    {
     "name": "stdout",
     "output_type": "stream",
     "text": [
      "--No Cuttoff--\n",
      "Total Number of Edge Types: 149\n",
      "Edge Types with only 1 instance: 47\n",
      "Edge Types with 10 or fewer instances: 90\n"
     ]
    }
   ],
   "source": [
    "print_cutoff_info(p0, 'No Cuttoff')"
   ]
  },
  {
   "cell_type": "markdown",
   "metadata": {},
   "source": [
    "Without filtering, 149 edge types is A lot. 47 edge types with just a single edge is huge, and even more (about another 40) with fewer than 10"
   ]
  },
  {
   "cell_type": "code",
   "execution_count": 24,
   "metadata": {},
   "outputs": [
    {
     "name": "stdout",
     "output_type": "stream",
     "text": [
      "--0.01--\n",
      "Total Number of Edge Types: 59\n",
      "Edge Types with only 1 instance: 6\n",
      "Edge Types with 10 or fewer instances: 10\n",
      "\n",
      "\n",
      "--------------------------------------------------\n",
      "This cutoff removes the following edges that were in No Cutoff:\n",
      "--------------------------------------------------\n",
      "facet-of_GTfoGT\n",
      "physically-interacts-with_CpiwG\n",
      "drug-used-for-treatment_CduftD\n",
      "follows_GTfGT\n",
      "different-from_CdfC\n",
      "said-to-be-the-same-as_DstbtsaD\n",
      "symptoms_DsGT\n",
      "has-part_ChpSS\n",
      "physically-interacts-with_GpiwG\n",
      "medical-treatment_CHmtC\n",
      "part-of_SSpoSS\n",
      "has-part_PFhpG\n",
      "part-of_CpoGT\n",
      "facet-of_DfoD\n",
      "has-contributing-factor_DhcfD\n",
      "cause-of_DcoD\n",
      "cell-component_CccGT\n",
      "medical-treatment_DmtC\n",
      "encoded-by_GebG\n",
      "subclass-of_CsoC\n",
      "gene-duplication-association-with_GgdawD\n",
      "biological-process_PFbpGT\n",
      "part-of_ASpoSS\n",
      "medical-examinations_DmeG\n",
      "agonist-of_CaoG\n",
      "first-aid-measures_CHfamC\n",
      "side-effect_CseD\n",
      "has-parts-of-the-class_GThpotcGT\n",
      "biological-process_GbpD\n",
      "decays-to_CdtC\n",
      "part-of_DpoD\n",
      "medical-condition_CmcD\n",
      "part-of_PDpoSS\n",
      "afflicts_CHaG\n",
      "has-part_ChpPD\n",
      "activating-neurotransmitter_GTanC\n",
      "symptoms_DsD\n",
      "decreased-expression-in_GdeiD\n",
      "different-from_GTdfGT\n",
      "gene-inversion-association-with_GgiawD\n",
      "drug-used-for-treatment_DduftG\n",
      "instance-of_CioGT\n",
      "together-with_CtwC\n",
      "encodes_GePF\n",
      "vaccine-for_CvfD\n",
      "subclass-of_PDsoPF\n",
      "anatomical-location_DalD\n",
      "has-cause_DhcC\n",
      "material-produced_GTmpC\n",
      "gene-insertion-association-with_GgiawD\n",
      "material-used_GTmuC\n",
      "material-used_CmuC\n",
      "subclass-of_PFsoPD\n",
      "cell-component_MMccGT\n",
      "said-to-be-the-same-as_CstbtsaC\n",
      "increased-expression-in_GieiD\n",
      "molecular-function_PFmfGT\n",
      "altered-regulation-leads-to_GarltD\n",
      "molecular-function_CmfGT\n",
      "different-from_GdfG\n",
      "cell-component_PFccGT\n",
      "subclass-of_GsoPD\n",
      "instance-of_DioD\n",
      "medical-condition-treated_CmctCH\n",
      "subclass-of_CHsoCH\n",
      "subclass-of_DsoGT\n",
      "has-cause_DhcD\n",
      "has-cause_GThcC\n",
      "afflicts_DaG\n",
      "has-part_GThpC\n",
      "cause-of_CcoD\n",
      "material-produced_GmpC\n",
      "afflicts_DaGT\n",
      "part-of_CpoC\n",
      "part-of_GTpoD\n",
      "material-used_GmuC\n",
      "gene-substitution-association-with_GgsawD\n",
      "has-part_GhpPF\n",
      "opposite-of_GTooGT\n",
      "deletion-association-with_GdawD\n",
      "stereoisomer-of_CsoC\n",
      "medical-specialty_DmsD\n",
      "biological-process_CbpGT\n",
      "has-cause_DhcCH\n",
      "different-from_DdfD\n",
      "cause-of_GcoD\n",
      "location_GTlGT\n",
      "substrate-of_GTsoC\n",
      "posttranslational-modification-association-with_GpmawD\n",
      "opposite-of_DooD\n",
      "cause-of_GTcoD\n"
     ]
    }
   ],
   "source": [
    "print_cutoff_info(p01, '0.01', p0, 'No Cutoff')"
   ]
  },
  {
   "cell_type": "markdown",
   "metadata": {},
   "source": [
    "Filtered with a cutoff of 0.01, there still a lot of edge types at 59, and several with 1 or few instances"
   ]
  },
  {
   "cell_type": "code",
   "execution_count": 25,
   "metadata": {},
   "outputs": [
    {
     "name": "stdout",
     "output_type": "stream",
     "text": [
      "--0.05--\n",
      "Total Number of Edge Types: 47\n",
      "Edge Types with only 1 instance: 0\n",
      "Edge Types with 10 or fewer instances: 3\n",
      "\n",
      "\n",
      "--------------------------------------------------\n",
      "This cutoff removes the following edges that were in 0.01:\n",
      "--------------------------------------------------\n",
      "part-of_BSpoSM\n",
      "afflicts_CHaPF\n",
      "part-of_SSpoSM\n",
      "cause-of-death_CHcodD\n",
      "has-part_SShpBS\n",
      "subclass-of_SsoS\n",
      "instance-of_CioC\n",
      "instance-of_SioGT\n",
      "subclass-of_SsoD\n",
      "cause-of_ScoC\n",
      "has-part_ChpC\n",
      "subclass-of_GsoC\n"
     ]
    }
   ],
   "source": [
    "print_cutoff_info(p05, '0.05', p01, '0.01')"
   ]
  },
  {
   "cell_type": "code",
   "execution_count": 26,
   "metadata": {},
   "outputs": [
    {
     "name": "stdout",
     "output_type": "stream",
     "text": [
      "--0.1--\n",
      "Total Number of Edge Types: 44\n",
      "Edge Types with only 1 instance: 0\n",
      "Edge Types with 10 or fewer instances: 3\n",
      "\n",
      "\n",
      "--------------------------------------------------\n",
      "This cutoff removes the following edges that were in 0.05:\n",
      "--------------------------------------------------\n",
      "drug-used-for-treatment_CHduftC\n",
      "chromosome_MMcGT\n",
      "chromosome_GcGT\n"
     ]
    }
   ],
   "source": [
    "print_cutoff_info(p1, '0.1', p05, '0.05')"
   ]
  },
  {
   "cell_type": "code",
   "execution_count": 27,
   "metadata": {},
   "outputs": [
    {
     "name": "stdout",
     "output_type": "stream",
     "text": [
      "--0.15--\n",
      "Total Number of Edge Types: 42\n",
      "Edge Types with only 1 instance: 0\n",
      "Edge Types with 10 or fewer instances: 2\n",
      "\n",
      "\n",
      "--------------------------------------------------\n",
      "This cutoff removes the following edges that were in 0.1:\n",
      "--------------------------------------------------\n",
      "part-of_PDpoPD\n",
      "subclass-of_DsoS\n"
     ]
    }
   ],
   "source": [
    "print_cutoff_info(p15, '0.15', p1, '0.1')"
   ]
  },
  {
   "cell_type": "code",
   "execution_count": 28,
   "metadata": {},
   "outputs": [
    {
     "name": "stdout",
     "output_type": "stream",
     "text": [
      "--0.2--\n",
      "Total Number of Edge Types: 37\n",
      "Edge Types with only 1 instance: 0\n",
      "Edge Types with 10 or fewer instances: 0\n",
      "\n",
      "\n",
      "--------------------------------------------------\n",
      "This cutoff removes the following edges that were in 0.15:\n",
      "--------------------------------------------------\n",
      "cause-of_CHcoD\n",
      "has-cause_ShcD\n",
      "physically-interacts-with_GpiwC\n",
      "cause-of_DcoS\n",
      "part-of_GTpoGT\n",
      "regulates-molecular-biology_GTrmbGT\n"
     ]
    }
   ],
   "source": [
    "print_cutoff_info(p2, '0.2', p15, '0.15')"
   ]
  },
  {
   "cell_type": "code",
   "execution_count": 29,
   "metadata": {},
   "outputs": [
    {
     "name": "stdout",
     "output_type": "stream",
     "text": [
      "--0.25--\n",
      "Total Number of Edge Types: 37\n",
      "Edge Types with only 1 instance: 0\n",
      "Edge Types with 10 or fewer instances: 0\n",
      "\n",
      "\n",
      "--------------------------------------------------\n",
      "This cutoff removes the following edges that were in 0.2:\n",
      "--------------------------------------------------\n"
     ]
    }
   ],
   "source": [
    "print_cutoff_info(p25, '0.25', p2, '0.2')"
   ]
  },
  {
   "cell_type": "code",
   "execution_count": 30,
   "metadata": {},
   "outputs": [
    {
     "name": "stdout",
     "output_type": "stream",
     "text": [
      "--0.3--\n",
      "Total Number of Edge Types: 35\n",
      "Edge Types with only 1 instance: 0\n",
      "Edge Types with 10 or fewer instances: 0\n",
      "\n",
      "\n",
      "--------------------------------------------------\n",
      "This cutoff removes the following edges that were in 0.25:\n",
      "--------------------------------------------------\n",
      "subclass-of_PDsoPD\n",
      "genetic-association_DgaG\n"
     ]
    }
   ],
   "source": [
    "print_cutoff_info(p3, '0.3', p25, '0.25')"
   ]
  },
  {
   "cell_type": "markdown",
   "metadata": {},
   "source": [
    "Lose the edge Gene-genetic-association->Disease at a cutoff of .3. This is a very important edge, so must stay below that"
   ]
  },
  {
   "cell_type": "code",
   "execution_count": 31,
   "metadata": {},
   "outputs": [
    {
     "data": {
      "text/plain": [
       "regulates-molecular-biology_MMrmbG     277911\n",
       "biological-process_GbpGT               138665\n",
       "cell-component_GccGT                    87112\n",
       "molecular-function_GmfGT                69097\n",
       "has-part_GhpPD                          41086\n",
       "subclass-of_GTsoGT                      20781\n",
       "subclass-of_GsoPF                       10697\n",
       "part-of_PDpoPF                           7514\n",
       "subclass-of_DsoD                         7011\n",
       "instance-of_GTioGT                       6403\n",
       "part-of_GTpoGT                           4234\n",
       "subclass-of_PFsoPF                       3689\n",
       "physically-interacts-with_GpiwC          3605\n",
       "has-part_GhpSS                           3542\n",
       "regulates-molecular-biology_GTrmbGT      3287\n",
       "drug-used-for-treatment_DduftC           2651\n",
       "genetic-association_DgaG                 2091\n",
       "has-part_GhpSM                           2023\n",
       "subclass-of_PDsoPD                       1578\n",
       "part-of_SSpoPF                           1319\n",
       "significant-drug-interaction_CsdiC        995\n",
       "symptoms_CHsD                             984\n",
       "has-part_GhpAS                            946\n",
       "part-of_PDpoPD                            856\n",
       "has-part_GhpBS                            786\n",
       "symptoms_CHsS                             781\n",
       "part-of_SSpoPD                            585\n",
       "cause-of_CcoCH                            571\n",
       "part-of_ASpoPF                            265\n",
       "part-of_BSpoPF                            218\n",
       "part-of_SMpoPF                            184\n",
       "has-part_GhpPTM                           146\n",
       "drug-used-for-treatment_SduftC            127\n",
       "part-of_ASpoPD                            122\n",
       "cause-of_CHcoD                            114\n",
       "part-of_SMpoPD                             90\n",
       "part-of_BSpoPD                             88\n",
       "symptoms_DsS                               37\n",
       "part-of_PTMpoPF                            35\n",
       "cause-of_CHcoS                             24\n",
       "part-of_PTMpoPD                            14\n",
       "has-cause_ShcD                              5\n",
       "cause-of_DcoS                               5\n",
       "subclass-of_DsoS                            3\n",
       "Name: e_type, dtype: int64"
      ]
     },
     "execution_count": 31,
     "metadata": {},
     "output_type": "execute_result"
    }
   ],
   "source": [
    "p1['e_type'].value_counts()"
   ]
  },
  {
   "cell_type": "code",
   "execution_count": 32,
   "metadata": {},
   "outputs": [
    {
     "data": {
      "text/plain": [
       "regulates-molecular-biology_MMrmbG    277911\n",
       "biological-process_GbpGT              138665\n",
       "cell-component_GccGT                   87112\n",
       "molecular-function_GmfGT               69097\n",
       "has-part_GhpPD                         41086\n",
       "subclass-of_GTsoGT                     20781\n",
       "subclass-of_GsoPF                      10697\n",
       "part-of_PDpoPF                          7514\n",
       "subclass-of_DsoD                        7011\n",
       "instance-of_GTioGT                      6403\n",
       "subclass-of_PFsoPF                      3689\n",
       "physically-interacts-with_CpiwG         3605\n",
       "has-part_GhpSS                          3542\n",
       "drug-used-for-treatment_DduftC          2651\n",
       "genetic-association_DgaG                2091\n",
       "has-part_GhpSM                          2023\n",
       "subclass-of_PDsoPD                      1578\n",
       "part-of_SSpoPF                          1319\n",
       "significant-drug-interaction_CsdiC       995\n",
       "symptoms_CHsD                            984\n",
       "has-part_GhpAS                           946\n",
       "has-part_GhpBS                           786\n",
       "symptoms_CHsS                            781\n",
       "part-of_SSpoPD                           585\n",
       "cause-of_CcoCH                           571\n",
       "part-of_ASpoPF                           265\n",
       "part-of_BSpoPF                           218\n",
       "part-of_SMpoPF                           184\n",
       "has-part_GhpPTM                          146\n",
       "drug-used-for-treatment_SduftC           127\n",
       "part-of_ASpoPD                           122\n",
       "part-of_SMpoPD                            90\n",
       "part-of_BSpoPD                            88\n",
       "symptoms_DsS                              37\n",
       "part-of_PTMpoPF                           35\n",
       "cause-of_CHcoS                            24\n",
       "part-of_PTMpoPD                           14\n",
       "Name: e_type, dtype: int64"
      ]
     },
     "execution_count": 32,
     "metadata": {},
     "output_type": "execute_result"
    }
   ],
   "source": [
    "p2['e_type'].value_counts()"
   ]
  },
  {
   "cell_type": "code",
   "execution_count": 13,
   "metadata": {
    "collapsed": true
   },
   "outputs": [],
   "source": [
    "prepped, node_types, reciprocals = p2, nt, r2"
   ]
  },
  {
   "cell_type": "code",
   "execution_count": 14,
   "metadata": {
    "collapsed": true
   },
   "outputs": [],
   "source": [
    "prepped.to_hdf('data/prepped_edges.h5', 'edges')\n",
    "with open('data/node_types.json', 'w') as fout:\n",
    "    json.dump(node_types, fout, indent=2)\n",
    "\n",
    "with open('data/reciprocal_relations.txt', 'w') as fout2:    \n",
    "    for relations in reciprocals:\n",
    "        for rel in relations:\n",
    "            fout2.write(rel+',')\n",
    "        fout2.write('\\n')"
   ]
  },
  {
   "cell_type": "markdown",
   "metadata": {},
   "source": [
    "### Format to neo4j and save the files"
   ]
  },
  {
   "cell_type": "code",
   "execution_count": 34,
   "metadata": {
    "collapsed": true
   },
   "outputs": [],
   "source": [
    "node_neo = pt.format_nodes_neo(prepped, node_types)\n",
    "edge_neo = pt.format_edges_neo(prepped)"
   ]
  },
  {
   "cell_type": "code",
   "execution_count": 35,
   "metadata": {},
   "outputs": [
    {
     "data": {
      "text/plain": [
       "Gene                               19655\n",
       "GO Term                            19554\n",
       "Protein Family                     11058\n",
       "Disease                             6547\n",
       "Protein Domain                      5479\n",
       "Mature MicroRNA                     2582\n",
       "Compound                            2569\n",
       "Chemical Hazard                      670\n",
       "Supersecondary Structure             613\n",
       "Structural Motif                     126\n",
       "Active Site                          112\n",
       "Binding Site                          70\n",
       "Symptom                               27\n",
       "Post-translational Modification       15\n",
       "Name: :LABEL, dtype: int64"
      ]
     },
     "execution_count": 35,
     "metadata": {},
     "output_type": "execute_result"
    }
   ],
   "source": [
    "# How many of each node type is represented?\n",
    "node_neo[':LABEL'].value_counts()"
   ]
  },
  {
   "cell_type": "code",
   "execution_count": 36,
   "metadata": {
    "collapsed": true
   },
   "outputs": [],
   "source": [
    "node_neo.to_csv('data/hetnet_nodes.csv', index=False)\n",
    "edge_neo.to_csv('data/hetnet_edges.csv', index=False)"
   ]
  },
  {
   "cell_type": "markdown",
   "metadata": {},
   "source": [
    "## Make the metagraph needed for the learn pipline\n",
    "\n",
    "#### See how long of metapaths we should use"
   ]
  },
  {
   "cell_type": "code",
   "execution_count": 37,
   "metadata": {
    "collapsed": true
   },
   "outputs": [],
   "source": [
    "met = pt.get_metaedge_tuples(prepped, node_types, reciprocals)\n",
    "abv = pt.get_abbrev_dict(prepped, node_types)"
   ]
  },
  {
   "cell_type": "code",
   "execution_count": 38,
   "metadata": {
    "collapsed": true
   },
   "outputs": [],
   "source": [
    "from hetio.hetnet import MetaGraph\n",
    "\n",
    "mg = MetaGraph.from_edge_tuples(met, abv)"
   ]
  },
  {
   "cell_type": "code",
   "execution_count": 39,
   "metadata": {},
   "outputs": [
    {
     "name": "stdout",
     "output_type": "stream",
     "text": [
      "For a max path length of 4, there are 175 metapaths\n",
      "For a max path length of 5, there are 887 metapaths\n",
      "For a max path length of 6, there are 4883 metapaths\n"
     ]
    }
   ],
   "source": [
    "num4 = len(mg.extract_metapaths('Compound', 'Disease', 4))\n",
    "num5 = len(mg.extract_metapaths('Compound', 'Disease', 5))\n",
    "num6 = len(mg.extract_metapaths('Compound', 'Disease', 6))\n",
    "\n",
    "for pl, paths in zip([4, 5, 6], [num4, num5, num6]):\n",
    "    print('For a max path length of {}, there are {} metapaths'.format(pl, paths))"
   ]
  },
  {
   "cell_type": "code",
   "execution_count": 40,
   "metadata": {
    "collapsed": true
   },
   "outputs": [],
   "source": [
    "with open('len4.txt', 'w') as fout:\n",
    "    for mp in mg.extract_metapaths('Compound', 'Disease', 4):\n",
    "        fout.write(str(mp)+'\\n')\n",
    "        \n",
    "with open('len5.txt', 'w') as fout:\n",
    "    for mp in mg.extract_metapaths('Compound', 'Disease', 5):\n",
    "        fout.write(str(mp)+'\\n')\n",
    "        \n",
    "with open('len6.txt', 'w') as fout:\n",
    "    for mp in mg.extract_metapaths('Compound', 'Disease', 6):\n",
    "        fout.write(str(mp)+'\\n')"
   ]
  },
  {
   "cell_type": "markdown",
   "metadata": {},
   "source": [
    "## Metagraph Analysis\n",
    "\n",
    "Metapaths of length 4:\n",
    "- 175 pathtypes\n",
    "- All node types are included\n",
    "- Many Node types have only 1 associated Metapath\n",
    " \n",
    "Metapaths of length 5:\n",
    "- 877 pathtypes\n",
    "- All Node Types represented\n",
    "- Many paths for each node type\n",
    "\n",
    "Metapaths of length 6:\n",
    "- 4,833 pathtypes\n",
    "- Lots more examples here, would be great if we had the computation"
   ]
  },
  {
   "cell_type": "markdown",
   "metadata": {},
   "source": [
    "## Make Hetio information"
   ]
  },
  {
   "cell_type": "code",
   "execution_count": 41,
   "metadata": {},
   "outputs": [
    {
     "data": {
      "text/plain": [
       "Gene                               19655\n",
       "GO Term                            19554\n",
       "Protein Family                     11058\n",
       "Disease                             6547\n",
       "Protein Domain                      5479\n",
       "Mature MicroRNA                     2582\n",
       "Compound                            2569\n",
       "Chemical Hazard                      670\n",
       "Supersecondary Structure             613\n",
       "Structural Motif                     126\n",
       "Active Site                          112\n",
       "Binding Site                          70\n",
       "Symptom                               27\n",
       "Post-translational Modification       15\n",
       "Name: :LABEL, dtype: int64"
      ]
     },
     "execution_count": 41,
     "metadata": {},
     "output_type": "execute_result"
    }
   ],
   "source": [
    "node_neo[':LABEL'].value_counts()"
   ]
  },
  {
   "cell_type": "code",
   "execution_count": 42,
   "metadata": {},
   "outputs": [
    {
     "name": "stdout",
     "output_type": "stream",
     "text": [
      "Added 69077 nodes to graph\n",
      "Added 693773 edges to graph\n"
     ]
    }
   ],
   "source": [
    "pt.prep_hetio(prepped, node_types, reciprocals)"
   ]
  },
  {
   "cell_type": "markdown",
   "metadata": {},
   "source": [
    "# Metagraph after the protein-gene merge\n",
    "\n",
    "![New Metagraph](wikidata-metagraph-genemerge-0.2-cutoff.png)"
   ]
  }
 ],
 "metadata": {
  "kernelspec": {
   "display_name": "Python 3",
   "language": "python",
   "name": "python3"
  },
  "language_info": {
   "codemirror_mode": {
    "name": "ipython",
    "version": 3
   },
   "file_extension": ".py",
   "mimetype": "text/x-python",
   "name": "python",
   "nbconvert_exporter": "python",
   "pygments_lexer": "ipython3",
   "version": "3.5.2"
  }
 },
 "nbformat": 4,
 "nbformat_minor": 2
}

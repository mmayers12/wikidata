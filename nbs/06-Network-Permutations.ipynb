{
 "cells": [
  {
   "cell_type": "code",
   "execution_count": 1,
   "metadata": {
    "collapsed": true
   },
   "outputs": [],
   "source": [
    "import pandas as pd\n",
    "import os\n",
    "import sys\n",
    "sys.path.append('../py')\n",
    "from permute import permute_edges"
   ]
  },
  {
   "cell_type": "code",
   "execution_count": 2,
   "metadata": {
    "collapsed": true
   },
   "outputs": [],
   "source": [
    "edges = pd.read_csv('data/hetnet_edges.csv')"
   ]
  },
  {
   "cell_type": "code",
   "execution_count": 3,
   "metadata": {
    "scrolled": true
   },
   "outputs": [
    {
     "data": {
      "text/html": [
       "<div>\n",
       "<table border=\"1\" class=\"dataframe\">\n",
       "  <thead>\n",
       "    <tr style=\"text-align: right;\">\n",
       "      <th></th>\n",
       "      <th>:START_ID</th>\n",
       "      <th>:END_ID</th>\n",
       "      <th>:TYPE</th>\n",
       "    </tr>\n",
       "  </thead>\n",
       "  <tbody>\n",
       "    <tr>\n",
       "      <th>0</th>\n",
       "      <td>Q24778004</td>\n",
       "      <td>Q24768156</td>\n",
       "      <td>part-of_SMpoPF</td>\n",
       "    </tr>\n",
       "    <tr>\n",
       "      <th>1</th>\n",
       "      <td>Q24778004</td>\n",
       "      <td>Q24768109</td>\n",
       "      <td>part-of_SMpoPF</td>\n",
       "    </tr>\n",
       "    <tr>\n",
       "      <th>2</th>\n",
       "      <td>Q24778004</td>\n",
       "      <td>Q24725860</td>\n",
       "      <td>part-of_SMpoPF</td>\n",
       "    </tr>\n",
       "    <tr>\n",
       "      <th>3</th>\n",
       "      <td>Q24774294</td>\n",
       "      <td>Q24719584</td>\n",
       "      <td>part-of_SMpoPF</td>\n",
       "    </tr>\n",
       "    <tr>\n",
       "      <th>4</th>\n",
       "      <td>Q24774294</td>\n",
       "      <td>Q24723292</td>\n",
       "      <td>part-of_SMpoPF</td>\n",
       "    </tr>\n",
       "  </tbody>\n",
       "</table>\n",
       "</div>"
      ],
      "text/plain": [
       "   :START_ID    :END_ID           :TYPE\n",
       "0  Q24778004  Q24768156  part-of_SMpoPF\n",
       "1  Q24778004  Q24768109  part-of_SMpoPF\n",
       "2  Q24778004  Q24725860  part-of_SMpoPF\n",
       "3  Q24774294  Q24719584  part-of_SMpoPF\n",
       "4  Q24774294  Q24723292  part-of_SMpoPF"
      ]
     },
     "execution_count": 3,
     "metadata": {},
     "output_type": "execute_result"
    }
   ],
   "source": [
    "edges.head()"
   ]
  },
  {
   "cell_type": "code",
   "execution_count": 4,
   "metadata": {
    "collapsed": true
   },
   "outputs": [],
   "source": [
    "n_perms = 5\n",
    "multiplier = 5"
   ]
  },
  {
   "cell_type": "code",
   "execution_count": 5,
   "metadata": {},
   "outputs": [
    {
     "name": "stdout",
     "output_type": "stream",
     "text": [
      "Starting permutation 1\n",
      "Starting permutation 2\n",
      "Starting permutation 3\n",
      "Starting permutation 4\n",
      "Starting permutation 5\n",
      "CPU times: user 16min 17s, sys: 364 ms, total: 16min 17s\n",
      "Wall time: 16min 17s\n"
     ]
    }
   ],
   "source": [
    "%%time\n",
    "stat_dfs = list()\n",
    "permuted_edges = edges\n",
    " \n",
    "for i in range(n_perms):\n",
    "    i += 1\n",
    "    print('Starting permutation', i)\n",
    "    permuted_edges, stats = permute_edges(permuted_edges, multiplier=multiplier, seed=i)\n",
    "    stat_df = pd.DataFrame(stats)\n",
    "    stat_df['permutation'] = i\n",
    "    stat_dfs.append(stat_df)\n",
    "    path = os.path.join('../', 'neo', 'import', 'hetnet_edges_perm-{}.csv'.format(i))\n",
    "    permuted_edges.to_csv(path, index = False)\n",
    "\n",
    "# Save stats\n",
    "stat_df = pd.concat(stat_dfs)\n",
    "path = os.path.join('../', 'neo', 'import', 'stats.tsv')\n",
    "stat_df.to_csv(path, sep='\\t', index=False, float_format='%.5g')"
   ]
  }
 ],
 "metadata": {
  "kernelspec": {
   "display_name": "Python 3",
   "language": "python",
   "name": "python3"
  },
  "language_info": {
   "codemirror_mode": {
    "name": "ipython",
    "version": 3
   },
   "file_extension": ".py",
   "mimetype": "text/x-python",
   "name": "python",
   "nbconvert_exporter": "python",
   "pygments_lexer": "ipython3",
   "version": "3.5.2"
  }
 },
 "nbformat": 4,
 "nbformat_minor": 2
}

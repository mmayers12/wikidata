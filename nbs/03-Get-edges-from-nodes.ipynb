{
 "cells": [
  {
   "cell_type": "code",
   "execution_count": 1,
   "metadata": {
    "collapsed": true
   },
   "outputs": [],
   "source": [
    "import sys\n",
    "sys.path.append('../py')\n",
    "import sparql_tools as qt\n",
    "import pandas as pd\n",
    "import json"
   ]
  },
  {
   "cell_type": "code",
   "execution_count": 2,
   "metadata": {
    "collapsed": true
   },
   "outputs": [],
   "source": [
    "with open('node_info.json', 'r') as fin:\n",
    "    node_info = json.load(fin)"
   ]
  },
  {
   "cell_type": "code",
   "execution_count": 3,
   "metadata": {},
   "outputs": [
    {
     "data": {
      "text/plain": [
       "{'Active Site': 'data/active_site.txt',\n",
       " 'Binding Site': 'data/binding_site.txt',\n",
       " 'Chemical Hazard': 'data/chem_hazard.txt',\n",
       " 'Compound': 'data/compounds.txt',\n",
       " 'Disease': 'data/disease.txt',\n",
       " 'GO Term': 'data/go_terms.txt',\n",
       " 'Gene': 'data/other_genes.txt',\n",
       " 'Mature MicroRNA': 'data/mirna.txt',\n",
       " 'Non-coding RNA': 'data/ncr_genes.txt',\n",
       " 'Post-translational Modification': 'data/ptm.txt',\n",
       " 'Protein': 'data/proteins.txt',\n",
       " 'Protein Domain': 'data/p_domain.txt',\n",
       " 'Protein Family': 'data/p_fams.txt',\n",
       " 'Protein-coding Gene': 'data/pc_genes.txt',\n",
       " 'Pseudo Gene': 'data/pseu_genes.txt',\n",
       " 'Structural Motif': 'data/s_motif.txt',\n",
       " 'Supersecondary Structure': 'data/ss_struct.txt',\n",
       " 'Symptom': 'data/symptoms.txt'}"
      ]
     },
     "execution_count": 3,
     "metadata": {},
     "output_type": "execute_result"
    }
   ],
   "source": [
    "node_info"
   ]
  },
  {
   "cell_type": "code",
   "execution_count": 4,
   "metadata": {
    "collapsed": true
   },
   "outputs": [],
   "source": [
    "def read_lines(file_name):\n",
    "    with open(file_name, 'r') as fin:\n",
    "        for line in fin.readlines():\n",
    "            yield line.strip()\n",
    "\n",
    "def get_edges(node_type, file_name):\n",
    "    id_list = []\n",
    "    for line in read_lines(file_name):\n",
    "        id_list.append(line)\n",
    "    \n",
    "    edges = qt.query_from_list(id_list)\n",
    "    \n",
    "    edges['type'] = node_type\n",
    "    \n",
    "    return edges"
   ]
  },
  {
   "cell_type": "code",
   "execution_count": 5,
   "metadata": {},
   "outputs": [
    {
     "name": "stdout",
     "output_type": "stream",
     "text": [
      "Getting edges for Structural Motif\n",
      "Running queries...\n"
     ]
    },
    {
     "name": "stderr",
     "output_type": "stream",
     "text": [
      "100%|██████████| 286/286 [00:03<00:00, 76.07it/s] \n"
     ]
    },
    {
     "name": "stdout",
     "output_type": "stream",
     "text": [
      "No new Properties to save\n",
      "Getting edges for Non-coding RNA\n",
      "Running queries...\n"
     ]
    },
    {
     "name": "stderr",
     "output_type": "stream",
     "text": [
      "100%|██████████| 18066/18066 [12:07<00:00, 24.84it/s]\n"
     ]
    },
    {
     "name": "stdout",
     "output_type": "stream",
     "text": [
      "No new Properties to save\n",
      "Getting edges for Compound\n",
      "Running queries...\n"
     ]
    },
    {
     "name": "stderr",
     "output_type": "stream",
     "text": [
      "100%|██████████| 156634/156634 [50:18<00:00, 51.89it/s] \n"
     ]
    },
    {
     "name": "stdout",
     "output_type": "stream",
     "text": [
      "Getting edges for Gene\n",
      "Running queries...\n"
     ]
    },
    {
     "name": "stderr",
     "output_type": "stream",
     "text": [
      "100%|██████████| 4533/4533 [02:58<00:00, 25.43it/s]\n"
     ]
    },
    {
     "name": "stdout",
     "output_type": "stream",
     "text": [
      "No new Properties to save\n",
      "Getting edges for Binding Site\n",
      "Running queries...\n"
     ]
    },
    {
     "name": "stderr",
     "output_type": "stream",
     "text": [
      "100%|██████████| 76/76 [00:01<00:00, 50.98it/s]\n"
     ]
    },
    {
     "name": "stdout",
     "output_type": "stream",
     "text": [
      "No new Properties to save\n",
      "Getting edges for Protein Domain\n",
      "Running queries...\n"
     ]
    },
    {
     "name": "stderr",
     "output_type": "stream",
     "text": [
      "100%|██████████| 9056/9056 [01:43<00:00, 87.51it/s] \n"
     ]
    },
    {
     "name": "stdout",
     "output_type": "stream",
     "text": [
      "No new Properties to save\n",
      "Getting edges for GO Term\n",
      "Running queries...\n"
     ]
    },
    {
     "name": "stderr",
     "output_type": "stream",
     "text": [
      "100%|██████████| 21358/21358 [04:27<00:00, 79.78it/s]\n"
     ]
    },
    {
     "name": "stdout",
     "output_type": "stream",
     "text": [
      "No new Properties to save\n",
      "Getting edges for Protein-coding Gene\n",
      "Running queries...\n"
     ]
    },
    {
     "name": "stderr",
     "output_type": "stream",
     "text": [
      "100%|██████████| 20706/20706 [20:50<00:00, 13.72it/s]\n"
     ]
    },
    {
     "name": "stdout",
     "output_type": "stream",
     "text": [
      "No new Properties to save\n",
      "Getting edges for Protein Family\n",
      "Running queries...\n"
     ]
    },
    {
     "name": "stderr",
     "output_type": "stream",
     "text": [
      "100%|██████████| 20390/20390 [03:27<00:00, 98.39it/s] \n"
     ]
    },
    {
     "name": "stdout",
     "output_type": "stream",
     "text": [
      "No new Properties to save\n",
      "Getting edges for Pseudogene\n",
      "Running queries...\n"
     ]
    },
    {
     "name": "stderr",
     "output_type": "stream",
     "text": [
      "100%|██████████| 16862/16862 [11:03<00:00, 26.27it/s]\n"
     ]
    },
    {
     "name": "stdout",
     "output_type": "stream",
     "text": [
      "No new Properties to save\n",
      "Getting edges for Mature MicroRNA\n",
      "Running queries...\n"
     ]
    },
    {
     "name": "stderr",
     "output_type": "stream",
     "text": [
      "100%|██████████| 2588/2588 [32:57<00:00,  1.74it/s] \n"
     ]
    },
    {
     "name": "stdout",
     "output_type": "stream",
     "text": [
      "No new Properties to save\n",
      "Getting edges for Supersecondary Structure\n",
      "Running queries...\n"
     ]
    },
    {
     "name": "stderr",
     "output_type": "stream",
     "text": [
      "100%|██████████| 686/686 [00:09<00:00, 70.96it/s]\n"
     ]
    },
    {
     "name": "stdout",
     "output_type": "stream",
     "text": [
      "No new Properties to save\n",
      "Getting edges for Symptom\n",
      "Running queries...\n"
     ]
    },
    {
     "name": "stderr",
     "output_type": "stream",
     "text": [
      "100%|██████████| 38/38 [00:01<00:00, 19.38it/s]\n"
     ]
    },
    {
     "name": "stdout",
     "output_type": "stream",
     "text": [
      "No new Properties to save\n",
      "Getting edges for Chemical Hazard\n",
      "Running queries...\n"
     ]
    },
    {
     "name": "stderr",
     "output_type": "stream",
     "text": [
      "100%|██████████| 689/689 [00:59<00:00, 11.60it/s]\n"
     ]
    },
    {
     "name": "stdout",
     "output_type": "stream",
     "text": [
      "No new Properties to save\n",
      "Getting edges for Active Site\n",
      "Running queries...\n"
     ]
    },
    {
     "name": "stderr",
     "output_type": "stream",
     "text": [
      "100%|██████████| 132/132 [00:02<00:00, 59.92it/s]\n"
     ]
    },
    {
     "name": "stdout",
     "output_type": "stream",
     "text": [
      "No new Properties to save\n",
      "Getting edges for Disease\n",
      "Running queries...\n"
     ]
    },
    {
     "name": "stderr",
     "output_type": "stream",
     "text": [
      "100%|██████████| 8666/8666 [03:32<00:00, 40.85it/s]\n"
     ]
    },
    {
     "name": "stdout",
     "output_type": "stream",
     "text": [
      "No new Properties to save\n",
      "Getting edges for Post-translational Modification\n",
      "Running queries...\n"
     ]
    },
    {
     "name": "stderr",
     "output_type": "stream",
     "text": [
      "100%|██████████| 18/18 [00:00<00:00, 53.92it/s]\n"
     ]
    },
    {
     "name": "stdout",
     "output_type": "stream",
     "text": [
      "No new Properties to save\n",
      "Getting edges for Protein\n",
      "Running queries...\n"
     ]
    },
    {
     "name": "stderr",
     "output_type": "stream",
     "text": [
      "100%|██████████| 27566/27566 [36:49<00:00, 13.00it/s]\n"
     ]
    },
    {
     "name": "stdout",
     "output_type": "stream",
     "text": [
      "No new Properties to save\n"
     ]
    }
   ],
   "source": [
    "edges = []\n",
    "\n",
    "for key, value in node_info.items():\n",
    "    print('Getting edges for {}'.format(key))\n",
    "    edges.append(get_edges(key, value['filename']))\n",
    "    print('')"
   ]
  },
  {
   "cell_type": "code",
   "execution_count": 6,
   "metadata": {
    "collapsed": true
   },
   "outputs": [],
   "source": [
    "edge_df = pd.concat(edges)"
   ]
  },
  {
   "cell_type": "code",
   "execution_count": 27,
   "metadata": {
    "collapsed": true
   },
   "outputs": [],
   "source": [
    "edge_df.to_hdf('data/all_edges_unfiltered.h5', 'edges')"
   ]
  }
 ],
 "metadata": {
  "kernelspec": {
   "display_name": "Python 3",
   "language": "python",
   "name": "python3"
  },
  "language_info": {
   "codemirror_mode": {
    "name": "ipython",
    "version": 3
   },
   "file_extension": ".py",
   "mimetype": "text/x-python",
   "name": "python",
   "nbconvert_exporter": "python",
   "pygments_lexer": "ipython3",
   "version": "3.5.2"
  }
 },
 "nbformat": 4,
 "nbformat_minor": 2
}

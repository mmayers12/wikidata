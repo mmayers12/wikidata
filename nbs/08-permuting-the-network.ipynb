{
 "cells": [
  {
   "cell_type": "code",
   "execution_count": 1,
   "metadata": {
    "collapsed": true
   },
   "outputs": [],
   "source": [
    "import pandas as pd\n",
    "import os\n",
    "import collections\n",
    "import random\n",
    "import logging"
   ]
  },
  {
   "cell_type": "code",
   "execution_count": 2,
   "metadata": {
    "collapsed": true
   },
   "outputs": [],
   "source": [
    "edges = pd.read_csv('data/hetnet_baseedges.csv')"
   ]
  },
  {
   "cell_type": "code",
   "execution_count": 3,
   "metadata": {},
   "outputs": [
    {
     "data": {
      "text/html": [
       "<div>\n",
       "<table border=\"1\" class=\"dataframe\">\n",
       "  <thead>\n",
       "    <tr style=\"text-align: right;\">\n",
       "      <th></th>\n",
       "      <th>:START_ID</th>\n",
       "      <th>:END_ID</th>\n",
       "      <th>:TYPE</th>\n",
       "    </tr>\n",
       "  </thead>\n",
       "  <tbody>\n",
       "    <tr>\n",
       "      <th>0</th>\n",
       "      <td>Q71969</td>\n",
       "      <td>Q221668</td>\n",
       "      <td>medical-condition-treated_CmD</td>\n",
       "    </tr>\n",
       "    <tr>\n",
       "      <th>1</th>\n",
       "      <td>Q71969</td>\n",
       "      <td>Q246084</td>\n",
       "      <td>medical-condition-treated_CmD</td>\n",
       "    </tr>\n",
       "  </tbody>\n",
       "</table>\n",
       "</div>"
      ],
      "text/plain": [
       "  :START_ID  :END_ID                          :TYPE\n",
       "0    Q71969  Q221668  medical-condition-treated_CmD\n",
       "1    Q71969  Q246084  medical-condition-treated_CmD"
      ]
     },
     "execution_count": 3,
     "metadata": {},
     "output_type": "execute_result"
    }
   ],
   "source": [
    "edges.head(2)"
   ]
  },
  {
   "cell_type": "code",
   "execution_count": 4,
   "metadata": {
    "collapsed": true
   },
   "outputs": [],
   "source": [
    "def get_pair_lists(edges):\n",
    "    # Get edge types\n",
    "    edge_types = set(edges[':TYPE'])\n",
    "    \n",
    "    # Iterate over types and get a pair list for each\n",
    "    pair_list_dict = dict()\n",
    "    for kind in edge_types:\n",
    "        edges_of_type = edges[edges[':TYPE'] == kind]\n",
    "\n",
    "        start = list(edges_of_type[':START_ID'])\n",
    "        end = list(edges_of_type[':END_ID'])\n",
    "        pair_list = [(s, e) for s, e in zip(start, end)]\n",
    "\n",
    "\n",
    "        pair_list_dict[kind] = pair_list\n",
    "    \n",
    "    return pair_list_dict\n"
   ]
  },
  {
   "cell_type": "code",
   "execution_count": 5,
   "metadata": {
    "collapsed": true
   },
   "outputs": [],
   "source": [
    "def permute_edges(edges, multiplier=10, seed=0):\n",
    "\n",
    "    pair_list_dict = get_pair_lists(edges)\n",
    "    \n",
    "    # Container for Stats\n",
    "    all_stats = list()\n",
    "        \n",
    "    # Permute from the pair list\n",
    "    permuted_pair_lists = dict()\n",
    "    for kind, pair_list in pair_list_dict.items():\n",
    "        permuted_pair_list, stats = permute_pair_list(pair_list, directed = True, multiplier = multiplier, seed = seed)\n",
    "        permuted_pair_lists[kind] = permuted_pair_list\n",
    "        for stat in stats:\n",
    "            stat['metaedge'] = kind\n",
    "            stat['abbrev'] = kind.split('_')[-1]\n",
    "        all_stats.extend(stats)\n",
    "        \n",
    "    # Return to a dataFrame\n",
    "    return pair_list_to_df(permuted_pair_lists), all_stats\n",
    "        "
   ]
  },
  {
   "cell_type": "code",
   "execution_count": 6,
   "metadata": {
    "collapsed": true
   },
   "outputs": [],
   "source": [
    "def permute_pair_list(pair_list, directed=False, multiplier=10, excluded_pair_set=set(), seed=0, log=False):\n",
    "    \"\"\"\n",
    "    If n_perm is not specific, perform 10 times the number of edges of permutations\n",
    "    May not work for directed edges\n",
    "    \"\"\"\n",
    "    random.seed(seed)\n",
    "\n",
    "    pair_set = set(pair_list)\n",
    "    assert len(pair_set) == len(pair_list)\n",
    "\n",
    "    edge_number = len(pair_list)\n",
    "    n_perm = int(edge_number * multiplier)\n",
    "\n",
    "    count_same_edge = 0\n",
    "    count_self_loop = 0\n",
    "    count_duplicate = 0\n",
    "    count_undir_dup = 0\n",
    "    count_excluded = 0\n",
    "\n",
    "    if log:\n",
    "        logging.info('{} edges, {} permutations (seed = {}, directed = {}, {} excluded_edges)'.format(\n",
    "            edge_number, n_perm, seed, directed, len(excluded_pair_set)))\n",
    "\n",
    "    orig_pair_set = pair_set.copy()\n",
    "    step = max(1, n_perm // 10)\n",
    "    print_at = list(range(step, n_perm, step)) + [n_perm - 1]\n",
    "\n",
    "    stats = list()\n",
    "    for i in range(n_perm):\n",
    "\n",
    "        # Same two random edges\n",
    "        i_0 = random.randrange(edge_number)\n",
    "        i_1 = random.randrange(edge_number)\n",
    "\n",
    "        # Same edge selected twice\n",
    "        if i_0 == i_1:\n",
    "            count_same_edge += 1\n",
    "            continue\n",
    "        pair_0 = pair_list.pop(i_0)\n",
    "        pair_1 = pair_list.pop(i_1 - 1 if i_0 < i_1 else i_1)\n",
    "\n",
    "        new_pair_0 = pair_0[0], pair_1[1]\n",
    "        new_pair_1 = pair_1[0], pair_0[1]\n",
    "\n",
    "        valid = False\n",
    "        for pair in new_pair_0, new_pair_1:\n",
    "            if pair[0] == pair[1]:\n",
    "                count_self_loop += 1\n",
    "                break  # edge is a self-loop\n",
    "            if pair in pair_set:\n",
    "                count_duplicate += 1\n",
    "                break  # edge is a duplicate\n",
    "            if not directed and (pair[1], pair[0]) in pair_set:\n",
    "                count_undir_dup += 1\n",
    "                break  # edge is a duplicate\n",
    "            if pair in excluded_pair_set:\n",
    "                count_excluded += 1\n",
    "                break  # edge is excluded\n",
    "        else:\n",
    "            # edge passed all validity conditions\n",
    "            valid = True\n",
    "\n",
    "        # If new edges are invalid\n",
    "        if not valid:\n",
    "            for pair in pair_0, pair_1:\n",
    "                pair_list.append(pair)\n",
    "\n",
    "        # If new edges are valid\n",
    "        else:\n",
    "            for pair in pair_0, pair_1:\n",
    "                pair_set.remove(pair)\n",
    "            for pair in new_pair_0, new_pair_1:\n",
    "                pair_set.add(pair)\n",
    "                pair_list.append(pair)\n",
    "\n",
    "        if i in print_at:\n",
    "            stat = collections.OrderedDict()\n",
    "            stat['cumulative_attempts'] = i\n",
    "            index = print_at.index(i)\n",
    "            stat['attempts'] = print_at[index] + 1 if index == 0 else print_at[index] - print_at[index - 1]\n",
    "            stat['complete'] = (i + 1) / n_perm\n",
    "            stat['unchanged'] = len(orig_pair_set & pair_set) / len(pair_set)\n",
    "            stat['same_edge'] = count_same_edge / stat['attempts']\n",
    "            stat['self_loop'] = count_self_loop / stat['attempts']\n",
    "            stat['duplicate'] = count_duplicate / stat['attempts']\n",
    "            stat['undirected_duplicate'] = count_undir_dup / stat['attempts']\n",
    "            stat['excluded'] = count_excluded / stat['attempts']\n",
    "            stats.append(stat)\n",
    "\n",
    "            count_same_edge = 0\n",
    "            count_self_loop = 0\n",
    "            count_duplicate = 0\n",
    "            count_undir_dup = 0\n",
    "            count_excluded = 0\n",
    "\n",
    "    assert len(pair_set) == edge_number\n",
    "    return pair_list, stats"
   ]
  },
  {
   "cell_type": "code",
   "execution_count": 7,
   "metadata": {},
   "outputs": [],
   "source": [
    "# Convert IDPairs to edges\n",
    "def pair_list_to_df(pair_list_dict):\n",
    "    \n",
    "    td = dict()\n",
    "    td[':START_ID'] = []\n",
    "    td[':END_ID'] = []\n",
    "    td[':TYPE'] = []\n",
    "    for key, values in pair_list_dict.items():\n",
    "        td[':START_ID'] += [v[0] for v in values]\n",
    "        td[':END_ID'] += [v[1] for v in values]\n",
    "        td[':TYPE'] += [key]*len(values)\n",
    "    \n",
    "    return pd.DataFrame(td)"
   ]
  },
  {
   "cell_type": "code",
   "execution_count": null,
   "metadata": {
    "collapsed": true
   },
   "outputs": [],
   "source": [
    "n_perms = 5\n",
    "multiplier = 5"
   ]
  },
  {
   "cell_type": "code",
   "execution_count": null,
   "metadata": {},
   "outputs": [
    {
     "name": "stdout",
     "output_type": "stream",
     "text": [
      "Starting permutation 1\n",
      "Starting permutation 2\n"
     ]
    }
   ],
   "source": [
    "%%time\n",
    "stat_dfs = list()\n",
    "permuted_edges = edges\n",
    " \n",
    "for i in range(n_perms):\n",
    "    i += 1\n",
    "    print('Starting permutation', i)\n",
    "    permuted_edges, stats = permute_edges(permuted_edges, multiplier=multiplier, seed=i)\n",
    "    stat_df = pd.DataFrame(stats)\n",
    "    stat_df['permutation'] = i\n",
    "    stat_dfs.append(stat_df)\n",
    "    path = os.path.join('data', 'permuted', 'hetnet_basedges_perm-{}.csv'.format(i))\n",
    "    permuted_edges.to_csv(path, index = False)\n",
    "\n",
    "# Save stats\n",
    "stat_df = pd.concat(stat_dfs)\n",
    "path = os.path.join('data', 'permuted', 'stats.tsv')\n",
    "stat_df.to_csv(path, sep='\\t', index=False, float_format='%.5g')"
   ]
  }
 ],
 "metadata": {
  "kernelspec": {
   "display_name": "Python 3",
   "language": "python",
   "name": "python3"
  },
  "language_info": {
   "codemirror_mode": {
    "name": "ipython",
    "version": 3
   },
   "file_extension": ".py",
   "mimetype": "text/x-python",
   "name": "python",
   "nbconvert_exporter": "python",
   "pygments_lexer": "ipython3",
   "version": "3.5.2"
  }
 },
 "nbformat": 4,
 "nbformat_minor": 2
}

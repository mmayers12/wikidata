{
 "cells": [
  {
   "cell_type": "code",
   "execution_count": 1,
   "metadata": {
    "collapsed": true
   },
   "outputs": [],
   "source": [
    "import pandas as pd"
   ]
  },
  {
   "cell_type": "code",
   "execution_count": 2,
   "metadata": {},
   "outputs": [
    {
     "data": {
      "text/html": [
       "<div>\n",
       "<table border=\"1\" class=\"dataframe\">\n",
       "  <thead>\n",
       "    <tr style=\"text-align: right;\">\n",
       "      <th></th>\n",
       "      <th>compound_id</th>\n",
       "      <th>disease_id</th>\n",
       "    </tr>\n",
       "  </thead>\n",
       "  <tbody>\n",
       "    <tr>\n",
       "      <th>0</th>\n",
       "      <td>Q407431</td>\n",
       "      <td>Q815819</td>\n",
       "    </tr>\n",
       "    <tr>\n",
       "      <th>1</th>\n",
       "      <td>Q407431</td>\n",
       "      <td>Q377978</td>\n",
       "    </tr>\n",
       "  </tbody>\n",
       "</table>\n",
       "</div>"
      ],
      "text/plain": [
       "  compound_id disease_id\n",
       "0     Q407431    Q815819\n",
       "1     Q407431    Q377978"
      ]
     },
     "execution_count": 2,
     "metadata": {},
     "output_type": "execute_result"
    }
   ],
   "source": [
    "reach_df = pd.read_csv('../../learn/summary/reach.csv')\n",
    "reach_df.head(2)"
   ]
  },
  {
   "cell_type": "code",
   "execution_count": 3,
   "metadata": {
    "collapsed": true
   },
   "outputs": [],
   "source": [
    "diseases = reach_df['disease_id'].unique()"
   ]
  },
  {
   "cell_type": "code",
   "execution_count": 4,
   "metadata": {},
   "outputs": [
    {
     "data": {
      "text/html": [
       "<div>\n",
       "<table border=\"1\" class=\"dataframe\">\n",
       "  <thead>\n",
       "    <tr style=\"text-align: right;\">\n",
       "      <th></th>\n",
       "      <th>:ID</th>\n",
       "      <th>identifier:String</th>\n",
       "      <th>name:String</th>\n",
       "      <th>:LABEL</th>\n",
       "    </tr>\n",
       "  </thead>\n",
       "  <tbody>\n",
       "    <tr>\n",
       "      <th>0</th>\n",
       "      <td>Q24778004</td>\n",
       "      <td>Q24778004</td>\n",
       "      <td>Spectrin repeat</td>\n",
       "      <td>Structural Motif</td>\n",
       "    </tr>\n",
       "    <tr>\n",
       "      <th>1</th>\n",
       "      <td>Q24774294</td>\n",
       "      <td>Q24774294</td>\n",
       "      <td>Furin-like repeat</td>\n",
       "      <td>Structural Motif</td>\n",
       "    </tr>\n",
       "  </tbody>\n",
       "</table>\n",
       "</div>"
      ],
      "text/plain": [
       "         :ID identifier:String        name:String            :LABEL\n",
       "0  Q24778004         Q24778004    Spectrin repeat  Structural Motif\n",
       "1  Q24774294         Q24774294  Furin-like repeat  Structural Motif"
      ]
     },
     "execution_count": 4,
     "metadata": {},
     "output_type": "execute_result"
    }
   ],
   "source": [
    "node_neo = pd.read_csv('data/hetnet_nodes.csv')\n",
    "node_neo.head(2)"
   ]
  },
  {
   "cell_type": "code",
   "execution_count": 5,
   "metadata": {},
   "outputs": [
    {
     "data": {
      "text/plain": [
       "69077"
      ]
     },
     "execution_count": 5,
     "metadata": {},
     "output_type": "execute_result"
    }
   ],
   "source": [
    "len(node_neo)"
   ]
  },
  {
   "cell_type": "code",
   "execution_count": 6,
   "metadata": {
    "collapsed": true
   },
   "outputs": [],
   "source": [
    "# Can't query for columns with a : in the label name\n",
    "node_neo[\"ID\"] = node_neo[\":ID\"]\n",
    "node_neo[\"LABEL\"] = node_neo[':LABEL']"
   ]
  },
  {
   "cell_type": "code",
   "execution_count": 7,
   "metadata": {
    "collapsed": true
   },
   "outputs": [],
   "source": [
    "to_remove = node_neo.query('LABEL == \"Disease\" and ID not in @diseases')['ID'].values"
   ]
  },
  {
   "cell_type": "code",
   "execution_count": 8,
   "metadata": {},
   "outputs": [
    {
     "data": {
      "text/html": [
       "<div>\n",
       "<table border=\"1\" class=\"dataframe\">\n",
       "  <thead>\n",
       "    <tr style=\"text-align: right;\">\n",
       "      <th></th>\n",
       "      <th>:ID</th>\n",
       "      <th>identifier:String</th>\n",
       "      <th>name:String</th>\n",
       "      <th>:LABEL</th>\n",
       "    </tr>\n",
       "  </thead>\n",
       "  <tbody>\n",
       "    <tr>\n",
       "      <th>0</th>\n",
       "      <td>Q24778004</td>\n",
       "      <td>Q24778004</td>\n",
       "      <td>Spectrin repeat</td>\n",
       "      <td>Structural Motif</td>\n",
       "    </tr>\n",
       "    <tr>\n",
       "      <th>1</th>\n",
       "      <td>Q24774294</td>\n",
       "      <td>Q24774294</td>\n",
       "      <td>Furin-like repeat</td>\n",
       "      <td>Structural Motif</td>\n",
       "    </tr>\n",
       "  </tbody>\n",
       "</table>\n",
       "</div>"
      ],
      "text/plain": [
       "         :ID identifier:String        name:String            :LABEL\n",
       "0  Q24778004         Q24778004    Spectrin repeat  Structural Motif\n",
       "1  Q24774294         Q24774294  Furin-like repeat  Structural Motif"
      ]
     },
     "execution_count": 8,
     "metadata": {},
     "output_type": "execute_result"
    }
   ],
   "source": [
    "node_neo = (node_neo.query('ID not in @to_remove')\n",
    "                .reset_index(drop=True)\n",
    "                .drop(['ID', 'LABEL'], axis=1))\n",
    "node_neo.head(2)"
   ]
  },
  {
   "cell_type": "code",
   "execution_count": 9,
   "metadata": {},
   "outputs": [
    {
     "data": {
      "text/plain": [
       "67602"
      ]
     },
     "execution_count": 9,
     "metadata": {},
     "output_type": "execute_result"
    }
   ],
   "source": [
    "len(node_neo)"
   ]
  },
  {
   "cell_type": "code",
   "execution_count": 10,
   "metadata": {},
   "outputs": [
    {
     "data": {
      "text/html": [
       "<div>\n",
       "<table border=\"1\" class=\"dataframe\">\n",
       "  <thead>\n",
       "    <tr style=\"text-align: right;\">\n",
       "      <th></th>\n",
       "      <th>:START_ID</th>\n",
       "      <th>:END_ID</th>\n",
       "      <th>:TYPE</th>\n",
       "    </tr>\n",
       "  </thead>\n",
       "  <tbody>\n",
       "    <tr>\n",
       "      <th>0</th>\n",
       "      <td>Q24778004</td>\n",
       "      <td>Q24768156</td>\n",
       "      <td>part-of_SMpoPF</td>\n",
       "    </tr>\n",
       "    <tr>\n",
       "      <th>1</th>\n",
       "      <td>Q24778004</td>\n",
       "      <td>Q24768109</td>\n",
       "      <td>part-of_SMpoPF</td>\n",
       "    </tr>\n",
       "  </tbody>\n",
       "</table>\n",
       "</div>"
      ],
      "text/plain": [
       "   :START_ID    :END_ID           :TYPE\n",
       "0  Q24778004  Q24768156  part-of_SMpoPF\n",
       "1  Q24778004  Q24768109  part-of_SMpoPF"
      ]
     },
     "execution_count": 10,
     "metadata": {},
     "output_type": "execute_result"
    }
   ],
   "source": [
    "edge_neo = pd.read_csv('data/hetnet_edges.csv')\n",
    "edge_neo.head(2)"
   ]
  },
  {
   "cell_type": "code",
   "execution_count": 11,
   "metadata": {},
   "outputs": [
    {
     "data": {
      "text/plain": [
       "693773"
      ]
     },
     "execution_count": 11,
     "metadata": {},
     "output_type": "execute_result"
    }
   ],
   "source": [
    "len(edge_neo)"
   ]
  },
  {
   "cell_type": "code",
   "execution_count": 12,
   "metadata": {
    "collapsed": true
   },
   "outputs": [],
   "source": [
    "edge_neo['sid'] = edge_neo[':START_ID']\n",
    "edge_neo['eid'] = edge_neo[':END_ID']"
   ]
  },
  {
   "cell_type": "code",
   "execution_count": 13,
   "metadata": {},
   "outputs": [
    {
     "data": {
      "text/plain": [
       "692394"
      ]
     },
     "execution_count": 13,
     "metadata": {},
     "output_type": "execute_result"
    }
   ],
   "source": [
    "edge_neo = (edge_neo.query('sid not in @to_remove and eid not in @to_remove')\n",
    "                .reset_index(drop=True)\n",
    "                .drop(['sid', 'eid'], axis=1))\n",
    "len(edge_neo)"
   ]
  },
  {
   "cell_type": "code",
   "execution_count": 14,
   "metadata": {
    "collapsed": true
   },
   "outputs": [],
   "source": [
    "node_neo.to_csv('../neo/import/hetnet_nodes.csv', index=False)\n",
    "edge_neo.to_csv('../neo/import/hetnet_edges.csv', index=False)"
   ]
  },
  {
   "cell_type": "code",
   "execution_count": 15,
   "metadata": {
    "collapsed": true
   },
   "outputs": [],
   "source": [
    "import sys\n",
    "sys.path.append('../py')\n",
    "from permute import run_permute_pipeline"
   ]
  },
  {
   "cell_type": "code",
   "execution_count": 16,
   "metadata": {},
   "outputs": [
    {
     "name": "stdout",
     "output_type": "stream",
     "text": [
      "Reading Edges...\n",
      "Starting permutation 1\n",
      "Saved file:\n",
      "/home/mmayers/projects/wikidata/neo/import/hetnet_edges_perm-1.csv\n",
      "\n",
      "Starting permutation 2\n",
      "Saved file:\n",
      "/home/mmayers/projects/wikidata/neo/import/hetnet_edges_perm-2.csv\n",
      "\n",
      "Starting permutation 3\n",
      "Saved file:\n",
      "/home/mmayers/projects/wikidata/neo/import/hetnet_edges_perm-3.csv\n",
      "\n",
      "Starting permutation 4\n",
      "Saved file:\n",
      "/home/mmayers/projects/wikidata/neo/import/hetnet_edges_perm-4.csv\n",
      "\n",
      "Starting permutation 5\n",
      "Saved file:\n",
      "/home/mmayers/projects/wikidata/neo/import/hetnet_edges_perm-5.csv\n",
      "\n",
      "Saved statistics on permutations to:\n",
      "/home/mmayers/projects/wikidata/neo/import/stats.tsv\n",
      "Took 0 hours, 16 minutes, 8 seconds\n"
     ]
    }
   ],
   "source": [
    "run_permute_pipeline('../neo/import/hetnet_edges.csv', save_dir='../neo/import')"
   ]
  },
  {
   "cell_type": "code",
   "execution_count": 16,
   "metadata": {
    "collapsed": true
   },
   "outputs": [],
   "source": [
    "import json\n",
    "from processing import prep_hetio"
   ]
  },
  {
   "cell_type": "code",
   "execution_count": 17,
   "metadata": {
    "collapsed": true
   },
   "outputs": [],
   "source": [
    "edges = pd.read_hdf('data/prepped_edges.h5')\n",
    "with open('data/node_types.json') as fin:\n",
    "    node_types = json.load(fin)\n",
    "\n",
    "reciprocals = []\n",
    "with open('data/reciprocal_relations.txt', 'r') as fin2:\n",
    "    for line in fin2:\n",
    "        reciprocals.append(line.rstrip(',\\n').split(','))"
   ]
  },
  {
   "cell_type": "code",
   "execution_count": 18,
   "metadata": {
    "collapsed": true
   },
   "outputs": [],
   "source": [
    "to_remove_full = 'http://www.wikidata.org/entity/' + to_remove"
   ]
  },
  {
   "cell_type": "code",
   "execution_count": 19,
   "metadata": {
    "collapsed": true
   },
   "outputs": [],
   "source": [
    "edges = edges.query('s not in @to_remove_full and o not in @to_remove_full').reset_index(drop=True)"
   ]
  },
  {
   "cell_type": "code",
   "execution_count": 32,
   "metadata": {},
   "outputs": [
    {
     "name": "stdout",
     "output_type": "stream",
     "text": [
      "Added 67602 nodes to graph\n",
      "Added 692394 edges to graph\n"
     ]
    }
   ],
   "source": [
    "prep_hetio(edges, node_types, reciprocals, neo_nodes=node_neo, neo_edges=edge_neo)"
   ]
  }
 ],
 "metadata": {
  "kernelspec": {
   "display_name": "Python 3",
   "language": "python",
   "name": "python3"
  },
  "language_info": {
   "codemirror_mode": {
    "name": "ipython",
    "version": 3
   },
   "file_extension": ".py",
   "mimetype": "text/x-python",
   "name": "python",
   "nbconvert_exporter": "python",
   "pygments_lexer": "ipython3",
   "version": "3.5.2"
  }
 },
 "nbformat": 4,
 "nbformat_minor": 2
}
